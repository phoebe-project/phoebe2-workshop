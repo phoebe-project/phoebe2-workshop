{
 "cells": [
  {
   "cell_type": "markdown",
   "metadata": {},
   "source": [
    "# Workshop Tutorial: Constraints\n",
    "\n",
    "In this tutorial we will learn about constraints between Parameters and the default parameterization of a binary system.\n",
    "\n",
    "This interactive workshop tutorial covers many of the same topics as the corresponding online tutorials:\n",
    "\n",
    "* [Constraints](http://phoebe-project.org/docs/latest/tutorials/constraints.ipynb)\n",
    "* [Advanced: Constraints and Changing Hierarchies](http://phoebe-project.org/docs/latest/tutorials/constraints_hierarchies.ipynb)\n",
    "* [Advanced: Built-In Constraints](http://phoebe-project.org/docs/latest/tutorials/constraints_builtin.ipynb)"
   ]
  },
  {
   "cell_type": "markdown",
   "metadata": {},
   "source": [
    "# Setup"
   ]
  },
  {
   "cell_type": "code",
   "execution_count": 1,
   "metadata": {},
   "outputs": [],
   "source": [
    "import phoebe\n",
    "from phoebe import u,c"
   ]
  },
  {
   "cell_type": "code",
   "execution_count": 2,
   "metadata": {},
   "outputs": [],
   "source": [
    "logger = phoebe.logger(clevel='WARNING')"
   ]
  },
  {
   "cell_type": "code",
   "execution_count": 3,
   "metadata": {},
   "outputs": [],
   "source": [
    "b = phoebe.default_binary()"
   ]
  },
  {
   "cell_type": "markdown",
   "metadata": {},
   "source": [
    "# Constraints"
   ]
  },
  {
   "cell_type": "markdown",
   "metadata": {},
   "source": [
    "As we saw in the last exercise, there are 5 Parameters with a qualifier of `incl`."
   ]
  },
  {
   "cell_type": "code",
   "execution_count": 4,
   "metadata": {},
   "outputs": [
    {
     "name": "stdout",
     "output_type": "stream",
     "text": [
      "ParameterSet: 5 parameters\n",
      "C          incl@primary@component: 90.0 deg\n",
      "C        incl@secondary@component: 90.0 deg\n",
      "            incl@binary@component: 90.0 deg\n",
      "          incl@primary@constraint: {incl@binary@component} + {pitch@primary@component}\n",
      "        incl@secondary@constraint: {incl@binary@component} + {pitch@secondary@component}\n"
     ]
    }
   ],
   "source": [
    "print(b.filter(qualifier='incl'))"
   ]
  },
  {
   "cell_type": "markdown",
   "metadata": {},
   "source": [
    "Note that here the previously-mentioned twig-syntax is shown to show as much information as possible about the Parameters."
   ]
  },
  {
   "cell_type": "markdown",
   "metadata": {},
   "source": [
    "Three of these are because there are inclinations defined for the orbit as well as each of the two stars ('primary' and 'secondary').  These three Parameters all have `context='component'`."
   ]
  },
  {
   "cell_type": "code",
   "execution_count": 5,
   "metadata": {},
   "outputs": [
    {
     "name": "stdout",
     "output_type": "stream",
     "text": [
      "ParameterSet: 3 parameters\n",
      "C          incl@primary@component: 90.0 deg\n",
      "C        incl@secondary@component: 90.0 deg\n",
      "            incl@binary@component: 90.0 deg\n"
     ]
    }
   ],
   "source": [
    "print(b.filter(qualifier='incl', context='component'))"
   ]
  },
  {
   "cell_type": "markdown",
   "metadata": {},
   "source": [
    "The other inclinations of the stars are (by default) *constrained* to be the same as the inclination of the orbit (i.e., an aligned system).  We can see this by the `C` in the output (to the left of the twigs) above as well as by accessing the `constrained_by` attribute of the Parameter (attempting to call `set_value` will also raise an error)."
   ]
  },
  {
   "cell_type": "code",
   "execution_count": 6,
   "metadata": {},
   "outputs": [
    {
     "data": {
      "text/plain": [
       "[<Parameter: incl=90.0 deg | keys: description, value, quantity, default_unit, limits, visible_if, copy_for, readonly, advanced, latexfmt>,\n",
       " <Parameter: pitch=0.0 deg | keys: description, value, quantity, default_unit, limits, visible_if, copy_for, readonly, advanced, latexfmt>]"
      ]
     },
     "execution_count": 6,
     "metadata": {},
     "output_type": "execute_result"
    }
   ],
   "source": [
    "b.get_parameter(qualifier='incl', context='component', component='primary').constrained_by"
   ]
  },
  {
   "cell_type": "markdown",
   "metadata": {},
   "source": [
    "The other two Parameters with `qualifier='incl'` are the constraints themselves and have `context='constraint'`"
   ]
  },
  {
   "cell_type": "code",
   "execution_count": 7,
   "metadata": {},
   "outputs": [
    {
     "name": "stdout",
     "output_type": "stream",
     "text": [
      "ParameterSet: 2 parameters\n",
      "          incl@primary@constraint: {incl@binary@component} + {pitch@primary@component}\n",
      "        incl@secondary@constraint: {incl@binary@component} + {pitch@secondary@component}\n"
     ]
    }
   ],
   "source": [
    "print(b.filter(qualifier='incl', context='constraint'))"
   ]
  },
  {
   "cell_type": "code",
   "execution_count": 8,
   "metadata": {},
   "outputs": [
    {
     "data": {
      "text/plain": [
       "<ConstraintParameter: {incl@primary@component} = {incl@binary@component} + {pitch@primary@component} (solar units) => 90.0 deg>"
      ]
     },
     "execution_count": 8,
     "metadata": {},
     "output_type": "execute_result"
    }
   ],
   "source": [
    "b.get_parameter(qualifier='incl', context='constraint', component='primary')"
   ]
  },
  {
   "cell_type": "markdown",
   "metadata": {},
   "source": [
    "Here we see that this is a simple constraint: the inclination of the primary star is being *constrained* to be exactly that of the inclination of the binary orbit (since the `pitch` is set to zero).  If we change the inclination of the orbit, the inclinations of the 'primary' and 'secondary' stars will immediately update to reflect that change."
   ]
  },
  {
   "cell_type": "code",
   "execution_count": 9,
   "metadata": {},
   "outputs": [],
   "source": [
    "b.set_value(qualifier='incl', component='binary', value=80)"
   ]
  },
  {
   "cell_type": "code",
   "execution_count": 10,
   "metadata": {},
   "outputs": [
    {
     "name": "stdout",
     "output_type": "stream",
     "text": [
      "ParameterSet: 3 parameters\n",
      "C          incl@primary@component: 80.0 deg\n",
      "C        incl@secondary@component: 80.0 deg\n",
      "            incl@binary@component: 80.0 deg\n"
     ]
    }
   ],
   "source": [
    "print(b.filter(qualifier='incl', context='component'))"
   ]
  },
  {
   "cell_type": "markdown",
   "metadata": {},
   "source": [
    "Other constraints are a little more complicated."
   ]
  },
  {
   "cell_type": "code",
   "execution_count": 11,
   "metadata": {},
   "outputs": [
    {
     "data": {
      "text/plain": [
       "<ConstraintParameter: {asini@binary@component} = {sma@binary@component} * (sin({incl@binary@component})) (solar units) => 5.2194810909647025 solRad>"
      ]
     },
     "execution_count": 11,
     "metadata": {},
     "output_type": "execute_result"
    }
   ],
   "source": [
    "b.get_parameter(qualifier='asini', component='binary', context='constraint')"
   ]
  },
  {
   "cell_type": "code",
   "execution_count": 12,
   "metadata": {},
   "outputs": [
    {
     "name": "stdout",
     "output_type": "stream",
     "text": [
      "asini: 5.2194810909647025, sma: 5.3, incl: 80.0\n"
     ]
    }
   ],
   "source": [
    "print(\"asini: {}, sma: {}, incl: {}\".format(\n",
    "    b.get_value(qualifier='asini', component='binary', context='component'),\n",
    "    b.get_value(qualifier='sma', component='binary', context='component'),\n",
    "    b.get_value(qualifier='incl', component='binary', context='component')))"
   ]
  },
  {
   "cell_type": "code",
   "execution_count": 13,
   "metadata": {},
   "outputs": [],
   "source": [
    "b.set_value(qualifier='sma', component='binary', context='component', value=10.0)"
   ]
  },
  {
   "cell_type": "code",
   "execution_count": 14,
   "metadata": {},
   "outputs": [
    {
     "name": "stdout",
     "output_type": "stream",
     "text": [
      "asini: 9.84807753012208, sma: 10.0, incl: 80.0\n"
     ]
    }
   ],
   "source": [
    "print(\"asini: {}, sma: {}, incl: {}\".format(\n",
    "    b.get_value(qualifier='asini', component='binary', context='component'),\n",
    "    b.get_value(qualifier='sma', component='binary', context='component'),\n",
    "    b.get_value(qualifier='incl', component='binary', context='component')))"
   ]
  },
  {
   "cell_type": "markdown",
   "metadata": {},
   "source": [
    "# Re-Parameterizing or \"Flipping\" Constraints"
   ]
  },
  {
   "cell_type": "markdown",
   "metadata": {},
   "source": [
    "In the default binary, there are a significant number of constrained Parameters."
   ]
  },
  {
   "cell_type": "code",
   "execution_count": 15,
   "metadata": {},
   "outputs": [
    {
     "name": "stdout",
     "output_type": "stream",
     "text": [
      "['ebv', 'freq', 'logg', 'irrad_frac_lost_bol', 'asini', 't0_perpass', 't0_ref', 'mean_anom', 'ecosw', 'esinw', 'teffratio', 'requivratio', 'requivsumfrac', 'mass', 'sma', 'period', 'incl', 'long_an', 'requiv_max']\n"
     ]
    }
   ],
   "source": [
    "print(b.filter(context='constraint').qualifiers)"
   ]
  },
  {
   "cell_type": "markdown",
   "metadata": {},
   "source": [
    "Let's look at mass, which is _constrained_ by default according to Kepler's third law."
   ]
  },
  {
   "cell_type": "code",
   "execution_count": 16,
   "metadata": {},
   "outputs": [
    {
     "name": "stdout",
     "output_type": "stream",
     "text": [
      "Parameter: mass@primary@component\n",
      "                       Qualifier: mass\n",
      "                     Description: Mass\n",
      "                           Value: 6.708982151748291 solMass\n",
      "                  Constrained by: sma@binary@component, period@binary@component, q@binary@component\n",
      "                      Constrains: logg@primary@component, mass@secondary@component\n",
      "                      Related to: requiv@primary@component, logg@primary@component, sma@binary@component, period@binary@component, q@binary@component, mass@secondary@component\n",
      "\n"
     ]
    }
   ],
   "source": [
    "print(b.get_parameter('mass', component='primary', context='component'))"
   ]
  },
  {
   "cell_type": "code",
   "execution_count": 17,
   "metadata": {},
   "outputs": [
    {
     "name": "stdout",
     "output_type": "stream",
     "text": [
      "Constrains (qualifier): mass\n",
      "Expression in solar units (value): (39.478418 * ({sma@binary@component} ** 3.000000)) / ((({period@binary@component} ** 2.000000) * ({q@binary@component} + 1.000000)) * 2942.206217504419328179210424423218)\n",
      "Current Result (result): 6.708982151748291 solMass\n"
     ]
    }
   ],
   "source": [
    "print(b.get_parameter('mass', component='primary', context='constraint'))"
   ]
  },
  {
   "cell_type": "markdown",
   "metadata": {},
   "source": [
    "Here we see the 4 parameters that are involved in Kepler's third law. PHOEBE allows you to freely set 3 of these 4 (sma, period, q) and automatically uses these values to compute that mass.\n",
    "\n",
    "However, let's say that you wanted to set the mass (perhaps you know the mass, but don't know the semi-major axis as well). This can be done via the `flip_constraint` method. The easiest way to use this correctly is to make sure our keywords return the correct Constraint Parameter via `get_constraint` and then use `flip_constraint`."
   ]
  },
  {
   "cell_type": "code",
   "execution_count": 18,
   "metadata": {},
   "outputs": [
    {
     "data": {
      "text/plain": [
       "<ConstraintParameter: {mass@primary@component} = (39.478418 * ({sma@binary@component} ** 3.000000)) / ((({period@binary@component} ** 2.000000) * ({q@binary@component} + 1.000000)) * 2942.206217504419328179210424423218) (solar units) => 6.708982151748291 solMass>"
      ]
     },
     "execution_count": 18,
     "metadata": {},
     "output_type": "execute_result"
    }
   ],
   "source": [
    "b.get_constraint(qualifier='mass', component='primary')"
   ]
  },
  {
   "cell_type": "markdown",
   "metadata": {},
   "source": [
    "Now we just add `solve_for='sma'` to \"flip\" this constraint to solve for 'sma' instead of 'mass'."
   ]
  },
  {
   "cell_type": "code",
   "execution_count": 19,
   "metadata": {},
   "outputs": [
    {
     "data": {
      "text/plain": [
       "<ConstraintParameter: {sma@binary@component} = (((({mass@primary@component} * ({period@binary@component} ** 2.000000)) * ({q@binary@component} + 1.000000)) * 2942.206217504419328179210424423218) / 39.478418) ** (1./3) (solar units) => 9.999999999999998 solRad>"
      ]
     },
     "execution_count": 19,
     "metadata": {},
     "output_type": "execute_result"
    }
   ],
   "source": [
    "b.flip_constraint(qualifier='mass', component='primary', solve_for='sma')"
   ]
  },
  {
   "cell_type": "markdown",
   "metadata": {},
   "source": [
    "Now we're allowed to set the mass and we'll see that the value of sma is automatically computed."
   ]
  },
  {
   "cell_type": "code",
   "execution_count": 20,
   "metadata": {},
   "outputs": [],
   "source": [
    "b.set_value('mass', component='primary', value=1.2)"
   ]
  },
  {
   "cell_type": "code",
   "execution_count": 21,
   "metadata": {},
   "outputs": [
    {
     "data": {
      "text/plain": [
       "5.634320356809353"
      ]
     },
     "execution_count": 21,
     "metadata": {},
     "output_type": "execute_result"
    }
   ],
   "source": [
    "b.get_value('sma', component='binary', context='component')"
   ]
  },
  {
   "cell_type": "markdown",
   "metadata": {},
   "source": [
    "# Exercise"
   ]
  },
  {
   "cell_type": "markdown",
   "metadata": {},
   "source": [
    "How is q defined: is it Mprimary/Msecondary or Msecondary/Mprimary?\n",
    "\n",
    "Hint: there are (at least) 2 ways to do this.  Try first by looking through the equations of the constraints if you feel a bit daring.  You can also change the value of q and see how the resulting constrained masses react."
   ]
  },
  {
   "cell_type": "code",
   "execution_count": null,
   "metadata": {},
   "outputs": [],
   "source": []
  },
  {
   "cell_type": "markdown",
   "metadata": {},
   "source": [
    "Flipping constraints could be particularly useful if you have an observational constraint on 'asini' (say from the amplitude of RVs) and want to leave asini fixed as you fit for the inclination.  Flip the constraint so it is possible to adjust the values of both 'asini' and 'incl'.  (**NOTE** you may want to either start from a fresh bundle or re-flip the Kepler's third law constraint back to solve for mass first)."
   ]
  },
  {
   "cell_type": "code",
   "execution_count": null,
   "metadata": {},
   "outputs": [],
   "source": []
  },
  {
   "cell_type": "markdown",
   "metadata": {},
   "source": [
    "Now that you can change the value of 'asini', set it to 20 (solar radii... we'll talk about units in the next tutorial), adjust the inclination, and show that 'sma' is adjusting automatically to conserve 'asini'."
   ]
  },
  {
   "cell_type": "code",
   "execution_count": null,
   "metadata": {},
   "outputs": [],
   "source": []
  }
 ],
 "metadata": {
  "kernelspec": {
   "display_name": "Python 3 (ipykernel)",
   "language": "python",
   "name": "python3"
  },
  "language_info": {
   "codemirror_mode": {
    "name": "ipython",
    "version": 3
   },
   "file_extension": ".py",
   "mimetype": "text/x-python",
   "name": "python",
   "nbconvert_exporter": "python",
   "pygments_lexer": "ipython3",
   "version": "3.9.7"
  }
 },
 "nbformat": 4,
 "nbformat_minor": 4
}
