{
 "cells": [
  {
   "cell_type": "markdown",
   "id": "funded-welcome",
   "metadata": {},
   "source": [
    "# Workshop Tutorial: Fun with MCMC continued!\n",
    "\n",
    "In the previous tutorial we started scratching the surface of sampling the parameter space with MCMC. In this tutorial we will focus on convergence (or lack thereof) and on offloading computations to an external computing cluster.\n",
    "\n",
    "This interactive workshop tutorial covers many of the same topics as the corresponding online tutorial(s):\n",
    "\n",
    "* [Advanced: EMCEE Sampler](http://phoebe-project.org/docs/2.3/tutorials/emcee.ipynb)\n",
    "* [Advanced: Running Solvers on an External Machine](http://phoebe-project.org/docs/2.3/tutorials/export_solver.ipynb)\n",
    "* [Advanced: Continuing EMCEE from a Previous Run](http://phoebe-project.org/docs/2.3/tutorials/emcee_continue_from.ipynb)\n",
    "* [Advanced: Resampling EMCEE from a Previous Run](http://phoebe-project.org/docs/2.3/tutorials/emcee_resampling.ipynb)\n",
    "\n",
    "Let's start with the usual imports."
   ]
  },
  {
   "cell_type": "code",
   "execution_count": null,
   "id": "stainless-machine",
   "metadata": {},
   "outputs": [],
   "source": [
    "import phoebe\n",
    "import numpy as np\n",
    "import matplotlib.pyplot as plt"
   ]
  },
  {
   "cell_type": "markdown",
   "id": "recognized-magnet",
   "metadata": {},
   "source": [
    "Load the [data from the previous run](https://github.com/phoebe-project/phoebe2-workshop/raw/2021june/data/synthetic/after_initial_sampling.bundle):"
   ]
  },
  {
   "cell_type": "code",
   "execution_count": null,
   "id": "inappropriate-attendance",
   "metadata": {},
   "outputs": [],
   "source": [
    "b = phoebe.load('./data/synthetic/after_initial_sampling.bundle')"
   ]
  },
  {
   "cell_type": "markdown",
   "id": "ranking-growth",
   "metadata": {},
   "source": [
    "When running the sampler, we focused on the depiction of the results; let us now take a more systematic look at the sampler output:"
   ]
  },
  {
   "cell_type": "code",
   "execution_count": null,
   "id": "mature-turkey",
   "metadata": {
    "scrolled": false
   },
   "outputs": [],
   "source": [
    "print(b['round_1'].qualifiers)"
   ]
  },
  {
   "cell_type": "markdown",
   "id": "proper-gross",
   "metadata": {},
   "source": [
    "Lots to digest here. So let's get started!\n",
    "\n",
    "`wrap_central_values`: central positions of parameters that wrap their values;\n",
    "\n",
    "`fitted_twigs`: parameter twigs that were sampled;\n",
    "\n",
    "`fitted_units`: the units of parameters that were sampled;\n",
    "\n",
    "`adopt_parameters`: list of sampled parameters for which the solution should be adopted; don't choose a subset unless you have a very good reason;\n",
    "\n",
    "`adopt_distributions`: should distributions be stored;\n",
    "\n",
    "`distributions_convert`: should a simplified representation of the distributions be stored; we will return to this in a [later tutorial](./Tutorial_13_posteriors.ipynb);\n",
    "\n",
    "`adopt_values`: should face values be stored;\n",
    "\n",
    "`niters`: number of iterations used to reach the solution;\n",
    "\n",
    "`nwalkers`: number of walkers used to reach the solution;\n",
    "\n",
    "`samples`: MCMC samples of the shape (niters, nwalkers, npars);\n",
    "\n",
    "`failed_samples`: MCMC samples that resulted in lnp=-inf; the return value is a dictionary where keys are failure messages and values are arrays of parameter combinations that caused the failure;\n",
    "\n",
    "`lnprobabilities`: sampled log-probabilities of the shape (niters, nwalkers);\n",
    "\n",
    "`acceptance_fractions`: used for convergence evaluation, provided per walker;\n",
    "\n",
    "`autocorr_times`: autocorrelation times, used for convergence evaluation, provided per parameter;\n",
    "\n",
    "`burnin`, `thin`, `lnprob_cutoff`: sample modifiers discussed in the previous tutorial;\n",
    "\n",
    "`nlags`: number of autocorrelation lags to use when calculating autocorrelation;\n",
    "\n",
    "`progress`: progress meter; useful when farming out to a cluster and checking an intermediate result;\n",
    "\n",
    "`comments`: human-readable comments about the solution, to be used for reference."
   ]
  },
  {
   "cell_type": "markdown",
   "id": "dressed-force",
   "metadata": {},
   "source": [
    "Remember that you can always print a certain parameter to get more verbose help on its purpose; for example:"
   ]
  },
  {
   "cell_type": "code",
   "execution_count": null,
   "id": "proved-biology",
   "metadata": {},
   "outputs": [],
   "source": [
    "print(b['distributions_convert'])"
   ]
  },
  {
   "cell_type": "markdown",
   "id": "healthy-forest",
   "metadata": {},
   "source": [
    "As we ran the sampler, some combinations of parameters resulted in 0 likelihood. We refer to those as failed samples and, as seen above, they are stored as part of the solution. We can easily plot those in a corner plot:"
   ]
  },
  {
   "cell_type": "code",
   "execution_count": null,
   "id": "recent-excerpt",
   "metadata": {},
   "outputs": [],
   "source": [
    "b.plot(solution='round_1', style='failed', burnin=50, show=True)"
   ]
  },
  {
   "cell_type": "markdown",
   "id": "charitable-cabinet",
   "metadata": {},
   "source": [
    "This is clearly a severely undersampled parameter space, but it's already evident where the failed samples lie; in this particular case, all values that fail are outside of parameter limits."
   ]
  },
  {
   "cell_type": "markdown",
   "id": "dirty-simple",
   "metadata": {},
   "source": [
    "We can now compute the average RV curve from, say, 25 samples drawn from the round 1 solution:"
   ]
  },
  {
   "cell_type": "code",
   "execution_count": null,
   "id": "reasonable-dimension",
   "metadata": {},
   "outputs": [],
   "source": [
    "b.run_compute(compute='dyn_rv', sample_from='round_1', sample_num=25, model='from_posteriors')"
   ]
  },
  {
   "cell_type": "markdown",
   "id": "stone-arabic",
   "metadata": {},
   "source": [
    "Once computed, let's plot all 25 samples in the phase plot:"
   ]
  },
  {
   "cell_type": "code",
   "execution_count": null,
   "id": "identified-verification",
   "metadata": {},
   "outputs": [],
   "source": [
    "b.plot(model='from_posteriors', x='phase', show=True)"
   ]
  },
  {
   "cell_type": "markdown",
   "id": "prostate-olive",
   "metadata": {},
   "source": [
    "Happy with this? We can *inspect* the solution by running the `adopt_solution()` method with the `trial_run` argument set to `True`:"
   ]
  },
  {
   "cell_type": "code",
   "execution_count": null,
   "id": "analyzed-twelve",
   "metadata": {},
   "outputs": [],
   "source": [
    "print(b.adopt_solution(solution='round_1', trial_run=True))"
   ]
  },
  {
   "cell_type": "markdown",
   "id": "rough-commodity",
   "metadata": {},
   "source": [
    "Before we adopt, though, let's have another (quick) coffee break -- let's continue sampling for another 25 iterations. The solvers and solutions that we have so far are:"
   ]
  },
  {
   "cell_type": "code",
   "execution_count": null,
   "id": "different-finder",
   "metadata": {},
   "outputs": [],
   "source": [
    "b.solvers"
   ]
  },
  {
   "cell_type": "code",
   "execution_count": null,
   "id": "agricultural-bottom",
   "metadata": {},
   "outputs": [],
   "source": [
    "b.solutions"
   ]
  },
  {
   "cell_type": "markdown",
   "id": "motivated-option",
   "metadata": {},
   "source": [
    "Remember the `continue_from` parameter of the solver? That's what we want to set!"
   ]
  },
  {
   "cell_type": "code",
   "execution_count": null,
   "id": "light-wrong",
   "metadata": {},
   "outputs": [],
   "source": [
    "print(b['continue_from@mcmc'])"
   ]
  },
  {
   "cell_type": "code",
   "execution_count": null,
   "id": "romantic-appendix",
   "metadata": {},
   "outputs": [],
   "source": [
    "b['continue_from@mcmc'] = 'round_1'"
   ]
  },
  {
   "cell_type": "markdown",
   "id": "common-breeding",
   "metadata": {},
   "source": [
    "The `niters` parameter will now correspond to the number of additional iterations; note that we need to specify here that we are setting `niters@solver` and not `niters@solution` (which is read-only anyway)."
   ]
  },
  {
   "cell_type": "code",
   "execution_count": null,
   "id": "abandoned-guinea",
   "metadata": {},
   "outputs": [],
   "source": [
    "b['niters@mcmc@solver'] = 25"
   ]
  },
  {
   "cell_type": "code",
   "execution_count": null,
   "id": "revolutionary-headset",
   "metadata": {},
   "outputs": [],
   "source": [
    "b.run_solver('mcmc', solution='round_2')"
   ]
  },
  {
   "cell_type": "markdown",
   "id": "expanded-language",
   "metadata": {},
   "source": [
    "We can now compare the results from the first sample (`round_1`) and from the second sample (`round_2`):"
   ]
  },
  {
   "cell_type": "code",
   "execution_count": null,
   "id": "martial-benchmark",
   "metadata": {},
   "outputs": [],
   "source": [
    "b.plot(solution='round_1', style='lnprobability', show=True)\n",
    "b.plot(solution='round_2', style='lnprobability', show=True)"
   ]
  },
  {
   "cell_type": "markdown",
   "id": "complicated-reporter",
   "metadata": {},
   "source": [
    "Several things worthy of mention here. First, note the span of the x-axis. It starts by the determined `burnin` value for each sample run (~26 for round 1 and ~31 for round 2), and it goes to the `niters` value (100 for round 1 and 125 for round 2).\n",
    "\n",
    "How does phoebe estimate the value of `burnin`? It looks at the autocorrelation times, which emcee returns for each parameter. It then pick the longest autocorrelation time and multiplies it by the `burnin_factor`. Thus:"
   ]
  },
  {
   "cell_type": "code",
   "execution_count": null,
   "id": "sharp-salon",
   "metadata": {},
   "outputs": [],
   "source": [
    "print('burnin iterations for round 1: %d' % \n",
    "      (int(max(b['value@autocorr_times@round_1'])*b['value@burnin_factor@mcmc'])))\n",
    "print('burnin iterations for round 2: %d' % \n",
    "      (int(max(b['value@autocorr_times@round_2'])*b['value@burnin_factor@mcmc'])))"
   ]
  },
  {
   "cell_type": "markdown",
   "id": "aggregate-denver",
   "metadata": {},
   "source": [
    "The value of log-probability, as well as the fact that it's still rising, hints that the solution has not yet converged. So we need to run a longer chain. As running 25 iterations locally took 3 minutes, we will offload this computation to a computer cluster. We covered the server setup in [Tutorial 9](Tutorial_09_server.ipynb), so we won't recreate it here; instead, we will rely on the already saved server (named `terra`) and add the server to the bundle. As a reminder, we keep the aggregated steps to initialize a server commented out here for simpler reference."
   ]
  },
  {
   "cell_type": "code",
   "execution_count": null,
   "id": "starting-millennium",
   "metadata": {},
   "outputs": [],
   "source": [
    "# from phoebe.dependencies import crimpl\n",
    "# s = crimpl.RemoteSlurmServer(host='terra', directory='~/workshop/crimpl')\n",
    "# s.install_conda()\n",
    "# s.save('terra', overwrite=True)"
   ]
  },
  {
   "cell_type": "markdown",
   "id": "romance-economy",
   "metadata": {},
   "source": [
    "Let's add a server to the bundle; as always, parameters can either be added as arguments, or by editing the instantiated parameter set later on."
   ]
  },
  {
   "cell_type": "code",
   "execution_count": null,
   "id": "minus-cameroon",
   "metadata": {},
   "outputs": [],
   "source": [
    "b.add_server('remoteslurm',\n",
    "             crimpl_name='terra',\n",
    "             conda_env='workshop',\n",
    "             nprocs=48,\n",
    "             server='terra',\n",
    "             walltime=(12,'h'))"
   ]
  },
  {
   "cell_type": "code",
   "execution_count": null,
   "id": "choice-deputy",
   "metadata": {},
   "outputs": [],
   "source": [
    "print(b['terra@server'])"
   ]
  },
  {
   "cell_type": "markdown",
   "id": "driven-ceramic",
   "metadata": {},
   "source": [
    "Once the server is initialized, we assign the `use_server` parameter to it:"
   ]
  },
  {
   "cell_type": "code",
   "execution_count": null,
   "id": "premium-reach",
   "metadata": {},
   "outputs": [],
   "source": [
    "print(f\"original server: {b['value@use_server@dyn_rv']}\")\n",
    "b['use_server@dyn_rv'] = 'terra'\n",
    "print(f\"updated server: {b['value@use_server@dyn_rv']}\")"
   ]
  },
  {
   "cell_type": "markdown",
   "id": "informal-chaos",
   "metadata": {},
   "source": [
    "Given that we are offloading this computation to the HPC, let's increase the number of walkers from the current  16 to, say, 24, so that the sampler can traverse the parameter space more efficiently. The parameter `nwalkers` is in the solver parameter set:"
   ]
  },
  {
   "cell_type": "code",
   "execution_count": null,
   "id": "mathematical-mambo",
   "metadata": {},
   "outputs": [],
   "source": [
    "print(b['mcmc@solver'])"
   ]
  },
  {
   "cell_type": "markdown",
   "id": "japanese-python",
   "metadata": {},
   "source": [
    "Wait, it disappeared? No, it hasn't disappeared, it is hidden because we have `continue_from` set to the previous run, from which any new run will inherit all sampling parameters. Thus, we first need to set `continue_from` to none:"
   ]
  },
  {
   "cell_type": "code",
   "execution_count": null,
   "id": "compound-edgar",
   "metadata": {},
   "outputs": [],
   "source": [
    "b['continue_from@mcmc@solver'] = 'None'\n",
    "print(b['mcmc@solver'])"
   ]
  },
  {
   "cell_type": "markdown",
   "id": "subtle-heath",
   "metadata": {},
   "source": [
    "There it is! Now we can change it!"
   ]
  },
  {
   "cell_type": "code",
   "execution_count": null,
   "id": "published-front",
   "metadata": {},
   "outputs": [],
   "source": [
    "b['nwalkers@mcmc@solver'] = 24"
   ]
  },
  {
   "cell_type": "markdown",
   "id": "silver-entertainment",
   "metadata": {},
   "source": [
    "But now how do we continue from the previous run? We obviously cannot literally continue because we have changed the sampler properties; instead, we need to *resample* from the last run. We do that by using the `init_from` parameter. In order to have something to initialize from, we first need to adopt parameters from the last run:"
   ]
  },
  {
   "cell_type": "code",
   "execution_count": null,
   "id": "latin-insider",
   "metadata": {},
   "outputs": [],
   "source": [
    "b.adopt_solution(solution='round_2',\n",
    "                 adopt_values=False,\n",
    "                 adopt_distributions=True,\n",
    "                 distributions_convert='mvsamples',\n",
    "                 distribution='ndg_2')"
   ]
  },
  {
   "cell_type": "markdown",
   "id": "quiet-immune",
   "metadata": {},
   "source": [
    "Now we have a new distribution:"
   ]
  },
  {
   "cell_type": "code",
   "execution_count": null,
   "id": "human-customer",
   "metadata": {},
   "outputs": [],
   "source": [
    "b.distributions"
   ]
  },
  {
   "cell_type": "markdown",
   "id": "logical-camera",
   "metadata": {},
   "source": [
    "We can use this new distribution to set the `init_from` parameter. The sampler will then use `ndg_2` to get a new sample for all initial values and continue from there."
   ]
  },
  {
   "cell_type": "code",
   "execution_count": null,
   "id": "framed-peoples",
   "metadata": {},
   "outputs": [],
   "source": [
    "b['init_from@mcmc@solver'] = 'ndg_2'"
   ]
  },
  {
   "cell_type": "markdown",
   "id": "whole-tennis",
   "metadata": {},
   "source": [
    "We're now ready to run the sampler! If you feel like taking a lunch break, you might want to uncomment the line below and run the sampler; in the interest of time for this tutorial, though, we will load the precomputed results instead."
   ]
  },
  {
   "cell_type": "code",
   "execution_count": null,
   "id": "supreme-jamaica",
   "metadata": {
    "scrolled": true
   },
   "outputs": [],
   "source": [
    "# b.run_solver('mcmc', solution='round_3', nprocs=24, niters=500, overwrite=True)\n",
    "# b.save('./data/synthetic/after_terra.bundle')"
   ]
  },
  {
   "cell_type": "code",
   "execution_count": null,
   "id": "forty-applicant",
   "metadata": {},
   "outputs": [],
   "source": [
    "b = phoebe.load('./data/synthetic/after_terra.bundle')"
   ]
  },
  {
   "cell_type": "markdown",
   "id": "asian-section",
   "metadata": {},
   "source": [
    "Now we can explore the solution and compare it to what we had before."
   ]
  },
  {
   "cell_type": "markdown",
   "id": "modern-hampton",
   "metadata": {},
   "source": [
    "Log-probability plot:"
   ]
  },
  {
   "cell_type": "code",
   "execution_count": null,
   "id": "explicit-service",
   "metadata": {},
   "outputs": [],
   "source": [
    "b.plot(solution='round_3', style='lnprobability', show=True)"
   ]
  },
  {
   "cell_type": "markdown",
   "id": "vocal-feeling",
   "metadata": {},
   "source": [
    "Corner plot:"
   ]
  },
  {
   "cell_type": "code",
   "execution_count": null,
   "id": "cathedral-listening",
   "metadata": {},
   "outputs": [],
   "source": [
    "b.plot(solution='round_3', style='corner', burnin=400, show=True)"
   ]
  },
  {
   "cell_type": "markdown",
   "id": "hourly-folder",
   "metadata": {},
   "source": [
    "And finally the trace plot:"
   ]
  },
  {
   "cell_type": "code",
   "execution_count": null,
   "id": "answering-handling",
   "metadata": {},
   "outputs": [],
   "source": [
    "b.plot(solution='round_3', style='trace', show=True)"
   ]
  },
  {
   "cell_type": "markdown",
   "id": "noble-legislation",
   "metadata": {},
   "source": [
    "So how do we know when to stop? Is it converged yet? We will explore that in our [next tutorial](./Tutorial_12_convergence.ipynb).\n",
    "\n",
    "# Exercises"
   ]
  },
  {
   "cell_type": "markdown",
   "id": "atmospheric-animal",
   "metadata": {},
   "source": [
    "**Exercise 1**: increase the number of walkers to 48 and run 100 iterations on terra, using 48 processors. Compare the results from above to the results you obtained. What conclusions can you draw from the comparison?"
   ]
  },
  {
   "cell_type": "code",
   "execution_count": null,
   "id": "assisted-russia",
   "metadata": {},
   "outputs": [],
   "source": []
  },
  {
   "cell_type": "markdown",
   "id": "rental-coffee",
   "metadata": {},
   "source": [
    "**Exercise 2**: drop dynamical RVs and use a light curve. Start from the optimized parameter set from the Nelder & Mead run and build a starting distribution around it. Use 5 parameters: inclination, temperature ratio, primary and secondary equivalent radii, and passband luminosity. Don't run any samples yet -- we will defer that to self-study exercises."
   ]
  },
  {
   "cell_type": "code",
   "execution_count": null,
   "id": "according-logan",
   "metadata": {},
   "outputs": [],
   "source": []
  }
 ],
 "metadata": {
  "kernelspec": {
   "display_name": "Python 3",
   "language": "python",
   "name": "python3"
  },
  "language_info": {
   "codemirror_mode": {
    "name": "ipython",
    "version": 3
   },
   "file_extension": ".py",
   "mimetype": "text/x-python",
   "name": "python",
   "nbconvert_exporter": "python",
   "pygments_lexer": "ipython3",
   "version": "3.9.5"
  }
 },
 "nbformat": 4,
 "nbformat_minor": 5
}
