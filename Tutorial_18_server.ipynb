{
 "cells": [
  {
   "cell_type": "markdown",
   "metadata": {},
   "source": [
    "Workshop Tutorial: Running Jobs on External Compute Resources\n",
    "============================\n",
    "\n",
    "**IMPORTANT NOTE**: this entire tutorial covers new capabilities _since_ the 2.3 release. To run this, you need the 2.4 release of PHOEBE.\n",
    "\n",
    "\n",
    "In this tutorial we cover the setup of external compute resources, with an emphasis on Villanova's departmental cluster 'terra', submission, and job management.\n",
    "\n",
    "This interactive workshop tutorial covers many of the same topics as the corresponding online tutorials:\n",
    "\n",
    "* [Servers](http://phoebe-project.org/docs/2.4/tutorials/server.ipynb)\n"
   ]
  },
  {
   "cell_type": "markdown",
   "metadata": {},
   "source": [
    "Setup\n",
    "-----------------------------\n",
    "\n",
    "We start with the bundle from the previous tutorial to show examples of running both a forward-model and the solver remotely on terra."
   ]
  },
  {
   "cell_type": "code",
   "execution_count": 1,
   "metadata": {},
   "outputs": [],
   "source": [
    "import phoebe\n",
    "from phoebe import c, u\n",
    "\n",
    "logger = phoebe.logger('error')\n",
    "\n",
    "b = phoebe.open('data/synthetic/after_optimizers.bundle')"
   ]
  },
  {
   "cell_type": "markdown",
   "metadata": {},
   "source": [
    "Server Configuration\n",
    "-----------------------------\n",
    "\n",
    "PHOEBE makes use of [crimpl](http://crimpl.readthedocs.io) as a built-in depedency to manage submitting and monitoring jobs on external compute resources.  In order to make use of one of these server, you must first configure the server within [crimpl](http://crimpl.readthedocs.io) (this only needs to be done once, after which the name of the crimpl server can be referenced from within PHOEBE on your local machine).\n",
    "\n",
    "The available server types include:\n",
    "* [LocalThread](https://crimpl.readthedocs.io/en/latest/LocalThread/)\n",
    "* [RemoteThread](https://crimpl.readthedocs.io/en/latest/RemoteThread/)\n",
    "* [RemoteSlurm](https://crimpl.readthedocs.io/en/latest/RemoteSlurm/)\n",
    "\n",
    "\n",
    "For the workshop, you already have a temporary account with passwordless ssh to terra, so we will configure that server within crimpl now."
   ]
  },
  {
   "cell_type": "code",
   "execution_count": 2,
   "metadata": {},
   "outputs": [],
   "source": [
    "from phoebe.dependencies import crimpl"
   ]
  },
  {
   "cell_type": "markdown",
   "metadata": {},
   "source": [
    "Note that whatever you put as `host` needs to be ssh-able without a password.  If you do not have `terra` as an alias in your ssh config, you may need `host=\"username@terra.villanova.edu\"` instead."
   ]
  },
  {
   "cell_type": "code",
   "execution_count": 3,
   "metadata": {},
   "outputs": [],
   "source": [
    "s = crimpl.RemoteSlurmServer(host='terra', directory='~/workshop/crimpl')"
   ]
  },
  {
   "cell_type": "code",
   "execution_count": 4,
   "metadata": {},
   "outputs": [
    {
     "name": "stdout",
     "output_type": "stream",
     "text": [
      "<RemoteSlurmServer host='terra' directory='~/workshop/crimpl' ssh='ssh' scp='scp' mail_user=None>\n"
     ]
    }
   ],
   "source": [
    "print(s)"
   ]
  },
  {
   "cell_type": "markdown",
   "metadata": {},
   "source": [
    "We will use conda on the remote server to manage installing any necessary dependencies.  You can manually install and configure conda, or let `crimpl` do it for you (if conda is already detected as installed, this won't do any harm to call again)."
   ]
  },
  {
   "cell_type": "code",
   "execution_count": 5,
   "metadata": {},
   "outputs": [
    {
     "name": "stdout",
     "output_type": "stream",
     "text": [
      "# crimpl: ssh terra \"mkdir -p ~/workshop/crimpl\"\n",
      "# crimpl: scp exportpath.sh terra:~/workshop/crimpl/\n",
      "# crimpl: ssh terra \"source ~/workshop/crimpl/exportpath.sh; conda -V\"\n",
      "# crimpl: ssh terra \"source ~/workshop/crimpl/exportpath.sh; cd ~/workshop/crimpl; wget -q https://repo.anaconda.com/miniconda/Miniconda3-latest-Linux-x86_64.sh; sh Miniconda3-latest-Linux-x86_64.sh -u -b -p ./crimpl-conda; mkdir ./crimpl-bin; cp ./crimpl-conda/bin/conda ./crimpl-bin/conda\"\n",
      "# crimpl: ssh terra \"source ~/workshop/crimpl/exportpath.sh; conda init\"\n",
      "# crimpl: ssh terra \"source ~/workshop/crimpl/exportpath.sh; conda -V\"\n"
     ]
    },
    {
     "data": {
      "text/plain": [
       "True"
      ]
     },
     "execution_count": 5,
     "metadata": {},
     "output_type": "execute_result"
    }
   ],
   "source": [
    "s.install_conda(in_server_directory=True)"
   ]
  },
  {
   "cell_type": "markdown",
   "metadata": {},
   "source": [
    "We will have PHOEBE manage installing the dependencies for us at each job submission.  This does add some minimal overhead to check the existing installation, but will fairly quickly see all dependencies met and move on.\n",
    "\n",
    "Note: if running crimpl on a non-release branch of PHOEBE (`feature-pulsations`, `feature-blending`), this will force a re-install to the latest version of that branch for each job. In that case, or when you want to install a dependency manually, you could reference the same conda environment from within PHOEBE, and set `install_deps=False` to skip having PHOEBE check and install dependencies.\n",
    "\n",
    "Any released and tagged version, however, will not force a re-install.\n",
    "\n",
    "You can always call [b.dependencies()](http://phoebe-project.org/docs/2.4/api/phoebe.frontend.bundle.Bundle.dependencies.md) to see the required pip dependencies for a given bundle:"
   ]
  },
  {
   "cell_type": "code",
   "execution_count": 7,
   "metadata": {},
   "outputs": [
    {
     "data": {
      "text/plain": [
       "(['phoebe==2.4.1'], [])"
      ]
     },
     "execution_count": 7,
     "metadata": {},
     "output_type": "execute_result"
    }
   ],
   "source": [
    "b.dependencies()"
   ]
  },
  {
   "cell_type": "markdown",
   "metadata": {},
   "source": [
    "Thus, to run this bundle on a remote server, phoebe 2.4.1 is the only needed dependency. That said, we will use MPI and MCMC in the future so we will install two additional packages, mpi4py and emcee:"
   ]
  },
  {
   "cell_type": "code",
   "execution_count": 10,
   "metadata": {},
   "outputs": [
    {
     "name": "stdout",
     "output_type": "stream",
     "text": [
      "# crimpl: ssh terra \"source ~/workshop/crimpl/exportpath.sh; conda -V\"\n",
      "# crimpl: ssh terra \"source ~/workshop/crimpl/exportpath.sh; conda info --envs\"\n",
      "# crimpl: ssh terra \"ls -d ~/workshop/crimpl/crimpl-envs/*\"\n",
      "# crimpl: ssh terra \"source ~/workshop/crimpl/exportpath.sh; mkdir -p ~/workshop/crimpl\"\n",
      "# crimpl: scp crimpl_run_script.sh terra:~/workshop/crimpl/\n",
      "# crimpl: ssh terra \"source ~/workshop/crimpl/exportpath.sh; cd ~/workshop/crimpl; chmod +x ./crimpl_run_script.sh; ./crimpl_run_script.sh 2> ./crimpl_run_script.sh.err\"\n"
     ]
    }
   ],
   "source": [
    "s.run_script(['export MPICH_CC=clang CC=clang; pip install phoebe mpi4py emcee --ignore-installed'], conda_env='phoebe_workshop')"
   ]
  },
  {
   "cell_type": "markdown",
   "metadata": {},
   "source": [
    "This entire process only needed to be run this one time. Now that the environment is built and ready, we will save it and activate it on subsequent use:"
   ]
  },
  {
   "cell_type": "code",
   "execution_count": 11,
   "metadata": {},
   "outputs": [
    {
     "data": {
      "text/plain": [
       "'/home/andrej/.crimpl/servers/terra.json'"
      ]
     },
     "execution_count": 11,
     "metadata": {},
     "output_type": "execute_result"
    }
   ],
   "source": [
    "s.save('terra', overwrite=True)"
   ]
  },
  {
   "cell_type": "markdown",
   "metadata": {},
   "source": [
    "The name provided when saving the crimpl configuration is the same name that we will reference later in PHOEBE as `crimpl_name`.  This keeps all the server configuration and potential sensitive information out of the bundle so that the bundle (or notebook) can safely be saved and shared, while also not requiring the servers to be re-configured in each case.  If `crimpl_name` is not available from `crimpl` on the local machine, an error will be raised and the server can easily be configured or swapped."
   ]
  },
  {
   "cell_type": "markdown",
   "metadata": {},
   "source": [
    "Servers in the Bundle\n",
    "-------------------------------\n",
    "\n",
    "Servers in the bundle are added and managed as any other set of options via [b.add_server()](http://phoebe-project.org/docs/2.4/api/phoebe.frontend.bundle.Bundle.add_server.md) and with \"kinds\" for each of the supported crimpl server types listed above:\n",
    "\n",
    "* [localthread](http://phoebe-project.org/docs/2.4/api/phoebe.parameters.server.localthread.md)\n",
    "* [remoteslurm](http://phoebe-project.org/docs/2.4/api/phoebe.parameters.server.remoteslurm.md)\n",
    "* [awsec2](http://phoebe-project.org/docs/2.4/api/phoebe.parameters.server.awsec2.md)"
   ]
  },
  {
   "cell_type": "code",
   "execution_count": 12,
   "metadata": {},
   "outputs": [
    {
     "data": {
      "text/plain": [
       "<ParameterSet: 11 parameters | qualifiers: use_conda, use_mpi, install_deps, walltime, conda_env, mail_type, crimpl_name, nprocs, mail_user, slurm_job_name, isolate_env>"
      ]
     },
     "execution_count": 12,
     "metadata": {},
     "output_type": "execute_result"
    }
   ],
   "source": [
    "b.add_server(\n",
    "    kind='remoteslurm',\n",
    "    server='terra',\n",
    "    crimpl_name='terra',\n",
    "    conda_env='phoebe_workshop',\n",
    "    nprocs=48,\n",
    "    overwrite=True\n",
    ")"
   ]
  },
  {
   "cell_type": "markdown",
   "metadata": {},
   "source": [
    "Note that there are a few other useful options here, including `walltime`.  We will leave that at the default 30 minutes for now, but for longer jobs, you will likely want to extend this to a reasonable value (terra allows up to 48 hours walltime per-job)."
   ]
  },
  {
   "cell_type": "code",
   "execution_count": 13,
   "metadata": {},
   "outputs": [
    {
     "name": "stdout",
     "output_type": "stream",
     "text": [
      "ParameterSet: 10 parameters\n",
      "         crimpl_name@terra@server: terra\n",
      "           use_conda@terra@server: True\n",
      "           conda_env@terra@server: phoebe_workshop\n",
      "         isolate_env@terra@server: False\n",
      "              nprocs@terra@server: 48\n",
      "             use_mpi@terra@server: True\n",
      "        install_deps@terra@server: True\n",
      "      slurm_job_name@terra@server: \n",
      "            walltime@terra@server: 0.5 h\n",
      "           mail_user@terra@server: \n"
     ]
    }
   ],
   "source": [
    "print(b.get_server('terra'))"
   ]
  },
  {
   "cell_type": "markdown",
   "metadata": {},
   "source": [
    "The `use_server` parameter\n",
    "--------------------------\n",
    "\n",
    "The compute and solver options both have `use_server` parameters that govern where [b.run_compute()](http://phoebe-project.org/docs/2.4/api/phoebe.frontend.bundle.Bundle.run_compute.md) and [b.run_solver()](http://phoebe-project.org/docs/2.4/api/phoebe.frontend.bundle.Bundle.run_solver.md) will be run. If `'none'` (default), the job is run in the current thread. The `use_server` in solver options are set to 'compute' by default, which means they will fall back on the `use_server` parameter in the referenced compute options."
   ]
  },
  {
   "cell_type": "code",
   "execution_count": 15,
   "metadata": {},
   "outputs": [
    {
     "name": "stdout",
     "output_type": "stream",
     "text": [
      "ParameterSet: 9 parameters\n",
      "      use_server@phoebe01@compute: none\n",
      "        use_server@nm_fit@compute: none\n",
      "       use_server@rvperiod@solver: none\n",
      "   use_server@lcperiod_bls@solver: none\n",
      "    use_server@lcperiod_ls@solver: none\n",
      "         use_server@rvgeom@solver: none\n",
      "       use_server@ebai_est@solver: none\n",
      "         use_server@lcgeom@solver: none\n",
      "      use_server@nm_solver@solver: compute\n"
     ]
    }
   ],
   "source": [
    "print(b.filter(qualifier='use_server'))"
   ]
  },
  {
   "cell_type": "markdown",
   "metadata": {},
   "source": [
    "If running the `nm_solver`, for example, PHOEBE will use the solver options for the `nm_fit` compute options."
   ]
  },
  {
   "cell_type": "code",
   "execution_count": 16,
   "metadata": {},
   "outputs": [
    {
     "name": "stdout",
     "output_type": "stream",
     "text": [
      "ParameterSet: 1 parameters\n",
      "         compute@nm_solver@solver: nm_fit\n"
     ]
    }
   ],
   "source": [
    "print(b.filter(qualifier='compute'))"
   ]
  },
  {
   "cell_type": "markdown",
   "metadata": {},
   "source": [
    "As with any other parameter in compute or solver options, these can either be set or overridden as keyword arguments when calling [b.run_compute()](http://phoebe-project.org/docs/2.4/api/phoebe.frontend.bundle.Bundle.run_compute.md) and [b.run_solver()](http://phoebe-project.org/docs/2.4/api/phoebe.frontend.bundle.Bundle.run_solver.md), respectively."
   ]
  },
  {
   "cell_type": "markdown",
   "metadata": {},
   "source": [
    "Running External Jobs with crimpl\n",
    "--------------------------------\n",
    "\n",
    "There are several use-cases for running compute or solver jobs on external servers.\n",
    "\n",
    "**1. Wait and load results automatically:**\n",
    "\n",
    "We can pass kwargs to `run_compute()` or `run_solver()` to override any compute/solver options. Here we can pass the server tag (note: this is the PHOEBE server tag, not the crimpl server name) to `run_compute()`, overriding the `use_server` parameter, which then looks up the server options, loads the corresponding crimpl object, and passes the job to the remote machine.\n",
    "\n",
    "Once the job is submitted, PHOEBE will poll to check its status, and retrieve the results once complete (or failed)."
   ]
  },
  {
   "cell_type": "code",
   "execution_count": 17,
   "metadata": {},
   "outputs": [
    {
     "name": "stdout",
     "output_type": "stream",
     "text": [
      "# crimpl: ssh terra \"mkdir -p ~/workshop/crimpl\"\n",
      "# crimpl: scp exportpath.sh terra:~/workshop/crimpl/\n",
      "# crimpl: ssh terra \"source ~/workshop/crimpl/exportpath.sh; conda -V\"\n",
      "# crimpl: ssh terra \"source ~/workshop/crimpl/exportpath.sh; conda info --envs\"\n",
      "# crimpl: ssh terra \"ls -d ~/workshop/crimpl/crimpl-envs/*\"\n",
      "# crimpl: ssh terra \"source ~/workshop/crimpl/exportpath.sh; mkdir -p ~/workshop/crimpl\"\n",
      "# crimpl: scp crimpl_run_script.sh terra:~/workshop/crimpl/\n",
      "# crimpl: ssh terra \"source ~/workshop/crimpl/exportpath.sh; cd ~/workshop/crimpl; chmod +x ./crimpl_run_script.sh; ./crimpl_run_script.sh 2> ./crimpl_run_script.sh.err\"\n",
      "# crimpl: ssh terra \"ls -d ~/workshop/crimpl/crimpl-job-*\"\n",
      "# crimpl: ssh terra \"ls -d ~/workshop/crimpl/crimpl-job-*\"\n",
      "# crimpl: ssh terra \"pwd\"\n",
      "# crimpl: ssh terra \"ls /home/users/andrej/workshop/crimpl/crimpl-job-2022.06.14-15.53.40/*\"\n",
      "# crimpl: ssh terra \"source ~/workshop/crimpl/exportpath.sh; conda -V\"\n",
      "# crimpl: ssh terra \"source ~/workshop/crimpl/exportpath.sh; conda info --envs\"\n",
      "# crimpl: ssh terra \"ls -d ~/workshop/crimpl/crimpl-envs/*\"\n",
      "# crimpl: ssh terra \"ls -d ~/workshop/crimpl/crimpl-job-2022.06.14-15.53.40/crimpl-envs/*\"\n",
      "# crimpl: ssh terra \"source ~/workshop/crimpl/exportpath.sh; mkdir -p /home/users/andrej/workshop/crimpl/crimpl-job-2022.06.14-15.53.40\"\n",
      "# crimpl: scp crimpl_submit_script.sh /home/andrej/projects/phoebe/workshop/_TnwKiufctSsyssEEMkYCFJEzxqqlCz.py terra:/home/users/andrej/workshop/crimpl/crimpl-job-2022.06.14-15.53.40/\n",
      "# crimpl: ssh terra \"source ~/workshop/crimpl/exportpath.sh; echo '_TnwKiufctSsyssEEMkYCFJEzxqqlCz.py' >> /home/users/andrej/workshop/crimpl/crimpl-job-2022.06.14-15.53.40/crimpl-input-files.list\"\n",
      "# crimpl: ssh terra \"source ~/workshop/crimpl/exportpath.sh; echo 'phoebe_workshop' > /home/users/andrej/workshop/crimpl/crimpl-job-2022.06.14-15.53.40/crimpl-conda-environment\"\n",
      "# crimpl: received ssh error, waiting 5s then retrying\n",
      "# crimpl: received ssh error, waiting 10s then retrying\n",
      "# crimpl: received ssh error, waiting 15s then retrying\n",
      "# crimpl: received ssh error, waiting 20s then retrying\n",
      "# crimpl: ssh command succeeded\n",
      "# crimpl: ssh terra \"source ~/workshop/crimpl/exportpath.sh; sbatch /home/users/andrej/workshop/crimpl/crimpl-job-2022.06.14-15.53.40/crimpl_submit_script.sh\"\n",
      "# crimpl: ssh terra \"echo 4388 > /home/users/andrej/workshop/crimpl/crimpl-job-2022.06.14-15.53.40/crimpl_slurm_id\"\n",
      "# crimpl: ssh terra \"ls -d ~/workshop/crimpl/crimpl-job-*\"\n",
      "# crimpl: ssh terra \"ls -d ~/workshop/crimpl/crimpl-job-*\"\n",
      "# crimpl: ssh terra \"pwd\"\n",
      "# crimpl: ssh terra \"cat /home/users/andrej/workshop/crimpl/crimpl-job-2022.06.14-15.53.40/crimpl_slurm_id\"\n",
      "# crimpl: ssh terra \"squeue -j 4388\"\n",
      "# crimpl: ssh terra \"squeue -j 4388\"\n",
      "# crimpl: ssh terra \"squeue -j 4388\"\n",
      "# crimpl: ssh terra \"squeue -j 4388\"\n",
      "# crimpl: ssh terra \"squeue -j 4388\"\n",
      "# crimpl: ssh terra \"cat /home/users/andrej/workshop/crimpl/crimpl-job-2022.06.14-15.53.40/crimpl-job.status\"\n",
      "# crimpl: ssh terra \"ls /home/users/andrej/workshop/crimpl/crimpl-job-2022.06.14-15.53.40/*\"\n",
      "# crimpl: ssh terra \"ls /home/users/andrej/workshop/crimpl/crimpl-job-2022.06.14-15.53.40/*\"\n",
      "# crimpl: scp terra:/home/users/andrej/workshop/crimpl/crimpl-job-2022.06.14-15.53.40/_TnwKiufctSsyssEEMkYCFJEzxqqlCz.out ./\n"
     ]
    },
    {
     "data": {
      "text/plain": [
       "<ParameterSet: 8 parameters | kinds: lc, rv>"
      ]
     },
     "execution_count": 17,
     "metadata": {},
     "output_type": "execute_result"
    }
   ],
   "source": [
    "b.run_compute(compute='phoebe01', use_server='terra', model='terra_model')"
   ]
  },
  {
   "cell_type": "code",
   "execution_count": 18,
   "metadata": {},
   "outputs": [
    {
     "name": "stderr",
     "output_type": "stream",
     "text": [
      "/home/andrej/system/venvs/phoebe-dev/lib/python3.10/site-packages/phoebe/dependencies/autofig/call.py:1305: UserWarning: You passed a edgecolor/edgecolors ('none') for an unfilled marker ('+').  Matplotlib is ignoring the edgecolor in favor of the facecolor.  This behavior may change in the future.\n",
      "  artist = ax.scatter(*datapoint,\n"
     ]
    },
    {
     "data": {
      "image/png": "[encoded data removed]",
      "text/plain": [
       "<Figure size 576x864 with 2 Axes>"
      ]
     },
     "metadata": {
      "needs_background": "light"
     },
     "output_type": "display_data"
    }
   ],
   "source": [
    "_ = b.plot(model='terra_model', x='phases', show=True)"
   ]
  },
  {
   "cell_type": "markdown",
   "metadata": {},
   "source": [
    "**2. Detach and monitor/retrieve results:**\n",
    "\n",
    "For long(er) jobs, we can submit the job and immediately detach from `run_compute()` or `run_solver()`.  This results in a \"Job\" parameter in the model or solution, holding the necessary information to check the progress and retrieve the results at any time in the future. \n",
    "\n",
    "This is particularly useful for long solver runs as it allows you to monitor their progress *as* they are running, interrupting the job early if necessary. In order to do that, we need to set `progress_every_niters` in the solver options (not available for all solvers). This tells the solver to query progress every given number of iterations, which can then be retrieved, loaded, and inspected.  This functionality does come with some overhead, so you do not want to set this to 1."
   ]
  },
  {
   "cell_type": "code",
   "execution_count": 19,
   "metadata": {},
   "outputs": [
    {
     "name": "stdout",
     "output_type": "stream",
     "text": [
      "ParameterSet: 13 parameters\n",
      "        comments@nm_solver@solver: \n",
      "      use_server@nm_solver@solver: compute\n",
      "         compute@nm_solver@solver: nm_fit\n",
      "   expose_lnprobabilities@nm_s...: False\n",
      "   continue_from@nm_solver@solver: None\n",
      "   fit_parameters@nm_solver@so...: ['teffratio@binary', 'requiv@primary', 'requivratio@binary']\n",
      "   initial_values@nm_solver@so...: {}\n",
      "          priors@nm_solver@solver: ['dist01']\n",
      "         maxiter@nm_solver@solver: 20\n",
      "        adaptive@nm_solver@solver: False\n",
      "           xatol@nm_solver@solver: 0.0001\n",
      "           fatol@nm_solver@solver: 0.0001\n",
      "   progress_every_niters@nm_so...: 0\n"
     ]
    }
   ],
   "source": [
    "print(b.get_solver('nm_solver'))"
   ]
  },
  {
   "cell_type": "code",
   "execution_count": 20,
   "metadata": {},
   "outputs": [
    {
     "name": "stdout",
     "output_type": "stream",
     "text": [
      "Parameter: progress_every_niters@nm_solver@solver\n",
      "                       Qualifier: progress_every_niters\n",
      "                     Description: save the progress of the solution every n iterations.  The solution can only be recovered from an early termination by loading the bundle from a saved file and then calling b.import_solution(filename).  The filename of the saved file will default to solution.ps.progress within run_solver, or the output filename provided to export_solver suffixed with .progress.  If using detach=True within run_solver, attach job will load the progress and allow re-attaching until the job is completed.  If 0 will not save and will only return after completion.\n",
      "                           Value: 0\n",
      "                  Constrained by: \n",
      "                      Constrains: None\n",
      "                      Related to: None\n",
      "\n"
     ]
    }
   ],
   "source": [
    "print(b.get_parameter(qualifier='progress_every_niters', solver='nm_solver'))"
   ]
  },
  {
   "cell_type": "markdown",
   "metadata": {},
   "source": [
    "Here we'll set `progress_every_niters=10`, `maxiter=1e6`, and `fatol=xatol=1e-12`... essentially telling the optimizer to continue running until its manually terminated or exceeds the walltime."
   ]
  },
  {
   "cell_type": "code",
   "execution_count": 21,
   "metadata": {},
   "outputs": [],
   "source": [
    "b.set_value('progress_every_niters', solver='nm_solver', value=10)\n",
    "b.set_value('maxiter', solver='nm_solver', value=1e6)\n",
    "b.set_value('xatol', solver='nm_solver', value=1e-12)\n",
    "b.set_value('fatol', solver='nm_solver', value=1e-12)"
   ]
  },
  {
   "cell_type": "code",
   "execution_count": 22,
   "metadata": {},
   "outputs": [
    {
     "name": "stdout",
     "output_type": "stream",
     "text": [
      "# crimpl: ssh terra \"source ~/workshop/crimpl/exportpath.sh; conda -V\"\n",
      "# crimpl: ssh terra \"source ~/workshop/crimpl/exportpath.sh; conda info --envs\"\n",
      "# crimpl: ssh terra \"ls -d ~/workshop/crimpl/crimpl-envs/*\"\n",
      "# crimpl: ssh terra \"source ~/workshop/crimpl/exportpath.sh; mkdir -p ~/workshop/crimpl\"\n",
      "# crimpl: scp crimpl_run_script.sh terra:~/workshop/crimpl/\n",
      "# crimpl: ssh terra \"source ~/workshop/crimpl/exportpath.sh; cd ~/workshop/crimpl; chmod +x ./crimpl_run_script.sh; ./crimpl_run_script.sh 2> ./crimpl_run_script.sh.err\"\n",
      "# crimpl: ssh terra \"ls -d ~/workshop/crimpl/crimpl-job-*\"\n",
      "# crimpl: ssh terra \"ls -d ~/workshop/crimpl/crimpl-job-*\"\n",
      "# crimpl: ssh terra \"pwd\"\n",
      "# crimpl: ssh terra \"ls /home/users/andrej/workshop/crimpl/crimpl-job-2022.06.14-15.59.42/*\"\n",
      "# crimpl: ssh terra \"source ~/workshop/crimpl/exportpath.sh; conda -V\"\n",
      "# crimpl: ssh terra \"source ~/workshop/crimpl/exportpath.sh; conda info --envs\"\n",
      "# crimpl: ssh terra \"ls -d ~/workshop/crimpl/crimpl-envs/*\"\n",
      "# crimpl: ssh terra \"ls -d ~/workshop/crimpl/crimpl-job-2022.06.14-15.59.42/crimpl-envs/*\"\n",
      "# crimpl: ssh terra \"source ~/workshop/crimpl/exportpath.sh; mkdir -p /home/users/andrej/workshop/crimpl/crimpl-job-2022.06.14-15.59.42\"\n",
      "# crimpl: scp crimpl_submit_script.sh /home/andrej/projects/phoebe/workshop/_ZiAgdbaMSwGcqcjcPsJOhXQtgofTyH.py terra:/home/users/andrej/workshop/crimpl/crimpl-job-2022.06.14-15.59.42/\n",
      "# crimpl: ssh terra \"source ~/workshop/crimpl/exportpath.sh; echo '_ZiAgdbaMSwGcqcjcPsJOhXQtgofTyH.py' >> /home/users/andrej/workshop/crimpl/crimpl-job-2022.06.14-15.59.42/crimpl-input-files.list\"\n",
      "# crimpl: ssh terra \"source ~/workshop/crimpl/exportpath.sh; echo 'phoebe_workshop' > /home/users/andrej/workshop/crimpl/crimpl-job-2022.06.14-15.59.42/crimpl-conda-environment\"\n",
      "# crimpl: ssh terra \"source ~/workshop/crimpl/exportpath.sh; sbatch /home/users/andrej/workshop/crimpl/crimpl-job-2022.06.14-15.59.42/crimpl_submit_script.sh\"\n",
      "# crimpl: ssh terra \"echo 4389 > /home/users/andrej/workshop/crimpl/crimpl-job-2022.06.14-15.59.42/crimpl_slurm_id\"\n",
      "# crimpl: received ssh error, waiting 5s then retrying\n",
      "# crimpl: received ssh error, waiting 10s then retrying\n",
      "# crimpl: received ssh error, waiting 15s then retrying\n",
      "# crimpl: received ssh error, waiting 20s then retrying\n",
      "# crimpl: ssh command succeeded\n"
     ]
    },
    {
     "data": {
      "text/plain": [
       "<Parameter: detached_job=unknown | keys: description, value, job_name, uniqueid, readonly, advanced, latexfmt>"
      ]
     },
     "execution_count": 22,
     "metadata": {},
     "output_type": "execute_result"
    }
   ],
   "source": [
    "b.run_solver(solver='nm_solver', use_server='terra', \n",
    "             solution='nm_solution_progress', detach=True)"
   ]
  },
  {
   "cell_type": "code",
   "execution_count": 23,
   "metadata": {},
   "outputs": [
    {
     "name": "stdout",
     "output_type": "stream",
     "text": [
      "ParameterSet: 2 parameters\n",
      "R  detached_job@nm_solution_pr...: unknown\n",
      "   comments@nm_solution_progre...: \n"
     ]
    }
   ],
   "source": [
    "print(b.get_solution('nm_solution_progress'))"
   ]
  },
  {
   "cell_type": "markdown",
   "metadata": {},
   "source": [
    "We can now (optionally) save the bundle, turn off our local machine, start a new python session, load the bundle, and all necessary information to check the job's status and retrieve results are handled automatically (with job information in the detached_job parameter and server setup/credentials in the crimpl configuration to avoid any security concerns when sharing bundles)."
   ]
  },
  {
   "cell_type": "code",
   "execution_count": 24,
   "metadata": {},
   "outputs": [],
   "source": [
    "b.save('running_job.phoebe')\n",
    "\n",
    "import phoebe\n",
    "b = phoebe.open('running_job.phoebe')"
   ]
  },
  {
   "cell_type": "markdown",
   "metadata": {},
   "source": [
    "Depending on how long we expect the job to take, there is a number of available methods we can call to act on this \"job\" parameter:\n",
    "\n",
    "* [b.get_job_status()](http://phoebe-project.org/docs/2.4/api/phoebe.frontend.bundle.Bundle.get_job_status.md)\n",
    "* [b.get_job_crimpl_object()](http://phoebe-project.org/docs/2.4/api/phoebe.frontend.bundle.Bundle.get_job_crimpl_object.md)\n",
    "* [b.attach_job()](http://phoebe-project.org/docs/2.4/api/phoebe.frontend.bundle.Bundle.attach_job.md)\n",
    "* [b.load_job_progress()](http://phoebe-project.org/docs/2.4/api/phoebe.frontend.bundle.Bundle.load_job_progress.md)\n",
    "* [b.kill_job()](http://phoebe-project.org/docs/2.4/api/phoebe.frontend.bundle.Bundle.kill_job.md)\n",
    "* [b.resubmit_job()](http://phoebe-project.org/docs/2.4/api/phoebe.frontend.bundle.Bundle.resubmit_job.md)\n",
    "\n",
    "Let us now call [b.get_job_status()](http://phoebe-project.org/docs/2.4/api/phoebe.frontend.bundle.Bundle.get_job_status.md) to confirm that the job has started running:"
   ]
  },
  {
   "cell_type": "code",
   "execution_count": 25,
   "metadata": {},
   "outputs": [
    {
     "name": "stdout",
     "output_type": "stream",
     "text": [
      "# crimpl: ssh terra \"ls -d ~/workshop/crimpl/crimpl-job-*\"\n",
      "# crimpl: ssh terra \"ls -d ~/workshop/crimpl/crimpl-job-*\"\n",
      "# crimpl: ssh terra \"pwd\"\n",
      "# crimpl: ssh terra \"cat /home/users/andrej/workshop/crimpl/crimpl-job-2022.06.14-15.59.42/crimpl_slurm_id\"\n",
      "# crimpl: ssh terra \"squeue -j 4389\"\n"
     ]
    },
    {
     "data": {
      "text/plain": [
       "'running'"
      ]
     },
     "execution_count": 25,
     "metadata": {},
     "output_type": "execute_result"
    }
   ],
   "source": [
    "b.get_job_status(solution='nm_solution_progress')"
   ]
  },
  {
   "cell_type": "markdown",
   "metadata": {},
   "source": [
    "Calling [b.load_job_progress](http://phoebe-project.org/docs/2.4/api/phoebe.frontend.bundle.Bundle.load_job_progress.md) will fail until the first progress file is written, so just for the sake of letting the notebook run by executing all cells, we'll force sleeping for 2 minutes.  Once it does succeed, it will download the latest dumped progress file and import it into the solution."
   ]
  },
  {
   "cell_type": "code",
   "execution_count": 23,
   "metadata": {},
   "outputs": [],
   "source": [
    "from time import sleep\n",
    "sleep(120)"
   ]
  },
  {
   "cell_type": "code",
   "execution_count": 26,
   "metadata": {},
   "outputs": [
    {
     "name": "stdout",
     "output_type": "stream",
     "text": [
      "# crimpl: ssh terra \"ls /home/users/andrej/workshop/crimpl/crimpl-job-2022.06.14-15.59.42/*\"\n",
      "# crimpl: ssh terra \"ls /home/users/andrej/workshop/crimpl/crimpl-job-2022.06.14-15.59.42/*\"\n",
      "# crimpl: scp terra:/home/users/andrej/workshop/crimpl/crimpl-job-2022.06.14-15.59.42/_ZiAgdbaMSwGcqcjcPsJOhXQtgofTyH.out.progress ./\n"
     ]
    },
    {
     "data": {
      "text/plain": [
       "<ParameterSet: 11 parameters | qualifiers: success, message, fitted_twigs, niter, fitted_values, fitted_units, adopt_parameters, adopt_distributions, adopt_values, initial_values, fitted_uniqueids>"
      ]
     },
     "execution_count": 26,
     "metadata": {},
     "output_type": "execute_result"
    }
   ],
   "source": [
    "b.load_job_progress(solution='nm_solution_progress')"
   ]
  },
  {
   "cell_type": "code",
   "execution_count": 27,
   "metadata": {},
   "outputs": [
    {
     "name": "stdout",
     "output_type": "stream",
     "text": [
      "ParameterSet: 6 parameters\n",
      "R  fitted_twigs@nm_solution_pr...: ['teffratio@binary@orbit@component' 'requiv@primary@star@component'\n",
      " 'requivratio@binary@orbit@component']\n",
      "   adopt_values@nm_solution_pr...: True\n",
      "R  message@nm_solution_progres...: running\n",
      "R  niter@nm_solution_progress@...: 10\n",
      "R  initial_values@nm_solution_...: [0.9253032558087774 1.278524732928571 1.0818826670433095]\n",
      "R  fitted_values@nm_solution_p...: [0.9253032558087774 1.278524732928571 1.0818826670433095]\n"
     ]
    }
   ],
   "source": [
    "print(b.filter(qualifier=['fitted_twigs', '*_values', '*_lnprobability', 'niter', 'message'], \n",
    "               solution='nm_solution_progress'))"
   ]
  },
  {
   "cell_type": "markdown",
   "metadata": {},
   "source": [
    "This \"snapshot\" represents a fully functional bundle; for example, we can compute the forward model:"
   ]
  },
  {
   "cell_type": "code",
   "execution_count": 28,
   "metadata": {},
   "outputs": [
    {
     "name": "stderr",
     "output_type": "stream",
     "text": [
      "100%|██████████| 1/1 [00:02<00:00,  2.67s/it]\n"
     ]
    },
    {
     "data": {
      "text/plain": [
       "<ParameterSet: 13 parameters | kinds: lc, rv>"
      ]
     },
     "execution_count": 28,
     "metadata": {},
     "output_type": "execute_result"
    }
   ],
   "source": [
    "b.run_compute(compute='nm_fit', solution='nm_solution_progress', model='progress_model')"
   ]
  },
  {
   "cell_type": "markdown",
   "metadata": {},
   "source": [
    "Plot it:"
   ]
  },
  {
   "cell_type": "code",
   "execution_count": 29,
   "metadata": {},
   "outputs": [
    {
     "data": {
      "image/png": "[encoded data removed]",
      "text/plain": [
       "<Figure size 576x864 with 2 Axes>"
      ]
     },
     "metadata": {
      "needs_background": "light"
     },
     "output_type": "display_data"
    }
   ],
   "source": [
    "_ = b.plot(model='progress_model', x='phases', show=True)"
   ]
  },
  {
   "cell_type": "markdown",
   "metadata": {},
   "source": [
    "We can keep running this loop of code blocks to re-load the latest progress file from the server (automatically overwriting the previous progress), compare results, and decide whether to keep it running or terminate the job.\n",
    "\n",
    "If we are happy with the results before `maxiter`, `xatol`, `fatol` or the server's `walltime` have been reached, we can kill the job.  "
   ]
  },
  {
   "cell_type": "code",
   "execution_count": 30,
   "metadata": {},
   "outputs": [
    {
     "name": "stdout",
     "output_type": "stream",
     "text": [
      "# crimpl: ssh terra \"scancel 4389\"\n"
     ]
    },
    {
     "data": {
      "text/plain": [
       "<ParameterSet: EMPTY>"
      ]
     },
     "execution_count": 30,
     "metadata": {},
     "output_type": "execute_result"
    }
   ],
   "source": [
    "b.kill_job(solution='nm_solution_progress')"
   ]
  },
  {
   "cell_type": "markdown",
   "metadata": {},
   "source": [
    "**3. Export the script:**\n",
    "\n",
    "The last use case is when we want to circumvent crimpl altogether and submit the script ourselves. This is considered an advanced topic that is documented in the [online servers tutorial](http://phoebe-project.org/docs/2.4/tutorials/server.ipynb). It explains several options, including exporting a script that is capable of submitting the job externally, or a script to copy and submit manually. We will not go into the details of this use case here but provide a link for reference if you happen to be interested in this option."
   ]
  }
 ],
 "metadata": {
  "kernelspec": {
   "display_name": "Python 3.10.4 ('phoebe-dev')",
   "language": "python",
   "name": "python3"
  },
  "language_info": {
   "codemirror_mode": {
    "name": "ipython",
    "version": 3
   },
   "file_extension": ".py",
   "mimetype": "text/x-python",
   "name": "python",
   "nbconvert_exporter": "python",
   "pygments_lexer": "ipython3",
   "version": "3.10.4"
  },
  "vscode": {
   "interpreter": {
    "hash": "d03c2550f08e22a77817d932fec0f3802e1fd2540a98dc1f7ee55437152ec9e1"
   }
  }
 },
 "nbformat": 4,
 "nbformat_minor": 1
}
