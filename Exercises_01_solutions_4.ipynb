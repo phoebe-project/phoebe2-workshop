{
 "cells": [
  {
   "cell_type": "markdown",
   "metadata": {},
   "source": [
    "# \\#4: Reproduce Binaries from the CALEB Catalog Example Solution"
   ]
  },
  {
   "cell_type": "code",
   "execution_count": 1,
   "metadata": {},
   "outputs": [],
   "source": [
    "import phoebe\n",
    "from phoebe import u # units\n",
    "import numpy as np"
   ]
  },
  {
   "cell_type": "code",
   "execution_count": 2,
   "metadata": {},
   "outputs": [],
   "source": [
    "logger = phoebe.logger(clevel='INFO')\n",
    "Period = 0.6289294 #days\n",
    "MASS_RATIO = 0.740000\n",
    "TEMPERATURE_1 = 6150.000000 #K\n",
    "TEMPERATURE_2 = 4920.000000 #K\n",
    "INCLINATION = 82.00000 #deg\n",
    "ECCENTRICITY = 0.0\n",
    "OMEGA_1 = 3.918202\n",
    "OMEGA_2 = 3.898896\n",
    "ROTATION_F1 = 1\n",
    "ROTATION_F2 = 1"
   ]
  },
  {
   "cell_type": "markdown",
   "metadata": {},
   "source": [
    "from Caleb radial velocity data we have K1 and K2 and can determin that the sma of the binary is 3.8671 SolRad"
   ]
  },
  {
   "cell_type": "code",
   "execution_count": 3,
   "metadata": {},
   "outputs": [],
   "source": [
    "sma = 3.8671"
   ]
  },
  {
   "cell_type": "code",
   "execution_count": 4,
   "metadata": {},
   "outputs": [
    {
     "name": "stderr",
     "output_type": "stream",
     "text": [
      "Thu, 17 Jun 2021 08:42 BUNDLE       INFO    attempting to update compute='phoebe01' to new version requirements\n",
      "Thu, 17 Jun 2021 08:42 BUNDLE       INFO    adding phoebe 'phoebe01' compute to bundle\n"
     ]
    }
   ],
   "source": [
    "b = phoebe.Bundle.default_binary()"
   ]
  },
  {
   "cell_type": "code",
   "execution_count": 5,
   "metadata": {},
   "outputs": [],
   "source": [
    "d = 1 - ECCENTRICITY\n",
    "requiv_1Dist = phoebe.distortions.roche.pot_to_requiv(OMEGA_1, sma, MASS_RATIO, ROTATION_F1, d, component=1)\n",
    "requiv_2Dist = phoebe.distortions.roche.pot_to_requiv(OMEGA_2, sma, MASS_RATIO, ROTATION_F2, d, component=2)\n",
    "b.set_value('requiv@primary', requiv_1Dist)\n",
    "b.set_value('requiv@secondary', requiv_2Dist)"
   ]
  },
  {
   "cell_type": "code",
   "execution_count": 6,
   "metadata": {},
   "outputs": [],
   "source": [
    "b.set_value('incl@orbit', INCLINATION)\n",
    "b.set_value('period@binary', Period)\n",
    "b.set_value('q@binary@component',MASS_RATIO)\n",
    "b.set_value('teff@primary', TEMPERATURE_1)\n",
    "b.set_value('teff@secondary', TEMPERATURE_2)\n",
    "b.set_value('ecc@binary@orbit', ECCENTRICITY )"
   ]
  },
  {
   "cell_type": "markdown",
   "metadata": {},
   "source": [
    "Just to see how close r_back*sma is to requiv"
   ]
  },
  {
   "cell_type": "code",
   "execution_count": 7,
   "metadata": {},
   "outputs": [
    {
     "data": {
      "text/plain": [
       "1.2417329731421782"
      ]
     },
     "execution_count": 7,
     "metadata": {},
     "output_type": "execute_result"
    }
   ],
   "source": [
    "b.get_value('requiv@primary')"
   ]
  },
  {
   "cell_type": "code",
   "execution_count": 8,
   "metadata": {},
   "outputs": [
    {
     "data": {
      "text/plain": [
       "1.0510956297799288"
      ]
     },
     "execution_count": 8,
     "metadata": {},
     "output_type": "execute_result"
    }
   ],
   "source": [
    "b.get_value('requiv@secondary')"
   ]
  },
  {
   "cell_type": "code",
   "execution_count": null,
   "metadata": {},
   "outputs": [],
   "source": []
  }
 ],
 "metadata": {
  "kernelspec": {
   "display_name": "Python 3",
   "language": "python",
   "name": "python3"
  },
  "language_info": {
   "codemirror_mode": {
    "name": "ipython",
    "version": 3
   },
   "file_extension": ".py",
   "mimetype": "text/x-python",
   "name": "python",
   "nbconvert_exporter": "python",
   "pygments_lexer": "ipython3",
   "version": "3.8.5"
  }
 },
 "nbformat": 4,
 "nbformat_minor": 2
}
