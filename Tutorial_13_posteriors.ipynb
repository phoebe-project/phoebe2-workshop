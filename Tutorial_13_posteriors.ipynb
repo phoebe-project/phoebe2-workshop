{
 "cells": [
  {
   "cell_type": "markdown",
   "id": "monetary-parker",
   "metadata": {},
   "source": [
    "# Workshop Tutorial: Posteriors & Parameter Uncertainties\n",
    "\n",
    "In this tutorial we will focus on posterior probability density functions (pdfs), also known as posteriors. These inform us of the parameter distributions that underlie the topology of the parameter space.\n",
    "\n",
    "We will not be doing any new computations. Instead, we will use the results from our final round of sampling and interpret them in the context of posterior pdfs.\n",
    "\n",
    "This interactive workshop tutorial covers many of the same topics as the corresponding online tutorial(s):\n",
    "\n",
    "* [Advanced: EMCEE Sampler](http://phoebe-project.org/docs/2.3/tutorials/emcee.ipynb)\n",
    "* [Advanced: Convert Posterior Distributions from EMCEE](http://phoebe-project.org/docs/2.3/tutorials/emcee_distributions_convert.ipynb)\n",
    "\n",
    "As usual, we do the imports first."
   ]
  },
  {
   "cell_type": "code",
   "execution_count": null,
   "id": "alien-freeze",
   "metadata": {},
   "outputs": [],
   "source": [
    "import phoebe\n",
    "import numpy as np\n",
    "import matplotlib.pyplot as plt\n",
    "import scipy.stats as st"
   ]
  },
  {
   "cell_type": "markdown",
   "id": "designed-landscape",
   "metadata": {},
   "source": [
    "And load the [bundle from the previous tutorial](https://github.com/phoebe-project/phoebe2-workshop/raw/2021june/data/synthetic/after_final_round.bundle):"
   ]
  },
  {
   "cell_type": "code",
   "execution_count": null,
   "id": "jewish-pearl",
   "metadata": {},
   "outputs": [],
   "source": [
    "b = phoebe.load('./data/synthetic/after_final_round.bundle')"
   ]
  },
  {
   "cell_type": "markdown",
   "id": "female-nursery",
   "metadata": {},
   "source": [
    "Let's take a closer look at, say, eccentricity:"
   ]
  },
  {
   "cell_type": "code",
   "execution_count": null,
   "id": "hired-whale",
   "metadata": {},
   "outputs": [],
   "source": [
    "print(b['ecc@binary@distribution'])"
   ]
  },
  {
   "cell_type": "markdown",
   "id": "close-olive",
   "metadata": {},
   "source": [
    "Why is the final round missing? Because we haven't adopted the solution yet:"
   ]
  },
  {
   "cell_type": "code",
   "execution_count": null,
   "id": "unavailable-specification",
   "metadata": {},
   "outputs": [],
   "source": [
    "b.adopt_solution(solution='final_round',\n",
    "                 adopt_values=False,\n",
    "                 adopt_distributions=True,\n",
    "                 distributions_convert='mvsamples',\n",
    "                 distribution='ndg_final')"
   ]
  },
  {
   "cell_type": "markdown",
   "id": "coral-short",
   "metadata": {},
   "source": [
    "If we print it again, there it is:"
   ]
  },
  {
   "cell_type": "code",
   "execution_count": null,
   "id": "bright-system",
   "metadata": {},
   "outputs": [],
   "source": [
    "print(b['ecc@binary@distribution'])"
   ]
  },
  {
   "cell_type": "markdown",
   "id": "beautiful-jacket",
   "metadata": {},
   "source": [
    "Now let's take a closer look at the samples, so that we can follow the logic built into phoebe:"
   ]
  },
  {
   "cell_type": "code",
   "execution_count": null,
   "id": "floating-columbus",
   "metadata": {},
   "outputs": [],
   "source": [
    "print(b['value@ecc@binary@distribution@ndg_final'].samples)"
   ]
  },
  {
   "cell_type": "markdown",
   "id": "intimate-joseph",
   "metadata": {},
   "source": [
    "This particular structure is an MVSamplesSlice from the distl module. It's always a good idea to acquaint yourself with it first:"
   ]
  },
  {
   "cell_type": "code",
   "execution_count": null,
   "id": "grave-plaza",
   "metadata": {},
   "outputs": [],
   "source": [
    "help(b['value@ecc@ndg_final@distribution'])"
   ]
  },
  {
   "cell_type": "markdown",
   "id": "strong-niger",
   "metadata": {},
   "source": [
    "Now that we have the samples, we can extract them and plot a histogram:"
   ]
  },
  {
   "cell_type": "code",
   "execution_count": null,
   "id": "controlled-midnight",
   "metadata": {},
   "outputs": [],
   "source": [
    "plt.hist(b['value@ecc@binary@distribution@ndg_final'].samples, bins=50)\n",
    "plt.show()"
   ]
  },
  {
   "cell_type": "markdown",
   "id": "forced-terry",
   "metadata": {},
   "source": [
    "Excellent! Now let's overplot a gaussian:"
   ]
  },
  {
   "cell_type": "code",
   "execution_count": null,
   "id": "isolated-twist",
   "metadata": {},
   "outputs": [],
   "source": [
    "mean = b['value@ecc@binary@distribution@ndg_final'].mean()\n",
    "stdev = b['value@ecc@binary@distribution@ndg_final'].std()\n",
    "print('Mean: ', mean)\n",
    "print('Stdev:', stdev)"
   ]
  },
  {
   "cell_type": "code",
   "execution_count": null,
   "id": "handmade-search",
   "metadata": {},
   "outputs": [],
   "source": [
    "vals, bins, _ = plt.hist(b['value@ecc@binary@distribution@ndg_final'].samples, bins=50, density=True)\n",
    "uvg = st.norm.pdf(bins, mean, stdev)\n",
    "plt.plot(bins, uvg, 'r-')\n",
    "plt.show()"
   ]
  },
  {
   "cell_type": "markdown",
   "id": "bright-absence",
   "metadata": {},
   "source": [
    "As you can imagine, this functionality is built into phoebe; to see the supported methods, run a `dir` on the sample:"
   ]
  },
  {
   "cell_type": "code",
   "execution_count": null,
   "id": "hourly-beatles",
   "metadata": {},
   "outputs": [],
   "source": [
    "dir(b['value@ecc@binary@distribution@ndg_final'])"
   ]
  },
  {
   "cell_type": "markdown",
   "id": "satisfied-baker",
   "metadata": {},
   "source": [
    "Thus, it is straight-forward to reproduce the above two plots:"
   ]
  },
  {
   "cell_type": "code",
   "execution_count": null,
   "id": "peripheral-budapest",
   "metadata": {},
   "outputs": [],
   "source": [
    "ecc_posterior = b['value@ecc@binary@distribution@ndg_final']"
   ]
  },
  {
   "cell_type": "code",
   "execution_count": null,
   "id": "exposed-square",
   "metadata": {},
   "outputs": [],
   "source": [
    "_ = ecc_posterior.plot_sample(bins=50)"
   ]
  },
  {
   "cell_type": "code",
   "execution_count": null,
   "id": "acquired-chicken",
   "metadata": {},
   "outputs": [],
   "source": [
    "_ = ecc_posterior.plot_gaussian()"
   ]
  },
  {
   "cell_type": "markdown",
   "id": "random-deficit",
   "metadata": {},
   "source": [
    "We can also use a `plot()` method to combine the plots and make them even nicer:"
   ]
  },
  {
   "cell_type": "code",
   "execution_count": null,
   "id": "arabic-caution",
   "metadata": {},
   "outputs": [],
   "source": [
    "help(ecc_posterior.plot)"
   ]
  },
  {
   "cell_type": "code",
   "execution_count": null,
   "id": "opposed-florence",
   "metadata": {},
   "outputs": [],
   "source": [
    "_ = ecc_posterior.plot(plot_pdf=True)"
   ]
  },
  {
   "cell_type": "code",
   "execution_count": null,
   "id": "purple-slovenia",
   "metadata": {},
   "outputs": [],
   "source": [
    "_ = ecc_posterior.plot(plot_sample=True, plot_sample_kwargs={'bins': 50}, plot_gaussian=True, plot_uncertainties=True)"
   ]
  },
  {
   "cell_type": "code",
   "execution_count": null,
   "id": "traditional-reporter",
   "metadata": {},
   "outputs": [],
   "source": [
    "_ = b.plot_distribution_collection('ndg_final')"
   ]
  },
  {
   "cell_type": "markdown",
   "id": "independent-friend",
   "metadata": {},
   "source": [
    "And finally, we can convert distributions to multivariate gaussians, thus \"polishing\" the posteriors:"
   ]
  },
  {
   "cell_type": "code",
   "execution_count": null,
   "id": "cellular-state",
   "metadata": {},
   "outputs": [],
   "source": [
    "_ = b.plot('final_round', style='corner', distributions_convert='mvgaussian')"
   ]
  },
  {
   "cell_type": "markdown",
   "id": "specified-gibson",
   "metadata": {},
   "source": [
    "# Exercises\n",
    "\n",
    "**Exercise 1**: We used the posterior on eccentricity to discuss what phoebe can do for us. Now run the same type of analysis on other parameters."
   ]
  },
  {
   "cell_type": "code",
   "execution_count": null,
   "id": "according-montana",
   "metadata": {},
   "outputs": [],
   "source": []
  }
 ],
 "metadata": {
  "kernelspec": {
   "display_name": "Python 3",
   "language": "python",
   "name": "python3"
  },
  "language_info": {
   "codemirror_mode": {
    "name": "ipython",
    "version": 3
   },
   "file_extension": ".py",
   "mimetype": "text/x-python",
   "name": "python",
   "nbconvert_exporter": "python",
   "pygments_lexer": "ipython3",
   "version": "3.9.5"
  }
 },
 "nbformat": 4,
 "nbformat_minor": 5
}
