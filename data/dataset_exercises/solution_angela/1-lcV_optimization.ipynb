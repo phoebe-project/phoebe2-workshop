{
 "cells": [
  {
   "cell_type": "code",
   "execution_count": 1,
   "id": "declared-animal",
   "metadata": {},
   "outputs": [],
   "source": [
    "import numpy as np\n",
    "import phoebe\n",
    "import matplotlib.pyplot as plt\n",
    "%matplotlib inline"
   ]
  },
  {
   "cell_type": "code",
   "execution_count": 2,
   "id": "collect-devon",
   "metadata": {},
   "outputs": [],
   "source": [
    "b = phoebe.load('after_estimators.bundle')"
   ]
  },
  {
   "cell_type": "markdown",
   "id": "particular-melbourne",
   "metadata": {},
   "source": [
    "#### Optimize lcV"
   ]
  },
  {
   "cell_type": "code",
   "execution_count": 2,
   "id": "later-exhibit",
   "metadata": {},
   "outputs": [
    {
     "name": "stderr",
     "output_type": "stream",
     "text": [
      "/Users/angela/miniconda3/envs/phoebe-workshop/lib/python3.8/site-packages/phoebe/parameters/parameters.py:10312: VisibleDeprecationWarning: Creating an ndarray from ragged nested sequences (which is a list-or-tuple of lists-or-tuples-or ndarrays with different lengths or shapes) is deprecated. If you meant to do this, you must specify 'dtype=object' when creating the ndarray\n",
      "  self._value = np.array(value)\n"
     ]
    },
    {
     "data": {
      "text/plain": [
       "<ParameterSet: 20 parameters | components: binary, secondary, primary>"
      ]
     },
     "execution_count": 2,
     "metadata": {},
     "output_type": "execute_result"
    }
   ],
   "source": [
    "b.disable_dataset('rv01')"
   ]
  },
  {
   "cell_type": "code",
   "execution_count": 3,
   "id": "permanent-siemens",
   "metadata": {},
   "outputs": [
    {
     "data": {
      "text/plain": [
       "<ConstraintParameter: {per0@binary@component} = ecosw2per0({ecc@binary@component}, {ecosw@binary@component}) (solar units) => 66.13655728492813 deg>"
      ]
     },
     "execution_count": 3,
     "metadata": {},
     "output_type": "execute_result"
    }
   ],
   "source": [
    "b.flip_constraint('esinw', solve_for='ecc')\n",
    "b.flip_constraint('ecosw', solve_for='per0')"
   ]
  },
  {
   "cell_type": "code",
   "execution_count": 4,
   "id": "careful-stereo",
   "metadata": {},
   "outputs": [
    {
     "data": {
      "text/plain": [
       "<ParameterSet: 14 parameters | qualifiers: fatol, priors_combine, progress_every_niters, adaptive, comments, compute, fit_parameters, maxiter, priors, xatol, initial_values, expose_lnprobabilities, continue_from, use_server>"
      ]
     },
     "execution_count": 4,
     "metadata": {},
     "output_type": "execute_result"
    }
   ],
   "source": [
    "b.add_solver('optimizer.nelder_mead', solver='nm_fit', compute='phoebe01', maxiter=1000)"
   ]
  },
  {
   "cell_type": "code",
   "execution_count": 7,
   "id": "engaged-assistant",
   "metadata": {},
   "outputs": [
    {
     "data": {
      "text/plain": [
       "<ParameterSet: 11 parameters | qualifiers: slurm_job_name, mail_user, isolate_env, install_deps, crimpl_name, mail_type, nprocs, use_conda, walltime, use_mpi, conda_env>"
      ]
     },
     "execution_count": 7,
     "metadata": {},
     "output_type": "execute_result"
    }
   ],
   "source": [
    "b.add_server('remoteslurm', server='terra', crimpl_name='terra',\n",
    "            nprocs=48, walltime=48,\n",
    "            use_conda=True, conda_env='phoebe-workshop')"
   ]
  },
  {
   "cell_type": "code",
   "execution_count": 8,
   "id": "taken-contributor",
   "metadata": {
    "scrolled": true
   },
   "outputs": [
    {
     "name": "stdout",
     "output_type": "stream",
     "text": [
      "# crimpl: ssh terra \"mkdir -p ~/crimpl\"\n",
      "# crimpl: scp exportpath.sh terra:~/crimpl/\n",
      "# crimpl: ssh terra \"source ~/crimpl/exportpath.sh; conda -V\"\n",
      "# crimpl: ssh terra \"source ~/crimpl/exportpath.sh; conda info --envs\"\n",
      "# crimpl: ssh terra \"ls -d ~/crimpl/crimpl-envs/*\"\n",
      "# crimpl: ssh terra \"source ~/crimpl/exportpath.sh; mkdir -p ~/crimpl\"\n",
      "# crimpl: scp crimpl_run_script.sh terra:~/crimpl/\n",
      "# crimpl: ssh terra \"source ~/crimpl/exportpath.sh; cd ~/crimpl; chmod +x ./crimpl_run_script.sh; ./crimpl_run_script.sh\"\n",
      "# crimpl: ssh terra \"ls -d ~/crimpl/crimpl-job-*\"\n",
      "# crimpl: ssh terra \"pwd\"\n",
      "# crimpl: ssh terra \"ls /home/users/angela/crimpl/crimpl-job-2021.06.11-01.21.14/*\"\n",
      "# crimpl: ssh terra \"source ~/crimpl/exportpath.sh; conda -V\"\n",
      "# crimpl: ssh terra \"source ~/crimpl/exportpath.sh; conda info --envs\"\n",
      "# crimpl: ssh terra \"ls -d ~/crimpl/crimpl-envs/*\"\n",
      "# crimpl: ssh terra \"ls -d ~/crimpl/crimpl-job-2021.06.11-01.21.14/crimpl-envs/*\"\n",
      "# crimpl: ssh terra \"source ~/crimpl/exportpath.sh; mkdir -p /home/users/angela/crimpl/crimpl-job-2021.06.11-01.21.14\"\n",
      "# crimpl: scp crimpl_submit_script.sh /Users/angela/local/phoebe2-workshop/data/dataset_exercises/solution_angela/_radxPApoXNAKQttyYZLYKpAMKHuFwa.py terra:/home/users/angela/crimpl/crimpl-job-2021.06.11-01.21.14/\n",
      "# crimpl: ssh terra \"source ~/crimpl/exportpath.sh; echo '_radxPApoXNAKQttyYZLYKpAMKHuFwa.py' >> /home/users/angela/crimpl/crimpl-job-2021.06.11-01.21.14/crimpl-input-files.list\"\n",
      "# crimpl: ssh terra \"source ~/crimpl/exportpath.sh; echo 'phoebe-workshop' > /home/users/angela/crimpl/crimpl-job-2021.06.11-01.21.14/crimpl-conda-environment\"\n",
      "# crimpl: ssh terra \"source ~/crimpl/exportpath.sh; sbatch /home/users/angela/crimpl/crimpl-job-2021.06.11-01.21.14/crimpl_submit_script.sh\"\n",
      "# crimpl: ssh terra \"echo 1625 > /home/users/angela/crimpl/crimpl-job-2021.06.11-01.21.14/crimpl_slurm_id\"\n",
      "# crimpl: ssh terra \"ls -d ~/crimpl/crimpl-job-*\"\n",
      "# crimpl: ssh terra \"pwd\"\n",
      "# crimpl: ssh terra \"cat /home/users/angela/crimpl/crimpl-job-2021.06.11-01.21.14/crimpl_slurm_id\"\n",
      "# crimpl: ssh terra \"squeue -j 1625\"\n",
      "# crimpl: ssh terra \"squeue -j 1625\"\n",
      "# crimpl: ssh terra \"squeue -j 1625\"\n",
      "# crimpl: ssh terra \"squeue -j 1625\"\n",
      "# crimpl: ssh terra \"squeue -j 1625\"\n",
      "# crimpl: ssh terra \"squeue -j 1625\"\n",
      "# crimpl: ssh terra \"squeue -j 1625\"\n",
      "# crimpl: ssh terra \"squeue -j 1625\"\n",
      "# crimpl: ssh terra \"squeue -j 1625\"\n",
      "# crimpl: ssh terra \"squeue -j 1625\"\n",
      "# crimpl: ssh terra \"squeue -j 1625\"\n",
      "# crimpl: ssh terra \"squeue -j 1625\"\n",
      "# crimpl: ssh terra \"squeue -j 1625\"\n",
      "# crimpl: ssh terra \"squeue -j 1625\"\n",
      "# crimpl: ssh terra \"squeue -j 1625\"\n",
      "# crimpl: ssh terra \"squeue -j 1625\"\n",
      "# crimpl: ssh terra \"squeue -j 1625\"\n",
      "# crimpl: ssh terra \"squeue -j 1625\"\n",
      "# crimpl: ssh terra \"squeue -j 1625\"\n",
      "# crimpl: ssh terra \"squeue -j 1625\"\n",
      "# crimpl: ssh terra \"squeue -j 1625\"\n",
      "# crimpl: ssh terra \"squeue -j 1625\"\n",
      "# crimpl: ssh terra \"squeue -j 1625\"\n",
      "# crimpl: ssh terra \"squeue -j 1625\"\n",
      "# crimpl: ssh terra \"squeue -j 1625\"\n",
      "# crimpl: ssh terra \"squeue -j 1625\"\n",
      "# crimpl: ssh terra \"cat /home/users/angela/crimpl/crimpl-job-2021.06.11-01.21.14/crimpl-job.status\"\n",
      "# crimpl: ssh terra \"ls /home/users/angela/crimpl/crimpl-job-2021.06.11-01.21.14/*\"\n",
      "# crimpl: ssh terra \"ls /home/users/angela/crimpl/crimpl-job-2021.06.11-01.21.14/*\"\n",
      "# crimpl: scp terra:/home/users/angela/crimpl/crimpl-job-2021.06.11-01.21.14/{_radxPApoXNAKQttyYZLYKpAMKHuFwa.out,_radxPApoXNAKQttyYZLYKpAMKHuFwa.out.progress} ./\n"
     ]
    },
    {
     "name": "stderr",
     "output_type": "stream",
     "text": [
      "100%|██████████| 458/458 [00:13<00:00, 33.91it/s]\n"
     ]
    },
    {
     "data": {
      "image/png": "[encoded data removed]",
      "text/plain": [
       "<Figure size 576x864 with 2 Axes>"
      ]
     },
     "metadata": {
      "needs_background": "light"
     },
     "output_type": "display_data"
    },
    {
     "data": {
      "text/plain": [
       "(<autofig.figure.Figure | 2 axes | 5 call(s)>,\n",
       " <Figure size 576x864 with 2 Axes>)"
      ]
     },
     "execution_count": 8,
     "metadata": {},
     "output_type": "execute_result"
    }
   ],
   "source": [
    "b.set_value('fit_parameters', solver='nm_fit', value=['requivsumfrac','incl@binary'])\n",
    "b.run_solver('nm_fit', use_server='terra', solution='nm_fit_rsumincl')\n",
    "b.adopt_solution('nm_fit_rsumincl')\n",
    "b.run_compute()\n",
    "b.plot(x='phase', show=True)"
   ]
  },
  {
   "cell_type": "code",
   "execution_count": 9,
   "id": "acting-folks",
   "metadata": {
    "scrolled": true
   },
   "outputs": [
    {
     "name": "stdout",
     "output_type": "stream",
     "text": [
      "# crimpl: ssh terra \"source ~/crimpl/exportpath.sh; conda -V\"\n",
      "# crimpl: ssh terra \"source ~/crimpl/exportpath.sh; conda info --envs\"\n",
      "# crimpl: ssh terra \"ls -d ~/crimpl/crimpl-envs/*\"\n",
      "# crimpl: ssh terra \"source ~/crimpl/exportpath.sh; mkdir -p ~/crimpl\"\n",
      "# crimpl: scp crimpl_run_script.sh terra:~/crimpl/\n",
      "# crimpl: ssh terra \"source ~/crimpl/exportpath.sh; cd ~/crimpl; chmod +x ./crimpl_run_script.sh; ./crimpl_run_script.sh\"\n",
      "# crimpl: ssh terra \"ls -d ~/crimpl/crimpl-job-*\"\n",
      "# crimpl: ssh terra \"pwd\"\n",
      "# crimpl: ssh terra \"ls /home/users/angela/crimpl/crimpl-job-2021.06.11-01.28.13/*\"\n",
      "# crimpl: ssh terra \"source ~/crimpl/exportpath.sh; conda -V\"\n",
      "# crimpl: ssh terra \"source ~/crimpl/exportpath.sh; conda info --envs\"\n",
      "# crimpl: ssh terra \"ls -d ~/crimpl/crimpl-envs/*\"\n",
      "# crimpl: ssh terra \"ls -d ~/crimpl/crimpl-job-2021.06.11-01.28.13/crimpl-envs/*\"\n",
      "# crimpl: ssh terra \"source ~/crimpl/exportpath.sh; mkdir -p /home/users/angela/crimpl/crimpl-job-2021.06.11-01.28.13\"\n",
      "# crimpl: scp crimpl_submit_script.sh /Users/angela/local/phoebe2-workshop/data/dataset_exercises/solution_angela/_zcdVCwpXrTBdxVslSsBKAAjjmphAqF.py terra:/home/users/angela/crimpl/crimpl-job-2021.06.11-01.28.13/\n",
      "# crimpl: ssh terra \"source ~/crimpl/exportpath.sh; echo '_zcdVCwpXrTBdxVslSsBKAAjjmphAqF.py' >> /home/users/angela/crimpl/crimpl-job-2021.06.11-01.28.13/crimpl-input-files.list\"\n",
      "# crimpl: ssh terra \"source ~/crimpl/exportpath.sh; echo 'phoebe-workshop' > /home/users/angela/crimpl/crimpl-job-2021.06.11-01.28.13/crimpl-conda-environment\"\n",
      "# crimpl: ssh terra \"source ~/crimpl/exportpath.sh; sbatch /home/users/angela/crimpl/crimpl-job-2021.06.11-01.28.13/crimpl_submit_script.sh\"\n",
      "# crimpl: ssh terra \"echo 1626 > /home/users/angela/crimpl/crimpl-job-2021.06.11-01.28.13/crimpl_slurm_id\"\n",
      "# crimpl: ssh terra \"ls -d ~/crimpl/crimpl-job-*\"\n",
      "# crimpl: ssh terra \"pwd\"\n",
      "# crimpl: ssh terra \"cat /home/users/angela/crimpl/crimpl-job-2021.06.11-01.28.13/crimpl_slurm_id\"\n",
      "# crimpl: ssh terra \"squeue -j 1626\"\n",
      "# crimpl: ssh terra \"squeue -j 1626\"\n",
      "# crimpl: ssh terra \"squeue -j 1626\"\n",
      "# crimpl: ssh terra \"squeue -j 1626\"\n",
      "# crimpl: ssh terra \"squeue -j 1626\"\n",
      "# crimpl: ssh terra \"squeue -j 1626\"\n",
      "# crimpl: ssh terra \"squeue -j 1626\"\n",
      "# crimpl: ssh terra \"squeue -j 1626\"\n",
      "# crimpl: ssh terra \"squeue -j 1626\"\n",
      "# crimpl: ssh terra \"squeue -j 1626\"\n",
      "# crimpl: ssh terra \"squeue -j 1626\"\n",
      "# crimpl: ssh terra \"squeue -j 1626\"\n",
      "# crimpl: ssh terra \"squeue -j 1626\"\n",
      "# crimpl: ssh terra \"squeue -j 1626\"\n",
      "# crimpl: ssh terra \"squeue -j 1626\"\n",
      "# crimpl: ssh terra \"squeue -j 1626\"\n",
      "# crimpl: ssh terra \"squeue -j 1626\"\n",
      "# crimpl: ssh terra \"squeue -j 1626\"\n",
      "# crimpl: ssh terra \"squeue -j 1626\"\n",
      "# crimpl: ssh terra \"squeue -j 1626\"\n",
      "# crimpl: ssh terra \"squeue -j 1626\"\n",
      "# crimpl: ssh terra \"squeue -j 1626\"\n",
      "# crimpl: ssh terra \"squeue -j 1626\"\n",
      "# crimpl: ssh terra \"cat /home/users/angela/crimpl/crimpl-job-2021.06.11-01.28.13/crimpl-job.status\"\n",
      "# crimpl: ssh terra \"ls /home/users/angela/crimpl/crimpl-job-2021.06.11-01.28.13/*\"\n",
      "# crimpl: ssh terra \"ls /home/users/angela/crimpl/crimpl-job-2021.06.11-01.28.13/*\"\n",
      "# crimpl: scp terra:/home/users/angela/crimpl/crimpl-job-2021.06.11-01.28.13/{_zcdVCwpXrTBdxVslSsBKAAjjmphAqF.out,_zcdVCwpXrTBdxVslSsBKAAjjmphAqF.out.progress} ./\n"
     ]
    },
    {
     "name": "stderr",
     "output_type": "stream",
     "text": [
      "100%|██████████| 458/458 [00:13<00:00, 34.19it/s]\n"
     ]
    },
    {
     "data": {
      "image/png": "[encoded data removed]",
      "text/plain": [
       "<Figure size 576x864 with 2 Axes>"
      ]
     },
     "metadata": {
      "needs_background": "light"
     },
     "output_type": "display_data"
    },
    {
     "data": {
      "text/plain": [
       "(<autofig.figure.Figure | 2 axes | 5 call(s)>,\n",
       " <Figure size 576x864 with 2 Axes>)"
      ]
     },
     "execution_count": 9,
     "metadata": {},
     "output_type": "execute_result"
    }
   ],
   "source": [
    "b.set_value('fit_parameters', solver='nm_fit', value=['teffratio', 'esinw'])\n",
    "b.run_solver('nm_fit', use_server='terra', solution='nm_fit_tresinw')\n",
    "b.adopt_solution('nm_fit_tresinw')\n",
    "b.run_compute()\n",
    "b.plot(x='phase', show=True)"
   ]
  },
  {
   "cell_type": "code",
   "execution_count": 10,
   "id": "stock-prize",
   "metadata": {
    "scrolled": true
   },
   "outputs": [
    {
     "name": "stdout",
     "output_type": "stream",
     "text": [
      "# crimpl: ssh terra \"source ~/crimpl/exportpath.sh; conda -V\"\n",
      "# crimpl: ssh terra \"source ~/crimpl/exportpath.sh; conda info --envs\"\n",
      "# crimpl: ssh terra \"ls -d ~/crimpl/crimpl-envs/*\"\n",
      "# crimpl: ssh terra \"source ~/crimpl/exportpath.sh; mkdir -p ~/crimpl\"\n",
      "# crimpl: scp crimpl_run_script.sh terra:~/crimpl/\n",
      "# crimpl: ssh terra \"source ~/crimpl/exportpath.sh; cd ~/crimpl; chmod +x ./crimpl_run_script.sh; ./crimpl_run_script.sh\"\n",
      "# crimpl: ssh terra \"ls -d ~/crimpl/crimpl-job-*\"\n",
      "# crimpl: ssh terra \"pwd\"\n",
      "# crimpl: ssh terra \"ls /home/users/angela/crimpl/crimpl-job-2021.06.11-01.34.33/*\"\n",
      "# crimpl: ssh terra \"source ~/crimpl/exportpath.sh; conda -V\"\n",
      "# crimpl: ssh terra \"source ~/crimpl/exportpath.sh; conda info --envs\"\n",
      "# crimpl: ssh terra \"ls -d ~/crimpl/crimpl-envs/*\"\n",
      "# crimpl: ssh terra \"ls -d ~/crimpl/crimpl-job-2021.06.11-01.34.33/crimpl-envs/*\"\n",
      "# crimpl: ssh terra \"source ~/crimpl/exportpath.sh; mkdir -p /home/users/angela/crimpl/crimpl-job-2021.06.11-01.34.33\"\n",
      "# crimpl: scp crimpl_submit_script.sh /Users/angela/local/phoebe2-workshop/data/dataset_exercises/solution_angela/_yvLUmLkRykPYprBkBRgoQObWItKcVk.py terra:/home/users/angela/crimpl/crimpl-job-2021.06.11-01.34.33/\n",
      "# crimpl: ssh terra \"source ~/crimpl/exportpath.sh; echo '_yvLUmLkRykPYprBkBRgoQObWItKcVk.py' >> /home/users/angela/crimpl/crimpl-job-2021.06.11-01.34.33/crimpl-input-files.list\"\n",
      "# crimpl: ssh terra \"source ~/crimpl/exportpath.sh; echo 'phoebe-workshop' > /home/users/angela/crimpl/crimpl-job-2021.06.11-01.34.33/crimpl-conda-environment\"\n",
      "# crimpl: ssh terra \"source ~/crimpl/exportpath.sh; sbatch /home/users/angela/crimpl/crimpl-job-2021.06.11-01.34.33/crimpl_submit_script.sh\"\n",
      "# crimpl: ssh terra \"echo 1627 > /home/users/angela/crimpl/crimpl-job-2021.06.11-01.34.33/crimpl_slurm_id\"\n",
      "# crimpl: ssh terra \"ls -d ~/crimpl/crimpl-job-*\"\n",
      "# crimpl: ssh terra \"pwd\"\n",
      "# crimpl: ssh terra \"cat /home/users/angela/crimpl/crimpl-job-2021.06.11-01.34.33/crimpl_slurm_id\"\n",
      "# crimpl: ssh terra \"squeue -j 1627\"\n",
      "# crimpl: ssh terra \"squeue -j 1627\"\n",
      "# crimpl: ssh terra \"squeue -j 1627\"\n",
      "# crimpl: ssh terra \"squeue -j 1627\"\n",
      "# crimpl: ssh terra \"squeue -j 1627\"\n",
      "# crimpl: ssh terra \"squeue -j 1627\"\n",
      "# crimpl: ssh terra \"squeue -j 1627\"\n",
      "# crimpl: ssh terra \"squeue -j 1627\"\n",
      "# crimpl: ssh terra \"squeue -j 1627\"\n",
      "# crimpl: ssh terra \"squeue -j 1627\"\n",
      "# crimpl: ssh terra \"squeue -j 1627\"\n",
      "# crimpl: ssh terra \"squeue -j 1627\"\n",
      "# crimpl: ssh terra \"squeue -j 1627\"\n",
      "# crimpl: ssh terra \"squeue -j 1627\"\n",
      "# crimpl: ssh terra \"squeue -j 1627\"\n",
      "# crimpl: ssh terra \"squeue -j 1627\"\n",
      "# crimpl: ssh terra \"squeue -j 1627\"\n",
      "# crimpl: ssh terra \"squeue -j 1627\"\n",
      "# crimpl: ssh terra \"squeue -j 1627\"\n",
      "# crimpl: ssh terra \"squeue -j 1627\"\n",
      "# crimpl: ssh terra \"squeue -j 1627\"\n",
      "# crimpl: ssh terra \"squeue -j 1627\"\n",
      "# crimpl: ssh terra \"squeue -j 1627\"\n",
      "# crimpl: ssh terra \"squeue -j 1627\"\n",
      "# crimpl: ssh terra \"squeue -j 1627\"\n",
      "# crimpl: ssh terra \"squeue -j 1627\"\n",
      "# crimpl: ssh terra \"squeue -j 1627\"\n",
      "# crimpl: ssh terra \"squeue -j 1627\"\n",
      "# crimpl: ssh terra \"squeue -j 1627\"\n",
      "# crimpl: ssh terra \"squeue -j 1627\"\n",
      "# crimpl: ssh terra \"squeue -j 1627\"\n",
      "# crimpl: ssh terra \"squeue -j 1627\"\n",
      "# crimpl: ssh terra \"squeue -j 1627\"\n",
      "# crimpl: ssh terra \"squeue -j 1627\"\n",
      "# crimpl: ssh terra \"squeue -j 1627\"\n",
      "# crimpl: ssh terra \"squeue -j 1627\"\n",
      "# crimpl: ssh terra \"squeue -j 1627\"\n",
      "# crimpl: ssh terra \"squeue -j 1627\"\n",
      "# crimpl: ssh terra \"squeue -j 1627\"\n",
      "# crimpl: ssh terra \"squeue -j 1627\"\n",
      "# crimpl: ssh terra \"squeue -j 1627\"\n",
      "# crimpl: ssh terra \"squeue -j 1627\"\n",
      "# crimpl: ssh terra \"squeue -j 1627\"\n",
      "# crimpl: ssh terra \"squeue -j 1627\"\n",
      "# crimpl: ssh terra \"squeue -j 1627\"\n",
      "# crimpl: ssh terra \"squeue -j 1627\"\n",
      "# crimpl: ssh terra \"squeue -j 1627\"\n",
      "# crimpl: ssh terra \"squeue -j 1627\"\n",
      "# crimpl: ssh terra \"squeue -j 1627\"\n",
      "# crimpl: ssh terra \"squeue -j 1627\"\n",
      "# crimpl: ssh terra \"squeue -j 1627\"\n",
      "# crimpl: ssh terra \"squeue -j 1627\"\n",
      "# crimpl: ssh terra \"squeue -j 1627\"\n",
      "# crimpl: ssh terra \"squeue -j 1627\"\n",
      "# crimpl: ssh terra \"squeue -j 1627\"\n",
      "# crimpl: ssh terra \"squeue -j 1627\"\n",
      "# crimpl: ssh terra \"squeue -j 1627\"\n",
      "# crimpl: ssh terra \"squeue -j 1627\"\n",
      "# crimpl: ssh terra \"squeue -j 1627\"\n",
      "# crimpl: ssh terra \"squeue -j 1627\"\n",
      "# crimpl: ssh terra \"squeue -j 1627\"\n",
      "# crimpl: ssh terra \"squeue -j 1627\"\n",
      "# crimpl: ssh terra \"squeue -j 1627\"\n",
      "# crimpl: ssh terra \"squeue -j 1627\"\n",
      "# crimpl: ssh terra \"squeue -j 1627\"\n",
      "# crimpl: ssh terra \"squeue -j 1627\"\n",
      "# crimpl: ssh terra \"cat /home/users/angela/crimpl/crimpl-job-2021.06.11-01.34.33/crimpl-job.status\"\n",
      "# crimpl: ssh terra \"ls /home/users/angela/crimpl/crimpl-job-2021.06.11-01.34.33/*\"\n",
      "# crimpl: ssh terra \"ls /home/users/angela/crimpl/crimpl-job-2021.06.11-01.34.33/*\"\n",
      "# crimpl: scp terra:/home/users/angela/crimpl/crimpl-job-2021.06.11-01.34.33/{_yvLUmLkRykPYprBkBRgoQObWItKcVk.out,_yvLUmLkRykPYprBkBRgoQObWItKcVk.out.progress} ./\n"
     ]
    },
    {
     "name": "stderr",
     "output_type": "stream",
     "text": [
      "100%|██████████| 458/458 [00:13<00:00, 33.98it/s]\n"
     ]
    },
    {
     "data": {
      "image/png": "[encoded data removed]",
      "text/plain": [
       "<Figure size 576x864 with 2 Axes>"
      ]
     },
     "metadata": {
      "needs_background": "light"
     },
     "output_type": "display_data"
    },
    {
     "data": {
      "text/plain": [
       "(<autofig.figure.Figure | 2 axes | 5 call(s)>,\n",
       " <Figure size 576x864 with 2 Axes>)"
      ]
     },
     "execution_count": 10,
     "metadata": {},
     "output_type": "execute_result"
    }
   ],
   "source": [
    "b.set_value('fit_parameters', solver='nm_fit', value=['requivsumfrac', 'requivratio', 'teffratio'])\n",
    "b.run_solver('nm_fit', use_server='terra', solution='nm_fit_rsumrrtr')\n",
    "b.adopt_solution('nm_fit_rsumrrtr')\n",
    "b.run_compute()\n",
    "b.plot(x='phase', show=True)"
   ]
  },
  {
   "cell_type": "code",
   "execution_count": 11,
   "id": "burning-nicholas",
   "metadata": {
    "scrolled": true
   },
   "outputs": [
    {
     "name": "stdout",
     "output_type": "stream",
     "text": [
      "# crimpl: ssh terra \"source ~/crimpl/exportpath.sh; conda -V\"\n",
      "# crimpl: ssh terra \"source ~/crimpl/exportpath.sh; conda info --envs\"\n",
      "# crimpl: ssh terra \"ls -d ~/crimpl/crimpl-envs/*\"\n",
      "# crimpl: ssh terra \"source ~/crimpl/exportpath.sh; mkdir -p ~/crimpl\"\n",
      "# crimpl: scp crimpl_run_script.sh terra:~/crimpl/\n",
      "# crimpl: ssh terra \"source ~/crimpl/exportpath.sh; cd ~/crimpl; chmod +x ./crimpl_run_script.sh; ./crimpl_run_script.sh\"\n",
      "# crimpl: ssh terra \"ls -d ~/crimpl/crimpl-job-*\"\n",
      "# crimpl: ssh terra \"pwd\"\n",
      "# crimpl: ssh terra \"ls /home/users/angela/crimpl/crimpl-job-2021.06.11-01.49.59/*\"\n",
      "# crimpl: ssh terra \"source ~/crimpl/exportpath.sh; conda -V\"\n",
      "# crimpl: ssh terra \"source ~/crimpl/exportpath.sh; conda info --envs\"\n",
      "# crimpl: ssh terra \"ls -d ~/crimpl/crimpl-envs/*\"\n",
      "# crimpl: ssh terra \"ls -d ~/crimpl/crimpl-job-2021.06.11-01.49.59/crimpl-envs/*\"\n",
      "# crimpl: ssh terra \"source ~/crimpl/exportpath.sh; mkdir -p /home/users/angela/crimpl/crimpl-job-2021.06.11-01.49.59\"\n",
      "# crimpl: scp crimpl_submit_script.sh /Users/angela/local/phoebe2-workshop/data/dataset_exercises/solution_angela/_elKtUmMEnjonqyPLzjrWIbLFSsbLMo.py terra:/home/users/angela/crimpl/crimpl-job-2021.06.11-01.49.59/\n",
      "# crimpl: ssh terra \"source ~/crimpl/exportpath.sh; echo '_elKtUmMEnjonqyPLzjrWIbLFSsbLMo.py' >> /home/users/angela/crimpl/crimpl-job-2021.06.11-01.49.59/crimpl-input-files.list\"\n",
      "# crimpl: ssh terra \"source ~/crimpl/exportpath.sh; echo 'phoebe-workshop' > /home/users/angela/crimpl/crimpl-job-2021.06.11-01.49.59/crimpl-conda-environment\"\n",
      "# crimpl: ssh terra \"source ~/crimpl/exportpath.sh; sbatch /home/users/angela/crimpl/crimpl-job-2021.06.11-01.49.59/crimpl_submit_script.sh\"\n",
      "# crimpl: ssh terra \"echo 1628 > /home/users/angela/crimpl/crimpl-job-2021.06.11-01.49.59/crimpl_slurm_id\"\n",
      "# crimpl: ssh terra \"ls -d ~/crimpl/crimpl-job-*\"\n",
      "# crimpl: ssh terra \"pwd\"\n",
      "# crimpl: ssh terra \"cat /home/users/angela/crimpl/crimpl-job-2021.06.11-01.49.59/crimpl_slurm_id\"\n",
      "# crimpl: ssh terra \"squeue -j 1628\"\n",
      "# crimpl: ssh terra \"squeue -j 1628\"\n",
      "# crimpl: ssh terra \"squeue -j 1628\"\n",
      "# crimpl: ssh terra \"squeue -j 1628\"\n",
      "# crimpl: ssh terra \"squeue -j 1628\"\n",
      "# crimpl: ssh terra \"squeue -j 1628\"\n",
      "# crimpl: ssh terra \"squeue -j 1628\"\n",
      "# crimpl: ssh terra \"squeue -j 1628\"\n",
      "# crimpl: ssh terra \"squeue -j 1628\"\n",
      "# crimpl: ssh terra \"squeue -j 1628\"\n",
      "# crimpl: ssh terra \"squeue -j 1628\"\n",
      "# crimpl: ssh terra \"squeue -j 1628\"\n",
      "# crimpl: ssh terra \"squeue -j 1628\"\n",
      "# crimpl: ssh terra \"squeue -j 1628\"\n",
      "# crimpl: ssh terra \"squeue -j 1628\"\n",
      "# crimpl: ssh terra \"squeue -j 1628\"\n",
      "# crimpl: ssh terra \"squeue -j 1628\"\n",
      "# crimpl: ssh terra \"squeue -j 1628\"\n",
      "# crimpl: ssh terra \"squeue -j 1628\"\n",
      "# crimpl: ssh terra \"squeue -j 1628\"\n",
      "# crimpl: ssh terra \"squeue -j 1628\"\n",
      "# crimpl: ssh terra \"squeue -j 1628\"\n",
      "# crimpl: ssh terra \"squeue -j 1628\"\n",
      "# crimpl: ssh terra \"squeue -j 1628\"\n",
      "# crimpl: ssh terra \"squeue -j 1628\"\n",
      "# crimpl: ssh terra \"squeue -j 1628\"\n",
      "# crimpl: ssh terra \"squeue -j 1628\"\n",
      "# crimpl: ssh terra \"squeue -j 1628\"\n",
      "# crimpl: ssh terra \"squeue -j 1628\"\n",
      "# crimpl: ssh terra \"squeue -j 1628\"\n",
      "# crimpl: ssh terra \"squeue -j 1628\"\n",
      "# crimpl: ssh terra \"squeue -j 1628\"\n",
      "# crimpl: ssh terra \"squeue -j 1628\"\n",
      "# crimpl: ssh terra \"squeue -j 1628\"\n",
      "# crimpl: ssh terra \"squeue -j 1628\"\n",
      "# crimpl: ssh terra \"squeue -j 1628\"\n",
      "# crimpl: ssh terra \"squeue -j 1628\"\n",
      "# crimpl: ssh terra \"squeue -j 1628\"\n",
      "# crimpl: ssh terra \"squeue -j 1628\"\n",
      "# crimpl: ssh terra \"squeue -j 1628\"\n",
      "# crimpl: ssh terra \"squeue -j 1628\"\n",
      "# crimpl: ssh terra \"squeue -j 1628\"\n",
      "# crimpl: ssh terra \"squeue -j 1628\"\n",
      "# crimpl: ssh terra \"squeue -j 1628\"\n",
      "# crimpl: ssh terra \"squeue -j 1628\"\n",
      "# crimpl: ssh terra \"squeue -j 1628\"\n",
      "# crimpl: ssh terra \"squeue -j 1628\"\n",
      "# crimpl: ssh terra \"squeue -j 1628\"\n",
      "# crimpl: ssh terra \"squeue -j 1628\"\n",
      "# crimpl: ssh terra \"squeue -j 1628\"\n",
      "# crimpl: ssh terra \"squeue -j 1628\"\n",
      "# crimpl: ssh terra \"squeue -j 1628\"\n",
      "# crimpl: ssh terra \"squeue -j 1628\"\n",
      "# crimpl: ssh terra \"squeue -j 1628\"\n",
      "# crimpl: ssh terra \"squeue -j 1628\"\n",
      "# crimpl: ssh terra \"squeue -j 1628\"\n",
      "# crimpl: ssh terra \"squeue -j 1628\"\n",
      "# crimpl: ssh terra \"squeue -j 1628\"\n",
      "# crimpl: ssh terra \"squeue -j 1628\"\n",
      "# crimpl: ssh terra \"squeue -j 1628\"\n",
      "# crimpl: ssh terra \"squeue -j 1628\"\n",
      "# crimpl: ssh terra \"squeue -j 1628\"\n",
      "# crimpl: ssh terra \"squeue -j 1628\"\n",
      "# crimpl: ssh terra \"squeue -j 1628\"\n",
      "# crimpl: ssh terra \"squeue -j 1628\"\n",
      "# crimpl: ssh terra \"squeue -j 1628\"\n",
      "# crimpl: ssh terra \"squeue -j 1628\"\n",
      "# crimpl: ssh terra \"squeue -j 1628\"\n",
      "# crimpl: ssh terra \"squeue -j 1628\"\n",
      "# crimpl: ssh terra \"squeue -j 1628\"\n",
      "# crimpl: ssh terra \"squeue -j 1628\"\n",
      "# crimpl: ssh terra \"squeue -j 1628\"\n",
      "# crimpl: ssh terra \"squeue -j 1628\"\n",
      "# crimpl: ssh terra \"squeue -j 1628\"\n",
      "# crimpl: ssh terra \"squeue -j 1628\"\n",
      "# crimpl: ssh terra \"squeue -j 1628\"\n",
      "# crimpl: ssh terra \"squeue -j 1628\"\n",
      "# crimpl: ssh terra \"squeue -j 1628\"\n",
      "# crimpl: ssh terra \"squeue -j 1628\"\n",
      "# crimpl: ssh terra \"squeue -j 1628\"\n",
      "# crimpl: ssh terra \"squeue -j 1628\"\n",
      "# crimpl: ssh terra \"squeue -j 1628\"\n",
      "# crimpl: ssh terra \"squeue -j 1628\"\n",
      "# crimpl: ssh terra \"squeue -j 1628\"\n",
      "# crimpl: ssh terra \"squeue -j 1628\"\n",
      "# crimpl: ssh terra \"squeue -j 1628\"\n",
      "# crimpl: ssh terra \"squeue -j 1628\"\n",
      "# crimpl: ssh terra \"squeue -j 1628\"\n",
      "# crimpl: ssh terra \"squeue -j 1628\"\n",
      "# crimpl: ssh terra \"squeue -j 1628\"\n",
      "# crimpl: ssh terra \"squeue -j 1628\"\n",
      "# crimpl: ssh terra \"squeue -j 1628\"\n",
      "# crimpl: ssh terra \"squeue -j 1628\"\n",
      "# crimpl: ssh terra \"squeue -j 1628\"\n",
      "# crimpl: ssh terra \"squeue -j 1628\"\n",
      "# crimpl: ssh terra \"squeue -j 1628\"\n",
      "# crimpl: ssh terra \"squeue -j 1628\"\n",
      "# crimpl: ssh terra \"squeue -j 1628\"\n",
      "# crimpl: ssh terra \"squeue -j 1628\"\n",
      "# crimpl: ssh terra \"squeue -j 1628\"\n",
      "# crimpl: ssh terra \"squeue -j 1628\"\n",
      "# crimpl: ssh terra \"squeue -j 1628\"\n",
      "# crimpl: ssh terra \"squeue -j 1628\"\n",
      "# crimpl: ssh terra \"squeue -j 1628\"\n",
      "# crimpl: ssh terra \"squeue -j 1628\"\n",
      "# crimpl: ssh terra \"squeue -j 1628\"\n",
      "# crimpl: ssh terra \"squeue -j 1628\"\n",
      "# crimpl: ssh terra \"squeue -j 1628\"\n",
      "# crimpl: ssh terra \"squeue -j 1628\"\n",
      "# crimpl: ssh terra \"squeue -j 1628\"\n",
      "# crimpl: ssh terra \"squeue -j 1628\"\n",
      "# crimpl: ssh terra \"squeue -j 1628\"\n",
      "# crimpl: ssh terra \"squeue -j 1628\"\n",
      "# crimpl: ssh terra \"squeue -j 1628\"\n",
      "# crimpl: ssh terra \"squeue -j 1628\"\n",
      "# crimpl: ssh terra \"squeue -j 1628\"\n",
      "# crimpl: ssh terra \"squeue -j 1628\"\n",
      "# crimpl: ssh terra \"squeue -j 1628\"\n",
      "# crimpl: ssh terra \"squeue -j 1628\"\n",
      "# crimpl: ssh terra \"squeue -j 1628\"\n",
      "# crimpl: ssh terra \"squeue -j 1628\"\n",
      "# crimpl: ssh terra \"squeue -j 1628\"\n",
      "# crimpl: ssh terra \"squeue -j 1628\"\n",
      "# crimpl: ssh terra \"squeue -j 1628\"\n",
      "# crimpl: ssh terra \"squeue -j 1628\"\n",
      "# crimpl: ssh terra \"squeue -j 1628\"\n",
      "# crimpl: ssh terra \"squeue -j 1628\"\n",
      "# crimpl: ssh terra \"squeue -j 1628\"\n",
      "# crimpl: ssh terra \"squeue -j 1628\"\n",
      "# crimpl: ssh terra \"squeue -j 1628\"\n",
      "# crimpl: ssh terra \"squeue -j 1628\"\n",
      "# crimpl: ssh terra \"squeue -j 1628\"\n",
      "# crimpl: ssh terra \"squeue -j 1628\"\n",
      "# crimpl: ssh terra \"squeue -j 1628\"\n",
      "# crimpl: ssh terra \"squeue -j 1628\"\n",
      "# crimpl: ssh terra \"squeue -j 1628\"\n",
      "# crimpl: ssh terra \"squeue -j 1628\"\n",
      "# crimpl: ssh terra \"squeue -j 1628\"\n",
      "# crimpl: ssh terra \"squeue -j 1628\"\n",
      "# crimpl: ssh terra \"squeue -j 1628\"\n",
      "# crimpl: ssh terra \"squeue -j 1628\"\n",
      "# crimpl: ssh terra \"squeue -j 1628\"\n",
      "# crimpl: ssh terra \"squeue -j 1628\"\n",
      "# crimpl: ssh terra \"squeue -j 1628\"\n",
      "# crimpl: ssh terra \"squeue -j 1628\"\n",
      "# crimpl: ssh terra \"squeue -j 1628\"\n",
      "# crimpl: ssh terra \"squeue -j 1628\"\n",
      "# crimpl: ssh terra \"squeue -j 1628\"\n",
      "# crimpl: ssh terra \"squeue -j 1628\"\n",
      "# crimpl: ssh terra \"squeue -j 1628\"\n",
      "# crimpl: ssh terra \"squeue -j 1628\"\n",
      "# crimpl: ssh terra \"squeue -j 1628\"\n",
      "# crimpl: ssh terra \"squeue -j 1628\"\n",
      "# crimpl: ssh terra \"squeue -j 1628\"\n",
      "# crimpl: ssh terra \"squeue -j 1628\"\n",
      "# crimpl: ssh terra \"squeue -j 1628\"\n",
      "# crimpl: ssh terra \"squeue -j 1628\"\n",
      "# crimpl: ssh terra \"squeue -j 1628\"\n",
      "# crimpl: ssh terra \"squeue -j 1628\"\n",
      "# crimpl: ssh terra \"squeue -j 1628\"\n",
      "# crimpl: ssh terra \"squeue -j 1628\"\n",
      "# crimpl: ssh terra \"squeue -j 1628\"\n",
      "# crimpl: ssh terra \"squeue -j 1628\"\n",
      "# crimpl: ssh terra \"squeue -j 1628\"\n",
      "# crimpl: ssh terra \"squeue -j 1628\"\n",
      "# crimpl: ssh terra \"squeue -j 1628\"\n",
      "# crimpl: ssh terra \"squeue -j 1628\"\n",
      "# crimpl: ssh terra \"squeue -j 1628\"\n",
      "# crimpl: ssh terra \"squeue -j 1628\"\n",
      "# crimpl: ssh terra \"squeue -j 1628\"\n",
      "# crimpl: ssh terra \"squeue -j 1628\"\n",
      "# crimpl: ssh terra \"squeue -j 1628\"\n",
      "# crimpl: ssh terra \"squeue -j 1628\"\n",
      "# crimpl: ssh terra \"squeue -j 1628\"\n",
      "# crimpl: ssh terra \"squeue -j 1628\"\n",
      "# crimpl: ssh terra \"squeue -j 1628\"\n",
      "# crimpl: ssh terra \"squeue -j 1628\"\n",
      "# crimpl: ssh terra \"squeue -j 1628\"\n",
      "# crimpl: ssh terra \"squeue -j 1628\"\n",
      "# crimpl: ssh terra \"squeue -j 1628\"\n",
      "# crimpl: ssh terra \"squeue -j 1628\"\n",
      "# crimpl: ssh terra \"squeue -j 1628\"\n",
      "# crimpl: ssh terra \"squeue -j 1628\"\n",
      "# crimpl: ssh terra \"cat /home/users/angela/crimpl/crimpl-job-2021.06.11-01.49.59/crimpl-job.status\"\n",
      "# crimpl: ssh terra \"ls /home/users/angela/crimpl/crimpl-job-2021.06.11-01.49.59/*\"\n",
      "# crimpl: ssh terra \"ls /home/users/angela/crimpl/crimpl-job-2021.06.11-01.49.59/*\"\n",
      "# crimpl: scp terra:/home/users/angela/crimpl/crimpl-job-2021.06.11-01.49.59/{_elKtUmMEnjonqyPLzjrWIbLFSsbLMo.out,_elKtUmMEnjonqyPLzjrWIbLFSsbLMo.out.progress} ./\n"
     ]
    },
    {
     "name": "stderr",
     "output_type": "stream",
     "text": [
      "100%|██████████| 458/458 [00:13<00:00, 34.12it/s]\n"
     ]
    },
    {
     "data": {
      "image/png": "[encoded data removed]",
      "text/plain": [
       "<Figure size 576x864 with 2 Axes>"
      ]
     },
     "metadata": {
      "needs_background": "light"
     },
     "output_type": "display_data"
    },
    {
     "data": {
      "text/plain": [
       "(<autofig.figure.Figure | 2 axes | 5 call(s)>,\n",
       " <Figure size 576x864 with 2 Axes>)"
      ]
     },
     "execution_count": 11,
     "metadata": {},
     "output_type": "execute_result"
    }
   ],
   "source": [
    "b.set_value('fit_parameters', solver='nm_fit', value=['requivsumfrac', 'requivratio', 'teffratio', 'incl@binary', 'esinw', 'ecosw'])\n",
    "b.run_solver('nm_fit', use_server='terra', solution='nm_fit_final')\n",
    "b.adopt_solution('nm_fit_final')\n",
    "b.run_compute()\n",
    "b.plot(x='phase', show=True)"
   ]
  },
  {
   "cell_type": "code",
   "execution_count": 12,
   "id": "portuguese-animal",
   "metadata": {},
   "outputs": [
    {
     "data": {
      "text/plain": [
       "'after_lcVfit.bundle'"
      ]
     },
     "execution_count": 12,
     "metadata": {},
     "output_type": "execute_result"
    }
   ],
   "source": [
    "b.save('after_lcVfit.bundle')"
   ]
  },
  {
   "cell_type": "markdown",
   "id": "grateful-thesaurus",
   "metadata": {},
   "source": [
    "#### Optimize rv"
   ]
  },
  {
   "cell_type": "code",
   "execution_count": 14,
   "id": "careful-detective",
   "metadata": {},
   "outputs": [
    {
     "data": {
      "text/plain": [
       "<ParameterSet: 20 parameters | components: binary, secondary, primary>"
      ]
     },
     "execution_count": 14,
     "metadata": {},
     "output_type": "execute_result"
    }
   ],
   "source": [
    "b.disable_dataset('lcV')\n",
    "b.enable_dataset('rv01')"
   ]
  },
  {
   "cell_type": "code",
   "execution_count": 18,
   "id": "isolated-yahoo",
   "metadata": {},
   "outputs": [
    {
     "name": "stderr",
     "output_type": "stream",
     "text": [
      "  6%|▌         | 59/1000 [02:17<36:32,  2.33s/it]\n",
      "100%|██████████| 14/14 [00:00<00:00, 14505.99it/s]\n"
     ]
    },
    {
     "data": {
      "image/png": "[encoded data removed]",
      "text/plain": [
       "<Figure size 576x864 with 2 Axes>"
      ]
     },
     "metadata": {
      "needs_background": "light"
     },
     "output_type": "display_data"
    },
    {
     "data": {
      "text/plain": [
       "(<autofig.figure.Figure | 2 axes | 6 call(s)>,\n",
       " <Figure size 576x864 with 2 Axes>)"
      ]
     },
     "execution_count": 18,
     "metadata": {},
     "output_type": "execute_result"
    }
   ],
   "source": [
    "b.set_value_all('rv_method', 'dynamical')\n",
    "b.set_value('fit_parameters', solver='nm_fit', value=['asini@binary', 'q', 'vgamma'])\n",
    "b.run_solver('nm_fit', solution='nm_fit_rv')\n",
    "b.adopt_solution('nm_fit_rv')\n",
    "b.run_compute()\n",
    "b.plot(x='phase', show=True)"
   ]
  },
  {
   "cell_type": "code",
   "execution_count": 19,
   "id": "revised-colors",
   "metadata": {},
   "outputs": [
    {
     "data": {
      "text/plain": [
       "'after_lcV_rv_fit.bundle'"
      ]
     },
     "execution_count": 19,
     "metadata": {},
     "output_type": "execute_result"
    }
   ],
   "source": [
    "b.save('after_lcV_rv_fit.bundle')"
   ]
  },
  {
   "cell_type": "markdown",
   "id": "surprising-happiness",
   "metadata": {},
   "source": [
    "#### Determine teff1 from lcB scaling"
   ]
  },
  {
   "cell_type": "code",
   "execution_count": 20,
   "id": "enhanced-think",
   "metadata": {},
   "outputs": [],
   "source": [
    "b.enable_dataset('lcV')\n",
    "b.enable_dataset('lcB')\n",
    "b.set_value('pblum_mode@lcV', 'component-coupled')\n",
    "b.set_value('pblum_mode@lcB', 'dataset-coupled')"
   ]
  },
  {
   "cell_type": "code",
   "execution_count": 22,
   "id": "seeing-cemetery",
   "metadata": {},
   "outputs": [
    {
     "data": {
      "text/plain": [
       "<ParameterSet: 20 parameters | components: binary, secondary, primary>"
      ]
     },
     "execution_count": 22,
     "metadata": {},
     "output_type": "execute_result"
    }
   ],
   "source": [
    "b.disable_dataset('rv01')"
   ]
  },
  {
   "cell_type": "code",
   "execution_count": 23,
   "id": "fixed-despite",
   "metadata": {},
   "outputs": [
    {
     "name": "stderr",
     "output_type": "stream",
     "text": [
      "100%|██████████| 458/458 [00:14<00:00, 31.98it/s]\n"
     ]
    },
    {
     "data": {
      "text/plain": [
       "<ParameterSet: 5 parameters | datasets: lcV, lcB>"
      ]
     },
     "execution_count": 23,
     "metadata": {},
     "output_type": "execute_result"
    }
   ],
   "source": [
    "b.run_compute()"
   ]
  },
  {
   "cell_type": "code",
   "execution_count": 31,
   "id": "radical-sheep",
   "metadata": {},
   "outputs": [
    {
     "name": "stdout",
     "output_type": "stream",
     "text": [
      "# crimpl: ssh terra \"source ~/crimpl/exportpath.sh; conda -V\"\n",
      "# crimpl: ssh terra \"source ~/crimpl/exportpath.sh; conda info --envs\"\n",
      "# crimpl: ssh terra \"ls -d ~/crimpl/crimpl-envs/*\"\n",
      "# crimpl: ssh terra \"source ~/crimpl/exportpath.sh; mkdir -p ~/crimpl\"\n",
      "# crimpl: scp crimpl_run_script.sh terra:~/crimpl/\n",
      "# crimpl: ssh terra \"source ~/crimpl/exportpath.sh; cd ~/crimpl; chmod +x ./crimpl_run_script.sh; ./crimpl_run_script.sh\"\n",
      "# crimpl: ssh terra \"ls -d ~/crimpl/crimpl-job-*\"\n",
      "# crimpl: ssh terra \"pwd\"\n",
      "# crimpl: ssh terra \"ls /home/users/angela/crimpl/crimpl-job-2021.06.11-13.28.01/*\"\n",
      "# crimpl: ssh terra \"source ~/crimpl/exportpath.sh; conda -V\"\n",
      "# crimpl: ssh terra \"source ~/crimpl/exportpath.sh; conda info --envs\"\n",
      "# crimpl: ssh terra \"ls -d ~/crimpl/crimpl-envs/*\"\n",
      "# crimpl: ssh terra \"ls -d ~/crimpl/crimpl-job-2021.06.11-13.28.01/crimpl-envs/*\"\n",
      "# crimpl: ssh terra \"source ~/crimpl/exportpath.sh; mkdir -p /home/users/angela/crimpl/crimpl-job-2021.06.11-13.28.01\"\n",
      "# crimpl: scp crimpl_submit_script.sh /Users/angela/local/phoebe2-workshop/data/dataset_exercises/solution_angela/_HXXXRjXrJxJtJneonOQgORvYFcmDHv.py terra:/home/users/angela/crimpl/crimpl-job-2021.06.11-13.28.01/\n",
      "# crimpl: ssh terra \"source ~/crimpl/exportpath.sh; echo '_HXXXRjXrJxJtJneonOQgORvYFcmDHv.py' >> /home/users/angela/crimpl/crimpl-job-2021.06.11-13.28.01/crimpl-input-files.list\"\n",
      "# crimpl: ssh terra \"source ~/crimpl/exportpath.sh; echo 'phoebe-workshop' > /home/users/angela/crimpl/crimpl-job-2021.06.11-13.28.01/crimpl-conda-environment\"\n",
      "# crimpl: ssh terra \"source ~/crimpl/exportpath.sh; sbatch /home/users/angela/crimpl/crimpl-job-2021.06.11-13.28.01/crimpl_submit_script.sh\"\n",
      "# crimpl: ssh terra \"echo 1638 > /home/users/angela/crimpl/crimpl-job-2021.06.11-13.28.01/crimpl_slurm_id\"\n",
      "# crimpl: ssh terra \"ls -d ~/crimpl/crimpl-job-*\"\n",
      "# crimpl: ssh terra \"pwd\"\n",
      "# crimpl: ssh terra \"cat /home/users/angela/crimpl/crimpl-job-2021.06.11-13.28.01/crimpl_slurm_id\"\n",
      "# crimpl: ssh terra \"squeue -j 1638\"\n",
      "# crimpl: ssh terra \"squeue -j 1638\"\n",
      "# crimpl: ssh terra \"squeue -j 1638\"\n",
      "# crimpl: ssh terra \"squeue -j 1638\"\n",
      "# crimpl: ssh terra \"squeue -j 1638\"\n",
      "# crimpl: ssh terra \"squeue -j 1638\"\n",
      "# crimpl: ssh terra \"squeue -j 1638\"\n",
      "# crimpl: ssh terra \"squeue -j 1638\"\n",
      "# crimpl: ssh terra \"squeue -j 1638\"\n",
      "# crimpl: ssh terra \"squeue -j 1638\"\n",
      "# crimpl: ssh terra \"squeue -j 1638\"\n",
      "# crimpl: ssh terra \"squeue -j 1638\"\n",
      "# crimpl: ssh terra \"squeue -j 1638\"\n",
      "# crimpl: ssh terra \"squeue -j 1638\"\n",
      "# crimpl: ssh terra \"squeue -j 1638\"\n",
      "# crimpl: ssh terra \"squeue -j 1638\"\n",
      "# crimpl: ssh terra \"squeue -j 1638\"\n",
      "# crimpl: ssh terra \"squeue -j 1638\"\n",
      "# crimpl: ssh terra \"squeue -j 1638\"\n",
      "# crimpl: ssh terra \"squeue -j 1638\"\n",
      "# crimpl: ssh terra \"squeue -j 1638\"\n",
      "# crimpl: ssh terra \"squeue -j 1638\"\n",
      "# crimpl: ssh terra \"squeue -j 1638\"\n",
      "# crimpl: ssh terra \"squeue -j 1638\"\n",
      "# crimpl: ssh terra \"squeue -j 1638\"\n",
      "# crimpl: ssh terra \"squeue -j 1638\"\n",
      "# crimpl: ssh terra \"squeue -j 1638\"\n",
      "# crimpl: ssh terra \"squeue -j 1638\"\n",
      "# crimpl: ssh terra \"squeue -j 1638\"\n",
      "# crimpl: ssh terra \"squeue -j 1638\"\n",
      "# crimpl: ssh terra \"squeue -j 1638\"\n",
      "# crimpl: ssh terra \"squeue -j 1638\"\n",
      "# crimpl: ssh terra \"squeue -j 1638\"\n",
      "# crimpl: ssh terra \"squeue -j 1638\"\n",
      "# crimpl: ssh terra \"squeue -j 1638\"\n",
      "# crimpl: ssh terra \"squeue -j 1638\"\n",
      "# crimpl: ssh terra \"squeue -j 1638\"\n",
      "# crimpl: ssh terra \"squeue -j 1638\"\n",
      "# crimpl: ssh terra \"squeue -j 1638\"\n",
      "# crimpl: ssh terra \"squeue -j 1638\"\n",
      "# crimpl: ssh terra \"squeue -j 1638\"\n",
      "# crimpl: ssh terra \"squeue -j 1638\"\n",
      "# crimpl: ssh terra \"squeue -j 1638\"\n",
      "# crimpl: ssh terra \"cat /home/users/angela/crimpl/crimpl-job-2021.06.11-13.28.01/crimpl-job.status\"\n",
      "# crimpl: ssh terra \"ls /home/users/angela/crimpl/crimpl-job-2021.06.11-13.28.01/*\"\n",
      "# crimpl: ssh terra \"ls /home/users/angela/crimpl/crimpl-job-2021.06.11-13.28.01/*\"\n",
      "# crimpl: scp terra:/home/users/angela/crimpl/crimpl-job-2021.06.11-13.28.01/{_HXXXRjXrJxJtJneonOQgORvYFcmDHv.out,_HXXXRjXrJxJtJneonOQgORvYFcmDHv.out.progress} ./\n"
     ]
    },
    {
     "data": {
      "text/plain": [
       "<ParameterSet: 5 parameters | datasets: lcV, lcB>"
      ]
     },
     "execution_count": 31,
     "metadata": {},
     "output_type": "execute_result"
    }
   ],
   "source": [
    "b.set_value('fit_parameters', solver='nm_fit', value=['pblum@primary@lcV', 'teff@primary'])\n",
    "b.run_solver('nm_fit', use_server='terra', solution='nm_fit_pblum', overwrite=True)\n",
    "b.adopt_solution('nm_fit_pblum')\n",
    "b.run_compute()"
   ]
  },
  {
   "cell_type": "code",
   "execution_count": 32,
   "id": "noted-stanley",
   "metadata": {},
   "outputs": [
    {
     "data": {
      "image/png": "[encoded data removed]",
      "text/plain": [
       "<Figure size 576x432 with 1 Axes>"
      ]
     },
     "metadata": {
      "needs_background": "light"
     },
     "output_type": "display_data"
    },
    {
     "data": {
      "text/plain": [
       "(<autofig.figure.Figure | 1 axes | 4 call(s)>,\n",
       " <Figure size 576x432 with 1 Axes>)"
      ]
     },
     "execution_count": 32,
     "metadata": {},
     "output_type": "execute_result"
    }
   ],
   "source": [
    "b.plot(['dataset', 'model'], dataset=['lcV', 'lcB'], \n",
    "       x='phase', marker={'dataset': '.'}, ls={'model': '-'}, show=True)"
   ]
  },
  {
   "cell_type": "code",
   "execution_count": 33,
   "id": "julian-seeking",
   "metadata": {},
   "outputs": [
    {
     "data": {
      "text/plain": [
       "<Parameter: teff=5766.407729656562 K | keys: description, value, quantity, default_unit, limits, visible_if, copy_for, readonly, advanced, latexfmt>"
      ]
     },
     "execution_count": 33,
     "metadata": {},
     "output_type": "execute_result"
    }
   ],
   "source": [
    "b['teff@primary']"
   ]
  },
  {
   "cell_type": "code",
   "execution_count": 36,
   "id": "durable-judgment",
   "metadata": {},
   "outputs": [
    {
     "data": {
      "text/plain": [
       "'after_optimization.bundle'"
      ]
     },
     "execution_count": 36,
     "metadata": {},
     "output_type": "execute_result"
    }
   ],
   "source": [
    "b.save('after_optimization.bundle')"
   ]
  },
  {
   "cell_type": "code",
   "execution_count": null,
   "id": "welsh-chosen",
   "metadata": {},
   "outputs": [],
   "source": []
  }
 ],
 "metadata": {
  "kernelspec": {
   "display_name": "Python 3",
   "language": "python",
   "name": "python3"
  },
  "language_info": {
   "codemirror_mode": {
    "name": "ipython",
    "version": 3
   },
   "file_extension": ".py",
   "mimetype": "text/x-python",
   "name": "python",
   "nbconvert_exporter": "python",
   "pygments_lexer": "ipython3",
   "version": "3.8.5"
  }
 },
 "nbformat": 4,
 "nbformat_minor": 5
}
