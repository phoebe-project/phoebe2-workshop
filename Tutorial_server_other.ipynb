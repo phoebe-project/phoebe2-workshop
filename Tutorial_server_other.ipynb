{
 "cells": [
  {
   "cell_type": "markdown",
   "metadata": {},
   "source": [
    "# Workshop Tutorial: Running Jobs on OTHER Compute Resources\n",
    "\n",
    "PHOEBE currently (in the `workshop2021` version) supports running jobs on [external compute resources running a slurm scheduler](./Tutorial_09_server.ipynb).  But until we add support for more configurations, you can always manually run jobs on an external machine."
   ]
  },
  {
   "cell_type": "code",
   "execution_count": 1,
   "metadata": {},
   "outputs": [
    {
     "data": {
      "text/plain": [
       "<ParameterSet: 78 parameters | contexts: dataset, constraint, figure, compute>"
      ]
     },
     "execution_count": 1,
     "metadata": {},
     "output_type": "execute_result"
    }
   ],
   "source": [
    "import phoebe\n",
    "\n",
    "b = phoebe.default_binary()\n",
    "b.add_dataset('lc', compute_phases=phoebe.linspace(0,1,501))"
   ]
  },
  {
   "cell_type": "markdown",
   "metadata": {},
   "source": [
    "Instead of calling `run_compute`, call [export_compute](http://phoebe-project.org/docs/2.3/api/phoebe.frontend.bundle.Bundle.export_compute.md) (or [export_solver](http://phoebe-project.org/docs/2.3/api/phoebe.frontend.bundle.Bundle.export_solver.md) instead of `run_solver`).  These take the same arguments, _except_ that the first argument is the filename of a script that will be produced."
   ]
  },
  {
   "cell_type": "code",
   "execution_count": 2,
   "metadata": {},
   "outputs": [
    {
     "data": {
      "text/plain": [
       "('export_compute.py', 'export_compute.py.out')"
      ]
     },
     "execution_count": 2,
     "metadata": {},
     "output_type": "execute_result"
    }
   ],
   "source": [
    "b.export_compute('export_compute.py', irrad_method='none')"
   ]
  },
  {
   "cell_type": "markdown",
   "metadata": {},
   "source": [
    "This then returns the name of the script as well as the name of the output file that will be created when running that script (you can also override this by passing `out_fname` to the export method).\n",
    "\n",
    "Let's take a quick peak at what's in this script."
   ]
  },
  {
   "cell_type": "code",
   "execution_count": 3,
   "metadata": {},
   "outputs": [
    {
     "name": "stdout",
     "output_type": "stream",
     "text": [
      "import os; os.environ['PHOEBE_ENABLE_PLOTTING'] = 'FALSE'; os.environ['PHOEBE_ENABLE_SYMPY'] = 'FALSE';\r\n",
      "import phoebe; import json;\r\n",
      "bdict = json.loads('[{\"qualifier\": \"t0\", \"context\": \"system\", \"value\": 0.0, \"default_unit\": \"d\", \"limits\": [null, null], \"Class\": \"FloatParameter\"}, {\"qualifier\": \"ra\", \"context\": \"system\", \"value\": 0.0, \"default_unit\": \"deg\", \"limits\": [null, null], \"Class\": \"FloatParameter\"}, {\"qualifier\": \"dec\", \"context\": \"system\", \"value\": 0.0, \"default_unit\": \"deg\", \"limits\": [null, null], \"Class\": \"FloatParameter\"}, {\"qualifier\": \"distance\", \"context\": \"system\", \"value\": 1.0, \"default_unit\": \"m\", \"limits\": [null, null], \"Class\": \"FloatParameter\"}, {\"qualifier\": \"vgamma\", \"context\": \"system\", \"value\": 0.0, \"default_unit\": \"km / s\", \"limits\": [null, null], \"Class\": \"FloatParameter\"}, {\"qualifier\": \"ebv\", \"context\": \"system\", \"value\": 0.0, \"default_unit\": \"\", \"limits\": [null, null], \"Class\": \"FloatParameter\"}, {\"qualifier\": \"Av\", \"context\": \"system\", \"value\": 0.0, \"default_unit\": \"\", \"limits\": [null, null], \"Class\": \"FloatParameter\"}, {\"qualifier\": \"Rv\", \"context\": \"system\", \"value\": 3.1, \"default_unit\": \"\", \"limits\": [null, null], \"Class\": \"FloatParameter\"}, {\"qualifier\": \"hierarchy\", \"context\": \"system\", \"value\": \"orbit:binary(star:primary, star:secondary)\", \"Class\": \"HierarchyParameter\"}, {\"qualifier\": \"requiv\", \"component\": \"primary\", \"kind\": \"star\", \"context\": \"component\", \"value\": 1.0, \"default_unit\": \"solRad\", \"limits\": [1e-06, null], \"Class\": \"FloatParameter\"}, {\"qualifier\": \"requiv_max\", \"component\": \"primary\", \"kind\": \"star\", \"context\": \"component\", \"value\": 2.013275176537638, \"default_unit\": \"solRad\", \"limits\": [0.0, null], \"Class\": \"FloatParameter\"}, {\"qualifier\": \"requiv_min\", \"component\": \"primary\", \"kind\": \"star\", \"context\": \"component\", \"value\": 0.1, \"default_unit\": \"solRad\", \"limits\": [0.0, null], \"visible_if\": \"hierarchy.is_contact_binary:True\", \"Class\": \"FloatParameter\"}, {\"qualifier\": \"teff\", \"component\": \"primary\", \"kind\": \"star\", \"context\": \"component\", \"value\": 6000.0, \"default_unit\": \"K\", \"limits\": [300.0, null], \"Class\": \"FloatParameter\"}, {\"qualifier\": \"abun\", \"component\": \"primary\", \"kind\": \"star\", \"context\": \"component\", \"value\": 0.0, \"default_unit\": \"\", \"limits\": [null, null], \"visible_if\": \"hierarchy.is_contact_binary:False\", \"Class\": \"FloatParameter\"}, {\"qualifier\": \"logg\", \"component\": \"primary\", \"kind\": \"star\", \"context\": \"component\", \"value\": 4.437551877570185, \"default_unit\": \"\", \"limits\": [null, null], \"Class\": \"FloatParameter\"}, {\"qualifier\": \"syncpar\", \"component\": \"primary\", \"kind\": \"star\", \"context\": \"component\", \"value\": 1.0, \"default_unit\": \"\", \"limits\": [0.0, null], \"visible_if\": \"hierarchy.is_binary:True\", \"Class\": \"FloatParameter\"}, {\"qualifier\": \"period\", \"component\": \"primary\", \"kind\": \"star\", \"context\": \"component\", \"value\": 1.0, \"default_unit\": \"d\", \"limits\": [1e-06, null], \"Class\": \"FloatParameter\"}, {\"qualifier\": \"freq\", \"component\": \"primary\", \"kind\": \"star\", \"context\": \"component\", \"value\": 6.283185, \"default_unit\": \"rad / d\", \"limits\": [0.0, null], \"Class\": \"FloatParameter\"}, {\"qualifier\": \"pitch\", \"component\": \"primary\", \"kind\": \"star\", \"context\": \"component\", \"value\": 0.0, \"default_unit\": \"deg\", \"limits\": [null, null], \"visible_if\": \"hierarchy.is_contact_binary:False,hierarchy.is_binary:True\", \"Class\": \"FloatParameter\"}, {\"qualifier\": \"yaw\", \"component\": \"primary\", \"kind\": \"star\", \"context\": \"component\", \"value\": 0.0, \"default_unit\": \"deg\", \"limits\": [null, null], \"visible_if\": \"hierarchy.is_contact_binary:False,hierarchy.is_binary:True\", \"Class\": \"FloatParameter\"}, {\"qualifier\": \"incl\", \"component\": \"primary\", \"kind\": \"star\", \"context\": \"component\", \"value\": 90.0, \"default_unit\": \"deg\", \"limits\": [null, null], \"visible_if\": \"hierarchy.is_contact_binary:False\", \"Class\": \"FloatParameter\"}, {\"qualifier\": \"long_an\", \"component\": \"primary\", \"kind\": \"star\", \"context\": \"component\", \"value\": 0.0, \"default_unit\": \"deg\", \"limits\": [null, null], \"visible_if\": \"hierarchy.is_contact_binary:False\", \"Class\": \"FloatParameter\"}, {\"qualifier\": \"gravb_bol\", \"component\": \"primary\", \"kind\": \"star\", \"context\": \"component\", \"value\": 0.32, \"default_unit\": \"\", \"limits\": [0.0, 1.0], \"Class\": \"FloatParameter\"}, {\"qualifier\": \"irrad_frac_refl_bol\", \"component\": \"primary\", \"kind\": \"star\", \"context\": \"component\", \"value\": 0.6, \"default_unit\": \"\", \"limits\": [0.0, 1.0], \"Class\": \"FloatParameter\"}, {\"qualifier\": \"irrad_frac_lost_bol\", \"component\": \"primary\", \"kind\": \"star\", \"context\": \"component\", \"value\": 0.4, \"default_unit\": \"\", \"limits\": [0.0, 1.0], \"Class\": \"FloatParameter\"}, {\"qualifier\": \"ld_mode_bol\", \"component\": \"primary\", \"kind\": \"star\", \"context\": \"component\", \"choices\": [\"lookup\", \"manual\"], \"value\": \"lookup\", \"Class\": \"ChoiceParameter\"}, {\"qualifier\": \"ld_func_bol\", \"component\": \"primary\", \"kind\": \"star\", \"context\": \"component\", \"choices\": [\"linear\", \"logarithmic\", \"quadratic\", \"square_root\", \"power\"], \"value\": \"logarithmic\", \"Class\": \"ChoiceParameter\"}, {\"qualifier\": \"ld_coeffs_source_bol\", \"component\": \"primary\", \"kind\": \"star\", \"context\": \"component\", \"choices\": [\"auto\", \"phoenix\", \"ck2004\"], \"value\": \"auto\", \"visible_if\": \"ld_mode_bol:lookup\", \"Class\": \"ChoiceParameter\"}, {\"qualifier\": \"ld_coeffs_bol\", \"component\": \"primary\", \"kind\": \"star\", \"context\": \"component\", \"value\": [0.5, 0.5], \"default_unit\": \"\", \"visible_if\": \"ld_mode_bol:manual\", \"required_shape\": [null], \"Class\": \"FloatArrayParameter\"}, {\"qualifier\": \"mass\", \"component\": \"primary\", \"kind\": \"star\", \"context\": \"component\", \"value\": 0.9988131358058301, \"default_unit\": \"solMass\", \"limits\": [null, null], \"Class\": \"FloatParameter\"}, {\"qualifier\": \"requiv\", \"component\": \"secondary\", \"kind\": \"star\", \"context\": \"component\", \"value\": 1.0, \"default_unit\": \"solRad\", \"limits\": [1e-06, null], \"Class\": \"FloatParameter\"}, {\"qualifier\": \"requiv_max\", \"component\": \"secondary\", \"kind\": \"star\", \"context\": \"component\", \"value\": 2.013275176537638, \"default_unit\": \"solRad\", \"limits\": [0.0, null], \"Class\": \"FloatParameter\"}, {\"qualifier\": \"requiv_min\", \"component\": \"secondary\", \"kind\": \"star\", \"context\": \"component\", \"value\": 0.1, \"default_unit\": \"solRad\", \"limits\": [0.0, null], \"visible_if\": \"hierarchy.is_contact_binary:True\", \"Class\": \"FloatParameter\"}, {\"qualifier\": \"teff\", \"component\": \"secondary\", \"kind\": \"star\", \"context\": \"component\", \"value\": 6000.0, \"default_unit\": \"K\", \"limits\": [300.0, null], \"Class\": \"FloatParameter\"}, {\"qualifier\": \"abun\", \"component\": \"secondary\", \"kind\": \"star\", \"context\": \"component\", \"value\": 0.0, \"default_unit\": \"\", \"limits\": [null, null], \"visible_if\": \"hierarchy.is_contact_binary:False\", \"Class\": \"FloatParameter\"}, {\"qualifier\": \"logg\", \"component\": \"secondary\", \"kind\": \"star\", \"context\": \"component\", \"value\": 4.437551877570185, \"default_unit\": \"\", \"limits\": [null, null], \"Class\": \"FloatParameter\"}, {\"qualifier\": \"syncpar\", \"component\": \"secondary\", \"kind\": \"star\", \"context\": \"component\", \"value\": 1.0, \"default_unit\": \"\", \"limits\": [0.0, null], \"visible_if\": \"hierarchy.is_binary:True\", \"Class\": \"FloatParameter\"}, {\"qualifier\": \"period\", \"component\": \"secondary\", \"kind\": \"star\", \"context\": \"component\", \"value\": 1.0, \"default_unit\": \"d\", \"limits\": [1e-06, null], \"Class\": \"FloatParameter\"}, {\"qualifier\": \"freq\", \"component\": \"secondary\", \"kind\": \"star\", \"context\": \"component\", \"value\": 6.283185, \"default_unit\": \"rad / d\", \"limits\": [0.0, null], \"Class\": \"FloatParameter\"}, {\"qualifier\": \"pitch\", \"component\": \"secondary\", \"kind\": \"star\", \"context\": \"component\", \"value\": 0.0, \"default_unit\": \"deg\", \"limits\": [null, null], \"visible_if\": \"hierarchy.is_contact_binary:False,hierarchy.is_binary:True\", \"Class\": \"FloatParameter\"}, {\"qualifier\": \"yaw\", \"component\": \"secondary\", \"kind\": \"star\", \"context\": \"component\", \"value\": 0.0, \"default_unit\": \"deg\", \"limits\": [null, null], \"visible_if\": \"hierarchy.is_contact_binary:False,hierarchy.is_binary:True\", \"Class\": \"FloatParameter\"}, {\"qualifier\": \"incl\", \"component\": \"secondary\", \"kind\": \"star\", \"context\": \"component\", \"value\": 90.0, \"default_unit\": \"deg\", \"limits\": [null, null], \"visible_if\": \"hierarchy.is_contact_binary:False\", \"Class\": \"FloatParameter\"}, {\"qualifier\": \"long_an\", \"component\": \"secondary\", \"kind\": \"star\", \"context\": \"component\", \"value\": 0.0, \"default_unit\": \"deg\", \"limits\": [null, null], \"visible_if\": \"hierarchy.is_contact_binary:False\", \"Class\": \"FloatParameter\"}, {\"qualifier\": \"gravb_bol\", \"component\": \"secondary\", \"kind\": \"star\", \"context\": \"component\", \"value\": 0.32, \"default_unit\": \"\", \"limits\": [0.0, 1.0], \"Class\": \"FloatParameter\"}, {\"qualifier\": \"irrad_frac_refl_bol\", \"component\": \"secondary\", \"kind\": \"star\", \"context\": \"component\", \"value\": 0.6, \"default_unit\": \"\", \"limits\": [0.0, 1.0], \"Class\": \"FloatParameter\"}, {\"qualifier\": \"irrad_frac_lost_bol\", \"component\": \"secondary\", \"kind\": \"star\", \"context\": \"component\", \"value\": 0.4, \"default_unit\": \"\", \"limits\": [0.0, 1.0], \"Class\": \"FloatParameter\"}, {\"qualifier\": \"ld_mode_bol\", \"component\": \"secondary\", \"kind\": \"star\", \"context\": \"component\", \"choices\": [\"lookup\", \"manual\"], \"value\": \"lookup\", \"Class\": \"ChoiceParameter\"}, {\"qualifier\": \"ld_func_bol\", \"component\": \"secondary\", \"kind\": \"star\", \"context\": \"component\", \"choices\": [\"linear\", \"logarithmic\", \"quadratic\", \"square_root\", \"power\"], \"value\": \"logarithmic\", \"Class\": \"ChoiceParameter\"}, {\"qualifier\": \"ld_coeffs_source_bol\", \"component\": \"secondary\", \"kind\": \"star\", \"context\": \"component\", \"choices\": [\"auto\", \"phoenix\", \"ck2004\"], \"value\": \"auto\", \"visible_if\": \"ld_mode_bol:lookup\", \"Class\": \"ChoiceParameter\"}, {\"qualifier\": \"ld_coeffs_bol\", \"component\": \"secondary\", \"kind\": \"star\", \"context\": \"component\", \"value\": [0.5, 0.5], \"default_unit\": \"\", \"visible_if\": \"ld_mode_bol:manual\", \"required_shape\": [null], \"Class\": \"FloatArrayParameter\"}, {\"qualifier\": \"mass\", \"component\": \"secondary\", \"kind\": \"star\", \"context\": \"component\", \"value\": 0.9988131358058301, \"default_unit\": \"solMass\", \"limits\": [null, null], \"Class\": \"FloatParameter\"}, {\"qualifier\": \"period\", \"component\": \"binary\", \"kind\": \"orbit\", \"context\": \"component\", \"value\": 1.0, \"default_unit\": \"d\", \"limits\": [1e-06, null], \"Class\": \"FloatParameter\"}, {\"qualifier\": \"period_anom\", \"component\": \"binary\", \"kind\": \"orbit\", \"context\": \"component\", \"value\": 1.0, \"default_unit\": \"d\", \"limits\": [null, null], \"visible_if\": \"dperdt:!0.0\", \"Class\": \"FloatParameter\"}, {\"qualifier\": \"freq\", \"component\": \"binary\", \"kind\": \"orbit\", \"context\": \"component\", \"value\": 6.283185, \"default_unit\": \"rad / d\", \"limits\": [null, null], \"Class\": \"FloatParameter\"}, {\"qualifier\": \"dpdt\", \"component\": \"binary\", \"kind\": \"orbit\", \"context\": \"component\", \"value\": 0.0, \"default_unit\": \"s / yr\", \"limits\": [null, null], \"Class\": \"FloatParameter\"}, {\"qualifier\": \"per0\", \"component\": \"binary\", \"kind\": \"orbit\", \"context\": \"component\", \"value\": 0.0, \"default_unit\": \"deg\", \"limits\": [null, null], \"Class\": \"FloatParameter\"}, {\"qualifier\": \"dperdt\", \"component\": \"binary\", \"kind\": \"orbit\", \"context\": \"component\", \"value\": 0.0, \"default_unit\": \"deg / yr\", \"limits\": [null, null], \"Class\": \"FloatParameter\"}, {\"qualifier\": \"ecc\", \"component\": \"binary\", \"kind\": \"orbit\", \"context\": \"component\", \"value\": 0.0, \"default_unit\": \"\", \"limits\": [0.0, 0.999999], \"Class\": \"FloatParameter\"}, {\"qualifier\": \"t0_perpass\", \"component\": \"binary\", \"kind\": \"orbit\", \"context\": \"component\", \"value\": -0.25, \"default_unit\": \"d\", \"limits\": [null, null], \"Class\": \"FloatParameter\"}, {\"qualifier\": \"t0_supconj\", \"component\": \"binary\", \"kind\": \"orbit\", \"context\": \"component\", \"value\": 0.0, \"default_unit\": \"d\", \"limits\": [null, null], \"Class\": \"FloatParameter\"}, {\"qualifier\": \"t0_ref\", \"component\": \"binary\", \"kind\": \"orbit\", \"context\": \"component\", \"value\": 0.0, \"default_unit\": \"d\", \"limits\": [null, null], \"Class\": \"FloatParameter\"}, {\"qualifier\": \"mean_anom\", \"component\": \"binary\", \"kind\": \"orbit\", \"context\": \"component\", \"value\": 89.99999559997653, \"default_unit\": \"deg\", \"limits\": [null, null], \"Class\": \"FloatParameter\"}, {\"qualifier\": \"incl\", \"component\": \"binary\", \"kind\": \"orbit\", \"context\": \"component\", \"value\": 90.0, \"default_unit\": \"deg\", \"limits\": [0.0, 180.0], \"Class\": \"FloatParameter\"}, {\"qualifier\": \"q\", \"component\": \"binary\", \"kind\": \"orbit\", \"context\": \"component\", \"value\": 1.0, \"default_unit\": \"\", \"limits\": [0.0, null], \"Class\": \"FloatParameter\"}, {\"qualifier\": \"sma\", \"component\": \"binary\", \"kind\": \"orbit\", \"context\": \"component\", \"value\": 5.3, \"default_unit\": \"solRad\", \"limits\": [0.0, null], \"Class\": \"FloatParameter\"}, {\"qualifier\": \"long_an\", \"component\": \"binary\", \"kind\": \"orbit\", \"context\": \"component\", \"value\": 0.0, \"default_unit\": \"deg\", \"limits\": [null, null], \"Class\": \"FloatParameter\"}, {\"qualifier\": \"asini\", \"component\": \"binary\", \"kind\": \"orbit\", \"context\": \"component\", \"value\": 5.3, \"default_unit\": \"solRad\", \"limits\": [null, null], \"Class\": \"FloatParameter\"}, {\"qualifier\": \"ecosw\", \"component\": \"binary\", \"kind\": \"orbit\", \"context\": \"component\", \"value\": 0.0, \"default_unit\": \"\", \"limits\": [-1.0, 1.0], \"Class\": \"FloatParameter\"}, {\"qualifier\": \"esinw\", \"component\": \"binary\", \"kind\": \"orbit\", \"context\": \"component\", \"value\": 0.0, \"default_unit\": \"\", \"limits\": [-1.0, 1.0], \"Class\": \"FloatParameter\"}, {\"qualifier\": \"sma\", \"component\": \"primary\", \"kind\": \"star\", \"context\": \"component\", \"value\": 2.65, \"default_unit\": \"solRad\", \"limits\": [null, null], \"Class\": \"FloatParameter\"}, {\"qualifier\": \"asini\", \"component\": \"primary\", \"kind\": \"star\", \"context\": \"component\", \"value\": 2.65, \"default_unit\": \"solRad\", \"limits\": [null, null], \"Class\": \"FloatParameter\"}, {\"qualifier\": \"sma\", \"component\": \"secondary\", \"kind\": \"star\", \"context\": \"component\", \"value\": 2.65, \"default_unit\": \"solRad\", \"limits\": [null, null], \"Class\": \"FloatParameter\"}, {\"qualifier\": \"asini\", \"component\": \"secondary\", \"kind\": \"star\", \"context\": \"component\", \"value\": 2.65, \"default_unit\": \"solRad\", \"limits\": [null, null], \"Class\": \"FloatParameter\"}, {\"qualifier\": \"times\", \"dataset\": \"lc01\", \"kind\": \"lc\", \"context\": \"dataset\", \"value\": [], \"default_unit\": \"d\", \"required_shape\": [null], \"Class\": \"FloatArrayParameter\"}, {\"qualifier\": \"fluxes\", \"dataset\": \"lc01\", \"kind\": \"lc\", \"context\": \"dataset\", \"value\": [], \"default_unit\": \"W / m2\", \"required_shape\": [null], \"Class\": \"FloatArrayParameter\"}, {\"qualifier\": \"ld_mode\", \"component\": \"_default\", \"dataset\": \"lc01\", \"kind\": \"lc\", \"context\": \"dataset\", \"choices\": [\"interp\", \"lookup\", \"manual\"], \"value\": \"interp\", \"Class\": \"ChoiceParameter\"}, {\"qualifier\": \"ld_func\", \"component\": \"_default\", \"dataset\": \"lc01\", \"kind\": \"lc\", \"context\": \"dataset\", \"choices\": [\"linear\", \"logarithmic\", \"quadratic\", \"square_root\", \"power\"], \"value\": \"logarithmic\", \"visible_if\": \"ld_mode:lookup|manual\", \"Class\": \"ChoiceParameter\"}, {\"qualifier\": \"ld_coeffs_source\", \"component\": \"_default\", \"dataset\": \"lc01\", \"kind\": \"lc\", \"context\": \"dataset\", \"choices\": [\"auto\", \"ck2004\", \"phoenix\"], \"value\": \"auto\", \"visible_if\": \"ld_mode:lookup\", \"Class\": \"ChoiceParameter\"}, {\"qualifier\": \"ld_coeffs\", \"component\": \"_default\", \"dataset\": \"lc01\", \"kind\": \"lc\", \"context\": \"dataset\", \"value\": [0.5, 0.5], \"default_unit\": \"\", \"visible_if\": \"ld_mode:manual\", \"required_shape\": [null], \"Class\": \"FloatArrayParameter\"}, {\"qualifier\": \"passband\", \"dataset\": \"lc01\", \"kind\": \"lc\", \"context\": \"dataset\", \"choices\": [\"SWASP:default\", \"PanStarrs:open\", \"SDSS:i\", \"Tycho:V\", \"LSST:g\", \"LSST:i\", \"Stromgren:y\", \"SDSS:gprime\", \"SDSS:iprime\", \"LSST:y3\", \"KELT:R\", \"Kepler:mean\", \"SDSS:zprime\", \"Gaia:RP\", \"Cousins:I\", \"TESS:T\", \"PanStarrs:w\", \"Johnson:R\", \"Stromgren:u\", \"SDSS:uprime\", \"BRITE:red\", \"SDSS:z\", \"Stromgren:b\", \"Hipparcos:Hp\", \"Bolometric:900-40000\", \"Johnson:B\", \"SDSS:rprime\", \"SWASP:pre2004\", \"Stromgren:v\", \"PanStarrs:y\", \"Gaia:RVS\", \"PanStarrs:z\", \"Gaia:BP\", \"PanStarrs:r\", \"Johnson:V\", \"PanStarrs:i\", \"SDSS:r\", \"LSST:z\", \"Johnson:U\", \"LSST:r\", \"Cousins:R\", \"Johnson:I\", \"Tycho:B\", \"PanStarrs:g\", \"SDSS:g\", \"SDSS:u\", \"Gaia:G\", \"BRITE:blue\", \"LSST:u\"], \"value\": \"Johnson:V\", \"Class\": \"ChoiceParameter\"}, {\"qualifier\": \"intens_weighting\", \"dataset\": \"lc01\", \"kind\": \"lc\", \"context\": \"dataset\", \"choices\": [\"energy\", \"photon\"], \"value\": \"energy\", \"Class\": \"ChoiceParameter\"}, {\"qualifier\": \"compute_times\", \"dataset\": \"lc01\", \"kind\": \"lc\", \"context\": \"dataset\", \"value\": [0.0, 0.002, 0.004, 0.006, 0.008, 0.01, 0.012, 0.014, 0.016, 0.018000000000000002, 0.02, 0.022, 0.024, 0.026000000000000002, 0.028, 0.03, 0.032, 0.034, 0.036000000000000004, 0.038, 0.04, 0.042, 0.044, 0.046, 0.048, 0.05, 0.052000000000000005, 0.054, 0.056, 0.058, 0.06, 0.062, 0.064, 0.066, 0.068, 0.07, 0.07200000000000001, 0.074, 0.076, 0.078, 0.08, 0.082, 0.084, 0.08600000000000001, 0.088, 0.09, 0.092, 0.094, 0.096, 0.098, 0.1, 0.10200000000000001, 0.10400000000000001, 0.106, 0.108, 0.11, 0.112, 0.114, 0.116, 0.11800000000000001, 0.12, 0.122, 0.124, 0.126, 0.128, 0.13, 0.132, 0.134, 0.136, 0.138, 0.14, 0.14200000000000002, 0.14400000000000002, 0.146, 0.148, 0.15, 0.152, 0.154, 0.156, 0.158, 0.16, 0.162, 0.164, 0.166, 0.168, 0.17, 0.17200000000000001, 0.17400000000000002, 0.176, 0.178, 0.18, 0.182, 0.184, 0.186, 0.188, 0.19, 0.192, 0.194, 0.196, 0.198, 0.2, 0.202, 0.20400000000000001, 0.20600000000000002, 0.20800000000000002, 0.21, 0.212, 0.214, 0.216, 0.218, 0.22, 0.222, 0.224, 0.226, 0.228, 0.23, 0.232, 0.234, 0.23600000000000002, 0.23800000000000002, 0.24, 0.242, 0.244, 0.246, 0.248, 0.25, 0.252, 0.254, 0.256, 0.258, 0.26, 0.262, 0.264, 0.266, 0.268, 0.27, 0.272, 0.274, 0.276, 0.278, 0.28, 0.28200000000000003, 0.28400000000000003, 0.28600000000000003, 0.28800000000000003, 0.29, 0.292, 0.294, 0.296, 0.298, 0.3, 0.302, 0.304, 0.306, 0.308, 0.31, 0.312, 0.314, 0.316, 0.318, 0.32, 0.322, 0.324, 0.326, 0.328, 0.33, 0.332, 0.334, 0.336, 0.338, 0.34, 0.342, 0.34400000000000003, 0.34600000000000003, 0.34800000000000003, 0.35000000000000003, 0.352, 0.354, 0.356, 0.358, 0.36, 0.362, 0.364, 0.366, 0.368, 0.37, 0.372, 0.374, 0.376, 0.378, 0.38, 0.382, 0.384, 0.386, 0.388, 0.39, 0.392, 0.394, 0.396, 0.398, 0.4, 0.402, 0.404, 0.406, 0.40800000000000003, 0.41000000000000003, 0.41200000000000003, 0.41400000000000003, 0.41600000000000004, 0.418, 0.42, 0.422, 0.424, 0.426, 0.428, 0.43, 0.432, 0.434, 0.436, 0.438, 0.44, 0.442, 0.444, 0.446, 0.448, 0.45, 0.452, 0.454, 0.456, 0.458, 0.46, 0.462, 0.464, 0.466, 0.468, 0.47000000000000003, 0.47200000000000003, 0.47400000000000003, 0.47600000000000003, 0.47800000000000004, 0.48, 0.482, 0.484, 0.486, 0.488, 0.49, 0.492, 0.494, 0.496, 0.498, 0.5, 0.502, 0.504, 0.506, 0.508, 0.51, 0.512, 0.514, 0.516, 0.518, 0.52, 0.522, 0.524, 0.526, 0.528, 0.53, 0.532, 0.534, 0.536, 0.538, 0.54, 0.542, 0.544, 0.546, 0.548, 0.55, 0.552, 0.554, 0.556, 0.558, 0.56, 0.562, 0.5640000000000001, 0.5660000000000001, 0.5680000000000001, 0.5700000000000001, 0.5720000000000001, 0.5740000000000001, 0.5760000000000001, 0.578, 0.58, 0.582, 0.584, 0.586, 0.588, 0.59, 0.592, 0.594, 0.596, 0.598, 0.6, 0.602, 0.604, 0.606, 0.608, 0.61, 0.612, 0.614, 0.616, 0.618, 0.62, 0.622, 0.624, 0.626, 0.628, 0.63, 0.632, 0.634, 0.636, 0.638, 0.64, 0.642, 0.644, 0.646, 0.648, 0.65, 0.652, 0.654, 0.656, 0.658, 0.66, 0.662, 0.664, 0.666, 0.668, 0.67, 0.672, 0.674, 0.676, 0.678, 0.68, 0.682, 0.684, 0.686, 0.6880000000000001, 0.6900000000000001, 0.6920000000000001, 0.6940000000000001, 0.6960000000000001, 0.6980000000000001, 0.7000000000000001, 0.7020000000000001, 0.704, 0.706, 0.708, 0.71, 0.712, 0.714, 0.716, 0.718, 0.72, 0.722, 0.724, 0.726, 0.728, 0.73, 0.732, 0.734, 0.736, 0.738, 0.74, 0.742, 0.744, 0.746, 0.748, 0.75, 0.752, 0.754, 0.756, 0.758, 0.76, 0.762, 0.764, 0.766, 0.768, 0.77, 0.772, 0.774, 0.776, 0.778, 0.78, 0.782, 0.784, 0.786, 0.788, 0.79, 0.792, 0.794, 0.796, 0.798, 0.8, 0.802, 0.804, 0.806, 0.808, 0.81, 0.812, 0.8140000000000001, 0.8160000000000001, 0.8180000000000001, 0.8200000000000001, 0.8220000000000001, 0.8240000000000001, 0.8260000000000001, 0.8280000000000001, 0.8300000000000001, 0.8320000000000001, 0.834, 0.836, 0.838, 0.84, 0.842, 0.844, 0.846, 0.848, 0.85, 0.852, 0.854, 0.856, 0.858, 0.86, 0.862, 0.864, 0.866, 0.868, 0.87, 0.872, 0.874, 0.876, 0.878, 0.88, 0.882, 0.884, 0.886, 0.888, 0.89, 0.892, 0.894, 0.896, 0.898, 0.9, 0.902, 0.904, 0.906, 0.908, 0.91, 0.912, 0.914, 0.916, 0.918, 0.92, 0.922, 0.924, 0.926, 0.928, 0.93, 0.932, 0.934, 0.936, 0.9380000000000001, 0.9400000000000001, 0.9420000000000001, 0.9440000000000001, 0.9460000000000001, 0.9480000000000001, 0.9500000000000001, 0.9520000000000001, 0.9540000000000001, 0.9560000000000001, 0.9580000000000001, 0.96, 0.962, 0.964, 0.966, 0.968, 0.97, 0.972, 0.974, 0.976, 0.978, 0.98, 0.982, 0.984, 0.986, 0.988, 0.99, 0.992, 0.994, 0.996, 0.998, 1.0], \"default_unit\": \"d\", \"required_shape\": [null], \"Class\": \"FloatArrayParameter\"}, {\"qualifier\": \"compute_phases\", \"component\": \"binary\", \"dataset\": \"lc01\", \"kind\": \"lc\", \"context\": \"dataset\", \"value\": {\"start\": 0.0, \"stop\": 1.0, \"num\": 501, \"endpoint\": true, \"unit\": \"\", \"nparray\": \"linspace\"}, \"default_unit\": \"\", \"required_shape\": [null], \"Class\": \"FloatArrayParameter\"}, {\"qualifier\": \"phases_period\", \"component\": \"binary\", \"dataset\": \"lc01\", \"kind\": \"lc\", \"context\": \"dataset\", \"choices\": [\"period\", \"period_anom\"], \"value\": \"period\", \"visible_if\": \"[dataset][context][kind]dperdt:!0.0,hierarchy.is_meshable:False\", \"Class\": \"ChoiceParameter\"}, {\"qualifier\": \"phases_dpdt\", \"component\": \"binary\", \"dataset\": \"lc01\", \"kind\": \"lc\", \"context\": \"dataset\", \"choices\": [\"dpdt\", \"none\"], \"value\": \"dpdt\", \"visible_if\": \"[dataset][context][kind]dpdt:!0.0,hierarchy.is_meshable:False\", \"Class\": \"ChoiceParameter\"}, {\"qualifier\": \"phases_t0\", \"component\": \"binary\", \"dataset\": \"lc01\", \"kind\": \"lc\", \"context\": \"dataset\", \"choices\": [\"t0_supconj\", \"t0_perpass\", \"t0_ref\"], \"value\": \"t0_supconj\", \"visible_if\": \"hierarchy.is_meshable:False\", \"Class\": \"ChoiceParameter\"}, {\"qualifier\": \"mask_enabled\", \"dataset\": \"lc01\", \"kind\": \"lc\", \"context\": \"dataset\", \"value\": true, \"Class\": \"BoolParameter\"}, {\"qualifier\": \"mask_phases\", \"component\": \"binary\", \"dataset\": \"lc01\", \"kind\": \"lc\", \"context\": \"dataset\", \"value\": [], \"default_unit\": \"\", \"visible_if\": \"[component]mask_enabled:True\", \"required_shape\": [null, 2], \"Class\": \"FloatArrayParameter\"}, {\"qualifier\": \"solver_times\", \"dataset\": \"lc01\", \"kind\": \"lc\", \"context\": \"dataset\", \"choices\": [\"auto\", \"compute_times\", \"times\"], \"value\": \"auto\", \"Class\": \"ChoiceParameter\"}, {\"qualifier\": \"sigmas\", \"dataset\": \"lc01\", \"kind\": \"lc\", \"context\": \"dataset\", \"value\": [], \"default_unit\": \"W / m2\", \"required_shape\": [null], \"Class\": \"FloatArrayParameter\"}, {\"qualifier\": \"sigmas_lnf\", \"dataset\": \"lc01\", \"kind\": \"lc\", \"context\": \"dataset\", \"value\": -Infinity, \"default_unit\": \"\", \"limits\": [null, null], \"visible_if\": \"sigmas:<notempty>\", \"Class\": \"FloatParameter\"}, {\"qualifier\": \"pblum_mode\", \"dataset\": \"lc01\", \"kind\": \"lc\", \"context\": \"dataset\", \"choices\": [\"decoupled\", \"component-coupled\", \"dataset-coupled\", \"dataset-scaled\", \"absolute\"], \"value\": \"component-coupled\", \"Class\": \"ChoiceParameter\"}, {\"qualifier\": \"pblum_component\", \"dataset\": \"lc01\", \"kind\": \"lc\", \"context\": \"dataset\", \"choices\": [\"primary\", \"secondary\"], \"value\": \"primary\", \"visible_if\": \"pblum_mode:component-coupled\", \"Class\": \"ChoiceParameter\"}, {\"qualifier\": \"pblum\", \"component\": \"_default\", \"dataset\": \"lc01\", \"kind\": \"lc\", \"context\": \"dataset\", \"value\": 12.566370614359172, \"default_unit\": \"W\", \"limits\": [null, null], \"visible_if\": \"[component]pblum_mode:decoupled||[component]pblum_mode:component-coupled,[component]pblum_component:<component>\", \"Class\": \"FloatParameter\"}, {\"qualifier\": \"pblum_dataset\", \"dataset\": \"lc01\", \"kind\": \"lc\", \"context\": \"dataset\", \"choices\": [\"\"], \"value\": \"\", \"visible_if\": \"pblum_mode:dataset-coupled\", \"Class\": \"ChoiceParameter\"}, {\"qualifier\": \"pbflux\", \"dataset\": \"lc01\", \"kind\": \"lc\", \"context\": \"dataset\", \"value\": 1.0, \"default_unit\": \"W / m2\", \"limits\": [null, null], \"visible_if\": \"false\", \"Class\": \"FloatParameter\"}, {\"qualifier\": \"l3_mode\", \"dataset\": \"lc01\", \"kind\": \"lc\", \"context\": \"dataset\", \"choices\": [\"flux\", \"fraction\"], \"value\": \"flux\", \"Class\": \"ChoiceParameter\"}, {\"qualifier\": \"l3\", \"dataset\": \"lc01\", \"kind\": \"lc\", \"context\": \"dataset\", \"value\": 0.0, \"default_unit\": \"W / m2\", \"limits\": [0.0, null], \"visible_if\": \"l3_mode:flux\", \"Class\": \"FloatParameter\"}, {\"qualifier\": \"l3_frac\", \"dataset\": \"lc01\", \"kind\": \"lc\", \"context\": \"dataset\", \"value\": 0.0, \"default_unit\": \"\", \"limits\": [0.0, 1.0], \"visible_if\": \"l3_mode:fraction\", \"Class\": \"FloatParameter\"}, {\"qualifier\": \"exptime\", \"dataset\": \"lc01\", \"kind\": \"lc\", \"context\": \"dataset\", \"value\": 0.0, \"default_unit\": \"s\", \"limits\": [null, null], \"Class\": \"FloatParameter\"}, {\"qualifier\": \"ld_mode\", \"component\": \"primary\", \"dataset\": \"lc01\", \"kind\": \"lc\", \"context\": \"dataset\", \"choices\": [\"interp\", \"lookup\", \"manual\"], \"value\": \"interp\", \"Class\": \"ChoiceParameter\"}, {\"qualifier\": \"ld_mode\", \"component\": \"secondary\", \"dataset\": \"lc01\", \"kind\": \"lc\", \"context\": \"dataset\", \"choices\": [\"interp\", \"lookup\", \"manual\"], \"value\": \"interp\", \"Class\": \"ChoiceParameter\"}, {\"qualifier\": \"ld_func\", \"component\": \"primary\", \"dataset\": \"lc01\", \"kind\": \"lc\", \"context\": \"dataset\", \"choices\": [\"linear\", \"logarithmic\", \"quadratic\", \"square_root\", \"power\"], \"value\": \"logarithmic\", \"visible_if\": \"ld_mode:lookup|manual\", \"Class\": \"ChoiceParameter\"}, {\"qualifier\": \"ld_func\", \"component\": \"secondary\", \"dataset\": \"lc01\", \"kind\": \"lc\", \"context\": \"dataset\", \"choices\": [\"linear\", \"logarithmic\", \"quadratic\", \"square_root\", \"power\"], \"value\": \"logarithmic\", \"visible_if\": \"ld_mode:lookup|manual\", \"Class\": \"ChoiceParameter\"}, {\"qualifier\": \"ld_coeffs_source\", \"component\": \"primary\", \"dataset\": \"lc01\", \"kind\": \"lc\", \"context\": \"dataset\", \"choices\": [\"auto\", \"ck2004\", \"phoenix\"], \"value\": \"auto\", \"visible_if\": \"ld_mode:lookup\", \"Class\": \"ChoiceParameter\"}, {\"qualifier\": \"ld_coeffs_source\", \"component\": \"secondary\", \"dataset\": \"lc01\", \"kind\": \"lc\", \"context\": \"dataset\", \"choices\": [\"auto\", \"ck2004\", \"phoenix\"], \"value\": \"auto\", \"visible_if\": \"ld_mode:lookup\", \"Class\": \"ChoiceParameter\"}, {\"qualifier\": \"ld_coeffs\", \"component\": \"primary\", \"dataset\": \"lc01\", \"kind\": \"lc\", \"context\": \"dataset\", \"value\": [0.5, 0.5], \"default_unit\": \"\", \"visible_if\": \"ld_mode:manual\", \"required_shape\": [null], \"Class\": \"FloatArrayParameter\"}, {\"qualifier\": \"ld_coeffs\", \"component\": \"secondary\", \"dataset\": \"lc01\", \"kind\": \"lc\", \"context\": \"dataset\", \"value\": [0.5, 0.5], \"default_unit\": \"\", \"visible_if\": \"ld_mode:manual\", \"required_shape\": [null], \"Class\": \"FloatArrayParameter\"}, {\"qualifier\": \"pblum\", \"component\": \"primary\", \"dataset\": \"lc01\", \"kind\": \"lc\", \"context\": \"dataset\", \"value\": 12.566370614359172, \"default_unit\": \"W\", \"limits\": [null, null], \"visible_if\": \"[component]pblum_mode:decoupled||[component]pblum_mode:component-coupled,[component]pblum_component:<component>\", \"Class\": \"FloatParameter\"}, {\"qualifier\": \"pblum\", \"component\": \"secondary\", \"dataset\": \"lc01\", \"kind\": \"lc\", \"context\": \"dataset\", \"value\": 12.566370614359172, \"default_unit\": \"W\", \"limits\": [null, null], \"visible_if\": \"[component]pblum_mode:decoupled||[component]pblum_mode:component-coupled,[component]pblum_component:<component>\", \"Class\": \"FloatParameter\"}, {\"qualifier\": \"sample_from\", \"compute\": \"phoebe01\", \"kind\": \"phoebe\", \"context\": \"compute\", \"choices\": [], \"value\": [], \"Class\": \"SelectParameter\"}, {\"qualifier\": \"sample_from_combine\", \"compute\": \"phoebe01\", \"kind\": \"phoebe\", \"context\": \"compute\", \"choices\": [\"first\"], \"value\": \"first\", \"visible_if\": \"sample_from:<notempty>\", \"Class\": \"ChoiceParameter\"}, {\"qualifier\": \"sample_num\", \"compute\": \"phoebe01\", \"kind\": \"phoebe\", \"context\": \"compute\", \"value\": 10, \"limits\": [8, 1000000.0], \"visible_if\": \"sample_from:<notempty>\", \"Class\": \"IntParameter\"}, {\"qualifier\": \"sample_mode\", \"compute\": \"phoebe01\", \"kind\": \"phoebe\", \"context\": \"compute\", \"choices\": [\"all\", \"median\", \"1-sigma\", \"3-sigma\", \"5-sigma\"], \"value\": \"1-sigma\", \"visible_if\": \"sample_from:<notempty>\", \"Class\": \"ChoiceParameter\"}, {\"qualifier\": \"expose_samples\", \"compute\": \"phoebe01\", \"kind\": \"phoebe\", \"context\": \"compute\", \"value\": true, \"visible_if\": \"sample_from:<notempty>\", \"Class\": \"BoolParameter\"}, {\"qualifier\": \"expose_failed\", \"compute\": \"phoebe01\", \"kind\": \"phoebe\", \"context\": \"compute\", \"value\": true, \"visible_if\": \"sample_from:<notempty>\", \"Class\": \"BoolParameter\"}, {\"qualifier\": \"comments\", \"compute\": \"phoebe01\", \"kind\": \"phoebe\", \"context\": \"compute\", \"value\": \"\", \"Class\": \"StringParameter\"}, {\"qualifier\": \"use_server\", \"compute\": \"phoebe01\", \"kind\": \"phoebe\", \"context\": \"compute\", \"choices\": [\"none\"], \"value\": \"none\", \"Class\": \"ChoiceParameter\"}, {\"qualifier\": \"enabled\", \"dataset\": \"_default\", \"compute\": \"phoebe01\", \"kind\": \"phoebe\", \"context\": \"compute\", \"value\": true, \"Class\": \"BoolParameter\"}, {\"qualifier\": \"enabled\", \"feature\": \"_default\", \"compute\": \"phoebe01\", \"kind\": \"phoebe\", \"context\": \"compute\", \"value\": true, \"Class\": \"BoolParameter\"}, {\"qualifier\": \"dynamics_method\", \"compute\": \"phoebe01\", \"kind\": \"phoebe\", \"context\": \"compute\", \"choices\": [\"keplerian\"], \"value\": \"keplerian\", \"Class\": \"ChoiceParameter\"}, {\"qualifier\": \"ltte\", \"compute\": \"phoebe01\", \"kind\": \"phoebe\", \"context\": \"compute\", \"value\": false, \"Class\": \"BoolParameter\"}, {\"qualifier\": \"irrad_method\", \"compute\": \"phoebe01\", \"kind\": \"phoebe\", \"context\": \"compute\", \"choices\": [\"none\", \"wilson\", \"horvat\"], \"value\": \"horvat\", \"Class\": \"ChoiceParameter\"}, {\"qualifier\": \"boosting_method\", \"compute\": \"phoebe01\", \"kind\": \"phoebe\", \"context\": \"compute\", \"choices\": [\"none\"], \"value\": \"none\", \"Class\": \"ChoiceParameter\"}, {\"qualifier\": \"mesh_method\", \"component\": \"_default\", \"compute\": \"phoebe01\", \"kind\": \"phoebe\", \"context\": \"compute\", \"choices\": [\"marching\"], \"value\": \"marching\", \"visible_if\": \"hierarchy.is_meshable:true\", \"Class\": \"ChoiceParameter\"}, {\"qualifier\": \"ntriangles\", \"component\": \"_default\", \"compute\": \"phoebe01\", \"kind\": \"phoebe\", \"context\": \"compute\", \"value\": 1500, \"limits\": [100, null], \"visible_if\": \"mesh_method:marching,hierarchy.is_meshable:true\", \"Class\": \"IntParameter\"}, {\"qualifier\": \"distortion_method\", \"component\": \"_default\", \"compute\": \"phoebe01\", \"kind\": \"phoebe\", \"context\": \"compute\", \"choices\": [\"roche\", \"rotstar\", \"sphere\", \"none\"], \"value\": \"roche\", \"visible_if\": \"mesh_method:marching,hierarchy.is_meshable:true\", \"Class\": \"ChoiceParameter\"}, {\"qualifier\": \"eclipse_method\", \"compute\": \"phoebe01\", \"kind\": \"phoebe\", \"context\": \"compute\", \"choices\": [\"native\", \"only_horizon\"], \"value\": \"native\", \"Class\": \"ChoiceParameter\"}, {\"qualifier\": \"horizon_method\", \"compute\": \"phoebe01\", \"kind\": \"phoebe\", \"context\": \"compute\", \"choices\": [\"boolean\"], \"value\": \"boolean\", \"visible_if\": \"eclipse_method:native\", \"Class\": \"ChoiceParameter\"}, {\"qualifier\": \"atm\", \"component\": \"_default\", \"compute\": \"phoebe01\", \"kind\": \"phoebe\", \"context\": \"compute\", \"choices\": [\"ck2004\", \"extern_atmx\", \"phoenix\", \"extern_planckint\", \"blackbody\"], \"value\": \"ck2004\", \"Class\": \"ChoiceParameter\"}, {\"qualifier\": \"fti_method\", \"dataset\": \"_default\", \"compute\": \"phoebe01\", \"kind\": \"phoebe\", \"context\": \"compute\", \"choices\": [\"none\", \"oversample\"], \"value\": \"none\", \"Class\": \"ChoiceParameter\"}, {\"qualifier\": \"fti_oversample\", \"dataset\": \"_default\", \"compute\": \"phoebe01\", \"kind\": \"phoebe\", \"context\": \"compute\", \"value\": 5, \"limits\": [1, null], \"visible_if\": \"fti_method:oversample\", \"Class\": \"IntParameter\"}, {\"qualifier\": \"rv_method\", \"component\": \"_default\", \"dataset\": \"_default\", \"compute\": \"phoebe01\", \"kind\": \"phoebe\", \"context\": \"compute\", \"choices\": [\"flux-weighted\", \"dynamical\"], \"value\": \"flux-weighted\", \"Class\": \"ChoiceParameter\"}, {\"qualifier\": \"rv_grav\", \"component\": \"_default\", \"dataset\": \"_default\", \"compute\": \"phoebe01\", \"kind\": \"phoebe\", \"context\": \"compute\", \"value\": false, \"visible_if\": \"rv_method:flux-weighted\", \"Class\": \"BoolParameter\"}, {\"qualifier\": \"mesh_method\", \"component\": \"primary\", \"compute\": \"phoebe01\", \"kind\": \"phoebe\", \"context\": \"compute\", \"choices\": [\"marching\"], \"value\": \"marching\", \"visible_if\": \"hierarchy.is_meshable:true\", \"Class\": \"ChoiceParameter\"}, {\"qualifier\": \"mesh_method\", \"component\": \"secondary\", \"compute\": \"phoebe01\", \"kind\": \"phoebe\", \"context\": \"compute\", \"choices\": [\"marching\"], \"value\": \"marching\", \"visible_if\": \"hierarchy.is_meshable:true\", \"Class\": \"ChoiceParameter\"}, {\"qualifier\": \"ntriangles\", \"component\": \"primary\", \"compute\": \"phoebe01\", \"kind\": \"phoebe\", \"context\": \"compute\", \"value\": 1500, \"limits\": [100, null], \"visible_if\": \"mesh_method:marching,hierarchy.is_meshable:true\", \"Class\": \"IntParameter\"}, {\"qualifier\": \"ntriangles\", \"component\": \"secondary\", \"compute\": \"phoebe01\", \"kind\": \"phoebe\", \"context\": \"compute\", \"value\": 1500, \"limits\": [100, null], \"visible_if\": \"mesh_method:marching,hierarchy.is_meshable:true\", \"Class\": \"IntParameter\"}, {\"qualifier\": \"distortion_method\", \"component\": \"primary\", \"compute\": \"phoebe01\", \"kind\": \"phoebe\", \"context\": \"compute\", \"choices\": [\"roche\", \"rotstar\", \"sphere\", \"none\"], \"value\": \"roche\", \"visible_if\": \"mesh_method:marching,hierarchy.is_meshable:true\", \"Class\": \"ChoiceParameter\"}, {\"qualifier\": \"distortion_method\", \"component\": \"secondary\", \"compute\": \"phoebe01\", \"kind\": \"phoebe\", \"context\": \"compute\", \"choices\": [\"roche\", \"rotstar\", \"sphere\", \"none\"], \"value\": \"roche\", \"visible_if\": \"mesh_method:marching,hierarchy.is_meshable:true\", \"Class\": \"ChoiceParameter\"}, {\"qualifier\": \"atm\", \"component\": \"primary\", \"compute\": \"phoebe01\", \"kind\": \"phoebe\", \"context\": \"compute\", \"choices\": [\"ck2004\", \"extern_atmx\", \"phoenix\", \"extern_planckint\", \"blackbody\"], \"value\": \"ck2004\", \"Class\": \"ChoiceParameter\"}, {\"qualifier\": \"atm\", \"component\": \"secondary\", \"compute\": \"phoebe01\", \"kind\": \"phoebe\", \"context\": \"compute\", \"choices\": [\"ck2004\", \"extern_atmx\", \"phoenix\", \"extern_planckint\", \"blackbody\"], \"value\": \"ck2004\", \"Class\": \"ChoiceParameter\"}, {\"qualifier\": \"enabled\", \"dataset\": \"lc01\", \"compute\": \"phoebe01\", \"kind\": \"phoebe\", \"context\": \"compute\", \"value\": true, \"Class\": \"BoolParameter\"}, {\"qualifier\": \"fti_method\", \"dataset\": \"lc01\", \"compute\": \"phoebe01\", \"kind\": \"phoebe\", \"context\": \"compute\", \"choices\": [\"none\", \"oversample\"], \"value\": \"none\", \"Class\": \"ChoiceParameter\"}, {\"qualifier\": \"fti_oversample\", \"dataset\": \"lc01\", \"compute\": \"phoebe01\", \"kind\": \"phoebe\", \"context\": \"compute\", \"value\": 5, \"limits\": [1, null], \"visible_if\": \"fti_method:oversample\", \"Class\": \"IntParameter\"}, {\"qualifier\": \"phoebe_version\", \"context\": \"setting\", \"value\": \"workshop2021\", \"Class\": \"StringParameter\"}, {\"qualifier\": \"dict_filter\", \"context\": \"setting\", \"value\": {}, \"Class\": \"DictParameter\"}, {\"qualifier\": \"dict_set_all\", \"context\": \"setting\", \"value\": false, \"Class\": \"BoolParameter\"}, {\"qualifier\": \"run_checks_compute\", \"context\": \"setting\", \"choices\": [\"phoebe01\"], \"value\": [\"*\"], \"Class\": \"SelectParameter\"}, {\"qualifier\": \"run_checks_solver\", \"context\": \"setting\", \"choices\": [], \"value\": [\"*\"], \"Class\": \"SelectParameter\"}, {\"qualifier\": \"run_checks_solution\", \"context\": \"setting\", \"choices\": [], \"value\": [\"*\"], \"Class\": \"SelectParameter\"}, {\"qualifier\": \"run_checks_figure\", \"context\": \"setting\", \"choices\": [\"lcfig01\"], \"value\": [\"*\"], \"Class\": \"SelectParameter\"}, {\"qualifier\": \"run_checks_server\", \"context\": \"setting\", \"choices\": [], \"value\": [\"*\"], \"Class\": \"SelectParameter\"}, {\"qualifier\": \"auto_add_figure\", \"context\": \"setting\", \"value\": true, \"Class\": \"BoolParameter\"}, {\"qualifier\": \"auto_remove_figure\", \"context\": \"setting\", \"value\": true, \"Class\": \"BoolParameter\"}, {\"qualifier\": \"web_client\", \"context\": \"setting\", \"value\": false, \"Class\": \"BoolParameter\"}, {\"qualifier\": \"web_client_url\", \"context\": \"setting\", \"value\": \"ui.phoebe-project.org\", \"Class\": \"StringParameter\"}]', object_pairs_hook=phoebe.utils.parse_json);\r\n",
      "b = phoebe.open(bdict, import_from_older=True);\r\n",
      "import sys;\r\n",
      "\r\n",
      "model_ps = b.run_compute(out_fname=sys.argv[0]+'.out', use_server='none', in_export_script=True, irrad_method='none',compute=['phoebe01'],model='latest',dataset=None,do_create_fig_params=True);\r\n",
      "b.filter(context='model', model=model_ps.model, check_visible=False).save(sys.argv[0]+'.out', incl_uniqueid=True);\r\n",
      "# NOTE: this script only includes parameters needed to call the requested run_compute, edit manually with caution!\r\n"
     ]
    }
   ],
   "source": [
    "!cat export_compute.py"
   ]
  },
  {
   "cell_type": "markdown",
   "metadata": {},
   "source": [
    "Now copy this script to your server of choice, make sure phoebe is installed, and run or submit to the scheduler.\n",
    "\n",
    "For the sake of this tutorial, we'll just run it locally in the notebook (you may need to make sure this runs in the same environment or change `python3` to whatever you use on your system for phoebe)."
   ]
  },
  {
   "cell_type": "code",
   "execution_count": 4,
   "metadata": {},
   "outputs": [
    {
     "name": "stdout",
     "output_type": "stream",
     "text": [
      "100%|█████████████████████████████████████████| 501/501 [00:08<00:00, 61.08it/s]\n"
     ]
    }
   ],
   "source": [
    "!python3 export_compute.py"
   ]
  },
  {
   "cell_type": "markdown",
   "metadata": {},
   "source": [
    "This then creates the `export_compute.py.out` file (and for solvers with `progress_every_niters`, would create `export_compute.py.out.progress` for intermediate outputs).  Just copy this file back to your local machine and then load it using [b.import_model](http://phoebe-project.org/docs/2.3/api/phoebe.frontend.bundle.Bundle.import_model.md) or [b.import_solution](http://phoebe-project.org/docs/2.3/api/phoebe.frontend.bundle.Bundle.import_solution.md).\n",
    "\n",
    "If you already passed `model` or `solution` to the export method, that tag will be used by default.  But you can also override during import."
   ]
  },
  {
   "cell_type": "code",
   "execution_count": 5,
   "metadata": {},
   "outputs": [
    {
     "data": {
      "text/plain": [
       "<ParameterSet: 3 parameters | qualifiers: times, comments, fluxes>"
      ]
     },
     "execution_count": 5,
     "metadata": {},
     "output_type": "execute_result"
    }
   ],
   "source": [
    "b.import_model('export_compute.py.out', model='model_from_export')"
   ]
  },
  {
   "cell_type": "code",
   "execution_count": 6,
   "metadata": {},
   "outputs": [
    {
     "data": {
      "image/png": "[encoded data removed]",
      "text/plain": [
       "<Figure size 576x432 with 1 Axes>"
      ]
     },
     "metadata": {
      "needs_background": "light"
     },
     "output_type": "display_data"
    }
   ],
   "source": [
    "_ = b.plot(model='model_from_export', show=True)"
   ]
  },
  {
   "cell_type": "markdown",
   "metadata": {},
   "source": [
    "## Preview: Using AWS Server\n",
    "\n",
    "**IMPORTANT**: this should currently be considered *experimental* and is subject to changes before being released.  See [running jobs on external compute resources](./Tutorial_09_server.ipynb) for general options and running jobs on a Remote Slurm Machine.\n",
    "\n",
    "Follow the [crimpl AWS configuration steps](https://crimpl.readthedocs.io/en/latest/AWSEC2.html) and create and save a crimpl configuration called `'aws'`."
   ]
  },
  {
   "cell_type": "code",
   "execution_count": 7,
   "metadata": {},
   "outputs": [
    {
     "data": {
      "text/plain": [
       "<ParameterSet: 7 parameters | qualifiers: terminate_on_complete, crimpl_name, conda_env, nprocs, use_mpi, isolate_env, install_deps>"
      ]
     },
     "execution_count": 7,
     "metadata": {},
     "output_type": "execute_result"
    }
   ],
   "source": [
    "b.add_server('awsec2', crimpl_name='aws', server='aws')"
   ]
  },
  {
   "cell_type": "code",
   "execution_count": 8,
   "metadata": {},
   "outputs": [
    {
     "name": "stdout",
     "output_type": "stream",
     "text": [
      "ParameterSet: 7 parameters\n",
      "           crimpl_name@aws@server: aws\n",
      "             conda_env@aws@server: default\n",
      "           isolate_env@aws@server: False\n",
      "                nprocs@aws@server: 4\n",
      "               use_mpi@aws@server: True\n",
      "          install_deps@aws@server: True\n",
      "   terminate_on_complete@aws@s...: True\n"
     ]
    }
   ],
   "source": [
    "print(b.filter(server='aws'))"
   ]
  },
  {
   "cell_type": "markdown",
   "metadata": {},
   "source": [
    "`terminate_on_complete`: if `True` the AWS EC2 instance will immediately terminate once the job is completed, but the volume will remain active.  Retrieving the results will then spawn a new EC2 instance on the fly.  This is useful for long jobs where you may not be checking the results quickly, but adds extra overhead (and cost) for short jobs."
   ]
  },
  {
   "cell_type": "code",
   "execution_count": 9,
   "metadata": {},
   "outputs": [],
   "source": [
    "b.set_value('terminate_on_complete', False)\n",
    "b.set_value('use_mpi', False)\n",
    "b.set_value('conda_env', 'phoebe_workshop')"
   ]
  },
  {
   "cell_type": "markdown",
   "metadata": {},
   "source": [
    "Since this is the first time creating this server, the following steps will happen:\n",
    "* a single-processor EC2 instance will be created and a new volume created and attached\n",
    "* any setup/installation will be completed\n",
    "* this single-processor instance will be terminated\n",
    "* a new EC2 instance with `nprocs` will be launched and the persistent volume attached\n",
    "* the job will be run\n",
    "* if `terminate_on_complete=True`: the multi-proc EC2 instance is terminated, and future checks for status/output files will launch a new single-processor EC2\n",
    "\n",
    "Note that otherwise, you are responsible for terminating the instance and/or deleting the volume!"
   ]
  },
  {
   "cell_type": "code",
   "execution_count": null,
   "metadata": {},
   "outputs": [],
   "source": [
    "b.run_compute(use_server='aws')"
   ]
  },
  {
   "cell_type": "code",
   "execution_count": null,
   "metadata": {},
   "outputs": [],
   "source": [
    "_ = b.plot(show=True)"
   ]
  },
  {
   "cell_type": "markdown",
   "metadata": {},
   "source": [
    "### Checking and Managing AWS Resources\n",
    "\n",
    "It is most convenient to manage the state of EC2 instances and volumes from the [AWSEC2Server](https://crimpl.readthedocs.io/en/latest/api/AWSEC2Server.md) and [AWSEC2Job](https://crimpl.readthedocs.io/en/latest/api/AWSEC2Job.md) methods themselves.  However, top-level functions also exist to list all active instances and volumes within EC2 that are managed by **crimpl**.\n",
    "\n",
    "* [list_awsec2_instances](https://crimpl.readthedocs.io/en/latest/api/crimpl.list_awsec2_instances.md)\n",
    "* [list_awsec2_volumes](https://crimpl.readthedocs.io/en/latest/api/crimpl.list_awsec2_volumes.md)\n",
    "\n",
    "If an instance or volume is running that is no longer needed, they can be manually terminated/deleted via:\n",
    "\n",
    "* [terminate_awsec2_instance](https://crimpl.readthedocs.io/en/latest/api/crimpl.terminate_awsec2_instance.md)\n",
    "* [delete_awsec2_volume](https://crimpl.readthedocs.io/en/latest/api/crimpl.delete_awsec2_volume.md)\n",
    "\n",
    "Or all instances/volumes managed by crimpl can be terminated/deleted at once:\n",
    "\n",
    "* [terminate_all_awsec2_instances](https://crimpl.readthedocs.io/en/latest/api/crimpl.terminate_all_awsec2_instances.md)\n",
    "* [delete_all_awsec2_volumes](https://crimpl.readthedocs.io/en/latest/api/crimpl.delete_all_awsec2_volumes.md)\n",
    "\n",
    "And it never hurts to check the online AWS dashboard to make sure that there are no unexpected running services that could result in charges:\n",
    "\n",
    "* [AWS EC2 Instances Dashboard](https://console.aws.amazon.com/ec2/v2/home#Instances:)\n",
    "* [AWS EC2 Volumes Dashboard](https://console.aws.amazon.com/ec2/v2/home#Volumes:sort=desc:createTime)"
   ]
  },
  {
   "cell_type": "code",
   "execution_count": null,
   "metadata": {},
   "outputs": [],
   "source": [
    "print(phoebe.dependencies.crimpl.list_awsec2_instances())\n",
    "print(phoebe.dependencies.crimpl.list_awsec2_volumes())"
   ]
  },
  {
   "cell_type": "markdown",
   "metadata": {},
   "source": [
    "There are several ways we can access the **crimpl** server object:"
   ]
  },
  {
   "cell_type": "code",
   "execution_count": null,
   "metadata": {},
   "outputs": [],
   "source": [
    "s = phoebe.dependencies.crimpl.load_server('aws')"
   ]
  },
  {
   "cell_type": "code",
   "execution_count": null,
   "metadata": {},
   "outputs": [],
   "source": [
    "s = b.get_server_crimpl_object(server='aws')"
   ]
  },
  {
   "cell_type": "code",
   "execution_count": null,
   "metadata": {},
   "outputs": [],
   "source": [
    "s.terminate(delete_volume=True)"
   ]
  },
  {
   "cell_type": "code",
   "execution_count": null,
   "metadata": {},
   "outputs": [],
   "source": [
    "print(phoebe.dependencies.crimpl.list_awsec2_instances())\n",
    "print(phoebe.dependencies.crimpl.list_awsec2_volumes())"
   ]
  },
  {
   "cell_type": "code",
   "execution_count": null,
   "metadata": {},
   "outputs": [],
   "source": []
  }
 ],
 "metadata": {
  "kernelspec": {
   "display_name": "Python 3",
   "language": "python",
   "name": "python3"
  },
  "language_info": {
   "codemirror_mode": {
    "name": "ipython",
    "version": 3
   },
   "file_extension": ".py",
   "mimetype": "text/x-python",
   "name": "python",
   "nbconvert_exporter": "python",
   "pygments_lexer": "ipython3",
   "version": "3.8.5"
  }
 },
 "nbformat": 4,
 "nbformat_minor": 2
}
