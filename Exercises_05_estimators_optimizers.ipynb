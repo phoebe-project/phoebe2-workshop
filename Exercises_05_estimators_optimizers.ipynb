{
 "cells": [
  {
   "cell_type": "markdown",
   "metadata": {},
   "source": [
    "# Exercises #5: Estimators & Optimizers\n",
    "\n",
    "These exercises are designed to be done anytime after Tutorial #8b (optimizers)"
   ]
  },
  {
   "cell_type": "markdown",
   "metadata": {},
   "source": [
    "# \\# 1: Estimators\n",
    "\n",
    "Run the demonstrated estimators on the test case (the light curve and radial velocity curves can be found in data/testcase) or your own data. (The test case is more complicated than the one demonstrated and would require more parameter tweaking and back and forth to get a good estimate!).\n",
    "\n",
    "Refer to the docs in http://phoebe-project.org/docs/2.3/api/phoebe.parameters.solver if you need to tweak additional parameters that haven't been covered in the tutorials. For example, if you're using your own data and have a lot of data points, you can bin the data by passing `phase_bin=True` and `phase_nbins` in the geometry estimators."
   ]
  },
  {
   "cell_type": "code",
   "execution_count": null,
   "metadata": {},
   "outputs": [],
   "source": []
  }
 ],
 "metadata": {
  "kernelspec": {
   "display_name": "Python 2",
   "language": "python",
   "name": "python2"
  },
  "language_info": {
   "codemirror_mode": {
    "name": "ipython",
    "version": 2
   },
   "file_extension": ".py",
   "mimetype": "text/x-python",
   "name": "python",
   "nbconvert_exporter": "python",
   "pygments_lexer": "ipython2",
   "version": "2.7.18"
  }
 },
 "nbformat": 4,
 "nbformat_minor": 2
}
