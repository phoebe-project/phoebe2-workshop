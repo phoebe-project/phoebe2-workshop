{
 "cells": [
  {
   "cell_type": "markdown",
   "metadata": {},
   "source": [
    "# Exercises #5: Estimators & Optimizers\n",
    "\n",
    "These exercises are designed to be done anytime after Tutorial #8b (optimizers).\n",
    "\n",
    "Download the following files, and run estimators and optimizers to try to find a decent fit to the observations.  \n",
    "* [lc.data](https://github.com/phoebe-project/phoebe2-workshop/raw/2021june/data/testcase/lc.data) (times, fluxes, sigmas)\n",
    "* [rv1.data](https://github.com/phoebe-project/phoebe2-workshop/raw/2021june/data/testcase/rv1.data) (times, rvs, sigmas for primary star)\n",
    "* [rv2.data](https://github.com/phoebe-project/phoebe2-workshop/raw/2021june/data/testcase/rv2.data) (times, rvs, sigmas for secondary star - same times `rv1.data`, so feel free to merge into a single PHOEBE dataset)\n",
    "\n",
    "\n",
    "The test case is more complicated than the one demonstrated and would require more parameter tweaking and back and forth to get a good estimate!.\n",
    "\n",
    "Refer to the docs in http://phoebe-project.org/docs/2.3/api/phoebe.parameters.solver if you need to tweak additional parameters that haven't been covered in the tutorials. For example, if you're using your own data and have a lot of data points, you can bin the data by passing `phase_bin=True` and `phase_nbins` in the geometry estimators.\n",
    "\n",
    "For optimization runs, feel free to submit the jobs remotely and make use of `progress_every_niters` and `b.load_job_progress`."
   ]
  }
 ],
 "metadata": {
  "kernelspec": {
   "display_name": "Python 3",
   "language": "python",
   "name": "python3"
  },
  "language_info": {
   "codemirror_mode": {
    "name": "ipython",
    "version": 3
   },
   "file_extension": ".py",
   "mimetype": "text/x-python",
   "name": "python",
   "nbconvert_exporter": "python",
   "pygments_lexer": "ipython3",
   "version": "3.8.5"
  }
 },
 "nbformat": 4,
 "nbformat_minor": 2
}
