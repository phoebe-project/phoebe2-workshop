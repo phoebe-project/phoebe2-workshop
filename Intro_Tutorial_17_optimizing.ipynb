{
 "cells": [
  {
   "cell_type": "markdown",
   "metadata": {},
   "source": [
    "In tutorial we'll see different options for optimizing PHOEBE's performance."
   ]
  },
  {
   "cell_type": "markdown",
   "metadata": {},
   "source": [
    "# Setup"
   ]
  },
  {
   "cell_type": "code",
   "execution_count": 1,
   "metadata": {},
   "outputs": [],
   "source": [
    "import phoebe\n",
    "from phoebe import u,c"
   ]
  },
  {
   "cell_type": "code",
   "execution_count": 2,
   "metadata": {},
   "outputs": [],
   "source": [
    "logger = phoebe.logger(clevel='WARNING')"
   ]
  },
  {
   "cell_type": "code",
   "execution_count": 3,
   "metadata": {},
   "outputs": [],
   "source": [
    "b = phoebe.default_binary()"
   ]
  },
  {
   "cell_type": "markdown",
   "metadata": {},
   "source": [
    "# Package-level options\n",
    "\n",
    "For more details, see the [optimizing PHOEBE tutorial](http://phoebe-project.org/docs/development/tutorials/optimizing)."
   ]
  },
  {
   "cell_type": "markdown",
   "metadata": {},
   "source": [
    "### interactive checks\n",
    "\n",
    "By default, interactive checks are enabled when PHOEBE is being run in an interactive session (either an interactive python, IPython, or Jupyter notebook session), but disabled when PHOEBE is run as a script directly from the console. When enabled, PHOEBE will re-run the system checks after every single change to the bundle, raising warnings via the logger as soon as they occur.\n",
    "\n",
    "* [phoebe.interactive_checks_off](http://phoebe-project.org/docs/development/api/phoebe.interactive_checks_off)\n",
    "* [phoebe.interactive_checks_on](http://phoebe-project.org/docs/development/api/phoebe.interactive_checks_on)\n",
    "* [b.run_checks](http://phoebe-project.org/docs/development/api/phoebe.frontend.bundle.Bundle.run_checks)"
   ]
  },
  {
   "cell_type": "code",
   "execution_count": 4,
   "metadata": {},
   "outputs": [
    {
     "name": "stderr",
     "output_type": "stream",
     "text": [
      "Fri, 05 Jul 2019 10:42 PARAMETERS   WARNING primary is overflowing at periastron (requiv=10.0, requiv_max=2.0132751765)  If not addressed, this warning will continue to be raised and will throw an error at run_compute.\n",
      "Fri, 05 Jul 2019 10:42 PARAMETERS   WARNING primary is overflowing at periastron (requiv=10.0, requiv_max=2.0132751765)  If not addressed, this warning will continue to be raised and will throw an error at run_compute.\n"
     ]
    }
   ],
   "source": [
    "b.set_value('requiv', component='primary', value=10)"
   ]
  },
  {
   "cell_type": "code",
   "execution_count": 5,
   "metadata": {},
   "outputs": [],
   "source": [
    "b.set_value('requiv', component='primary', value=1)"
   ]
  },
  {
   "cell_type": "code",
   "execution_count": 6,
   "metadata": {},
   "outputs": [
    {
     "name": "stderr",
     "output_type": "stream",
     "text": [
      "Fri, 05 Jul 2019 10:42 PHOEBE       WARNING checks will not be run until 'run_checks' or 'run_compute' is called.\n"
     ]
    }
   ],
   "source": [
    "phoebe.interactive_checks_off()"
   ]
  },
  {
   "cell_type": "code",
   "execution_count": 7,
   "metadata": {},
   "outputs": [],
   "source": [
    "b.set_value('requiv', component='primary', value=10)"
   ]
  },
  {
   "cell_type": "code",
   "execution_count": 8,
   "metadata": {},
   "outputs": [
    {
     "name": "stdout",
     "output_type": "stream",
     "text": [
      "(False, 'primary is overflowing at periastron (requiv=10.0, requiv_max=2.0132751765)')\n"
     ]
    }
   ],
   "source": [
    "print(b.run_checks())"
   ]
  },
  {
   "cell_type": "code",
   "execution_count": 9,
   "metadata": {},
   "outputs": [],
   "source": [
    "b.set_value('requiv', component='primary', value=1)"
   ]
  },
  {
   "cell_type": "code",
   "execution_count": 10,
   "metadata": {},
   "outputs": [
    {
     "name": "stdout",
     "output_type": "stream",
     "text": [
      "(True, '')\n"
     ]
    }
   ],
   "source": [
    "print(b.run_checks())"
   ]
  },
  {
   "cell_type": "code",
   "execution_count": 11,
   "metadata": {},
   "outputs": [],
   "source": [
    "phoebe.interactive_checks_on()"
   ]
  },
  {
   "cell_type": "markdown",
   "metadata": {},
   "source": [
    "### interactive constraints\n",
    "\n",
    "By default, interactive constraints are always **enabled** in PHOEBE, unless explicitly disabled. Whenever a value is changed in the bundle that affects the value of a constrained value, that constraint is immediately executed and all applicable values updated. The ensures that all constrained values are \"up-to-date\".\n",
    "\n",
    "If disabled, constraints are delayed and only executed when needed by PHOEBE (when calling run_compute, for example). This can save significant time, as each value that needs updating only needs to have its constraint executed once, instead of multiple times.\n",
    "\n",
    "* [phoebe.interactive_constraints_off](http://phoebe-project.org/docs/development/api/phoebe.interactive_constraints_off)\n",
    "* [phoebe.interactive_constraints_on](http://phoebe-project.org/docs/development/api/phoebe.interactive_constraints_on)\n",
    "* [b.run_delayed_constraints](http://phoebe-project.org/docs/development/api/phoebe.frontend.bundle.Bundle.run_delayed_constraints)"
   ]
  },
  {
   "cell_type": "code",
   "execution_count": 12,
   "metadata": {},
   "outputs": [
    {
     "name": "stdout",
     "output_type": "stream",
     "text": [
      "5.3\n"
     ]
    }
   ],
   "source": [
    "print(b.get_value('asini', context='component'))"
   ]
  },
  {
   "cell_type": "code",
   "execution_count": 13,
   "metadata": {},
   "outputs": [],
   "source": [
    "b.set_value('sma', component='binary', value=6)"
   ]
  },
  {
   "cell_type": "code",
   "execution_count": 14,
   "metadata": {},
   "outputs": [
    {
     "name": "stdout",
     "output_type": "stream",
     "text": [
      "6.0\n"
     ]
    }
   ],
   "source": [
    "print(b.get_value('asini', context='component'))"
   ]
  },
  {
   "cell_type": "code",
   "execution_count": 15,
   "metadata": {},
   "outputs": [
    {
     "name": "stderr",
     "output_type": "stream",
     "text": [
      "Fri, 05 Jul 2019 10:43 PHOEBE       WARNING constraints will not be run until 'run_delayed_constraints' or 'run_compute' is called.  This may result in inconsistent parameters if printing values before calling either of these methods.\n"
     ]
    }
   ],
   "source": [
    "phoebe.interactive_constraints_off()"
   ]
  },
  {
   "cell_type": "code",
   "execution_count": 16,
   "metadata": {},
   "outputs": [],
   "source": [
    "b.set_value('sma', component='binary', value=7)"
   ]
  },
  {
   "cell_type": "code",
   "execution_count": 17,
   "metadata": {},
   "outputs": [
    {
     "name": "stdout",
     "output_type": "stream",
     "text": [
      "6.0\n"
     ]
    }
   ],
   "source": [
    "print(b.get_value('asini', context='component'))"
   ]
  },
  {
   "cell_type": "code",
   "execution_count": 18,
   "metadata": {},
   "outputs": [
    {
     "data": {
      "text/plain": [
       "[<Parameter: asini=7.0 solRad | keys: description, value, quantity, default_unit, limits, visible_if, copy_for>,\n",
       " <Parameter: mass=2.30118087805 solMass | keys: description, value, quantity, default_unit, limits, visible_if, copy_for>,\n",
       " <Parameter: sma=3.5 solRad | keys: description, value, quantity, default_unit, limits, visible_if, copy_for>,\n",
       " <Parameter: requiv_max=2.65904268599 solRad | keys: description, value, quantity, default_unit, limits, visible_if, copy_for>,\n",
       " <Parameter: mass=2.30118087805 solMass | keys: description, value, quantity, default_unit, limits, visible_if, copy_for>,\n",
       " <Parameter: sma=3.5 solRad | keys: description, value, quantity, default_unit, limits, visible_if, copy_for>,\n",
       " <Parameter: requiv_max=2.65904268599 solRad | keys: description, value, quantity, default_unit, limits, visible_if, copy_for>,\n",
       " <Parameter: logg=4.80001838385 | keys: description, value, quantity, default_unit, limits, visible_if, copy_for>,\n",
       " <Parameter: mass=2.30118087805 solMass | keys: description, value, quantity, default_unit, limits, visible_if, copy_for>,\n",
       " <Parameter: logg=4.80001838385 | keys: description, value, quantity, default_unit, limits, visible_if, copy_for>,\n",
       " <Parameter: mass=2.30118087805 solMass | keys: description, value, quantity, default_unit, limits, visible_if, copy_for>]"
      ]
     },
     "execution_count": 18,
     "metadata": {},
     "output_type": "execute_result"
    }
   ],
   "source": [
    "b.run_delayed_constraints()"
   ]
  },
  {
   "cell_type": "code",
   "execution_count": 19,
   "metadata": {},
   "outputs": [
    {
     "name": "stdout",
     "output_type": "stream",
     "text": [
      "7.0\n"
     ]
    }
   ],
   "source": [
    "print(b.get_value('asini', context='component'))"
   ]
  },
  {
   "cell_type": "markdown",
   "metadata": {},
   "source": [
    "# Environment Variables\n",
    "\n",
    "Additionally, you can skip expensive imports by setting the following environment variables (these can't be handled with package-level options as the imports already would have happened).\n",
    "\n",
    "Setting inline before calling python will set for that single session of PHOEBE:\n",
    "\n",
    "```\n",
    "PHOEBE_ENABLE_PLOTTING=FALSE python [script.py]\n",
    "```\n",
    "\n",
    "Setting via the os package in python before importing PHOEBE allows you to set the setting everytime you run a given script:\n",
    "\n",
    "```\n",
    "import os\n",
    "os.environ['PHOEBE_ENABLE_PLOTTING'] = 'FALSE'\n",
    "import phoebe\n",
    "```\n",
    "Note for all boolean settings, the string is converted to uppercase and compared to 'TRUE'.\n",
    "\n",
    "### PHOEBE_ENABLE_PLOTTING\n",
    "PHOEBE_ENABLE_PLOTTING (TRUE by default) allows for disabling plotting within PHOEBE and therefore skipping the import of all plotting libraries (which take up a significant amount of the time it takes to import phoebe).\n",
    "\n",
    "### PHOEBE_ENABLE_ONLINE_PASSBANDS\n",
    "PHOEBE_ENABLE_ONLINE_PASSBANDS (TRUE by default) dictates whether online passbands are queried and available for on-the-fly downloading. If you are sure you have all the local passbands you need, set this to False to save some time."
   ]
  },
  {
   "cell_type": "markdown",
   "metadata": {},
   "source": [
    "# Running in MPI\n",
    "\n",
    "For more details, see the [MPI tutorial](http://phoebe-project.org/docs/development/tutorials/mpi).\n",
    "\n",
    "There are several \"modes of operation\" depending on your settings and whether you're running your script within python or mpirun. You can enable/disable MPI within phoebe by placing [phoebe.mpi_on()](http://phoebe-project.org/docs/devel/api/phoebe.mpi_on) or [phoebe.mpi_off()]((http://phoebe-project.org/docs/devel/api/phoebe.mpi_on)) at the top of your script. If you do not do this, MPI will be enabled by default if within mpirun and disabled otherwise.\n",
    "\n",
    "When MPI is enabled, PHOEBE will do the following:\n",
    "\n",
    "* if within mpirun: uses PHOEBE's built-in per-dataset or per-time parallelization. The main code you write in your script is executed on a single processor, but during run_compute the task is divided among the available resources.\n",
    "* if not within mpirun (ie. in a serial python environment): will spawn a separate thread at phoebe.frontend.bundle.Bundle.run_compute, using number of processors sent to phoebe.mpi_on (for example: phoebe.mpi_on(nprocs=4)).\n",
    "\n",
    "When MPI is disabled, PHOEBE will do the following:\n",
    "\n",
    "* if within mpirun: PHOEBE will run equally on all processors. The user can customize parallelization with access to phoebe.mpi.nprocs, phoebe.mpi.myrank. Your script runs equally on each processor, meaning you have multiple (separate) copies of the bundle.\n",
    "* if not within mpirun (ie. in a serial python environment): PHOEBE will run on a single processor in serial-mode.\n",
    "\n"
   ]
  }
 ],
 "metadata": {
  "kernelspec": {
   "display_name": "Python 3",
   "language": "python",
   "name": "python3"
  },
  "language_info": {
   "codemirror_mode": {
    "name": "ipython",
    "version": 2
   },
   "file_extension": ".py",
   "mimetype": "text/x-python",
   "name": "python",
   "nbconvert_exporter": "python",
   "pygments_lexer": "ipython2",
   "version": "2.7.15+"
  }
 },
 "nbformat": 4,
 "nbformat_minor": 2
}
