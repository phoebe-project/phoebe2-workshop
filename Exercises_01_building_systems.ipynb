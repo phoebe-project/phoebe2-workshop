{
 "cells": [
  {
   "cell_type": "markdown",
   "metadata": {},
   "source": [
    "# Exercises #1: Building Systems\n",
    "\n",
    "These exercises are designed to be done anytime after Tutorial #2 (constraints).\n",
    "\n",
    "Don't feel like you need to do all of these - just pick and choose which seem the most interesting to you.  Make sure to save your notebooks and/or bundles, as [tomorrow's exercise](./Exercises_02_forward_models.ipynb) will have you generate synthetic models for these same system(s)."
   ]
  },
  {
   "cell_type": "markdown",
   "metadata": {},
   "source": [
    "# \\#1: Sun-Jupiter\n",
    "\n",
    "Create a default binary Bundle, re-parameterize so that you can set both.  Now set the value of the masses and the respective radii such that you have a Jupiter around a Sun.\n",
    "\n",
    "Hint: try using units to handle the conversion between Jupiter and Solar masses/radii.  You can always do `dir(phoebe.u)` to see a list of all available units, or `phoebe.u.solMass.find_equivalent_units()`.  For other quantities (orbital/rotation periods, sma, etc), you may need to lookup the values since they do not have units/constants available."
   ]
  },
  {
   "cell_type": "code",
   "execution_count": null,
   "metadata": {},
   "outputs": [],
   "source": []
  },
  {
   "cell_type": "markdown",
   "metadata": {},
   "source": [
    "# \\#2: Sun-Earth\n",
    "\n",
    "Create a Sun-Earth system.  Make sure to get the correct masses, radii, orbital period, separation, eccentricity, and rotational period."
   ]
  },
  {
   "cell_type": "code",
   "execution_count": null,
   "metadata": {},
   "outputs": [],
   "source": []
  },
  {
   "cell_type": "markdown",
   "metadata": {},
   "source": [
    "# \\#3: Advanced: Reproduce Systems from the Literature\n",
    "\n",
    "Find (or pick your favorite) EB solution in the literature and try to map the reported values in the paper into PHOEBE.\n",
    "\n",
    "If you'd like to try a semi-detached or contact binary, refer to the following tutorials:\n",
    "* [Advanced: Contact Binary Hierarchy](http://phoebe-project.org/docs/latest/tutorials/contact_binary_hierarchy)\n",
    "* [Advanced: Semidetached Systems](http://phoebe-project.org/docs/latest/tutorials/requiv_crit_semidetached)\n",
    "\n",
    "Depending on the code used for modeling, the results may be reported using parameters not readily available in PHOEBE. For detached systems, you can use any reported point radii (polar, equatorial, back/front) as approximations for the equivalent radius. If the solution is reported in equipotentials, you can convert them to radii using [phoebe.distortions.roche.pot_to_requiv](http://phoebe-project.org/docs/latest/api/phoebe.distortions.roche.pot_to_requiv) with `d=1-e` (as potentials are defined at periastron) along with an estimate of the semi-major axis from the RV semi-amplitudes, inclination, and eccentricity.  If you get stuck, don't hesitate to ask for help!"
   ]
  },
  {
   "cell_type": "code",
   "execution_count": null,
   "metadata": {},
   "outputs": [],
   "source": []
  }
 ],
 "metadata": {
  "kernelspec": {
   "display_name": "Python 3 (ipykernel)",
   "language": "python",
   "name": "python3"
  },
  "language_info": {
   "codemirror_mode": {
    "name": "ipython",
    "version": 3
   },
   "file_extension": ".py",
   "mimetype": "text/x-python",
   "name": "python",
   "nbconvert_exporter": "python",
   "pygments_lexer": "ipython3",
   "version": "3.9.7"
  }
 },
 "nbformat": 4,
 "nbformat_minor": 4
}
