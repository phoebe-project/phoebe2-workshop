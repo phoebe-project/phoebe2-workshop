{
 "cells": [
  {
   "cell_type": "markdown",
   "metadata": {},
   "source": [
    "# Exercises #1: Building Systems\n",
    "\n",
    "These exercises are designed to be done anytime after Tutorial #2 (constraints).\n",
    "\n",
    "Don't feel like you need to do all of these - just pick and choose which seem the most interesting to you.  Make sure to save your notebooks and/or bundles, as [tomorrow's exercise](./Exercises_02_forward_models.ipynb) will have you generate synthetic models for these same system(s)."
   ]
  },
  {
   "cell_type": "markdown",
   "metadata": {},
   "source": [
    "# \\#1: Sun-Jupiter\n",
    "\n",
    "Create a default binary Bundle, re-parameterize so that you can set both.  Now set the value of the masses and the respective radii such that you have a Jupiter around a Sun.\n",
    "\n",
    "Hint: try using units to handle the conversion between Jupiter and Solar masses/radii.  You can always do `dir(phoebe.u)` to see a list of all available units, or `phoebe.u.solMass.find_equivalent_units()`.  For other quantities (orbital/rotation periods, sma, etc), you may need to lookup the values since they do not have units/constants available."
   ]
  },
  {
   "cell_type": "code",
   "execution_count": null,
   "metadata": {},
   "outputs": [],
   "source": []
  },
  {
   "cell_type": "markdown",
   "metadata": {},
   "source": [
    "# \\#2: Sun-Earth\n",
    "\n",
    "Create a Sun-Earth system.  Make sure to get the correct masses, radii, orbital period, separation, eccentricity, and rotational period."
   ]
  },
  {
   "cell_type": "code",
   "execution_count": null,
   "metadata": {},
   "outputs": [],
   "source": []
  },
  {
   "cell_type": "markdown",
   "metadata": {},
   "source": [
    "# \\#3: Reproduce Systems from the Literature\n",
    "\n",
    "Find (or pick your favorite) EB solution in the literature and try to map the reported values in the paper into PHOEBE."
   ]
  },
  {
   "cell_type": "code",
   "execution_count": null,
   "metadata": {},
   "outputs": [],
   "source": []
  },
  {
   "cell_type": "markdown",
   "metadata": {},
   "source": [
    "# \\#4: Advanced: Reproduce Binaries from the CALEB Catalog\n",
    "\n",
    "Pick a system from the [Caleb catalog of EBs](http://caleb.eastern.edu/query_stars_by_type.php), click on one of the \"library sets\", and then view the BM3 input file.  Try to translate as many of these parameters as you can into PHOEBE.  \n",
    "\n",
    "Choose a detached binary first.  If you'd like to try a semi-detached or contact binary, refer to the following tutorials:\n",
    "* [Advanced: Contact Binary Hierarchy](http://phoebe-project.org/docs/2.3/tutorials/contact_binary_hierarchy)\n",
    "* [Advanced: Semidetached Systems](http://phoebe-project.org/docs/2.3/tutorials/requiv_crit_semidetached)\n",
    "\n",
    "\n",
    "Note that the [morphology definitions in caleb](http://caleb.eastern.edu/binary_type_definitions.php) are slightly different than PHOEBE. You may want to use the following:\n",
    "\n",
    "* Caleb's detached -> `phoebe.default_binary()`\n",
    "* Caleb's semi-detached or near-contact -> `phoebe.default_binary()` with semi-detached constraint on one component\n",
    "* Caleb's contact -> `phoebe.default_binary()` with semi-detached constraint on both components\n",
    "* Caleb's overcontact -> `phoebe.default_binary(contact_binary=True)`\n",
    "* Caleb's double-contact -> good luck! (you can try semi-detached constraints)\n",
    "\n",
    "For detached systems, you can try using `R1_BACK`, `R2_BACK` as the equivalent radius, but otherwise you will need to translate the equipotentials `OMEGA_1`, `OMEGA_2` using [phoebe.distortions.roche.pot_to_requiv](http://phoebe-project.org/docs/2.3/api/phoebe.distortions.roche.pot_to_requiv) with `d=1-e` (as potentials are defined at periastron) along with an estimate of the semi-major axis from the RV semi-amplitudes, inclination, and eccentricity.  If you get stuck, don't hesitate to ask for help!"
   ]
  },
  {
   "cell_type": "code",
   "execution_count": null,
   "metadata": {},
   "outputs": [],
   "source": []
  }
 ],
 "metadata": {
  "kernelspec": {
   "display_name": "Python 3",
   "language": "python",
   "name": "python3"
  },
  "language_info": {
   "codemirror_mode": {
    "name": "ipython",
    "version": 3
   },
   "file_extension": ".py",
   "mimetype": "text/x-python",
   "name": "python",
   "nbconvert_exporter": "python",
   "pygments_lexer": "ipython3",
   "version": "3.8.5"
  }
 },
 "nbformat": 4,
 "nbformat_minor": 2
}
