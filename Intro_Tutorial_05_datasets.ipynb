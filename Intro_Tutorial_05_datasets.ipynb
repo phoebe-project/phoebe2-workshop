{
 "cells": [
  {
   "cell_type": "markdown",
   "metadata": {},
   "source": [
    "In this tutorial, we'll learn about PHOEBE datasets, how to add them to the Bundle, and which options are available for light curve, radial velocity curves, orbits, and meshes."
   ]
  },
  {
   "cell_type": "markdown",
   "metadata": {},
   "source": [
    "# Setup"
   ]
  },
  {
   "cell_type": "code",
   "execution_count": 1,
   "metadata": {},
   "outputs": [],
   "source": [
    "import phoebe\n",
    "from phoebe import u,c"
   ]
  },
  {
   "cell_type": "code",
   "execution_count": 2,
   "metadata": {},
   "outputs": [],
   "source": [
    "logger = phoebe.logger(clevel='WARNING')"
   ]
  },
  {
   "cell_type": "code",
   "execution_count": 3,
   "metadata": {},
   "outputs": [],
   "source": [
    "b = phoebe.default_binary()"
   ]
  },
  {
   "cell_type": "markdown",
   "metadata": {},
   "source": [
    "# Datasets"
   ]
  },
  {
   "cell_type": "markdown",
   "metadata": {},
   "source": [
    "PHOEBE creates synthetic models of our binary system at the times and options provided by datasets (which do not necessarily need to contain observations, but can just be a list of times).  PHOEBE currently supports several different dataset kinds:\n",
    "\n",
    "* lc (light curves)\n",
    "* rv (radial velocitiy curves)\n",
    "* lp (line profiles)\n",
    "* orb (orbits)\n",
    "* mesh (meshes)\n",
    "\n",
    "In order to get the synthetic model, we must first add a dataset to the Bundle via [add_dataset](http://phoebe-project.org/docs/dev/api/phoebe.frontend.bundle.Bundle.add_dataset.md).  The first argument is the shorthand-notation for the kind (listed above).  Although this is the only *required* argument, you will usually also want to provide a list of times at which you want that dataset computed as well as a label for the dataset (if you don't provide a label, one will be created for you using the convention 'dataset_type' followed by a two digit integer, e.g. lc01).\n",
    "\n",
    "PHOEBE currently only supports forward-models (not fitting), so including fluxes and uncertainties is really only useful for the sake of plotting the model over your data.\n",
    "\n",
    "If you're unfamiliar with numpy, we will use two helpful functions: [linspace](https://docs.scipy.org/doc/numpy/reference/generated/numpy.linspace.html) and [arange](https://docs.scipy.org/doc/numpy/reference/generated/numpy.arange.html).  You could call np.linspace and np.arange directly, but PHOEBE also provides a shortcut to these which will save on the memory requirements within the Bundle."
   ]
  },
  {
   "cell_type": "markdown",
   "metadata": {},
   "source": [
    "### Light Curves"
   ]
  },
  {
   "cell_type": "code",
   "execution_count": 4,
   "metadata": {},
   "outputs": [
    {
     "data": {
      "text/plain": [
       "<ParameterSet: 22 parameters | contexts: dataset, compute, figure, constraint>"
      ]
     },
     "execution_count": 4,
     "metadata": {},
     "output_type": "execute_result"
    }
   ],
   "source": [
    "b.add_dataset('lc', times=phoebe.linspace(0,1,51), dataset='lc01')"
   ]
  },
  {
   "cell_type": "markdown",
   "metadata": {},
   "source": [
    "This attaches a set of 15 new Parameters to the Bundle.  Most have the context='dataset', but a few have context='compute'.  The 'times' Parameter is set with the provided array, and all Parameters are tagged with dataset='lc01'."
   ]
  },
  {
   "cell_type": "code",
   "execution_count": 5,
   "metadata": {},
   "outputs": [
    {
     "data": {
      "text/plain": [
       "['dataset', 'compute', 'constraint', 'figure']"
      ]
     },
     "execution_count": 5,
     "metadata": {},
     "output_type": "execute_result"
    }
   ],
   "source": [
    "b.filter(dataset='lc01').contexts"
   ]
  },
  {
   "cell_type": "markdown",
   "metadata": {},
   "source": [
    "Let's look at the new Parameters (for our light curve) with context='dataset'."
   ]
  },
  {
   "cell_type": "code",
   "execution_count": 6,
   "metadata": {},
   "outputs": [
    {
     "data": {
      "text/plain": [
       "['times',\n",
       " 'fluxes',\n",
       " 'passband',\n",
       " 'intens_weighting',\n",
       " 'compute_times',\n",
       " 'compute_phases',\n",
       " 'sigmas',\n",
       " 'pblum_mode',\n",
       " 'pblum_component',\n",
       " 'l3_mode',\n",
       " 'l3',\n",
       " 'exptime',\n",
       " 'ld_mode',\n",
       " 'pblum']"
      ]
     },
     "execution_count": 6,
     "metadata": {},
     "output_type": "execute_result"
    }
   ],
   "source": [
    "b.filter(dataset='lc01', context='dataset').qualifiers"
   ]
  },
  {
   "cell_type": "markdown",
   "metadata": {},
   "source": [
    "These Parameters describe the *observational* data (times, fluxes, sigmas), the passband information (passband, pblum, pblum_ref), limb-darkening (ld_func), and telescope/observational information (exptime, l3, intens_weighting).\n",
    "\n",
    "You may also notice the 'compute_times' and 'compute_phases' parameters.  'compute_times' (or 'compute_phases' - but more on that in the next tutorial) allows for overriding the values provided in 'times'.  Think of 'times' as the observational times that correspond to your actual data (if you have them) - and must have the same length as 'fluxes', if provided.  'compute_times' are the times that you want your model computed."
   ]
  },
  {
   "cell_type": "markdown",
   "metadata": {},
   "source": [
    "Now let's quickly look at the Parameters with context='compute'"
   ]
  },
  {
   "cell_type": "code",
   "execution_count": 7,
   "metadata": {},
   "outputs": [
    {
     "data": {
      "text/plain": [
       "['enabled', 'lc_method', 'fti_method']"
      ]
     },
     "execution_count": 7,
     "metadata": {},
     "output_type": "execute_result"
    }
   ],
   "source": [
    "b.filter(dataset='lc01', context='compute').qualifiers"
   ]
  },
  {
   "cell_type": "markdown",
   "metadata": {},
   "source": [
    "These set whether this dataset should be computed or ignored (enabled), as well as methods for computing the light curve (lc_method) and how to handle finite exposure times (fti_method)."
   ]
  },
  {
   "cell_type": "markdown",
   "metadata": {},
   "source": [
    "### Radial Velocities"
   ]
  },
  {
   "cell_type": "markdown",
   "metadata": {},
   "source": [
    "Now let's do the same for a radial velocity (rv) dataset"
   ]
  },
  {
   "cell_type": "code",
   "execution_count": 8,
   "metadata": {},
   "outputs": [
    {
     "data": {
      "text/plain": [
       "<ParameterSet: 21 parameters | contexts: dataset, compute, figure, constraint>"
      ]
     },
     "execution_count": 8,
     "metadata": {},
     "output_type": "execute_result"
    }
   ],
   "source": [
    "b.add_dataset('rv', times=phoebe.linspace(0,1,11), dataset='rv01')"
   ]
  },
  {
   "cell_type": "markdown",
   "metadata": {},
   "source": [
    "Let's look at the Parameters for a radial velocity dataset with context='dataset'"
   ]
  },
  {
   "cell_type": "code",
   "execution_count": 9,
   "metadata": {},
   "outputs": [
    {
     "data": {
      "text/plain": [
       "['compute_times',\n",
       " 'compute_phases',\n",
       " 'passband',\n",
       " 'intens_weighting',\n",
       " 'times',\n",
       " 'rvs',\n",
       " 'sigmas',\n",
       " 'ld_mode']"
      ]
     },
     "execution_count": 9,
     "metadata": {},
     "output_type": "execute_result"
    }
   ],
   "source": [
    "b.filter(dataset='rv01', context='dataset').qualifiers"
   ]
  },
  {
   "cell_type": "markdown",
   "metadata": {},
   "source": [
    "Here we see again Parameters describing the *observational* data (times, rvs, sigmas), the passband information (passband), limb-darkening (ld_func) and telescope/observational information (intens_weighting).  Some of the Parameters we saw in the lc dataset are not applicable when computing rvs, so are not included (l3, pblum).\n",
    "\n",
    "Currently, finite exposure times are not supported for radial velocities in PHOEBE, so there is no exptime Parameter.\n",
    "\n",
    "Note that there are actually **2** 'times' Parameters - one for each star.  When sending times=np.linspace(...) to b.add_dataset, both times Parameters received that value.  But, we could set separate times for the two components after by setting the values of the individual Parameters.\n",
    "\n",
    "Note: Technically you can also send a dictionary to when creating the dataset: b.add_dataset('rv', times={'primary': [0,1,2], 'secondary': [1,2,3]})"
   ]
  },
  {
   "cell_type": "code",
   "execution_count": 10,
   "metadata": {},
   "outputs": [
    {
     "data": {
      "text/plain": [
       "['primary', 'secondary']"
      ]
     },
     "execution_count": 10,
     "metadata": {},
     "output_type": "execute_result"
    }
   ],
   "source": [
    "b.filter(dataset='rv01', context='dataset', qualifier='times').components"
   ]
  },
  {
   "cell_type": "markdown",
   "metadata": {},
   "source": [
    "And now look at the added Parameters with context='compute'."
   ]
  },
  {
   "cell_type": "code",
   "execution_count": 11,
   "metadata": {},
   "outputs": [
    {
     "data": {
      "text/plain": [
       "['enabled', 'rv_method', 'rv_grav']"
      ]
     },
     "execution_count": 11,
     "metadata": {},
     "output_type": "execute_result"
    }
   ],
   "source": [
    "b.filter(dataset='rv01', context='compute').qualifiers"
   ]
  },
  {
   "cell_type": "markdown",
   "metadata": {},
   "source": [
    "Here again we see the enabled Parameter, the method for computing radial velocities (rv_method), and an option to enable/disable gravitational redshift when computing RVs (rv_grav)."
   ]
  },
  {
   "cell_type": "markdown",
   "metadata": {},
   "source": [
    "### Orbits"
   ]
  },
  {
   "cell_type": "markdown",
   "metadata": {},
   "source": [
    "Although you're unlikely to have observational data on an orbit, the 'orb' dataset allows you to expose the orbital information of the stars in a system at any given time, which can be useful for visualization or debugging purposes."
   ]
  },
  {
   "cell_type": "code",
   "execution_count": 12,
   "metadata": {},
   "outputs": [
    {
     "data": {
      "text/plain": [
       "<ParameterSet: 9 parameters | contexts: dataset, compute, figure, constraint>"
      ]
     },
     "execution_count": 12,
     "metadata": {},
     "output_type": "execute_result"
    }
   ],
   "source": [
    "b.add_dataset('orb', times=phoebe.linspace(0,1,101), dataset='orb01')"
   ]
  },
  {
   "cell_type": "markdown",
   "metadata": {},
   "source": [
    "There are no options for orbits besides providing the times and enabling/disabling."
   ]
  },
  {
   "cell_type": "code",
   "execution_count": 13,
   "metadata": {},
   "outputs": [
    {
     "data": {
      "text/plain": [
       "['compute_times', 'compute_phases', 'times']"
      ]
     },
     "execution_count": 13,
     "metadata": {},
     "output_type": "execute_result"
    }
   ],
   "source": [
    "b.filter(dataset='orb01', context='dataset').qualifiers"
   ]
  },
  {
   "cell_type": "code",
   "execution_count": 14,
   "metadata": {},
   "outputs": [
    {
     "data": {
      "text/plain": [
       "['enabled']"
      ]
     },
     "execution_count": 14,
     "metadata": {},
     "output_type": "execute_result"
    }
   ],
   "source": [
    "b.filter(dataset='orb01', context='compute').qualifiers"
   ]
  },
  {
   "cell_type": "markdown",
   "metadata": {},
   "source": [
    "### Line Profiles"
   ]
  },
  {
   "cell_type": "markdown",
   "metadata": {},
   "source": [
    "Line profiles are time *and* wavelength dependent.  Note that the times cannot be changed after the dataset is created and attached to the bundle (although the wavelengths can).  **However**, 'compute_times' can be changed.  In the case of line profiles this distinction is a bit more important - you probably only want to provide 'times' if you want to attach your actual observations, otherwise just provide 'compute_times'."
   ]
  },
  {
   "cell_type": "code",
   "execution_count": 15,
   "metadata": {},
   "outputs": [
    {
     "data": {
      "text/plain": [
       "<ParameterSet: 39 parameters | contexts: dataset, compute, figure, constraint>"
      ]
     },
     "execution_count": 15,
     "metadata": {},
     "output_type": "execute_result"
    }
   ],
   "source": [
    "b.add_dataset('lp', times=phoebe.linspace(0,1,11), wavelengths=phoebe.linspace(549,551,101), dataset='lp01')"
   ]
  },
  {
   "cell_type": "markdown",
   "metadata": {},
   "source": [
    "Let's look at the Parameters for a line profile dataset with context='dataset'"
   ]
  },
  {
   "cell_type": "code",
   "execution_count": 16,
   "metadata": {},
   "outputs": [
    {
     "data": {
      "text/plain": [
       "['compute_times',\n",
       " 'compute_phases',\n",
       " 'profile_func',\n",
       " 'profile_rest',\n",
       " 'profile_sv',\n",
       " 'passband',\n",
       " 'intens_weighting',\n",
       " 'wavelengths',\n",
       " 'flux_densities',\n",
       " 'sigmas',\n",
       " 'ld_mode']"
      ]
     },
     "execution_count": 16,
     "metadata": {},
     "output_type": "execute_result"
    }
   ],
   "source": [
    "b.filter(dataset='lp01', context='dataset').qualifiers"
   ]
  },
  {
   "cell_type": "code",
   "execution_count": 17,
   "metadata": {},
   "outputs": [
    {
     "name": "stdout",
     "output_type": "stream",
     "text": [
      "ParameterSet: 34 parameters\n",
      "      compute_times@lp01@dataset: [] d\n",
      "*    compute_phases@lp01@dataset: []\n",
      "       profile_func@lp01@dataset: gaussian\n",
      "       profile_rest@lp01@dataset: 550.0 nm\n",
      "         profile_sv@lp01@dataset: 0.0001\n",
      "           passband@lp01@dataset: Johnson:V\n",
      "   intens_weighting@lp01@dataset: energy\n",
      "  wavelengths@primary@lp01@da...: [] nm\n",
      "  wavelengths@secondary@lp01@...: [] nm\n",
      "  wavelengths@binary@lp01@dat...: [549.   549.02 549.04 ... 550.96 550.98\n",
      " 551.  ] nm\n",
      "  00.000000@flux_densities@bi...: [] W / (m2 nm)\n",
      "  00.000000@sigmas@binary@lp0...: [] W / (m2 nm)\n",
      "  00.100000@flux_densities@bi...: [] W / (m2 nm)\n",
      "  00.100000@sigmas@binary@lp0...: [] W / (m2 nm)\n",
      "  00.200000@flux_densities@bi...: [] W / (m2 nm)\n",
      "  00.200000@sigmas@binary@lp0...: [] W / (m2 nm)\n",
      "  00.300000@flux_densities@bi...: [] W / (m2 nm)\n",
      "  00.300000@sigmas@binary@lp0...: [] W / (m2 nm)\n",
      "  00.400000@flux_densities@bi...: [] W / (m2 nm)\n",
      "  00.400000@sigmas@binary@lp0...: [] W / (m2 nm)\n",
      "  00.500000@flux_densities@bi...: [] W / (m2 nm)\n",
      "  00.500000@sigmas@binary@lp0...: [] W / (m2 nm)\n",
      "  00.600000@flux_densities@bi...: [] W / (m2 nm)\n",
      "  00.600000@sigmas@binary@lp0...: [] W / (m2 nm)\n",
      "  00.700000@flux_densities@bi...: [] W / (m2 nm)\n",
      "  00.700000@sigmas@binary@lp0...: [] W / (m2 nm)\n",
      "  00.800000@flux_densities@bi...: [] W / (m2 nm)\n",
      "  00.800000@sigmas@binary@lp0...: [] W / (m2 nm)\n",
      "  00.900000@flux_densities@bi...: [] W / (m2 nm)\n",
      "  00.900000@sigmas@binary@lp0...: [] W / (m2 nm)\n",
      "  01.000000@flux_densities@bi...: [] W / (m2 nm)\n",
      "  01.000000@sigmas@binary@lp0...: [] W / (m2 nm)\n",
      "    ld_mode@primary@lp01@dataset: interp\n",
      "  ld_mode@secondary@lp01@dataset: interp\n"
     ]
    }
   ],
   "source": [
    "print(b.filter(dataset='lp01', context='dataset'))"
   ]
  },
  {
   "cell_type": "markdown",
   "metadata": {},
   "source": [
    "If we instead provide 'compute_times', we won't have all these extra \"observational\" parameters."
   ]
  },
  {
   "cell_type": "code",
   "execution_count": 18,
   "metadata": {},
   "outputs": [
    {
     "data": {
      "text/plain": [
       "<ParameterSet: 17 parameters | contexts: dataset, compute, figure, constraint>"
      ]
     },
     "execution_count": 18,
     "metadata": {},
     "output_type": "execute_result"
    }
   ],
   "source": [
    "b.add_dataset('lp', \n",
    "              compute_times=phoebe.linspace(0,1,11), \n",
    "              wavelengths=phoebe.linspace(549,551,101), \n",
    "              dataset='lp01',\n",
    "              overwrite=True)"
   ]
  },
  {
   "cell_type": "code",
   "execution_count": 19,
   "metadata": {},
   "outputs": [
    {
     "name": "stdout",
     "output_type": "stream",
     "text": [
      "ParameterSet: 12 parameters\n",
      "      compute_times@lp01@dataset: [0.  0.1 0.2 ... 0.8 0.9 1. ] d\n",
      "*    compute_phases@lp01@dataset: [0.  0.1 0.2 ... 0.8 0.9 0. ]\n",
      "       profile_func@lp01@dataset: gaussian\n",
      "       profile_rest@lp01@dataset: 550.0 nm\n",
      "         profile_sv@lp01@dataset: 0.0001\n",
      "           passband@lp01@dataset: Johnson:V\n",
      "   intens_weighting@lp01@dataset: energy\n",
      "  wavelengths@primary@lp01@da...: [] nm\n",
      "  wavelengths@secondary@lp01@...: [] nm\n",
      "  wavelengths@binary@lp01@dat...: [549.   549.02 549.04 ... 550.96 550.98\n",
      " 551.  ] nm\n",
      "    ld_mode@primary@lp01@dataset: interp\n",
      "  ld_mode@secondary@lp01@dataset: interp\n"
     ]
    }
   ],
   "source": [
    "print(b.filter(dataset='lp01', context='dataset'))"
   ]
  },
  {
   "cell_type": "markdown",
   "metadata": {},
   "source": [
    "And now look at the added Parameters with context='compute'."
   ]
  },
  {
   "cell_type": "code",
   "execution_count": 20,
   "metadata": {},
   "outputs": [
    {
     "data": {
      "text/plain": [
       "['enabled']"
      ]
     },
     "execution_count": 20,
     "metadata": {},
     "output_type": "execute_result"
    }
   ],
   "source": [
    "b.filter(dataset='lp01', context='compute').qualifiers"
   ]
  },
  {
   "cell_type": "markdown",
   "metadata": {},
   "source": [
    "### Meshes"
   ]
  },
  {
   "cell_type": "markdown",
   "metadata": {},
   "source": [
    "Similarly, the mesh dataset is unlikely to be compared to data, but is very useful for visualization of the system.  This dataset only allows you to define a list of times, columns, and coordinates at which you'd like the meshes used within PHOEBE exposed.\n",
    "\n",
    "Meshes can't have observational data, so *only* have a 'compute_times'.  But if you try to pass 'times', it will accept those as 'compute_times' with a warning in the logger."
   ]
  },
  {
   "cell_type": "code",
   "execution_count": 21,
   "metadata": {},
   "outputs": [
    {
     "name": "stderr",
     "output_type": "stream",
     "text": [
      "Tue, 02 Jul 2019 09:46 BUNDLE       WARNING mesh dataset uses 'compute_times' instead of 'times', applying value sent as 'times' to 'compute_times'.\n"
     ]
    },
    {
     "data": {
      "text/plain": [
       "<ParameterSet: 10 parameters | contexts: dataset, compute, figure, constraint>"
      ]
     },
     "execution_count": 21,
     "metadata": {},
     "output_type": "execute_result"
    }
   ],
   "source": [
    "b.add_dataset('mesh', times=[0, 0.5, 1], dataset='mesh01')"
   ]
  },
  {
   "cell_type": "code",
   "execution_count": 22,
   "metadata": {},
   "outputs": [
    {
     "data": {
      "text/plain": [
       "['compute_times', 'compute_phases', 'include_times', 'coordinates', 'columns']"
      ]
     },
     "execution_count": 22,
     "metadata": {},
     "output_type": "execute_result"
    }
   ],
   "source": [
    "b.filter(dataset='mesh01', context='dataset').qualifiers"
   ]
  },
  {
   "cell_type": "code",
   "execution_count": 23,
   "metadata": {},
   "outputs": [
    {
     "data": {
      "text/plain": [
       "['enabled']"
      ]
     },
     "execution_count": 23,
     "metadata": {},
     "output_type": "execute_result"
    }
   ],
   "source": [
    "b.filter(dataset='mesh01', context='compute').qualifiers"
   ]
  },
  {
   "cell_type": "markdown",
   "metadata": {},
   "source": [
    "# Exercise"
   ]
  },
  {
   "cell_type": "markdown",
   "metadata": {},
   "source": [
    "What choices are available for rv_method, lc_method, passband, and intens_weighting?"
   ]
  },
  {
   "cell_type": "code",
   "execution_count": null,
   "metadata": {},
   "outputs": [],
   "source": []
  },
  {
   "cell_type": "markdown",
   "metadata": {},
   "source": [
    "Let's say we had a single-lined binary system.  Set the times on the RV dataset such that only the primary star would be computed."
   ]
  },
  {
   "cell_type": "code",
   "execution_count": null,
   "metadata": {},
   "outputs": [],
   "source": []
  },
  {
   "cell_type": "markdown",
   "metadata": {},
   "source": [
    "Add another RV dataset.  Set the new RV dataset to have rv_method='dynamical' while keeping the original 'rv01' dataset with rv_method='flux-weighted'."
   ]
  },
  {
   "cell_type": "code",
   "execution_count": null,
   "metadata": {},
   "outputs": [],
   "source": []
  }
 ],
 "metadata": {
  "kernelspec": {
   "display_name": "Python 2",
   "language": "python",
   "name": "python2"
  },
  "language_info": {
   "codemirror_mode": {
    "name": "ipython",
    "version": 2
   },
   "file_extension": ".py",
   "mimetype": "text/x-python",
   "name": "python",
   "nbconvert_exporter": "python",
   "pygments_lexer": "ipython2",
   "version": "2.7.15+"
  }
 },
 "nbformat": 4,
 "nbformat_minor": 2
}
