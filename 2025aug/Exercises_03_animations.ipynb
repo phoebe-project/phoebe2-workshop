{
 "cells": [
  {
   "cell_type": "markdown",
   "metadata": {},
   "source": [
    "# Exercises #3: Forward Model Animations\n",
    "\n",
    "These exercises are designed to be done anytime after the tutorials on animations and accessing meshes."
   ]
  },
  {
   "cell_type": "markdown",
   "metadata": {},
   "source": [
    "# \\# 1: Rossiter-McLaughlin\n",
    "\n",
    "Make a figure or animation that illustrates the Rossiter-McLaughlin effect (i.e. show the RVs plotted as color on the meshes during eclipse as well as the synthetic RVs vs time).\n",
    "\n",
    "Hints: \n",
    "* you may be able to get a more exagerated example by changing certain Parameters of the system.\n",
    "* try only sampling from just before ingress to just after egress\n"
   ]
  },
  {
   "cell_type": "markdown",
   "metadata": {},
   "source": [
    "![animation](rossiter_mclaughlin.gif)"
   ]
  },
  {
   "cell_type": "code",
   "execution_count": null,
   "metadata": {},
   "outputs": [],
   "source": []
  },
  {
   "cell_type": "markdown",
   "metadata": {},
   "source": [
    "# \\# 2: Eccentric Ellipsoidal Variable (Heartbeat)\n",
    "\n",
    "Make a figure or animation that illustrates an eccentric ellipsoidal variable.\n",
    "\n",
    "Hints:\n",
    "* `requiv_max` will tell you the maximum value of `requiv` at which overflow will occur *at periastron*."
   ]
  },
  {
   "cell_type": "markdown",
   "metadata": {},
   "source": [
    "![animation](eccentric_ellipsoidal.gif)"
   ]
  },
  {
   "cell_type": "code",
   "execution_count": null,
   "metadata": {},
   "outputs": [],
   "source": []
  },
  {
   "cell_type": "markdown",
   "metadata": {},
   "source": [
    "# \\# 3: Spot Transit\n",
    "\n",
    "Make a figure or animation that illustrates a small star (or a planet) transiting a star with a spot.\n",
    "\n",
    "If we haven't gotten to features and spots quite yet, you can read [this spots tutorial](http://phoebe-project.org/docs/2.4/tutorials/spots) to get the basics.\n",
    "\n",
    "Hints:\n",
    "* you may want to override the default colormap for temperature\n",
    "* if you set the temperature of your transiting body to be cool, that will drive the entire range of the colormap - try setting `fclim` to prevent that from happening."
   ]
  },
  {
   "cell_type": "markdown",
   "metadata": {},
   "source": [
    "![animation](spot_transit.gif)"
   ]
  },
  {
   "cell_type": "code",
   "execution_count": null,
   "metadata": {},
   "outputs": [],
   "source": []
  }
 ],
 "metadata": {
  "kernelspec": {
   "display_name": "Python 3",
   "language": "python",
   "name": "python3"
  },
  "language_info": {
   "codemirror_mode": {
    "name": "ipython",
    "version": 3
   },
   "file_extension": ".py",
   "mimetype": "text/x-python",
   "name": "python",
   "nbconvert_exporter": "python",
   "pygments_lexer": "ipython3",
   "version": "3.8.5"
  }
 },
 "nbformat": 4,
 "nbformat_minor": 4
}
