{
 "cells": [
  {
   "attachments": {},
   "cell_type": "markdown",
   "metadata": {},
   "source": [
    "# Workshop Tutorial: Datasets\n",
    "\n",
    "This tutorial covers PHOEBE datasets, adding them to the Bundle, and available options for light curves, radial velocity curves, orbits, and meshes.\n",
    "\n",
    "This workshop tutorial covers many of the same topics as the corresponding online tutorials:\n",
    "\n",
    "* [Datasets](http://phoebe-project.org/docs/2.4/tutorials/datasets.ipynb)\n",
    "* [Advanced: Datasets (passband options, dealing with phases, removing datasets)](http://phoebe-project.org/docs/2.4/tutorials/datasets_advanced.ipynb)"
   ]
  },
  {
   "attachments": {},
   "cell_type": "markdown",
   "metadata": {},
   "source": [
    "# Setup\n",
    "\n",
    "To begin, let us do the usual imports, set up the logger and load the default binary bundle:"
   ]
  },
  {
   "cell_type": "code",
   "execution_count": 1,
   "metadata": {},
   "outputs": [],
   "source": [
    "import phoebe\n",
    "from phoebe import u, c\n",
    "\n",
    "logger = phoebe.logger(clevel='WARNING')\n",
    "b = phoebe.default_binary()"
   ]
  },
  {
   "attachments": {},
   "cell_type": "markdown",
   "metadata": {},
   "source": [
    "# Datasets"
   ]
  },
  {
   "attachments": {},
   "cell_type": "markdown",
   "metadata": {},
   "source": [
    "PHOEBE interfaces data through *datasets*. These datasets can contain actual observations or they can simply parametrize the forward-model observable that PHOEBE can synthesize. The following dataset kinds are currently supported:\n",
    "\n",
    "* `lc` (light curves)\n",
    "* `rv` (radial velocitiy curves)\n",
    "* `lp` (line profiles)\n",
    "* `orb` (orbits)\n",
    "* `mesh` (meshes)\n",
    "\n",
    "In order to compute a synthetic model, we must first add a dataset to the Bundle via the [add_dataset()](http://phoebe-project.org/docs/dev/api/phoebe.frontend.bundle.Bundle.add_dataset.md) method. The first argument is the kind (one among those listed above). Although that is the only *required* argument, we will usually want to provide a list of times at which we want that dataset computed, along with a label for the dataset. If we do not provide a label, the dataset will be labeled automatically by 'kind' + two digit integer, e.g. 'lc01', 'rv02', etc.).\n",
    "\n",
    "For the purposes of this tutorial, we will use two array-generating functions: [linspace](https://docs.scipy.org/doc/numpy/reference/generated/numpy.linspace.html) and [arange](https://docs.scipy.org/doc/numpy/reference/generated/numpy.arange.html). These are numpy functions, but PHOEBE also provides them natively, thus saving memory by storing less within the bundle."
   ]
  },
  {
   "attachments": {},
   "cell_type": "markdown",
   "metadata": {},
   "source": [
    "## Light Curves\n",
    "\n",
    "Adding a single light curve with predefined times and a label is accomplished by calling the `add_dataset()` bundle method:"
   ]
  },
  {
   "cell_type": "code",
   "execution_count": 2,
   "metadata": {},
   "outputs": [
    {
     "data": {
      "text/plain": [
       "<ParameterSet: 80 parameters | contexts: figure, constraint, dataset, compute>"
      ]
     },
     "execution_count": 2,
     "metadata": {},
     "output_type": "execute_result"
    }
   ],
   "source": [
    "b.add_dataset('lc', compute_times=phoebe.linspace(0, 1, 51), dataset='lc01')"
   ]
  },
  {
   "attachments": {},
   "cell_type": "markdown",
   "metadata": {},
   "source": [
    "This attaches a set of new dataset parameters to the bundle. Most have the context='dataset', but a few have context='compute', 'figure', and 'constraint'. The 'times' parameter is set with the provided array, and all parameters are tagged with dataset='lc01'."
   ]
  },
  {
   "cell_type": "code",
   "execution_count": 3,
   "metadata": {},
   "outputs": [
    {
     "data": {
      "text/plain": [
       "['dataset', 'compute', 'constraint', 'figure']"
      ]
     },
     "execution_count": 3,
     "metadata": {},
     "output_type": "execute_result"
    }
   ],
   "source": [
    "b.filter(dataset='lc01').contexts"
   ]
  },
  {
   "attachments": {},
   "cell_type": "markdown",
   "metadata": {},
   "source": [
    "We can now take a closer look at the new parameters with context='dataset':"
   ]
  },
  {
   "cell_type": "code",
   "execution_count": 4,
   "metadata": {},
   "outputs": [
    {
     "data": {
      "text/plain": [
       "['times',\n",
       " 'fluxes',\n",
       " 'passband',\n",
       " 'intens_weighting',\n",
       " 'compute_times',\n",
       " 'compute_phases',\n",
       " 'phases_t0',\n",
       " 'mask_enabled',\n",
       " 'mask_phases',\n",
       " 'solver_times',\n",
       " 'sigmas',\n",
       " 'pblum_mode',\n",
       " 'pblum_component',\n",
       " 'l3_mode',\n",
       " 'l3',\n",
       " 'exptime',\n",
       " 'ld_mode',\n",
       " 'pblum']"
      ]
     },
     "execution_count": 4,
     "metadata": {},
     "output_type": "execute_result"
    }
   ],
   "source": [
    "b.filter(dataset='lc01', context='dataset').qualifiers"
   ]
  },
  {
   "attachments": {},
   "cell_type": "markdown",
   "metadata": {},
   "source": [
    "These parameters describe *observables* (`times`, `fluxes`, `sigmas`), *passband information* (`passband`, `pblum_mode`, `pblum_component`), *limb darkening* (`ld_mode`), *instrumental information* (`exptime`, `l3_mode`, `l3`, `intens_weighting`), phasing (`phases_t0`) and masking the data (`mask_enabled`, `mask_phases`).\n",
    "\n",
    "You may have noticed that we used the `compute_times` instead of `times`; this parameter (and, equivalently, `compute_phases`) allows us to override the values contained in the `times` parameter. You should think of `times` as the times of observation that correspond to the actual data -- and they must have the same length as `fluxes`, if provided; `compute_times`, on the other hand, are the timestamps in which we want our model computed. Similarly, `solver_times` determine the timestamp array to be used in the inverse problem. More on that later in the week."
   ]
  },
  {
   "attachments": {},
   "cell_type": "markdown",
   "metadata": {},
   "source": [
    "Next, `context='compute'` parameters:"
   ]
  },
  {
   "cell_type": "code",
   "execution_count": 5,
   "metadata": {},
   "outputs": [
    {
     "data": {
      "text/plain": [
       "['enabled', 'fti_method']"
      ]
     },
     "execution_count": 5,
     "metadata": {},
     "output_type": "execute_result"
    }
   ],
   "source": [
    "b.filter(dataset='lc01', context='compute').qualifiers"
   ]
  },
  {
   "attachments": {},
   "cell_type": "markdown",
   "metadata": {},
   "source": [
    "These parameters determine whether the dataset should be enabled or disabled, and how to handle [finite times of integration](http://phoebe-project.org/docs/2.4/tutorials/fti)."
   ]
  },
  {
   "attachments": {},
   "cell_type": "markdown",
   "metadata": {},
   "source": [
    "## Radial Velocities"
   ]
  },
  {
   "attachments": {},
   "cell_type": "markdown",
   "metadata": {},
   "source": [
    "Now let us do the same for a [radial velocity (rv) dataset](http://phoebe-project.org/docs/2.4/tutorials/RV.ipynb):"
   ]
  },
  {
   "cell_type": "code",
   "execution_count": 6,
   "metadata": {},
   "outputs": [
    {
     "data": {
      "text/plain": [
       "<ParameterSet: 83 parameters | contexts: figure, constraint, dataset, compute>"
      ]
     },
     "execution_count": 6,
     "metadata": {},
     "output_type": "execute_result"
    }
   ],
   "source": [
    "b.add_dataset('rv', compute_times=phoebe.linspace(0, 1, 11), dataset='rv01')"
   ]
  },
  {
   "attachments": {},
   "cell_type": "markdown",
   "metadata": {},
   "source": [
    "Using `dataset='rv01'` will filter on all relevant parameters for the RV dataset:"
   ]
  },
  {
   "cell_type": "code",
   "execution_count": 7,
   "metadata": {},
   "outputs": [
    {
     "data": {
      "text/plain": [
       "['compute_times',\n",
       " 'compute_phases',\n",
       " 'phases_t0',\n",
       " 'mask_enabled',\n",
       " 'mask_phases',\n",
       " 'solver_times',\n",
       " 'passband',\n",
       " 'intens_weighting',\n",
       " 'times',\n",
       " 'rv_offset',\n",
       " 'ld_mode']"
      ]
     },
     "execution_count": 7,
     "metadata": {},
     "output_type": "execute_result"
    }
   ],
   "source": [
    "b.filter(dataset='rv01', context='dataset').qualifiers"
   ]
  },
  {
   "attachments": {},
   "cell_type": "markdown",
   "metadata": {},
   "source": [
    "Here we see again parameters describing observables (`times`, `rvs`, `sigmas`), passband information (`passband`), limb darkening (`ld_mode`), instrumental information (`intens_weighting`), phasing (`phases_t0`), data masking (`mask_enabled`, `mask_phases`) and model timestamps (`compute_times`, `compute_phases`, `solver_times`). Some of the parameters we saw in the 'lc' dataset are not applicable when computing rvs, so they are not included (`l3_mode`, `pblum_mode`, etc).\n",
    "\n",
    "Currently, finite exposure times are not supported for radial velocities in PHOEBE, hence no `exptime` parameter.\n",
    "\n",
    "Note that, unlike a single `compute_times` parameter, there are **2** `times` parameters - one for each star.  When passing `times=np.linspace(...)` to `b.add_dataset`, both `times` parameters are set to that value.  We could have also set separate times for the two components by setting the values of `times@primary` and `times@secondary`. Alternatively, you can also pass a dictionary when creating the dataset: `b.add_dataset('rv', times={'primary': [0,1,2], 'secondary': [1,2,3]})`."
   ]
  },
  {
   "cell_type": "code",
   "execution_count": 9,
   "metadata": {},
   "outputs": [
    {
     "data": {
      "text/plain": [
       "['primary', 'secondary']"
      ]
     },
     "execution_count": 9,
     "metadata": {},
     "output_type": "execute_result"
    }
   ],
   "source": [
    "b.filter(dataset='rv01', context='dataset', qualifier='times').components"
   ]
  },
  {
   "attachments": {},
   "cell_type": "markdown",
   "metadata": {},
   "source": [
    "We can now take a look at the added parameters with context='compute':"
   ]
  },
  {
   "cell_type": "code",
   "execution_count": 10,
   "metadata": {},
   "outputs": [
    {
     "data": {
      "text/plain": [
       "['enabled', 'rv_method', 'rv_grav']"
      ]
     },
     "execution_count": 10,
     "metadata": {},
     "output_type": "execute_result"
    }
   ],
   "source": [
    "b.filter(dataset='rv01', context='compute').qualifiers"
   ]
  },
  {
   "attachments": {},
   "cell_type": "markdown",
   "metadata": {},
   "source": [
    "Here again we see the `enabled` parameter, the method for computing radial velocities (`rv_method`), and an option to enable/disable gravitational redshift when computing RVs (`rv_grav`)."
   ]
  },
  {
   "attachments": {},
   "cell_type": "markdown",
   "metadata": {},
   "source": [
    "## Orbits"
   ]
  },
  {
   "attachments": {},
   "cell_type": "markdown",
   "metadata": {},
   "source": [
    "Although it is not common to have astrometric observations of an orbit, the [orb dataset](http://phoebe-project.org/docs/2.4/tutorials/ORB.ipynb) allows you to synthesize orbits of the stars in a system at any given time, which can be useful for visualization."
   ]
  },
  {
   "cell_type": "code",
   "execution_count": 11,
   "metadata": {},
   "outputs": [
    {
     "data": {
      "text/plain": [
       "<ParameterSet: 50 parameters | contexts: figure, constraint, dataset, compute>"
      ]
     },
     "execution_count": 11,
     "metadata": {},
     "output_type": "execute_result"
    }
   ],
   "source": [
    "b.add_dataset('orb', compute_times=phoebe.linspace(0, 1, 101), dataset='orb01')"
   ]
  },
  {
   "attachments": {},
   "cell_type": "markdown",
   "metadata": {},
   "source": [
    "Orbits are parametrized by providing the compute times/phases and enabling/disabling. Note that there is no `times` parameter, as there are no observations. However, if you pass `times` to `add_dataset`, they will be adopted automatically as `compute_times`."
   ]
  },
  {
   "cell_type": "code",
   "execution_count": 12,
   "metadata": {},
   "outputs": [
    {
     "data": {
      "text/plain": [
       "['compute_times', 'compute_phases', 'phases_t0']"
      ]
     },
     "execution_count": 12,
     "metadata": {},
     "output_type": "execute_result"
    }
   ],
   "source": [
    "b.filter(dataset='orb01', context='dataset').qualifiers"
   ]
  },
  {
   "cell_type": "code",
   "execution_count": 13,
   "metadata": {},
   "outputs": [
    {
     "data": {
      "text/plain": [
       "['enabled']"
      ]
     },
     "execution_count": 13,
     "metadata": {},
     "output_type": "execute_result"
    }
   ],
   "source": [
    "b.filter(dataset='orb01', context='compute').qualifiers"
   ]
  },
  {
   "attachments": {},
   "cell_type": "markdown",
   "metadata": {},
   "source": [
    "## Line Profiles"
   ]
  },
  {
   "attachments": {},
   "cell_type": "markdown",
   "metadata": {},
   "source": [
    "[Line profiles](http://phoebe-project.org/docs/2.4/tutorials/LP) are time- *and* wavelength-dependent.  Note that the times cannot be changed after the dataset has been created and attached to the bundle while the wavelengths can. That said, `compute_times` can be changed and used to synthesize line profiles at any desired timestamp. Because of this, the distinction between `times` and `compute_times` is a bit more important for line profiles - you probably only want to provide `times` if you want to attach your actual observations, otherwise just provide `compute_times`."
   ]
  },
  {
   "cell_type": "code",
   "execution_count": 14,
   "metadata": {},
   "outputs": [
    {
     "data": {
      "text/plain": [
       "<ParameterSet: 64 parameters | contexts: figure, constraint, dataset, compute>"
      ]
     },
     "execution_count": 14,
     "metadata": {},
     "output_type": "execute_result"
    }
   ],
   "source": [
    "b.add_dataset('lp', \n",
    "              compute_times=phoebe.linspace(0, 1, 11), \n",
    "              wavelengths=phoebe.linspace(549, 551, 101), \n",
    "              dataset='lp01')"
   ]
  },
  {
   "attachments": {},
   "cell_type": "markdown",
   "metadata": {},
   "source": [
    "Now we can take a look at the parameters for a line profile dataset with `context='dataset'`:"
   ]
  },
  {
   "cell_type": "code",
   "execution_count": 15,
   "metadata": {},
   "outputs": [
    {
     "data": {
      "text/plain": [
       "['compute_times',\n",
       " 'compute_phases',\n",
       " 'phases_t0',\n",
       " 'solver_times',\n",
       " 'profile_func',\n",
       " 'profile_rest',\n",
       " 'profile_sv',\n",
       " 'passband',\n",
       " 'intens_weighting',\n",
       " 'wavelengths',\n",
       " 'ld_mode']"
      ]
     },
     "execution_count": 15,
     "metadata": {},
     "output_type": "execute_result"
    }
   ],
   "source": [
    "b.filter(dataset='lp01', context='dataset').qualifiers"
   ]
  },
  {
   "attachments": {},
   "cell_type": "markdown",
   "metadata": {},
   "source": [
    "Line profiles are parametrized differently than LCs or RVs; we need to provide a generic profile function (`profile_func`) along with its rest wavelength (`profile_rest`) and subsidiary variable (`profile_sv`), defined as $sv = (p-p_0)/(0.5 \\times \\mathrm{FWHM})$, where $p_0$ is the rest wavelength and $\\mathrm{FWHM}$ is full width at half maximum. Wavelengths are passed as arrays, either to the binary as a whole, or to individual stars."
   ]
  },
  {
   "attachments": {},
   "cell_type": "markdown",
   "metadata": {},
   "source": [
    "As far as `context='compute'` parameters are concerned, we only have the enabled/disabled switch:"
   ]
  },
  {
   "cell_type": "code",
   "execution_count": 17,
   "metadata": {},
   "outputs": [
    {
     "data": {
      "text/plain": [
       "['enabled']"
      ]
     },
     "execution_count": 17,
     "metadata": {},
     "output_type": "execute_result"
    }
   ],
   "source": [
    "b.filter(dataset='lp01', context='compute').qualifiers"
   ]
  },
  {
   "attachments": {},
   "cell_type": "markdown",
   "metadata": {},
   "source": [
    "## Meshes"
   ]
  },
  {
   "attachments": {},
   "cell_type": "markdown",
   "metadata": {},
   "source": [
    "Similarly to orbits, the [mesh dataset](http://phoebe-project.org/docs/2.4/tutorials/MESH.ipynb) is unlikely to be compared to data directly, but is very useful for visualization of the system. This dataset takes a list of times, columns, and coordinates at which you would like the meshes used within PHOEBE exposed.\n",
    "\n",
    "As orbits, meshes do not have associated observables, thus they are parametrized only by `compute_times`. As before, passing `times` will automatically be converted to `compute_times` under the hood."
   ]
  },
  {
   "cell_type": "code",
   "execution_count": 18,
   "metadata": {},
   "outputs": [
    {
     "data": {
      "text/plain": [
       "<ParameterSet: 85 parameters | contexts: figure, constraint, dataset, compute>"
      ]
     },
     "execution_count": 18,
     "metadata": {},
     "output_type": "execute_result"
    }
   ],
   "source": [
    "b.add_dataset('mesh', \n",
    "              compute_times=[0, 0.5, 1], \n",
    "              dataset='mesh01')"
   ]
  },
  {
   "attachments": {},
   "cell_type": "markdown",
   "metadata": {},
   "source": [
    "Let us take a look at parameters in the 'dataset' and 'compute' contexts:"
   ]
  },
  {
   "cell_type": "code",
   "execution_count": 19,
   "metadata": {},
   "outputs": [
    {
     "data": {
      "text/plain": [
       "['compute_times',\n",
       " 'compute_phases',\n",
       " 'phases_t0',\n",
       " 'include_times',\n",
       " 'coordinates',\n",
       " 'columns']"
      ]
     },
     "execution_count": 19,
     "metadata": {},
     "output_type": "execute_result"
    }
   ],
   "source": [
    "b.filter(dataset='mesh01', context='dataset').qualifiers"
   ]
  },
  {
   "cell_type": "code",
   "execution_count": 20,
   "metadata": {},
   "outputs": [
    {
     "data": {
      "text/plain": [
       "['enabled']"
      ]
     },
     "execution_count": 20,
     "metadata": {},
     "output_type": "execute_result"
    }
   ],
   "source": [
    "b.filter(dataset='mesh01', context='compute').qualifiers"
   ]
  },
  {
   "attachments": {},
   "cell_type": "markdown",
   "metadata": {},
   "source": [
    "A unique aspect of parametrizing meshes is the `columns` parameter; we will revisit that in great detail soon, but at this point let us take a quick look at the available columns. The list is quite extensive and we will not go into any details at this point, but it should be informative to glance through the names of the columns; all these are per-surface-element values that can be exposed and visualized."
   ]
  },
  {
   "cell_type": "code",
   "execution_count": 21,
   "metadata": {},
   "outputs": [
    {
     "data": {
      "text/plain": [
       "['volume',\n",
       " 'xs',\n",
       " 'ys',\n",
       " 'zs',\n",
       " 'vxs',\n",
       " 'vys',\n",
       " 'vzs',\n",
       " 'nxs',\n",
       " 'nys',\n",
       " 'nzs',\n",
       " 'us',\n",
       " 'vs',\n",
       " 'ws',\n",
       " 'vus',\n",
       " 'vvs',\n",
       " 'vws',\n",
       " 'nus',\n",
       " 'nvs',\n",
       " 'nws',\n",
       " 'areas',\n",
       " 'loggs',\n",
       " 'teffs',\n",
       " 'rprojs',\n",
       " 'mus',\n",
       " 'visibilities',\n",
       " 'visible_centroids',\n",
       " 'rs',\n",
       " 'intensities@lc01',\n",
       " 'normal_intensities@lc01',\n",
       " 'abs_intensities@lc01',\n",
       " 'abs_normal_intensities@lc01',\n",
       " 'boost_factors@lc01',\n",
       " 'ldint@lc01',\n",
       " 'pblum_ext@lc01',\n",
       " 'abs_pblum_ext@lc01',\n",
       " 'ptfarea@lc01',\n",
       " 'abs_intensities@rv01',\n",
       " 'abs_normal_intensities@rv01',\n",
       " 'boost_factors@rv01',\n",
       " 'ldint@rv01',\n",
       " 'abs_pblum_ext@rv01',\n",
       " 'ptfarea@rv01',\n",
       " 'rvs@rv01',\n",
       " 'abs_intensities@lp01',\n",
       " 'abs_normal_intensities@lp01',\n",
       " 'boost_factors@lp01',\n",
       " 'ldint@lp01',\n",
       " 'abs_pblum_ext@lp01',\n",
       " 'ptfarea@lp01',\n",
       " 'rvs@lp01']"
      ]
     },
     "execution_count": 21,
     "metadata": {},
     "output_type": "execute_result"
    }
   ],
   "source": [
    "b.get_parameter(dataset='mesh01', context='dataset', qualifier='columns').choices"
   ]
  },
  {
   "attachments": {},
   "cell_type": "markdown",
   "metadata": {},
   "source": [
    "# Exercise"
   ]
  },
  {
   "attachments": {},
   "cell_type": "markdown",
   "metadata": {},
   "source": [
    "What choices are available for `rv_method`, `passband`, `pblum_mode`, `ld_mode`, and `intens_weighting`?"
   ]
  },
  {
   "cell_type": "code",
   "execution_count": null,
   "metadata": {},
   "outputs": [],
   "source": []
  },
  {
   "attachments": {},
   "cell_type": "markdown",
   "metadata": {},
   "source": [
    "Say we have a single-lined binary system. Set the RV dataset times so that only primary star observables are computed."
   ]
  },
  {
   "cell_type": "code",
   "execution_count": null,
   "metadata": {},
   "outputs": [],
   "source": []
  },
  {
   "attachments": {},
   "cell_type": "markdown",
   "metadata": {},
   "source": [
    "Add another RV dataset.  Set the new RV dataset to have `rv_method='dynamical'` while keeping the original 'rv01' dataset with `rv_method='flux-weighted'`. This is another example of a per-component parameter: you will either need to set parameters for both components in turn, or use [set_value_all()](http://phoebe-project.org/docs/latest/api/phoebe.parameters.ParameterSet.set_value_all.md)."
   ]
  },
  {
   "cell_type": "code",
   "execution_count": null,
   "metadata": {},
   "outputs": [],
   "source": []
  }
 ],
 "metadata": {
  "kernelspec": {
   "display_name": "release",
   "language": "python",
   "name": "python3"
  },
  "language_info": {
   "codemirror_mode": {
    "name": "ipython",
    "version": 3
   },
   "file_extension": ".py",
   "mimetype": "text/x-python",
   "name": "python",
   "nbconvert_exporter": "python",
   "pygments_lexer": "ipython3",
   "version": "3.10.6"
  }
 },
 "nbformat": 4,
 "nbformat_minor": 2
}
