{
 "cells": [
  {
   "cell_type": "code",
   "execution_count": 1,
   "id": "dirty-eugene",
   "metadata": {},
   "outputs": [],
   "source": [
    "import numpy as np\n",
    "import phoebe\n",
    "import matplotlib.pyplot as plt"
   ]
  },
  {
   "cell_type": "code",
   "execution_count": 2,
   "id": "special-second",
   "metadata": {},
   "outputs": [],
   "source": [
    "params = {'period@binary': 1.67,\n",
    "'t0_supconj': 1.23,\n",
    "'mass@primary': 1.2,\n",
    "'mass@secondary': 0.93,\n",
    "'requiv@primary': 1.5,\n",
    "'requiv@secondary': 0.93,\n",
    "'teff@primary': 6000,\n",
    "'teff@secondary': 5610,\n",
    "'incl@binary': 89.751,\n",
    "'ecc': 0.,\n",
    "'per0': 86,\n",
    "# 'pblum': 15.024,\n",
    "'vgamma': 25,\n",
    "# 'l3': 0.0\n",
    "         }"
   ]
  },
  {
   "cell_type": "code",
   "execution_count": 3,
   "id": "blocked-agriculture",
   "metadata": {},
   "outputs": [],
   "source": [
    "lc = np.loadtxt('data/synthetic/lc.data')\n",
    "rv1 = np.loadtxt('data/synthetic/rv1.data')\n",
    "rv2 = np.loadtxt('data/synthetic/rv2.data')"
   ]
  },
  {
   "cell_type": "code",
   "execution_count": 4,
   "id": "conceptual-monster",
   "metadata": {},
   "outputs": [
    {
     "data": {
      "text/plain": [
       "<RunChecksReport 0 items: status=PASS>"
      ]
     },
     "execution_count": 4,
     "metadata": {},
     "output_type": "execute_result"
    }
   ],
   "source": [
    "b = phoebe.default_binary()\n",
    "b.flip_constraint('mass@secondary', solve_for='q')\n",
    "b.flip_constraint('mass@primary', solve_for='sma@binary')\n",
    "\n",
    "# b.add_dataset('lc', times=lc[:,0], fluxes=lc[:,1], sigmas=lc[:,2], passband='Johnson:V')\n",
    "# b.add_dataset('rv')\n",
    "# b.set_value('times', component='primary', dataset='rv01', value=rv1[:,0])\n",
    "# b.set_value('times', component='secondary', dataset='rv01', value=rv2[:,0])\n",
    "# b.set_value('rvs', component='primary', dataset='rv01', value=rv1[:,1])\n",
    "# b.set_value('rvs', component='secondary', dataset='rv01', value=rv2[:,1])\n",
    "# b.set_value('sigmas', component='primary', dataset='rv01', value=rv1[:,2])\n",
    "# b.set_value('sigmas', component='secondary', dataset='rv01', value=rv2[:,2])\n",
    "\n",
    "for twig in params.keys():\n",
    "    b[twig] = params[twig]\n",
    "b.run_delayed_constraints()\n",
    "b.run_checks()"
   ]
  },
  {
   "cell_type": "code",
   "execution_count": 5,
   "id": "biblical-corner",
   "metadata": {},
   "outputs": [],
   "source": [
    "# b.run_compute()"
   ]
  },
  {
   "cell_type": "code",
   "execution_count": 6,
   "id": "closing-purchase",
   "metadata": {},
   "outputs": [],
   "source": [
    "# %matplotlib inline\n",
    "# b.plot(x='phase', show=True)"
   ]
  },
  {
   "cell_type": "code",
   "execution_count": 7,
   "id": "arctic-nirvana",
   "metadata": {},
   "outputs": [
    {
     "data": {
      "text/plain": [
       "'data/synthetic/true.bundle'"
      ]
     },
     "execution_count": 7,
     "metadata": {},
     "output_type": "execute_result"
    }
   ],
   "source": [
    "b.save('data/synthetic/true.bundle')"
   ]
  },
  {
   "cell_type": "code",
   "execution_count": null,
   "id": "0121e912-1605-44ef-9f15-c6ca4aacd3f9",
   "metadata": {},
   "outputs": [],
   "source": []
  }
 ],
 "metadata": {
  "kernelspec": {
   "display_name": "Python 3 (ipykernel)",
   "language": "python",
   "name": "python3"
  },
  "language_info": {
   "codemirror_mode": {
    "name": "ipython",
    "version": 3
   },
   "file_extension": ".py",
   "mimetype": "text/x-python",
   "name": "python",
   "nbconvert_exporter": "python",
   "pygments_lexer": "ipython3",
   "version": "3.9.7"
  }
 },
 "nbformat": 4,
 "nbformat_minor": 5
}
