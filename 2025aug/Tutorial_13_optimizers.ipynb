{
 "cells": [
  {
   "cell_type": "markdown",
   "id": "9827bd79",
   "metadata": {},
   "source": [
    "# Workshop Tutorial: Optimizers\n",
    "\n",
    "In this tutorial we will continue the fitting process by optimizing our results from the previous tutorial. \n",
    "\n",
    "Specifically we will cover:\n",
    "\n",
    "- [optimizer.nelder_mead](http://phoebe-project.org/docs/2.4/api/phoebe.parameters.solver.optimizer.nelder_mead)\n",
    "\n",
    "This interactive workshop tutorial covers many of the same topics as the corresponding online tutorials:\n",
    "\n",
    "* [Advanced: Nelder-Mead Optimizer](http://phoebe-project.org/docs/2.4/tutorials/nelder_mead)\n",
    "\n"
   ]
  },
  {
   "cell_type": "code",
   "execution_count": null,
   "id": "6bc2afc5",
   "metadata": {},
   "outputs": [],
   "source": [
    "import phoebe\n",
    "from phoebe import u # units\n",
    "import numpy as np\n",
    "# Mac users may need to turn multi-processing off\n",
    "#phoebe.multiprocessing_off() \n",
    "logger = phoebe.logger('error')"
   ]
  },
  {
   "cell_type": "markdown",
   "id": "1fcfeae2",
   "metadata": {},
   "source": [
    "You may need to update the path below to where you saved the bundle from the previous tutorial, or you can download [after_estimators.bundle](https://github.com/phoebe-project/phoebe2-workshop/raw/2023june/data/synthetic/after_estimators.bundle)."
   ]
  },
  {
   "cell_type": "code",
   "execution_count": null,
   "id": "49fe5ed8",
   "metadata": {},
   "outputs": [],
   "source": [
    "#Load Previous Bundle\n",
    "b = phoebe.open('data/synthetic/after_estimators.bundle')"
   ]
  },
  {
   "cell_type": "markdown",
   "id": "81d642d4",
   "metadata": {},
   "source": [
    "It's useful to remind ourselves what models and compute options we have in the bundle:"
   ]
  },
  {
   "cell_type": "code",
   "execution_count": null,
   "id": "920ed82c",
   "metadata": {},
   "outputs": [],
   "source": [
    "print(b.models, b.computes)"
   ]
  },
  {
   "cell_type": "markdown",
   "id": "dbe49e5e",
   "metadata": {},
   "source": [
    "Now let's take a quick look at our final fit from the previous bundle:"
   ]
  },
  {
   "cell_type": "code",
   "execution_count": null,
   "id": "d70a4162",
   "metadata": {},
   "outputs": [],
   "source": [
    "b.run_compute('phoebe01', model='after_estimators', overwrite=True)\n",
    "b.plot(model='after_estimators', x='phases', show=True)"
   ]
  },
  {
   "cell_type": "markdown",
   "id": "89862683",
   "metadata": {},
   "source": [
    "This looks close enough for the optimizer run. We will first initialize a new compute parameter-set and tweak a few optimization options for faster runtime:"
   ]
  },
  {
   "cell_type": "code",
   "execution_count": null,
   "id": "307ea41d",
   "metadata": {},
   "outputs": [],
   "source": [
    "b.add_compute(compute='nm_fit',\n",
    "              irrad_method='none',\n",
    "              rv_method='dynamical',\n",
    "              distortion_method='sphere')"
   ]
  },
  {
   "cell_type": "markdown",
   "id": "38bdab80",
   "metadata": {},
   "source": [
    "To save even more time, we can run the optimizer in phase-space instead of time-space; for that, we need to provide an array of phases in which the model should be computed and optimized:"
   ]
  },
  {
   "cell_type": "code",
   "execution_count": null,
   "id": "c1a693ec",
   "metadata": {},
   "outputs": [],
   "source": [
    "b.flip_constraint('compute_phases@rv01', solve_for='compute_times')\n",
    "b.set_value_all('compute_phases', dataset='rv01', value=phoebe.linspace(0, 1, 26))"
   ]
  },
  {
   "cell_type": "code",
   "execution_count": null,
   "id": "8b990b8a-294a-458b-9aa4-c76f92dd5077",
   "metadata": {},
   "outputs": [],
   "source": [
    "b.flip_constraint('compute_phases@lc01', solve_for='compute_times')\n",
    "b.set_value_all('compute_phases', dataset='lc01', value=phoebe.linspace(0, 1, 101))"
   ]
  },
  {
   "cell_type": "markdown",
   "id": "0c8b5884-a10b-444b-b9b6-968907dd30ef",
   "metadata": {},
   "source": [
    "By default, the solver will automatically determine whether to use `compute_times` or `times`:"
   ]
  },
  {
   "cell_type": "code",
   "execution_count": null,
   "id": "befccc94-d5f7-4263-a674-cd219d334616",
   "metadata": {},
   "outputs": [],
   "source": [
    "print(b['solver_times'])"
   ]
  },
  {
   "cell_type": "code",
   "execution_count": null,
   "id": "6fbd5f04-062e-4ffe-bf31-7012c62098f6",
   "metadata": {},
   "outputs": [],
   "source": [
    "print(b['solver_times@lc01'])"
   ]
  },
  {
   "cell_type": "code",
   "execution_count": null,
   "id": "d6fee423-90e5-4dfd-b60f-b7acf435091a",
   "metadata": {},
   "outputs": [],
   "source": [
    "b.parse_solver_times()"
   ]
  },
  {
   "cell_type": "markdown",
   "id": "ffcef7cb",
   "metadata": {},
   "source": [
    "Phoebe has four optimizer methods: \n",
    "\n",
    "* differential corrections (`optimizer.differential_corrections`);\n",
    "* conjugate gradient (`optimizer.cg`);\n",
    "* powell (`optimizer.powell`);\n",
    "* nelder_mead (`optimizer.nelder_mead`); \n",
    "\n",
    "In most cases, `nelder_mead` is the most efficient so this is the one we will use moving forward. However, the logic is essentially identical if you would like to try a different one.\n",
    "\n",
    "We start by adding an optimizer and attaching compute options to it:"
   ]
  },
  {
   "cell_type": "code",
   "execution_count": null,
   "id": "5082b4dc",
   "metadata": {},
   "outputs": [],
   "source": [
    "b.add_solver('optimizer.nelder_mead',  solver='nm_solver', compute='nm_fit')"
   ]
  },
  {
   "cell_type": "markdown",
   "id": "f3b8a6ea",
   "metadata": {},
   "source": [
    "Let's take a look at the parameters:"
   ]
  },
  {
   "cell_type": "code",
   "execution_count": null,
   "id": "64945f1a",
   "metadata": {},
   "outputs": [],
   "source": [
    "print(b['nm_solver'])"
   ]
  },
  {
   "cell_type": "markdown",
   "id": "48539b2f",
   "metadata": {},
   "source": [
    "For the tutorial we will reduce the maximum number of iterations to 20; let us also disable light curve data for now, in order to get radial velocity parameters figured out:"
   ]
  },
  {
   "cell_type": "code",
   "execution_count": null,
   "id": "2cfcd5b4",
   "metadata": {},
   "outputs": [],
   "source": [
    "b.set_value('maxiter', solver='nm_solver', value=20)\n",
    "b.disable_dataset('lc01')"
   ]
  },
  {
   "cell_type": "markdown",
   "id": "fac8889b",
   "metadata": {},
   "source": [
    "Now we need to inform the optimizer which parameters should be adjusted:"
   ]
  },
  {
   "cell_type": "code",
   "execution_count": null,
   "id": "2b1f9205",
   "metadata": {},
   "outputs": [],
   "source": [
    "b['fit_parameters@nm_solver'] = ['vgamma@system', 't0_supconj@binary', 'q@binary', 'asini@binary']"
   ]
  },
  {
   "cell_type": "markdown",
   "id": "57ed1ea1",
   "metadata": {},
   "source": [
    "With everything set, we can now run the solver. This will take a little bit of time because of the non-zero eccentricity but not enough for a coffee run:"
   ]
  },
  {
   "cell_type": "code",
   "execution_count": null,
   "id": "e57a5e16",
   "metadata": {},
   "outputs": [],
   "source": [
    "b.run_solver('nm_solver', solution='nm_solution', overwrite=True)"
   ]
  },
  {
   "cell_type": "markdown",
   "id": "8773f9d0",
   "metadata": {},
   "source": [
    "New (fit) values for adjusted parameters are stored in the `fitted_values` parameter:"
   ]
  },
  {
   "cell_type": "code",
   "execution_count": null,
   "id": "2891a222",
   "metadata": {},
   "outputs": [],
   "source": [
    "print(b['nm_solution'])"
   ]
  },
  {
   "cell_type": "markdown",
   "id": "fbff533c",
   "metadata": {},
   "source": [
    "Alternatively, we can call the `adopt_solution()` method by passing `trial_run=True`:"
   ]
  },
  {
   "cell_type": "code",
   "execution_count": null,
   "id": "678b409e",
   "metadata": {},
   "outputs": [],
   "source": [
    "print(b.adopt_solution('nm_solution', trial_run=True))"
   ]
  },
  {
   "cell_type": "markdown",
   "id": "a5c28338",
   "metadata": {},
   "source": [
    "We can now run the model with these proposed parameters and inspect the solution visually:"
   ]
  },
  {
   "cell_type": "code",
   "execution_count": null,
   "id": "aad63265",
   "metadata": {},
   "outputs": [],
   "source": [
    "b.run_compute('nm_fit', solution='nm_solution', model='after_nm', overwrite=True)\n",
    "\n",
    "b.plot(kind='rv', model='after_nm', x='phases', show=True, legend=True, marker = 'o')\n",
    "b.plot( kind='rv', model='after_nm', x='phases', y='residuals', show=True, legend=True, marker = 'o')"
   ]
  },
  {
   "cell_type": "markdown",
   "id": "b0bf75f4",
   "metadata": {},
   "source": [
    "This improves the initial fit, so we can adopt this solution, thus copying proposed solution values to the bundle's face values:"
   ]
  },
  {
   "cell_type": "code",
   "execution_count": null,
   "id": "ecd5a230",
   "metadata": {},
   "outputs": [],
   "source": [
    "b.adopt_solution('nm_solution')"
   ]
  },
  {
   "cell_type": "markdown",
   "id": "1f9c82c7",
   "metadata": {},
   "source": [
    "Now let's return to light curve data; enable them, and disable RVs:"
   ]
  },
  {
   "cell_type": "code",
   "execution_count": null,
   "id": "e60bb5b2",
   "metadata": {},
   "outputs": [],
   "source": [
    "b.disable_dataset('rv01')\n",
    "b.enable_dataset('lc01')"
   ]
  },
  {
   "cell_type": "markdown",
   "id": "f9724826",
   "metadata": {},
   "source": [
    "Depending on the number of data points, computing the forward model can take a long time. That means that _optimizing_ the model can take a _very_ long time. When light curve data do not exhibit significant out-of-eclipse variability, we can limit the optimizer to eclipse regions, thus saving us appreciable time. We will use our previous `lcgeom_solution` to mask out everything else. Eclipse regions are stored in the `eclipse_edges` parameter:"
   ]
  },
  {
   "cell_type": "code",
   "execution_count": null,
   "id": "feb8cd5f",
   "metadata": {},
   "outputs": [],
   "source": [
    "print(b['eclipse_edges@lcgeom_solution'])"
   ]
  },
  {
   "cell_type": "markdown",
   "id": "6dbef728",
   "metadata": {},
   "source": [
    "The masking parameter is associated with the datasets:"
   ]
  },
  {
   "cell_type": "code",
   "execution_count": null,
   "id": "92898743",
   "metadata": {},
   "outputs": [],
   "source": [
    "print(b['mask_phases'])"
   ]
  },
  {
   "cell_type": "markdown",
   "id": "00841c33",
   "metadata": {},
   "source": [
    "To automatically populate these arrays, we will set `mask_phases` as a parameter to be adopted from the `lcgeom_solution` and then adopt the solution:"
   ]
  },
  {
   "cell_type": "code",
   "execution_count": null,
   "id": "a1d13b9d",
   "metadata": {},
   "outputs": [],
   "source": [
    "b.set_value(solution = 'lcgeom_solution', qualifier='adopt_parameters', value=['mask_phases'])\n",
    "b.adopt_solution('lcgeom_solution')"
   ]
  },
  {
   "cell_type": "markdown",
   "id": "2e055e9e",
   "metadata": {},
   "source": [
    "Now the masked phases are populated by taking `eclipse_edges` and padding 30% of the eclipse width to ascertain adequate eclipse coverage:"
   ]
  },
  {
   "cell_type": "code",
   "execution_count": null,
   "id": "b7db168f",
   "metadata": {},
   "outputs": [],
   "source": [
    "print(b['mask_phases'])"
   ]
  },
  {
   "cell_type": "markdown",
   "id": "1ac11da2",
   "metadata": {},
   "source": [
    "The easiest way to see this in action is to visualize it:"
   ]
  },
  {
   "cell_type": "code",
   "execution_count": null,
   "id": "f03146b2",
   "metadata": {},
   "outputs": [],
   "source": [
    "b.plot(kind='lc', model='after_estimators', x='phases', show='True')"
   ]
  },
  {
   "cell_type": "markdown",
   "id": "f8245aa6",
   "metadata": {},
   "source": [
    "Recall that, for estimators, we used $R_2/R_1$ and $R_1+R_2$ to parametrize the model. As we will run the actual forward model, it serves our purpose better to use $R_1$ and $R_2$ as independent parameters. Let us flip the constraint and mark relevant parameters for adjustment:"
   ]
  },
  {
   "cell_type": "code",
   "execution_count": null,
   "id": "0b3f34a5",
   "metadata": {},
   "outputs": [],
   "source": [
    "b.flip_constraint('requiv@primary', solve_for='requivsumfrac@binary')\n",
    "\n",
    "b['fit_parameters'] = ['teffratio@binary',\n",
    "                       't0_supconj@binary',\n",
    "                       'incl@binary']"
   ]
  },
  {
   "cell_type": "markdown",
   "id": "6670b87e",
   "metadata": {},
   "source": [
    "As we set all solver parameters already, we can now simply run it:"
   ]
  },
  {
   "cell_type": "code",
   "execution_count": null,
   "id": "31b9683e",
   "metadata": {},
   "outputs": [],
   "source": [
    "b.run_solver('nm_solver', solution='nm_solution', overwrite=True)"
   ]
  },
  {
   "cell_type": "markdown",
   "id": "6bf16667",
   "metadata": {},
   "source": [
    "As before, we can inspect the adjusted values either by looking at `fitted_values` or by running `adopt_solution()` with `trial_run=True`:"
   ]
  },
  {
   "cell_type": "code",
   "execution_count": null,
   "id": "1e610605",
   "metadata": {},
   "outputs": [],
   "source": [
    "print(b.adopt_solution('nm_solution', trial_run=True))"
   ]
  },
  {
   "cell_type": "markdown",
   "id": "8316ec16",
   "metadata": {},
   "source": [
    "What did that do to our light curve fit?"
   ]
  },
  {
   "cell_type": "code",
   "execution_count": null,
   "id": "6453b180",
   "metadata": {},
   "outputs": [],
   "source": [
    "b.run_compute('nm_fit', solution='nm_solution', model='after_nmlc')\n",
    "\n",
    "b.plot(kind='lc', model='after_nmlc', x='phases', show=True, legend=True, marker = 'o')\n",
    "b.plot(kind='lc', model='after_nmlc', x='phases', y='residuals', show=True, legend=True, marker = 'o')"
   ]
  },
  {
   "cell_type": "markdown",
   "id": "830f2a7c",
   "metadata": {},
   "source": [
    "As before, this looks reasonable, so we can adopt the solution:"
   ]
  },
  {
   "cell_type": "code",
   "execution_count": null,
   "id": "6f0da7eb",
   "metadata": {},
   "outputs": [],
   "source": [
    "b.adopt_solution('nm_solution')"
   ]
  },
  {
   "cell_type": "markdown",
   "id": "6e1585ae",
   "metadata": {},
   "source": [
    "We can take a closer look at the primary eclipse:"
   ]
  },
  {
   "cell_type": "code",
   "execution_count": null,
   "id": "47aecf31",
   "metadata": {},
   "outputs": [],
   "source": [
    "b.plot(kind='lc', x='phases', model='after_nmlc', xlim=[-0.2,0.2], show=True, legend=True, marker = 'o')\n",
    "b.plot(kind='lc', x='phases', model='after_nmlc', xlim=[-0.2,0.2], y='residuals', show=True, legend=True, marker = 'o')"
   ]
  },
  {
   "cell_type": "code",
   "execution_count": null,
   "id": "f392c49c-6bda-4e63-b953-02082a26e6d9",
   "metadata": {},
   "outputs": [],
   "source": [
    "b.save('./data/synthetic/after_optimizers.bundle')"
   ]
  },
  {
   "cell_type": "markdown",
   "id": "ecba62fe",
   "metadata": {},
   "source": [
    "# Exercise\n",
    "\n",
    "Combine both light and rv curves to achieve a better fit, primarily within the eclipse. Hint: It's often better to fit a small number of parameters first. "
   ]
  },
  {
   "cell_type": "code",
   "execution_count": null,
   "id": "8cc9cb06",
   "metadata": {},
   "outputs": [],
   "source": []
  }
 ],
 "metadata": {
  "kernelspec": {
   "display_name": "Python 3 (ipykernel)",
   "language": "python",
   "name": "python3"
  },
  "language_info": {
   "codemirror_mode": {
    "name": "ipython",
    "version": 3
   },
   "file_extension": ".py",
   "mimetype": "text/x-python",
   "name": "python",
   "nbconvert_exporter": "python",
   "pygments_lexer": "ipython3",
   "version": "3.11.3"
  }
 },
 "nbformat": 4,
 "nbformat_minor": 5
}
