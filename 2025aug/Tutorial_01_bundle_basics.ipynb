{
 "cells": [
  {
   "attachments": {},
   "cell_type": "markdown",
   "metadata": {},
   "source": [
    "# Workshop Tutorial: General Concepts & Bundle Basics\n",
    "\n",
    "In this first tutorial, we will learn the basics of the \"Bundle\" - the container for all parameters within PHOEBE.  We will cover access to individual parameters and learn how to get and set their values.\n",
    "\n",
    "This interactive workshop tutorial covers many of the same topics as the corresponding online tutorials:\n",
    "\n",
    "* [The PHOEBE Bundle](http://phoebe-project.org/docs/2.4/tutorials/general_concepts.ipynb)\n",
    "* [Advanced: Parameter Types](http://phoebe-project.org/docs/2.4/tutorials/parameters.ipynb)\n",
    "* [Advanced: Parameter Units](http://phoebe-project.org/docs/2.4/tutorials/units.ipynb)\n",
    "* [Advanced: Building a System](http://phoebe-project.org/docs/2.4/tutorials/building_a_system.ipynb)\n",
    "* [Advanced: Contact Binary Hierarchy](http://phoebe-project.org/docs/2.4/tutorials/contact_binary_hierarchy.ipynb)\n",
    "* [Advanced: Semi-Detached Systems](http://phoebe-project.org/docs/2.4/tutorials/requiv_crit_semidetached.ipynb)\n",
    "* [Advanced: Saving, Loading, and Exporting](http://phoebe-project.org/docs/2.4/tutorials/saving_and_loading.ipynb)"
   ]
  },
  {
   "attachments": {},
   "cell_type": "markdown",
   "metadata": {},
   "source": [
    "# Setup"
   ]
  },
  {
   "cell_type": "code",
   "execution_count": 1,
   "metadata": {},
   "outputs": [],
   "source": [
    "import phoebe\n",
    "from phoebe import u, c"
   ]
  },
  {
   "cell_type": "code",
   "execution_count": 2,
   "metadata": {},
   "outputs": [],
   "source": [
    "logger = phoebe.logger(clevel='WARNING')"
   ]
  },
  {
   "attachments": {},
   "cell_type": "markdown",
   "metadata": {},
   "source": [
    "# The Bundle"
   ]
  },
  {
   "attachments": {},
   "cell_type": "markdown",
   "metadata": {},
   "source": [
    "Everything for our system will be stored in a single Python object that we call the \"Bundle\". Let us create a default binary system and store it in a Bundle object variable `b` (short for bundle)."
   ]
  },
  {
   "cell_type": "code",
   "execution_count": 3,
   "metadata": {},
   "outputs": [],
   "source": [
    "b = phoebe.default_binary()"
   ]
  },
  {
   "attachments": {},
   "cell_type": "markdown",
   "metadata": {},
   "source": [
    "The Bundle is a collection of parameters along with some callable methods. Each parameter is also a python object. Here we can see that the Bundle consists of over 140 individual parameters:"
   ]
  },
  {
   "cell_type": "code",
   "execution_count": 4,
   "metadata": {},
   "outputs": [
    {
     "data": {
      "text/plain": [
       "<PHOEBE Bundle: 141 parameters | contexts: figure, setting, system, component, compute, constraint>"
      ]
     },
     "execution_count": 4,
     "metadata": {},
     "output_type": "execute_result"
    }
   ],
   "source": [
    "b"
   ]
  },
  {
   "attachments": {},
   "cell_type": "markdown",
   "metadata": {},
   "source": [
    "If we want to get or set a parameter value in the Bundle, we need to learn how to access it. Each `Parameter` object has a number of tags which are used to uniquely identify it; the tags are then used to filter parameters, akin to a database query. When filtering, a `ParameterSet` is returned - another python object that holds a subset of `Parameter` objects satisfying the used tags. Parameter sets can be filtered further, until they contain a single `Parameter`."
   ]
  },
  {
   "cell_type": "code",
   "execution_count": 5,
   "metadata": {},
   "outputs": [
    {
     "data": {
      "text/plain": [
       "<ParameterSet: 17 parameters | components: secondary, primary>"
      ]
     },
     "execution_count": 5,
     "metadata": {},
     "output_type": "execute_result"
    }
   ],
   "source": [
    "b.filter(context='compute')"
   ]
  },
  {
   "attachments": {},
   "cell_type": "markdown",
   "metadata": {},
   "source": [
    "To get an actual list of parameters, you can print the corresponding `ParameterSet`:"
   ]
  },
  {
   "cell_type": "code",
   "execution_count": 6,
   "metadata": {},
   "outputs": [
    {
     "name": "stdout",
     "output_type": "stream",
     "text": [
      "ParameterSet: 17 parameters\n",
      "     sample_from@phoebe01@compute: []\n",
      "        comments@phoebe01@compute: \n",
      "      use_server@phoebe01@compute: none\n",
      "   dynamics_method@phoebe01@co...: keplerian\n",
      "            ltte@phoebe01@compute: False\n",
      "    irrad_method@phoebe01@compute: horvat\n",
      "   boosting_method@phoebe01@co...: none\n",
      "   eclipse_method@phoebe01@com...: native\n",
      "   horizon_method@phoebe01@com...: boolean\n",
      "   mesh_method@primary@phoebe0...: marching\n",
      "   mesh_method@secondary@phoeb...: marching\n",
      "   ntriangles@primary@phoebe01...: 1500\n",
      "   ntriangles@secondary@phoebe...: 1500\n",
      "   distortion_method@primary@p...: roche\n",
      "   distortion_method@secondary...: roche\n",
      "     atm@primary@phoebe01@compute: ck2004\n",
      "   atm@secondary@phoebe01@compute: ck2004\n"
     ]
    }
   ],
   "source": [
    "print(b.filter(context='compute'))"
   ]
  },
  {
   "attachments": {},
   "cell_type": "markdown",
   "metadata": {},
   "source": [
    "Here we filtered on the \"context\" tag for all parameters where context='compute'. This tag refers to parameters that determine how a forward model is computed. If we wanted to see all available options for the \"context\" tag in the Bundle, we would use the plural form of the tag:"
   ]
  },
  {
   "cell_type": "code",
   "execution_count": 7,
   "metadata": {},
   "outputs": [
    {
     "data": {
      "text/plain": [
       "['system', 'component', 'constraint', 'compute', 'figure', 'setting']"
      ]
     },
     "execution_count": 7,
     "metadata": {},
     "output_type": "execute_result"
    }
   ],
   "source": [
    "b.contexts"
   ]
  },
  {
   "attachments": {},
   "cell_type": "markdown",
   "metadata": {},
   "source": [
    "All available tags are stored in the `b.tags` dictionary; to display all its keys, we would do:"
   ]
  },
  {
   "cell_type": "code",
   "execution_count": 8,
   "metadata": {},
   "outputs": [
    {
     "data": {
      "text/plain": [
       "dict_keys(['times', 'qualifiers', 'features', 'components', 'datasets', 'constraints', 'distributions', 'computes', 'models', 'solvers', 'solutions', 'figures', 'servers', 'kinds', 'contexts'])"
      ]
     },
     "execution_count": 8,
     "metadata": {},
     "output_type": "execute_result"
    }
   ],
   "source": [
    "b.tags.keys()"
   ]
  },
  {
   "attachments": {},
   "cell_type": "markdown",
   "metadata": {},
   "source": [
    "Although technically there is no hierarchy to the tags, it can be helpful to think of the \"context\" tag as the top-level tag and we should filter by the appropriate context first. We will discuss other tags in detail today and tomorrow."
   ]
  },
  {
   "attachments": {},
   "cell_type": "markdown",
   "metadata": {},
   "source": [
    "Using the plural form of the tag as an attribute also works on a filtered `ParameterSet`:"
   ]
  },
  {
   "cell_type": "code",
   "execution_count": 9,
   "metadata": {},
   "outputs": [
    {
     "data": {
      "text/plain": [
       "['primary', 'secondary']"
      ]
     },
     "execution_count": 9,
     "metadata": {},
     "output_type": "execute_result"
    }
   ],
   "source": [
    "b.filter(context='compute').components"
   ]
  },
  {
   "attachments": {},
   "cell_type": "markdown",
   "metadata": {},
   "source": [
    "This then tells us what can be used to filter further."
   ]
  },
  {
   "cell_type": "code",
   "execution_count": 10,
   "metadata": {},
   "outputs": [
    {
     "data": {
      "text/plain": [
       "<ParameterSet: 4 parameters | qualifiers: ntriangles, distortion_method, atm, mesh_method>"
      ]
     },
     "execution_count": 10,
     "metadata": {},
     "output_type": "execute_result"
    }
   ],
   "source": [
    "b.filter(context='compute').filter(component='primary')"
   ]
  },
  {
   "attachments": {},
   "cell_type": "markdown",
   "metadata": {},
   "source": [
    "You can also filter in a single call to `filter()`, by naming keyword arguments appropriately:"
   ]
  },
  {
   "cell_type": "code",
   "execution_count": 11,
   "metadata": {},
   "outputs": [
    {
     "data": {
      "text/plain": [
       "<ParameterSet: 4 parameters | qualifiers: ntriangles, distortion_method, atm, mesh_method>"
      ]
     },
     "execution_count": 11,
     "metadata": {},
     "output_type": "execute_result"
    }
   ],
   "source": [
    "b.filter(context='compute', component='primary')"
   ]
  },
  {
   "attachments": {},
   "cell_type": "markdown",
   "metadata": {},
   "source": [
    "The \"qualifier\" tag is the shorthand name of the parameter itself.  If you do not know what is the name of the parameter you need, it is often useful to list all the qualifiers of the `Bundle` or a given `ParameterSet`:"
   ]
  },
  {
   "cell_type": "code",
   "execution_count": 12,
   "metadata": {},
   "outputs": [
    {
     "data": {
      "text/plain": [
       "['mesh_method', 'ntriangles', 'distortion_method', 'atm']"
      ]
     },
     "execution_count": 12,
     "metadata": {},
     "output_type": "execute_result"
    }
   ],
   "source": [
    "b.filter(context='compute', component='primary').qualifiers"
   ]
  },
  {
   "attachments": {},
   "cell_type": "markdown",
   "metadata": {},
   "source": [
    "Now that we know the options for qualifier within this filter, we can choose to filter on one of those. For example, let us filter on the `ntriangles` qualifier."
   ]
  },
  {
   "cell_type": "code",
   "execution_count": 13,
   "metadata": {},
   "outputs": [
    {
     "data": {
      "text/plain": [
       "<ParameterSet: 1 parameters>"
      ]
     },
     "execution_count": 13,
     "metadata": {},
     "output_type": "execute_result"
    }
   ],
   "source": [
    "b.filter(context='compute', component='primary', qualifier='ntriangles')"
   ]
  },
  {
   "attachments": {},
   "cell_type": "markdown",
   "metadata": {},
   "source": [
    "Once we filter to a single Parameter, we can use `get_parameter()` to return the `Parameter` object itself (instead of the `ParameterSet`)."
   ]
  },
  {
   "cell_type": "code",
   "execution_count": 14,
   "metadata": {},
   "outputs": [
    {
     "data": {
      "text/plain": [
       "<Parameter: ntriangles=1500 | keys: description, value, limits, visible_if, copy_for, readonly, advanced, latexfmt>"
      ]
     },
     "execution_count": 14,
     "metadata": {},
     "output_type": "execute_result"
    }
   ],
   "source": [
    "b.filter(context='compute', component='primary', qualifier='ntriangles').get_parameter()"
   ]
  },
  {
   "attachments": {},
   "cell_type": "markdown",
   "metadata": {},
   "source": [
    "Note that `get_parameter()` also takes filtering keywords. The above line is thus equivalent to the following:"
   ]
  },
  {
   "cell_type": "code",
   "execution_count": 15,
   "metadata": {},
   "outputs": [
    {
     "data": {
      "text/plain": [
       "<Parameter: ntriangles=1500 | keys: description, value, limits, visible_if, copy_for, readonly, advanced, latexfmt>"
      ]
     },
     "execution_count": 15,
     "metadata": {},
     "output_type": "execute_result"
    }
   ],
   "source": [
    "b.get_parameter(context='compute', component='primary', qualifier='ntriangles')"
   ]
  },
  {
   "attachments": {},
   "cell_type": "markdown",
   "metadata": {},
   "source": [
    "Finally, all tags can be concatenated together, using \"@\" as the separator; we refer to these constructs as \"twigs\" (nomenclature was inspired by \"a bundle of twigs\"):"
   ]
  },
  {
   "cell_type": "code",
   "execution_count": 16,
   "metadata": {},
   "outputs": [
    {
     "data": {
      "text/plain": [
       "<Parameter: ntriangles=1500 | keys: description, value, limits, visible_if, copy_for, readonly, advanced, latexfmt>"
      ]
     },
     "execution_count": 16,
     "metadata": {},
     "output_type": "execute_result"
    }
   ],
   "source": [
    "b['ntriangles@primary@compute']"
   ]
  },
  {
   "attachments": {},
   "cell_type": "markdown",
   "metadata": {},
   "source": [
    "There are some minor limitations to using twigs that we will address as the workshop progresses, so for the time being we will use the more verbose, but also more explicit methods of accessing parameters. In general, though, the ways to access parameters are by-and-large interchangeable."
   ]
  },
  {
   "attachments": {},
   "cell_type": "markdown",
   "metadata": {},
   "source": [
    "Each `Parameter` object contains several keys that provide information about that parameter.  The keys `description` and `value` are always included, with additional keys available depending on the type of parameter. While these keys exist as properties of the `Parameter` object (i.e., `p.value` and `p.description`), there are dedicated methods `get_value()` and `get_description()` that should be used instead; they take keyword arguments that can further modify the return value, for example to specify units."
   ]
  },
  {
   "cell_type": "code",
   "execution_count": 17,
   "metadata": {},
   "outputs": [
    {
     "data": {
      "text/plain": [
       "1500"
      ]
     },
     "execution_count": 17,
     "metadata": {},
     "output_type": "execute_result"
    }
   ],
   "source": [
    "b.get_parameter(context='compute', component='primary', qualifier='ntriangles').get_value()"
   ]
  },
  {
   "cell_type": "code",
   "execution_count": 18,
   "metadata": {},
   "outputs": [
    {
     "data": {
      "text/plain": [
       "\"Requested number of triangles (won't be exact).\""
      ]
     },
     "execution_count": 18,
     "metadata": {},
     "output_type": "execute_result"
    }
   ],
   "source": [
    "b.get_parameter(context='compute', component='primary', qualifier='ntriangles').get_description()"
   ]
  },
  {
   "attachments": {},
   "cell_type": "markdown",
   "metadata": {},
   "source": [
    "The `get_*()` family of methods works on the bundle as well, and can be filtered using keyword arguments. For example:"
   ]
  },
  {
   "cell_type": "code",
   "execution_count": 19,
   "metadata": {},
   "outputs": [
    {
     "data": {
      "text/plain": [
       "1500"
      ]
     },
     "execution_count": 19,
     "metadata": {},
     "output_type": "execute_result"
    }
   ],
   "source": [
    "b.get_value(context='compute', component='primary', qualifier='ntriangles')"
   ]
  },
  {
   "attachments": {},
   "cell_type": "markdown",
   "metadata": {},
   "source": [
    "Finally, adding a key to the twig will also provide access to it:"
   ]
  },
  {
   "cell_type": "code",
   "execution_count": 20,
   "metadata": {},
   "outputs": [
    {
     "data": {
      "text/plain": [
       "\"Requested number of triangles (won't be exact).\""
      ]
     },
     "execution_count": 20,
     "metadata": {},
     "output_type": "execute_result"
    }
   ],
   "source": [
    "b['description@ntriangles@primary@compute']"
   ]
  },
  {
   "attachments": {},
   "cell_type": "markdown",
   "metadata": {},
   "source": [
    "As the `ntriangles` parameter is an integer parameter, it also includes a key for the allowable limits."
   ]
  },
  {
   "cell_type": "code",
   "execution_count": 21,
   "metadata": {},
   "outputs": [
    {
     "data": {
      "text/plain": [
       "[100, None]"
      ]
     },
     "execution_count": 21,
     "metadata": {},
     "output_type": "execute_result"
    }
   ],
   "source": [
    "b.get_parameter(context='compute', component='primary', qualifier='ntriangles').get_limits()"
   ]
  },
  {
   "attachments": {},
   "cell_type": "markdown",
   "metadata": {},
   "source": [
    "In this case, we're looking at the Parameter called `ntriangles` with the component tag set to 'primary'.  This Parameter therefore defines how many triangles should be created when creating the mesh for the star named 'primary'.  By default, this is set to 1500 triangles, with allowable values above 100.\n",
    "\n",
    "If we wanted a finer mesh, we would change the value:"
   ]
  },
  {
   "cell_type": "code",
   "execution_count": 22,
   "metadata": {},
   "outputs": [],
   "source": [
    "b.get_parameter(context='compute', component='primary', qualifier='ntriangles').set_value(2000)"
   ]
  },
  {
   "cell_type": "code",
   "execution_count": 23,
   "metadata": {},
   "outputs": [
    {
     "data": {
      "text/plain": [
       "<Parameter: ntriangles=2000 | keys: description, value, limits, visible_if, copy_for, readonly, advanced, latexfmt>"
      ]
     },
     "execution_count": 23,
     "metadata": {},
     "output_type": "execute_result"
    }
   ],
   "source": [
    "b.get_parameter(context='compute', component='primary', qualifier='ntriangles')"
   ]
  },
  {
   "attachments": {},
   "cell_type": "markdown",
   "metadata": {},
   "source": [
    "Twig access attempts to simplify the interface even more, so it is not necessary to explicitly provide `value` as part of the twig; it is also not necessary to provide *all* tags, just the ones that uniquely qualify the parameter:"
   ]
  },
  {
   "cell_type": "code",
   "execution_count": 24,
   "metadata": {},
   "outputs": [
    {
     "data": {
      "text/plain": [
       "<Parameter: ntriangles=1500 | keys: description, value, limits, visible_if, copy_for, readonly, advanced, latexfmt>"
      ]
     },
     "execution_count": 24,
     "metadata": {},
     "output_type": "execute_result"
    }
   ],
   "source": [
    "b['ntriangles@primary'] = 1500\n",
    "b['ntriangles@primary']"
   ]
  },
  {
   "attachments": {},
   "cell_type": "markdown",
   "metadata": {},
   "source": [
    "This is a very important distinction between the filtered interface and the twig interface to parameters and their values: when a set of tags uniquely identifies a parameter, the corresponding twig (via dictionary access) will *always* return a `Parameter`, whereas the `filter()` interface will *always* return a `ParameterSet`:"
   ]
  },
  {
   "cell_type": "code",
   "execution_count": 25,
   "metadata": {},
   "outputs": [
    {
     "data": {
      "text/plain": [
       "<ParameterSet: 1 parameters>"
      ]
     },
     "execution_count": 25,
     "metadata": {},
     "output_type": "execute_result"
    }
   ],
   "source": [
    "b.filter(component='primary', qualifier='ntriangles')"
   ]
  },
  {
   "attachments": {},
   "cell_type": "markdown",
   "metadata": {},
   "source": [
    "As with the tags, you can call `.twigs` on any `ParameterSet` to see the \"smallest unique twigs\" of the contained parameters:"
   ]
  },
  {
   "cell_type": "code",
   "execution_count": 26,
   "metadata": {},
   "outputs": [
    {
     "data": {
      "text/plain": [
       "['sample_from@phoebe01@phoebe@compute',\n",
       " 'comments@phoebe01@phoebe@compute',\n",
       " 'use_server@phoebe01@phoebe@compute',\n",
       " 'dynamics_method@phoebe01@phoebe@compute',\n",
       " 'ltte@phoebe01@phoebe@compute',\n",
       " 'irrad_method@phoebe01@phoebe@compute',\n",
       " 'boosting_method@phoebe01@phoebe@compute',\n",
       " 'eclipse_method@phoebe01@phoebe@compute',\n",
       " 'horizon_method@phoebe01@phoebe@compute',\n",
       " 'mesh_method@primary@phoebe01@phoebe@compute',\n",
       " 'mesh_method@secondary@phoebe01@phoebe@compute',\n",
       " 'ntriangles@primary@phoebe01@phoebe@compute',\n",
       " 'ntriangles@secondary@phoebe01@phoebe@compute',\n",
       " 'distortion_method@primary@phoebe01@phoebe@compute',\n",
       " 'distortion_method@secondary@phoebe01@phoebe@compute',\n",
       " 'atm@primary@phoebe01@phoebe@compute',\n",
       " 'atm@secondary@phoebe01@phoebe@compute']"
      ]
     },
     "execution_count": 26,
     "metadata": {},
     "output_type": "execute_result"
    }
   ],
   "source": [
    "b['compute'].twigs"
   ]
  },
  {
   "attachments": {},
   "cell_type": "markdown",
   "metadata": {},
   "source": [
    "Now let us take a look at another parameter, say the `distortion_method` qualifier from that same `ParameterSet`. It has an added key, `choices`:"
   ]
  },
  {
   "cell_type": "code",
   "execution_count": 27,
   "metadata": {},
   "outputs": [
    {
     "data": {
      "text/plain": [
       "<Parameter: distortion_method=roche | keys: description, choices, value, visible_if, copy_for, readonly, advanced, latexfmt>"
      ]
     },
     "execution_count": 27,
     "metadata": {},
     "output_type": "execute_result"
    }
   ],
   "source": [
    "b.get_parameter(context='compute', component='primary', qualifier='distortion_method')"
   ]
  },
  {
   "cell_type": "code",
   "execution_count": 28,
   "metadata": {},
   "outputs": [
    {
     "data": {
      "text/plain": [
       "['roche', 'rotstar', 'sphere', 'none']"
      ]
     },
     "execution_count": 28,
     "metadata": {},
     "output_type": "execute_result"
    }
   ],
   "source": [
    "b.get_parameter(context='compute', component='primary', qualifier='distortion_method').get_choices()"
   ]
  },
  {
   "attachments": {},
   "cell_type": "markdown",
   "metadata": {},
   "source": [
    "We can only set a value if it is contained within this list - if you attempt to set a non-valid value, an error will be raised."
   ]
  },
  {
   "cell_type": "code",
   "execution_count": 29,
   "metadata": {},
   "outputs": [],
   "source": [
    "b.get_parameter(context='compute', component='primary', qualifier='distortion_method').set_value('rotstar')"
   ]
  },
  {
   "cell_type": "code",
   "execution_count": 30,
   "metadata": {},
   "outputs": [
    {
     "data": {
      "text/plain": [
       "'rotstar'"
      ]
     },
     "execution_count": 30,
     "metadata": {},
     "output_type": "execute_result"
    }
   ],
   "source": [
    "b.get_parameter(context='compute', component='primary', qualifier='distortion_method').get_value()"
   ]
  },
  {
   "attachments": {},
   "cell_type": "markdown",
   "metadata": {},
   "source": [
    "Parameter types include:\n",
    "\n",
    "* String Parameter\n",
    "* Choice Parameter\n",
    "* Select Parameter\n",
    "* Float Parameter\n",
    "* Integer Parameter\n",
    "* Boolean Parameter\n",
    "* FloatArray Parameter\n",
    "\n",
    "These parameter types and their available options are all described in detail in [Advanced: Parameter Types](http://phoebe-project.org/docs/2.4/tutorials/parameters.ipynb)."
   ]
  },
  {
   "attachments": {},
   "cell_type": "markdown",
   "metadata": {},
   "source": [
    "To see a convenient representation of the names (twigs or qualifiers) of all parameters and their descriptions, we can look at the `info` attribute for any `Bundle` or `ParameterSet`:"
   ]
  },
  {
   "cell_type": "code",
   "execution_count": 31,
   "metadata": {},
   "outputs": [
    {
     "name": "stdout",
     "output_type": "stream",
     "text": [
      "ParameterSetInfo: (qualfier/twig: description)\n",
      "                              Av: Extinction Av\n",
      "                              Rv: Extinction law parameter\n",
      "                            abun: Abundance/Metallicity\n",
      "    asini@binary@orbit@component: Projected semi major axis\n",
      "                asini@constraint: expression that determines the constraint\n",
      "            asini@star@component: Projected semi major axis of the component in the orbit\n",
      "                             atm: Atmosphere table\n",
      "                 auto_add_figure: Whether to automatically add figure parameters when a dataset is added with a new dataset type, or a solution is added.\n",
      "              auto_remove_figure: Whether to automatically remove figure parameters when the referenced dataset/solution are removed.\n",
      "                 boosting_method: Type of boosting method\n",
      "                           color: Color to use for figures in which color_source is set to component\n",
      "                        comments: User-provided comments for these compute-options.  Feel free to place any notes here - if not overridden, they will be copied to any resulting models.\n",
      "                             dec: Declination\n",
      "                    default_time: Times to use for highlighting/uncovering if default_time_source=manual.\n",
      "             default_time_source: Source to use for highlight/uncover time for any figure in which time_source is set to default.\n",
      "                     dict_filter: Filters to use when using dictionary access\n",
      "                    dict_set_all: Whether to set all values for dictionary access that returns more than 1 result\n",
      "                        distance: Distance to the system\n",
      "               distortion_method: Method to use for distorting stars\n",
      "                            dpdt: Time derivative of orbital period (anomalistic), where period is defined at t0@system\n",
      "                          dperdt: Time derivative of argument of periastron, where per0 is defined at t0@system\n",
      "                 dynamics_method: Which method to use to determine the dynamics of components\n",
      "       ebv@extinction@constraint: expression that determines the constraint\n",
      "                      ebv@system: Extinction E(B-V)\n",
      "                             ecc: Eccentricity\n",
      "                  eclipse_method: Type of eclipse algorithm\n",
      "    ecosw@binary@orbit@component: Eccentricity times cos of argument of periastron\n",
      "   ecosw@binary@orbit@constraint: expression that determines the constraint\n",
      "enabled@_default@phoebe01@phoebe@compute: Whether to enable the feature in compute/solver run\n",
      "    esinw@binary@orbit@component: Eccentricity times sin of argument of periastron\n",
      "   esinw@binary@orbit@constraint: expression that determines the constraint\n",
      "                   expose_failed: Whether to expose failed samples along with the simplified error messages.\n",
      "                  expose_samples: Whether to expose failed samples along with the simplified error messages.\n",
      "     freq@binary@orbit@component: Orbital frequency (sidereal)\n",
      "                 freq@constraint: expression that determines the constraint\n",
      "             freq@star@component: Rotation frequency (wrt the sky)\n",
      "                      fti_method: How to handle finite-time integration (when non-zero exptime)\n",
      "                  fti_oversample: Number of times to sample per-datapoint for finite-time integration\n",
      "               gp_exclude_phases: List of phase-tuples.  Any observations inside the range set by any of the tuples will be ignored by the gaussian process features.\n",
      "       gp_exclude_phases_enabled: Whether to apply the mask in gp_exclude_phases during gaussian process fitting.\n",
      "                       gravb_bol: Bolometric gravity brightening\n",
      "                       hierarchy: Hierarchy representation\n",
      "                  horizon_method: Type of horizon method\n",
      "     incl@binary@orbit@component: Orbital inclination angle\n",
      "             incl@star@component: Inclination of the stellar rotation axis\n",
      "            incl@star@constraint: expression that determines the constraint\n",
      "irrad_frac_lost_bol@star@component: ratio of incident bolometric light that is lost/ignored\n",
      "irrad_frac_lost_bol@star@constraint: expression that determines the constraint\n",
      "             irrad_frac_refl_bol: ratio of incident bolometric light that is used for reflection/irradiation (heating without redistribution)\n",
      "                    irrad_method: Which method to use to handle all irradiation effects (reflection)\n",
      "                      latex_repr: Representation to use in place of the component label when rendering latex representations of parameters.  If blank, will use the labels directly.\n",
      "                   ld_coeffs_bol: Bolometric limb darkening coefficients (used only for irradiation).\n",
      "            ld_coeffs_source_bol: Source for bolometric limb darkening coefficients (used only for irradiation; 'auto' to interpolate from the applicable table according to the 'atm' parameter, or the name of a specific atmosphere table)\n",
      "                     ld_func_bol: Bolometric limb darkening model (used only for irradiation).\n",
      "                     ld_mode_bol: Mode to use for bolometric limb-darkening (used only for irradiation).\n",
      "                       linestyle: Linestyle to use for figures in which linestyle_source is set to component\n",
      "             logg@star@component: logg at requiv\n",
      "            logg@star@constraint: expression that determines the constraint\n",
      "  long_an@binary@orbit@component: Longitude of the ascending node\n",
      "          long_an@star@component: Longitude of the ascending node (ie. equator) of the star\n",
      "         long_an@star@constraint: expression that determines the constraint\n",
      "                            ltte: Correct for light travel time effects\n",
      "                          marker: Marker (datasets only, not models) to use for figures in which marker_source is set to component\n",
      "             mass@star@component: Mass\n",
      "            mass@star@constraint: expression that determines the constraint\n",
      "mean_anom@binary@orbit@component: Mean anomaly at t0@system\n",
      "mean_anom@binary@orbit@constraint: expression that determines the constraint\n",
      "                     mesh_method: Which method to use for discretizing the surface\n",
      "                      ntriangles: Requested number of triangles (won't be exact).\n",
      "                            per0: Argument of periastron (defined at time t0@system)\n",
      "   period@binary@orbit@component: Orbital period (defined at t0@system, sidereal: wrt the sky)\n",
      "           period@star@component: Rotation period (wrt the sky)\n",
      "          period@star@constraint: expression that determines the constraint\n",
      "period_anom@binary@orbit@component: Anomalistic orbital period (defined at t0@system, anomalistic: time between two successive periastron passages)\n",
      "period_anom@binary@orbit@constraint: expression that determines the constraint\n",
      "                  phoebe_version: Version of PHOEBE\n",
      "                           pitch: Pitch of the stellar rotation axis wrt the orbital inclination\n",
      "                               q: Mass ratio\n",
      "                              ra: Right ascension\n",
      "                          requiv: Equivalent radius\n",
      "       requiv_max@star@component: Critical (maximum) value of the equivalent radius for the given morphology\n",
      "      requiv_max@star@constraint: expression that determines the constraint\n",
      "                      requiv_min: Critical (minimum) value of the equivalent radius for the given morphology\n",
      "requivratio@binary@orbit@component: ratio between equivalent radii of children stars\n",
      "requivratio@binary@orbit@constraint: expression that determines the constraint\n",
      "requivsumfrac@binary@orbit@component: sum of fractional equivalent radii of children stars\n",
      "requivsumfrac@binary@orbit@constraint: expression that determines the constraint\n",
      "              run_checks_compute: Compute options to use when calling run_checks/run_checks_compute or within interactive checks.\n",
      "               run_checks_figure: Figures to use when calling run_checks/run_checks_figure or within interactive checks.\n",
      "               run_checks_server: Servers to use when calling run_checks/run_checks_server or within interactive checks.\n",
      "             run_checks_solution: Solutions to use when calling run_checks/run_checks_solution or within interactive checks.\n",
      "               run_checks_solver: Solver options to use when calling run_checks/run_checks_solver or within interactive checks.\n",
      "                         rv_grav: Whether gravitational redshift effects are enabled for RVs\n",
      "                       rv_method: Method to use for computing RVs (must be flux-weighted for Rossiter-McLaughlin effects)\n",
      "                     sample_from: distributions or solutions to use for sampling.  If pointing to a solution, adopt_solution(as_distributions=True, **kwargs) will be called to create a temporary distribution which will be removed automatically.  If all distributions are delta functions (face-values), sample_mode and sample_num will be ignored with a warning.\n",
      "             sample_from_combine: Method to use to combine multiple distributions from sample_from for the same parameter.  first: ignore duplicate entries and take the first in the sample_from parameter\n",
      "                     sample_mode: Mode to use when exposing model after sampling.  all: expose all sampled forward-models.  median: only return the median of all sampled models.  1/3/5-sigma: expose the synthetic variable at the median and +/- n-sigma.\n",
      "                      sample_num: Number of forward models to run sampling from the distributions defined in sample_from and sample_from_combine.\n",
      "      sma@binary@orbit@component: Semi-major axis of the orbit (defined at time t0@system)\n",
      "              sma@star@component: Semi major axis of the component in the orbit\n",
      "             sma@star@constraint: expression that determines the constraint\n",
      "                         syncpar: Synchronicity parameter\n",
      "                              t0: Time at which all values are provided.  For values with time-derivatives, this defines their zero-point.\n",
      "t0_perpass@binary@orbit@component: Zeropoint date at periastron passage of the primary component\n",
      "t0_perpass@binary@orbit@constraint: expression that determines the constraint\n",
      "   t0_ref@binary@orbit@component: Zeropoint date at reference point for the primary component\n",
      "  t0_ref@binary@orbit@constraint: expression that determines the constraint\n",
      "                      t0_supconj: Zeropoint date at superior conjunction of the primary component\n",
      "                            teff: Mean effective temperature\n",
      "teffratio@binary@orbit@component: ratio between effective temperatures of children stars\n",
      "teffratio@binary@orbit@constraint: expression that determines the constraint\n",
      "                      use_server: Server to use when running the forward model (or \"none\" to run locally) via run_compute.\n",
      "                          vgamma: Constant barycentric systemic velocity (in the direction of positive RV or negative vz)\n",
      "                      web_client: Whether to default to using the web-client over a locally installed desktop-client when opening the UI from the desktop client.\n",
      "                  web_client_url: Default location of web-client.  Will only be used if web_client is True.\n",
      "                             yaw: Yaw of the stellar rotation axis wrt the orbital longitude of ascending node\n"
     ]
    }
   ],
   "source": [
    "print(b.info)"
   ]
  },
  {
   "cell_type": "code",
   "execution_count": 32,
   "metadata": {},
   "outputs": [
    {
     "name": "stdout",
     "output_type": "stream",
     "text": [
      "ParameterSetInfo: (qualfier/twig: description)\n",
      "                            abun: Abundance/Metallicity\n",
      "    asini@binary@orbit@component: Projected semi major axis\n",
      "            asini@star@component: Projected semi major axis of the component in the orbit\n",
      "                            dpdt: Time derivative of orbital period (anomalistic), where period is defined at t0@system\n",
      "                          dperdt: Time derivative of argument of periastron, where per0 is defined at t0@system\n",
      "                             ecc: Eccentricity\n",
      "                           ecosw: Eccentricity times cos of argument of periastron\n",
      "                           esinw: Eccentricity times sin of argument of periastron\n",
      "     freq@binary@orbit@component: Orbital frequency (sidereal)\n",
      "             freq@star@component: Rotation frequency (wrt the sky)\n",
      "                       gravb_bol: Bolometric gravity brightening\n",
      "     incl@binary@orbit@component: Orbital inclination angle\n",
      "             incl@star@component: Inclination of the stellar rotation axis\n",
      "             irrad_frac_lost_bol: ratio of incident bolometric light that is lost/ignored\n",
      "             irrad_frac_refl_bol: ratio of incident bolometric light that is used for reflection/irradiation (heating without redistribution)\n",
      "            ld_coeffs_source_bol: Source for bolometric limb darkening coefficients (used only for irradiation; 'auto' to interpolate from the applicable table according to the 'atm' parameter, or the name of a specific atmosphere table)\n",
      "                     ld_func_bol: Bolometric limb darkening model (used only for irradiation).\n",
      "                     ld_mode_bol: Mode to use for bolometric limb-darkening (used only for irradiation).\n",
      "                            logg: logg at requiv\n",
      "  long_an@binary@orbit@component: Longitude of the ascending node\n",
      "          long_an@star@component: Longitude of the ascending node (ie. equator) of the star\n",
      "                            mass: Mass\n",
      "                       mean_anom: Mean anomaly at t0@system\n",
      "                            per0: Argument of periastron (defined at time t0@system)\n",
      "   period@binary@orbit@component: Orbital period (defined at t0@system, sidereal: wrt the sky)\n",
      "           period@star@component: Rotation period (wrt the sky)\n",
      "                           pitch: Pitch of the stellar rotation axis wrt the orbital inclination\n",
      "                               q: Mass ratio\n",
      "                          requiv: Equivalent radius\n",
      "                      requiv_max: Critical (maximum) value of the equivalent radius for the given morphology\n",
      "                     requivratio: ratio between equivalent radii of children stars\n",
      "                   requivsumfrac: sum of fractional equivalent radii of children stars\n",
      "      sma@binary@orbit@component: Semi-major axis of the orbit (defined at time t0@system)\n",
      "              sma@star@component: Semi major axis of the component in the orbit\n",
      "                         syncpar: Synchronicity parameter\n",
      "                      t0_perpass: Zeropoint date at periastron passage of the primary component\n",
      "                          t0_ref: Zeropoint date at reference point for the primary component\n",
      "                      t0_supconj: Zeropoint date at superior conjunction of the primary component\n",
      "                            teff: Mean effective temperature\n",
      "                       teffratio: ratio between effective temperatures of children stars\n",
      "                             yaw: Yaw of the stellar rotation axis wrt the orbital longitude of ascending node\n"
     ]
    }
   ],
   "source": [
    "print(b.filter(context='component').info)"
   ]
  },
  {
   "attachments": {},
   "cell_type": "markdown",
   "metadata": {},
   "source": [
    "## Units\n",
    "\n",
    "Each float parameter has an associated unit. Let us take a look at the semi-major axis ('sma') parameter for the binary orbit."
   ]
  },
  {
   "cell_type": "code",
   "execution_count": 33,
   "metadata": {},
   "outputs": [
    {
     "data": {
      "text/plain": [
       "<Parameter: sma=5.3 solRad | keys: description, value, quantity, default_unit, limits, visible_if, copy_for, readonly, advanced, latexfmt>"
      ]
     },
     "execution_count": 33,
     "metadata": {},
     "output_type": "execute_result"
    }
   ],
   "source": [
    "b.get_parameter(qualifier='sma', component='binary', context='component')"
   ]
  },
  {
   "attachments": {},
   "cell_type": "markdown",
   "metadata": {},
   "source": [
    "From the representation above, we can already see that the units are in solar radii. We can access the units directly via get_default_unit:"
   ]
  },
  {
   "cell_type": "code",
   "execution_count": 34,
   "metadata": {},
   "outputs": [
    {
     "data": {
      "text/latex": [
       "$\\mathrm{R_{\\odot}}$"
      ],
      "text/plain": [
       "Unit(\"solRad\")"
      ]
     },
     "execution_count": 34,
     "metadata": {},
     "output_type": "execute_result"
    }
   ],
   "source": [
    "b.get_parameter(qualifier='sma', component='binary', context='component').get_default_unit()"
   ]
  },
  {
   "attachments": {},
   "cell_type": "markdown",
   "metadata": {},
   "source": [
    "Calling get_value returns only the float of the value in these units:"
   ]
  },
  {
   "cell_type": "code",
   "execution_count": 35,
   "metadata": {},
   "outputs": [
    {
     "data": {
      "text/plain": [
       "5.3"
      ]
     },
     "execution_count": 35,
     "metadata": {},
     "output_type": "execute_result"
    }
   ],
   "source": [
    "b.get_parameter(qualifier='sma', component='binary', context='component').get_value()"
   ]
  },
  {
   "attachments": {},
   "cell_type": "markdown",
   "metadata": {},
   "source": [
    "Alternatively, you can access an actual \"quantity\" object that contains the value and unit by calling `get_quantity()`:"
   ]
  },
  {
   "cell_type": "code",
   "execution_count": 36,
   "metadata": {},
   "outputs": [
    {
     "data": {
      "text/latex": [
       "$5.3 \\; \\mathrm{R_{\\odot}}$"
      ],
      "text/plain": [
       "<Quantity 5.3 solRad>"
      ]
     },
     "execution_count": 36,
     "metadata": {},
     "output_type": "execute_result"
    }
   ],
   "source": [
    "b.get_parameter(qualifier='sma', component='binary', context='component').get_quantity()"
   ]
  },
  {
   "attachments": {},
   "cell_type": "markdown",
   "metadata": {},
   "source": [
    "Of course, recall from above that the entire family of get_*() methods can be used for filtering directly:"
   ]
  },
  {
   "cell_type": "code",
   "execution_count": 37,
   "metadata": {},
   "outputs": [
    {
     "data": {
      "text/latex": [
       "$5.3 \\; \\mathrm{R_{\\odot}}$"
      ],
      "text/plain": [
       "<Quantity 5.3 solRad>"
      ]
     },
     "execution_count": 37,
     "metadata": {},
     "output_type": "execute_result"
    }
   ],
   "source": [
    "b.get_quantity(qualifier='sma', component='binary')"
   ]
  },
  {
   "attachments": {},
   "cell_type": "markdown",
   "metadata": {},
   "source": [
    "Both `get_value()` and `get_quantity()` also accept a unit argument which will return the value or quantity in the requested units (if possible to convert). This unit argument takes either a unit object or a string representation that can be parsed:"
   ]
  },
  {
   "cell_type": "code",
   "execution_count": 38,
   "metadata": {},
   "outputs": [
    {
     "data": {
      "text/plain": [
       "3687210.0"
      ]
     },
     "execution_count": 38,
     "metadata": {},
     "output_type": "execute_result"
    }
   ],
   "source": [
    "b.get_parameter(qualifier='sma', component='binary', context='component').get_value(unit=u.km)"
   ]
  },
  {
   "attachments": {},
   "cell_type": "markdown",
   "metadata": {},
   "source": [
    "If for some reason you want to change the default units, you can, but just be careful that this could cause some float-point precision issue"
   ]
  },
  {
   "cell_type": "code",
   "execution_count": 39,
   "metadata": {},
   "outputs": [],
   "source": [
    "b.get_parameter(qualifier='sma', component='binary', context='component').set_default_unit('mm')"
   ]
  },
  {
   "cell_type": "code",
   "execution_count": 40,
   "metadata": {},
   "outputs": [
    {
     "data": {
      "text/latex": [
       "$3.68721 \\times 10^{12} \\; \\mathrm{mm}$"
      ],
      "text/plain": [
       "<Quantity 3.68721e+12 mm>"
      ]
     },
     "execution_count": 40,
     "metadata": {},
     "output_type": "execute_result"
    }
   ],
   "source": [
    "b.get_parameter(qualifier='sma', component='binary', context='component').get_quantity()"
   ]
  },
  {
   "cell_type": "code",
   "execution_count": 41,
   "metadata": {},
   "outputs": [
    {
     "data": {
      "text/latex": [
       "$5.3 \\; \\mathrm{R_{\\odot}}$"
      ],
      "text/plain": [
       "<Quantity 5.3 solRad>"
      ]
     },
     "execution_count": 41,
     "metadata": {},
     "output_type": "execute_result"
    }
   ],
   "source": [
    "b.get_parameter(qualifier='sma', component='binary', context='component').get_quantity(unit='solRad')"
   ]
  },
  {
   "attachments": {},
   "cell_type": "markdown",
   "metadata": {},
   "source": [
    "## Saving & Loading"
   ]
  },
  {
   "attachments": {},
   "cell_type": "markdown",
   "metadata": {},
   "source": [
    "The entire bundle object can be saved to (and reloaded from) and ASCII file:"
   ]
  },
  {
   "cell_type": "code",
   "execution_count": 42,
   "metadata": {},
   "outputs": [
    {
     "data": {
      "text/plain": [
       "'test.phoebe'"
      ]
     },
     "execution_count": 42,
     "metadata": {},
     "output_type": "execute_result"
    }
   ],
   "source": [
    "b.save('test.phoebe')"
   ]
  },
  {
   "cell_type": "code",
   "execution_count": 43,
   "metadata": {},
   "outputs": [],
   "source": [
    "b = phoebe.load('test.phoebe')"
   ]
  },
  {
   "attachments": {},
   "cell_type": "markdown",
   "metadata": {},
   "source": [
    "# Exercise"
   ]
  },
  {
   "attachments": {},
   "cell_type": "markdown",
   "metadata": {},
   "source": [
    "Find and access the value of the effective temperature of the primary star via filtering and twig access."
   ]
  },
  {
   "cell_type": "code",
   "execution_count": null,
   "metadata": {},
   "outputs": [],
   "source": []
  },
  {
   "attachments": {},
   "cell_type": "markdown",
   "metadata": {},
   "source": [
    "Find the choices for the `atm` parameter."
   ]
  },
  {
   "cell_type": "code",
   "execution_count": null,
   "metadata": {},
   "outputs": [],
   "source": []
  },
  {
   "attachments": {},
   "cell_type": "markdown",
   "metadata": {},
   "source": [
    "Find what the `ltte` Parameter stands for.  Does it have choices?"
   ]
  },
  {
   "cell_type": "code",
   "execution_count": null,
   "metadata": {},
   "outputs": [],
   "source": []
  },
  {
   "attachments": {},
   "cell_type": "markdown",
   "metadata": {},
   "source": [
    "Change the default unit of the argument of periastron from degrees to radians and print the result with the new units."
   ]
  },
  {
   "cell_type": "code",
   "execution_count": null,
   "metadata": {},
   "outputs": [],
   "source": []
  },
  {
   "attachments": {},
   "cell_type": "markdown",
   "metadata": {},
   "source": [
    "Set the default unit for all radii and the semi-major axes of all components to AU and then show their values. (Hint: you can also call `set_default_unit_all()` to act on a `ParameterSet` instead of a `Parameter`)."
   ]
  },
  {
   "cell_type": "code",
   "execution_count": null,
   "metadata": {},
   "outputs": [],
   "source": []
  },
  {
   "attachments": {},
   "cell_type": "markdown",
   "metadata": {},
   "source": [
    "Find and set the following Parameters:\n",
    "* effective temperature of the secondary star to 5500 K;\n",
    "* inclination of the binary to 86 degrees."
   ]
  },
  {
   "cell_type": "code",
   "execution_count": null,
   "metadata": {},
   "outputs": [],
   "source": []
  },
  {
   "attachments": {},
   "cell_type": "markdown",
   "metadata": {},
   "source": [
    "You likely noticed that there are several (5!) Parameters in the Bundle for inclination.  This is because there is an inclination for the orbit as well as for each of the two stars in the binary system.  The other 2 are called Constraints which relate these Parameters to each other. That will be the topic of the next tutorial."
   ]
  },
  {
   "attachments": {},
   "cell_type": "markdown",
   "metadata": {},
   "source": []
  }
 ],
 "metadata": {
  "kernelspec": {
   "display_name": "release",
   "language": "python",
   "name": "python3"
  },
  "language_info": {
   "codemirror_mode": {
    "name": "ipython",
    "version": 3
   },
   "file_extension": ".py",
   "mimetype": "text/x-python",
   "name": "python",
   "nbconvert_exporter": "python",
   "pygments_lexer": "ipython3",
   "version": "3.10.6"
  }
 },
 "nbformat": 4,
 "nbformat_minor": 2
}
