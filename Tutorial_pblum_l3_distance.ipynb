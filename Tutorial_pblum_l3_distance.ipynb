{
 "cells": [
  {
   "cell_type": "markdown",
   "metadata": {},
   "source": [
    "# Flux Scaling: pblum, third light, and distance\n",
    "\n",
    "In this tutorial we'll cover how to handle passband luminosities, third light, and distance.\n",
    "\n",
    "This interactive workshop tutorial covers many of the same topics as the corresponding online tutorials:\n",
    "\n",
    "* [Atmospheres & Passbands](http://phoebe-project.org/docs/2.3/tutorials/atm_passbands)\n",
    "* [Passband Luminosity](http://phoebe-project.org/docs/2.3/tutorials/pblum)\n",
    "* [Third Light](http://phoebe-project.org/docs/2.3/tutorials/l3)\n",
    "* [Distance](http://phoebe-project.org/docs/2.3/tutorials/distance)"
   ]
  },
  {
   "cell_type": "markdown",
   "metadata": {},
   "source": [
    "# Setup"
   ]
  },
  {
   "cell_type": "code",
   "execution_count": null,
   "metadata": {},
   "outputs": [],
   "source": [
    "import phoebe\n",
    "from phoebe import u,c"
   ]
  },
  {
   "cell_type": "code",
   "execution_count": null,
   "metadata": {},
   "outputs": [],
   "source": [
    "logger = phoebe.logger(clevel='WARNING')"
   ]
  },
  {
   "cell_type": "code",
   "execution_count": null,
   "metadata": {},
   "outputs": [],
   "source": [
    "b = phoebe.default_binary()"
   ]
  },
  {
   "cell_type": "code",
   "execution_count": null,
   "metadata": {},
   "outputs": [],
   "source": [
    "b.add_dataset('lc', compute_times=phoebe.linspace(0,1,101))"
   ]
  },
  {
   "cell_type": "markdown",
   "metadata": {},
   "source": [
    "# Passband Luminosities\n",
    "\n",
    "For more details, see the [pblum tutorial](http://phoebe-project.org/docs/2.3/tutorials/pblum)."
   ]
  },
  {
   "cell_type": "code",
   "execution_count": null,
   "metadata": {},
   "outputs": [],
   "source": [
    "print(b.get_parameter(qualifier='pblum_mode'))"
   ]
  },
  {
   "cell_type": "code",
   "execution_count": null,
   "metadata": {},
   "outputs": [],
   "source": [
    "print(b.get_parameter(qualifier='pblum_mode').choices)"
   ]
  },
  {
   "cell_type": "markdown",
   "metadata": {},
   "source": [
    "* **component-coupled** (default): provide the passband luminosity of *one* of the stars, the other is scaled automatically. See `pblum_component` and `pblum` parameters.\n",
    "* **decoupled**: provide the passband luminosity of each star individually.  See `pblum` parameters.\n",
    "* **dataset-coupled**: scale this dataset according to the scaling of another (accounting for passbands). See `pblum_dataset` parameter.  Note: `pblum` parameters will be hidden.\n",
    "* **dataset-scaled**: scale the light curve to the provided observational data (NOTE: cannot access luminosities or intensities in this mode).  Note: `pblum` parameters will be hidden.\n",
    "* **absolute**: don't provide passband luminosities - fluxes/luminosities will be in absolute units.  Note: `pblum` parameters will be hidden."
   ]
  },
  {
   "cell_type": "markdown",
   "metadata": {},
   "source": [
    "For all modes (except dataset-scaled), we can compute the relative and absolute luminosities outside of `run_compute` by calling [compute_pblums](http://phoebe-project.org/docs/devel/api/phoebe.frontend.bundle.Bundle.compute_pblums.md).  Note that this is a completely optional step to expose these quantities and doesn't need to be called."
   ]
  },
  {
   "cell_type": "code",
   "execution_count": null,
   "metadata": {},
   "outputs": [],
   "source": [
    "print(b.compute_pblums())"
   ]
  },
  {
   "cell_type": "markdown",
   "metadata": {},
   "source": [
    "Third Light\n",
    "-----------------\n",
    "\n",
    "See the [third light tutorial](http://phoebe-project.org/docs/2.3/tutorials/l3) for more details."
   ]
  },
  {
   "cell_type": "code",
   "execution_count": null,
   "metadata": {},
   "outputs": [],
   "source": [
    "print(b.get_parameter(qualifier='l3_mode'))"
   ]
  },
  {
   "cell_type": "code",
   "execution_count": null,
   "metadata": {},
   "outputs": [],
   "source": [
    "print(b.get_parameter(qualifier='l3_mode').choices)"
   ]
  },
  {
   "cell_type": "markdown",
   "metadata": {},
   "source": [
    "* **flux** (default): provide third light in units of flux.  See `l3` parameter.\n",
    "* **fraction**: provide third light as a fraction of the total flux.  See `l3_frac` parameter."
   ]
  },
  {
   "cell_type": "markdown",
   "metadata": {},
   "source": [
    "Similarly to `compute_pblums`, we can compute and expose the translation between `l3` and `l3_frac` via [compute_l3s](http://phoebe-project.org/docs/2.3/api/phoebe.frontend.bundle.Bundle.compute_l3s.md)."
   ]
  },
  {
   "cell_type": "code",
   "execution_count": null,
   "metadata": {},
   "outputs": [],
   "source": [
    "print(b.compute_l3s())"
   ]
  },
  {
   "cell_type": "markdown",
   "metadata": {},
   "source": [
    "Distance \n",
    "---------------\n",
    "\n",
    "See the [distance tutorial](http://phoebe-project.org/docs/2.3/tutorials/distance) for more details."
   ]
  },
  {
   "cell_type": "markdown",
   "metadata": {},
   "source": [
    "The `distance` parameter lives in the 'system' context and is simply the distance between the center of the coordinate system and the observer (at t0)."
   ]
  },
  {
   "cell_type": "code",
   "execution_count": null,
   "metadata": {},
   "outputs": [],
   "source": [
    "print(b.get_parameter(qualifier='distance', context='system'))"
   ]
  },
  {
   "cell_type": "markdown",
   "metadata": {},
   "source": [
    "# Exercises"
   ]
  },
  {
   "cell_type": "markdown",
   "metadata": {},
   "source": [
    "**NOTE**: this tutorial is a bit of a tangent and will not be used directly in the following tutorials, so don't feel that it is necessary to complete all the exercises below. For any that do seem interesting to you, you may need to dig a little deeper into the explanations in the linked online docs for details about how each option works and feel free to ask questions!\n",
    "\n",
    "\n",
    "Make a plot of multiple light curves in different passbands.  Have one passband be set so that the out-of-eclipse flux is approximately one (using `pblum_mode='component-coupled'` and manually adjusting `pblum` and calling `run_compute` or `compute_pblums(pbflux=True)`) and the other light curves all coupled relative to that (using `'dataset-coupled'` and setting the `pblum_dataset` parameter).  Try naming the datasets appropriately and include labels on the plot."
   ]
  },
  {
   "cell_type": "code",
   "execution_count": null,
   "metadata": {},
   "outputs": [],
   "source": []
  },
  {
   "cell_type": "markdown",
   "metadata": {},
   "source": [
    "Set `pblum_mode` to `'component-coupled'` or `'absolute'` and show how third light (either in flux or fractional units) affects a light curve and the luminosities.  You can also try passing `pbflux=True` to [compute_pblums](http://phoebe-project.org/docs/2.3/api/phoebe.frontend.bundle.Bundle.compute_pblums) to see how the estimated flux-levels are also affected."
   ]
  },
  {
   "cell_type": "code",
   "execution_count": null,
   "metadata": {},
   "outputs": [],
   "source": []
  },
  {
   "cell_type": "markdown",
   "metadata": {},
   "source": [
    "Do the same for `distance` as you just did for third light: set `pblum_mode` to `'component-coupled'` or `'absolute'` and show how changing the distance affects the flux-levels in a light curve. "
   ]
  },
  {
   "cell_type": "code",
   "execution_count": null,
   "metadata": {},
   "outputs": [],
   "source": []
  },
  {
   "cell_type": "markdown",
   "metadata": {},
   "source": [
    "Combine non-zero `l3` and non-unity `distance` and see how the output from `compute_pblums` changes.  "
   ]
  },
  {
   "cell_type": "code",
   "execution_count": null,
   "metadata": {},
   "outputs": [],
   "source": []
  }
 ],
 "metadata": {
  "kernelspec": {
   "display_name": "Python 3",
   "language": "python",
   "name": "python3"
  },
  "language_info": {
   "codemirror_mode": {
    "name": "ipython",
    "version": 3
   },
   "file_extension": ".py",
   "mimetype": "text/x-python",
   "name": "python",
   "nbconvert_exporter": "python",
   "pygments_lexer": "ipython3",
   "version": "3.8.5"
  }
 },
 "nbformat": 4,
 "nbformat_minor": 2
}
