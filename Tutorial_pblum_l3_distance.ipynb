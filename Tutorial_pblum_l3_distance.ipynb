{
 "cells": [
  {
   "cell_type": "markdown",
   "metadata": {},
   "source": [
    "# Workshop Tutorial: Flux Scaling (pblum, third light, and distance)\n",
    "\n",
    "In this tutorial we cover how to handle passband luminosities, third light, and distance.\n",
    "\n",
    "This interactive workshop tutorial covers many of the same topics as the corresponding online tutorials:\n",
    "\n",
    "* [Atmospheres & Passbands](http://phoebe-project.org/docs/2.4/tutorials/atm_passbands)\n",
    "* [Passband Luminosity](http://phoebe-project.org/docs/2.4/tutorials/pblum)\n",
    "* [Third Light](http://phoebe-project.org/docs/2.4/tutorials/l3)\n",
    "* [Distance](http://phoebe-project.org/docs/2.4/tutorials/distance)"
   ]
  },
  {
   "cell_type": "markdown",
   "metadata": {},
   "source": [
    "# Setup\n",
    "\n",
    "As usual, let us import phoebe, constants, units, initialize logging and load the default binary:"
   ]
  },
  {
   "cell_type": "code",
   "execution_count": 2,
   "metadata": {},
   "outputs": [
    {
     "name": "stderr",
     "output_type": "stream",
     "text": [
      "Thu, 09 Jun 2022 15:23 BUNDLE       WARNING importing from an older version (2.4) of PHOEBE to PHOEBE 2.4.  This may take some time.  Please check all values.\n"
     ]
    }
   ],
   "source": [
    "import phoebe\n",
    "from phoebe import u, c\n",
    "logger = phoebe.logger(clevel='WARNING')\n",
    "b = phoebe.default_binary()"
   ]
  },
  {
   "cell_type": "markdown",
   "metadata": {},
   "source": [
    "Add a light curve:"
   ]
  },
  {
   "cell_type": "code",
   "execution_count": 3,
   "metadata": {},
   "outputs": [
    {
     "data": {
      "text/plain": [
       "<ParameterSet: 80 parameters | contexts: compute, constraint, dataset, figure>"
      ]
     },
     "execution_count": 3,
     "metadata": {},
     "output_type": "execute_result"
    }
   ],
   "source": [
    "b.add_dataset('lc', compute_times=phoebe.linspace(0,1,101))"
   ]
  },
  {
   "cell_type": "markdown",
   "metadata": {},
   "source": [
    "## Passband Luminosities\n",
    "\n",
    "Passband luminosity, by definition, is a star's luminosity in a specific passband. Most PHOEBE newcomers are surprised to learn that *luminosity*, being an aspect-independent quantity that measures the power output of the star and thus depends on its surface area and effective temperature, is an input parameter. After all, if we prescribe `requiv` and `teff` for a star, should that not suffice for determining luminosity?\n",
    "\n",
    "Indeed it does: `requiv` and `teff` determine *bolometric* luminosity under the assumption of isotropic radiation. If we provide a passband, they also determine *passband* luminosity; the actual relationship between `requiv` and `teff` on one side, and `pblum` on the other is described by the Stefan-Boltzmann law for blackbody radiation, or suitable model atmospheres (along with `logg` and `abun` parameters) for a more realistic approximation.\n",
    "\n",
    "The reason why PHOEBE needs to parametrize passband luminosity *in addition* to stellar size and atmospheric parameters is two-fold: (1) the measured quantity is *flux*, not luminosity, and (2) the relationship between `requiv`, `teff` and `pblum` might not be correct. Let us take a closer look at both scenarios.\n",
    "\n",
    "### Flux vs. luminosity\n",
    "\n",
    "Luminosity -- the power of the star -- is measured in watts (W). It tells us how many Joules per second flow from the surface of the star into space irrespective of the direction. Now we point our telescope-mounted CCD to that star. We *count photons* that strike the CCD; during this process, we inevitably lose some photons to interstellar travel, to Earth's atmosphere, to telescope optics, to CCD's non-perfect quantum efficiency, and then there is an inherent Poissonian counting noise. This photon count is *instrumental flux*, measured in photons per second per meter squared of distance between the star and our telescope. In SI units, this would be W/m^2. In order to relate luminosity of the star and measured flux, we thus need to know both how far the source is, and everything that happens to the photon stream between there and here.\n",
    "\n",
    "While theorists love to ponder on all these effects, observers usually settle for *differential* flux measurements. Reported fluxes are *arbitrarily* scaled, possibly also converted to magnitudes. That implies that the relationship between luminosity and flux is *lost*, or heavily obfuscated at best. Thus, PHOEBE provides `pblum` as a parameter to bridge this: it sets the luminosity of the star to correspond to the units of measured flux. This will now be independent of the distance, of the atmosphere, of the instrument, and of any other effects that affect our flux measurement. Simply put: if `pblum` increases by a factor of 2, so will the synthetic flux of that star. Colloquially, `pblum` sets the radiation scale units for the given dataset.\n",
    "\n",
    "### Inadequate atmosphere models\n",
    "\n",
    "The other option is that we do know all intricate details that manifest the star's luminosity into measured flux; there may still be a problem with that if the used model atmosphere is not suitable for the type of star being observed. For example, if we have a hot O-type star with pronounced non-LTE effects, we probably do not want to impose luminosity based on a plane-parallel, LTE model. Likewise, if we have a cool red supergiant, model atmospheres that do not account for a plethora of molecular lines might not be the right choice. So instead of prescribing luminosity based on these models, we can decouple it and use it to scale the flux appropriately. If we *really* know the response of our system and the distance to the star, we could even use decoupled luminosities to calibrate model atmospheres.\n",
    "\n",
    "## Passband luminosity mode\n",
    "\n",
    "The mode of operation regarding passband luminosity is set by using the `pblum_mode` parameter. Let us take a closer look:"
   ]
  },
  {
   "cell_type": "code",
   "execution_count": 4,
   "metadata": {},
   "outputs": [
    {
     "name": "stdout",
     "output_type": "stream",
     "text": [
      "Parameter: pblum_mode@lc01@dataset\n",
      "                       Qualifier: pblum_mode\n",
      "                     Description: Mode for scaling passband luminosities\n",
      "                           Value: component-coupled\n",
      "                         Choices: decoupled, component-coupled, dataset-coupled, dataset-scaled, absolute\n",
      "                  Constrained by: \n",
      "                      Constrains: None\n",
      "                      Related to: None\n",
      "\n"
     ]
    }
   ],
   "source": [
    "print(b.get_parameter(qualifier='pblum_mode'))"
   ]
  },
  {
   "cell_type": "markdown",
   "metadata": {},
   "source": [
    "Having two stars instead of one implies making further decisions. The choices for passband luminosity treatment are:\n",
    "* **decoupled**: provide the passband luminosity of each star individually;\n",
    "* **component-coupled** (default): provide the passband luminosity for *one* of the stars, the other is scaled automatically using model atmospheres;\n",
    "* **dataset-coupled**: scale this dataset according to the scaling of another dataset (accounting for passbands);\n",
    "* **dataset-scaled**: scale the light curve to the provided dataset;\n",
    "* **absolute**: compute luminosities from absolute parameters; fluxes/luminosities will be in absolute units."
   ]
  },
  {
   "cell_type": "markdown",
   "metadata": {},
   "source": [
    "For all modes (except dataset-scaled), we can compute the relative and absolute luminosities outside of `run_compute` by calling [compute_pblums](http://phoebe-project.org/docs/devel/api/phoebe.frontend.bundle.Bundle.compute_pblums.md):"
   ]
  },
  {
   "cell_type": "code",
   "execution_count": 5,
   "metadata": {},
   "outputs": [
    {
     "name": "stdout",
     "output_type": "stream",
     "text": [
      "{'pblum@primary@lc01': <Quantity 12.56637061 W>, 'pblum@secondary@lc01': <Quantity 12.56637061 W>}\n"
     ]
    }
   ],
   "source": [
    "print(b.compute_pblums())"
   ]
  },
  {
   "cell_type": "markdown",
   "metadata": {},
   "source": [
    "The units of 'W' here are \"just for show\": we assume that fluxes are measured in $\\mathrm{W}/\\mathrm{m}^2$, so passband luminosity needs to be in watts. Now let us change the mode to `absolute` and compute the flux from the Sun at Earth's distance in Johnson V passband:"
   ]
  },
  {
   "cell_type": "code",
   "execution_count": 6,
   "metadata": {},
   "outputs": [
    {
     "name": "stderr",
     "output_type": "stream",
     "text": [
      "Thu, 09 Jun 2022 15:24 BUNDLE       WARNING importing from an older version (2.4) of PHOEBE to PHOEBE 2.4.  This may take some time.  Please check all values.\n"
     ]
    }
   ],
   "source": [
    "s = phoebe.default_star()\n",
    "s.add_dataset('lc', times=[0.0], passband='Johnson:V')\n",
    "s.set_value(qualifier='pblum_mode', value='absolute')\n",
    "s.set_value(qualifier='teff', value=5772*u.K)\n",
    "s.set_value(qualifier='requiv', value=1*u.solRad)\n",
    "s.set_value(qualifier='ntriangles', value=10000)\n",
    "s.set_value(qualifier='distance', value=1*u.AU)"
   ]
  },
  {
   "cell_type": "code",
   "execution_count": 7,
   "metadata": {},
   "outputs": [
    {
     "data": {
      "text/plain": [
       "{'pblum@starA@lc01': <Quantity 4.55681122e+25 W>}"
      ]
     },
     "execution_count": 7,
     "metadata": {},
     "output_type": "execute_result"
    }
   ],
   "source": [
    "s.compute_pblums()"
   ]
  },
  {
   "cell_type": "code",
   "execution_count": 8,
   "metadata": {},
   "outputs": [
    {
     "name": "stderr",
     "output_type": "stream",
     "text": [
      "100%|██████████| 1/1 [00:00<00:00, 22.57it/s]\n"
     ]
    },
    {
     "data": {
      "text/plain": [
       "<ParameterSet: 3 parameters | qualifiers: comments, fluxes, times>"
      ]
     },
     "execution_count": 8,
     "metadata": {},
     "output_type": "execute_result"
    }
   ],
   "source": [
    "s.run_compute()"
   ]
  },
  {
   "cell_type": "code",
   "execution_count": 9,
   "metadata": {},
   "outputs": [
    {
     "data": {
      "text/plain": [
       "array([161.28381621])"
      ]
     },
     "execution_count": 9,
     "metadata": {},
     "output_type": "execute_result"
    }
   ],
   "source": [
    "s.get_value(context='model', dataset='lc01', qualifier='fluxes')"
   ]
  },
  {
   "cell_type": "markdown",
   "metadata": {},
   "source": [
    "Compare this to the (quasi)-bolometric flux:"
   ]
  },
  {
   "cell_type": "code",
   "execution_count": 10,
   "metadata": {},
   "outputs": [
    {
     "name": "stderr",
     "output_type": "stream",
     "text": [
      "Thu, 09 Jun 2022 15:24 BUNDLE       WARNING overwriting model: latest\n",
      "100%|██████████| 1/1 [00:00<00:00, 20.04it/s]\n"
     ]
    },
    {
     "data": {
      "text/plain": [
       "array([1358.63081833])"
      ]
     },
     "execution_count": 10,
     "metadata": {},
     "output_type": "execute_result"
    }
   ],
   "source": [
    "s.add_dataset('lc', times=[0.0], passband='Bolometric:900-40000', dataset='bolo')\n",
    "s.set_value(dataset='bolo', qualifier='pblum_mode', value='absolute')\n",
    "s.run_compute()\n",
    "s.get_value(context='model', dataset='bolo', qualifier='fluxes')"
   ]
  },
  {
   "cell_type": "markdown",
   "metadata": {},
   "source": [
    "# Third Light\n",
    "\n",
    "Third light is a catch-all parameter for all extraneous light that comprises the passband flux but does not originate from the modeled system. Third light is *additive*: it parametrizes excess photons that are not coming from the system. The most common circumstance is a triple stellar system where the third companion light contaminates the observations of the inner binary.\n",
    "\n",
    "Third light can either be provided in flux units or in fractional amount:"
   ]
  },
  {
   "cell_type": "code",
   "execution_count": 11,
   "metadata": {},
   "outputs": [
    {
     "name": "stdout",
     "output_type": "stream",
     "text": [
      "Parameter: l3_mode@lc01@dataset\n",
      "                       Qualifier: l3_mode\n",
      "                     Description: Whether third light is given in units of flux or as a fraction of total light\n",
      "                           Value: flux\n",
      "                         Choices: flux, fraction\n",
      "                  Constrained by: \n",
      "                      Constrains: None\n",
      "                      Related to: None\n",
      "\n"
     ]
    }
   ],
   "source": [
    "print(s.get_parameter(qualifier='l3_mode', dataset='lc01'))"
   ]
  },
  {
   "cell_type": "markdown",
   "metadata": {},
   "source": [
    "* **flux** (default): provide third light in units of flux.  See `l3` parameter;\n",
    "* **fraction**: provide third light as a fraction of the total flux.  See `l3_frac` parameter."
   ]
  },
  {
   "cell_type": "markdown",
   "metadata": {},
   "source": [
    "Similarly to `compute_pblums`, we can compute and expose the translation between `l3` and `l3_frac` via [compute_l3s](http://phoebe-project.org/docs/2.4/api/phoebe.frontend.bundle.Bundle.compute_l3s.md). For example, going back to our binary star bundle:"
   ]
  },
  {
   "cell_type": "code",
   "execution_count": 12,
   "metadata": {},
   "outputs": [
    {
     "name": "stdout",
     "output_type": "stream",
     "text": [
      "{'l3_frac@lc01': 0.3333333333333333}\n"
     ]
    }
   ],
   "source": [
    "b['pblum_mode@lc01'] = 'component-coupled'\n",
    "b['l3@lc01'] = 1.0\n",
    "print(b.compute_l3s())"
   ]
  },
  {
   "cell_type": "markdown",
   "metadata": {},
   "source": [
    "Alternatively, we can switch `l3_mode` to `fraction`; `compute_l3s()` will then compute third light fluxes:"
   ]
  },
  {
   "cell_type": "code",
   "execution_count": 13,
   "metadata": {},
   "outputs": [
    {
     "name": "stdout",
     "output_type": "stream",
     "text": [
      "{'l3@lc01': 2.0}\n"
     ]
    }
   ],
   "source": [
    "b['l3_mode'] = 'fraction'\n",
    "b['l3_frac@lc01'] = 0.5\n",
    "print(b.compute_l3s())"
   ]
  },
  {
   "cell_type": "markdown",
   "metadata": {},
   "source": [
    "Distance \n",
    "---------------\n",
    "\n",
    "Finally, the `distance` parameter impacts flux attenuation by way of the inverse square law. By default the distance is set to a canonical 1m, which sets the relationship between luminosity per steradian and flux: `pblum`=4pi corresponds to unity flux."
   ]
  },
  {
   "cell_type": "code",
   "execution_count": 18,
   "metadata": {},
   "outputs": [
    {
     "name": "stdout",
     "output_type": "stream",
     "text": [
      "{'pblum@primary@lc01': <Quantity 12.56637061 W>, 'pblum@secondary@lc01': <Quantity 12.56637061 W>}\n"
     ]
    },
    {
     "name": "stderr",
     "output_type": "stream",
     "text": [
      "100%|██████████| 101/101 [00:02<00:00, 42.74it/s]"
     ]
    },
    {
     "name": "stdout",
     "output_type": "stream",
     "text": [
      "Parameter: fluxes@latest@model\n",
      "                       Qualifier: fluxes\n",
      "                     Description: Model (synthetic) flux\n",
      "                           Value: [0.98295179 1.15259263 1.36736973 ... 1.36727617 1.15275261\n",
      " 0.98295179] W / m2\n",
      "                  Constrained by: \n",
      "                      Constrains: None\n",
      "                      Related to: None\n",
      "\n"
     ]
    },
    {
     "name": "stderr",
     "output_type": "stream",
     "text": [
      "\n"
     ]
    }
   ],
   "source": [
    "b['l3_frac@lc01'] = 0\n",
    "print(b.compute_pblums())\n",
    "b.run_compute()\n",
    "print(b['fluxes@lc01@model'])"
   ]
  },
  {
   "cell_type": "markdown",
   "metadata": {},
   "source": [
    "Thus, if we increase the distance by a factor of 2, the flux will go down by a factor of 4:"
   ]
  },
  {
   "cell_type": "code",
   "execution_count": 20,
   "metadata": {},
   "outputs": [
    {
     "name": "stderr",
     "output_type": "stream",
     "text": [
      "Thu, 09 Jun 2022 15:27 BUNDLE       WARNING overwriting model: latest\n",
      "100%|██████████| 101/101 [00:02<00:00, 44.53it/s]"
     ]
    },
    {
     "name": "stdout",
     "output_type": "stream",
     "text": [
      "Parameter: fluxes@latest@model\n",
      "                       Qualifier: fluxes\n",
      "                     Description: Model (synthetic) flux\n",
      "                           Value: [0.24573795 0.28814816 0.34184243 ... 0.34181904 0.28818815\n",
      " 0.24573795] W / m2\n",
      "                  Constrained by: \n",
      "                      Constrains: None\n",
      "                      Related to: None\n",
      "\n"
     ]
    },
    {
     "name": "stderr",
     "output_type": "stream",
     "text": [
      "\n"
     ]
    }
   ],
   "source": [
    "b['distance'] = 2*u.m\n",
    "b.run_compute()\n",
    "print(b['fluxes@lc01@model'])"
   ]
  },
  {
   "cell_type": "markdown",
   "metadata": {},
   "source": [
    "# Exercises"
   ]
  },
  {
   "cell_type": "markdown",
   "metadata": {},
   "source": [
    "Make a plot of multiple light curves in different passbands.  Have one passband be set so that the out-of-eclipse flux is approximately one (using `pblum_mode='component-coupled'` and manually adjusting `pblum` and calling `run_compute` or `compute_pblums(pbflux=True)`) and the other light curves all coupled relative to that (using `'dataset-coupled'` and setting the `pblum_dataset` parameter).  Try naming the datasets appropriately and include labels on the plot.\n",
    "\n",
    "You can find the [compute_pblums API docs here](http://phoebe-project.org/docs/2.4/api/phoebe.frontend.bundle.Bundle.compute_pblums)."
   ]
  },
  {
   "cell_type": "code",
   "execution_count": null,
   "metadata": {},
   "outputs": [],
   "source": []
  },
  {
   "cell_type": "markdown",
   "metadata": {},
   "source": [
    "Set `pblum_mode` to `'component-coupled'` or `'absolute'` and show how third light (either in flux or fractional units) affects a light curve and the luminosities.  (**NOTE**: `pbflux=True` is _intrinsic_ only and so does not account for third light)"
   ]
  },
  {
   "cell_type": "code",
   "execution_count": null,
   "metadata": {},
   "outputs": [],
   "source": []
  },
  {
   "cell_type": "markdown",
   "metadata": {},
   "source": [
    "Do the same for `distance` as you just did for third light: set `pblum_mode` to `'component-coupled'` or `'absolute'` and show how changing the distance affects the flux-levels in a light curve. (**NOTE**: `pbflux=True` is _intrinsic_ only and so does not account for distance)"
   ]
  },
  {
   "cell_type": "code",
   "execution_count": null,
   "metadata": {},
   "outputs": [],
   "source": []
  },
  {
   "cell_type": "markdown",
   "metadata": {},
   "source": [
    "Combine non-zero `l3` and non-unity `distance` and see how the output from `compute_pblums` changes.  "
   ]
  },
  {
   "cell_type": "code",
   "execution_count": null,
   "metadata": {},
   "outputs": [],
   "source": []
  }
 ],
 "metadata": {
  "interpreter": {
   "hash": "d03c2550f08e22a77817d932fec0f3802e1fd2540a98dc1f7ee55437152ec9e1"
  },
  "kernelspec": {
   "display_name": "Python 3.10.4 ('phoebe-dev')",
   "language": "python",
   "name": "python3"
  },
  "language_info": {
   "codemirror_mode": {
    "name": "ipython",
    "version": 3
   },
   "file_extension": ".py",
   "mimetype": "text/x-python",
   "name": "python",
   "nbconvert_exporter": "python",
   "pygments_lexer": "ipython3",
   "version": "3.10.4"
  }
 },
 "nbformat": 4,
 "nbformat_minor": 2
}
