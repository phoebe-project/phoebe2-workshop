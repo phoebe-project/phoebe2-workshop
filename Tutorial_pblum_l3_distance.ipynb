{
 "cells": [
  {
   "cell_type": "markdown",
   "metadata": {},
   "source": [
    "# Flux Scaling: pblum, third light, and distance\n",
    "\n",
    "In this tutorial we'll cover how to handle passband luminosities, third light, and distance.\n",
    "\n",
    "This interactive workshop tutorial covers many of the same topics as the corresponding online tutorials:\n",
    "\n",
    "* [Atmospheres & Passbands](http://phoebe-project.org/docs/2.3/tutorials/atm_passbands)\n",
    "* [Passband Luminosity](http://phoebe-project.org/docs/2.3/tutorials/pblum)\n",
    "* [Third Light](http://phoebe-project.org/docs/2.3/tutorials/l3)\n",
    "* [Distance](http://phoebe-project.org/docs/2.3/tutorials/distance)"
   ]
  },
  {
   "cell_type": "markdown",
   "metadata": {},
   "source": [
    "# Setup"
   ]
  },
  {
   "cell_type": "code",
   "execution_count": 1,
   "metadata": {},
   "outputs": [],
   "source": [
    "import phoebe\n",
    "from phoebe import u,c"
   ]
  },
  {
   "cell_type": "code",
   "execution_count": 2,
   "metadata": {},
   "outputs": [],
   "source": [
    "logger = phoebe.logger(clevel='WARNING')"
   ]
  },
  {
   "cell_type": "code",
   "execution_count": 3,
   "metadata": {},
   "outputs": [],
   "source": [
    "b = phoebe.default_binary()"
   ]
  },
  {
   "cell_type": "code",
   "execution_count": 4,
   "metadata": {},
   "outputs": [
    {
     "data": {
      "text/plain": [
       "<ParameterSet: 78 parameters | contexts: compute, figure, constraint, dataset>"
      ]
     },
     "execution_count": 4,
     "metadata": {},
     "output_type": "execute_result"
    }
   ],
   "source": [
    "b.add_dataset('lc', times=phoebe.linspace(0,1,101))"
   ]
  },
  {
   "cell_type": "markdown",
   "metadata": {},
   "source": [
    "# Passband Luminosities\n",
    "\n",
    "For more details, see the [pblum tutorial](http://phoebe-project.org/docs/2.3/tutorials/pblum)."
   ]
  },
  {
   "cell_type": "code",
   "execution_count": 5,
   "metadata": {},
   "outputs": [
    {
     "name": "stdout",
     "output_type": "stream",
     "text": [
      "Parameter: pblum_mode@lc01@dataset\n",
      "                       Qualifier: pblum_mode\n",
      "                     Description: Mode for scaling passband luminosities\n",
      "                           Value: component-coupled\n",
      "                         Choices: decoupled, component-coupled, dataset-coupled, dataset-scaled, absolute\n",
      "                  Constrained by: \n",
      "                      Constrains: None\n",
      "                      Related to: None\n",
      "\n"
     ]
    }
   ],
   "source": [
    "print(b.get_parameter(qualifier='pblum_mode'))"
   ]
  },
  {
   "cell_type": "code",
   "execution_count": 6,
   "metadata": {},
   "outputs": [
    {
     "name": "stdout",
     "output_type": "stream",
     "text": [
      "['decoupled', 'component-coupled', 'dataset-coupled', 'dataset-scaled', 'absolute']\n"
     ]
    }
   ],
   "source": [
    "print(b.get_parameter(qualifier='pblum_mode').choices)"
   ]
  },
  {
   "cell_type": "markdown",
   "metadata": {},
   "source": [
    "* **component-coupled** (default): provide the passband luminosity of *one* of the stars, the other is scaled automatically. See `pblum_component` and `pblum` parameters.\n",
    "* **decoupled**: provide the passband luminosity of each star individually.  See `pblum` parameters.\n",
    "* **dataset-coupled**: scale this dataset according to the scaling of another (accounting for passbands). See `pblum_dataset` parameter.\n",
    "* **dataset-scaled**: scale the light curve to the provided observational data (NOTE: cannot access luminosities or intensities in this mode)\n",
    "* **absolute**: don't provide passband luminosities - fluxes/luminosities will be in absolute units."
   ]
  },
  {
   "cell_type": "markdown",
   "metadata": {},
   "source": [
    "For all modes (except dataset-scaled), we can compute the relative and absolute luminosities outside of `run_compute` by calling [compute_pblums](http://phoebe-project.org/docs/devel/api/phoebe.frontend.bundle.Bundle.compute_pblums.md).  Note that this is a completely option step to expose these quantities and doesn't need to be called."
   ]
  },
  {
   "cell_type": "code",
   "execution_count": 7,
   "metadata": {},
   "outputs": [
    {
     "name": "stdout",
     "output_type": "stream",
     "text": [
      "{'pblum@primary@lc01': <Quantity 12.56637061 W>, 'pblum@secondary@lc01': <Quantity 12.56637061 W>}\n"
     ]
    }
   ],
   "source": [
    "print(b.compute_pblums())"
   ]
  },
  {
   "cell_type": "markdown",
   "metadata": {},
   "source": [
    "Third Light\n",
    "-----------------\n",
    "\n",
    "See the [third light tutorial](http://phoebe-project.org/docs/2.3/tutorials/l3) for more details."
   ]
  },
  {
   "cell_type": "code",
   "execution_count": 8,
   "metadata": {},
   "outputs": [
    {
     "name": "stdout",
     "output_type": "stream",
     "text": [
      "Parameter: l3_mode@lc01@dataset\n",
      "                       Qualifier: l3_mode\n",
      "                     Description: Whether third light is given in units of flux or as a fraction of total light\n",
      "                           Value: flux\n",
      "                         Choices: flux, fraction\n",
      "                  Constrained by: \n",
      "                      Constrains: None\n",
      "                      Related to: None\n",
      "\n"
     ]
    }
   ],
   "source": [
    "print(b.get_parameter(qualifier='l3_mode'))"
   ]
  },
  {
   "cell_type": "code",
   "execution_count": 9,
   "metadata": {},
   "outputs": [
    {
     "name": "stdout",
     "output_type": "stream",
     "text": [
      "['flux', 'fraction']\n"
     ]
    }
   ],
   "source": [
    "print(b.get_parameter(qualifier='l3_mode').choices)"
   ]
  },
  {
   "cell_type": "markdown",
   "metadata": {},
   "source": [
    "* **flux** (default): provide third light in units of flux.  See `l3` parameter.\n",
    "* **fraction**: provide third light as a fraction of the total flux.  See `l3_frac` parameter."
   ]
  },
  {
   "cell_type": "markdown",
   "metadata": {},
   "source": [
    "Similarly to compute_pblums, we can compute and expose the translation between `l3` and `l3_frac` via [compute_l3s](http://phoebe-project.org/docs/2.3/api/phoebe.frontend.bundle.Bundle.compute_l3s.md)."
   ]
  },
  {
   "cell_type": "code",
   "execution_count": 10,
   "metadata": {},
   "outputs": [
    {
     "name": "stdout",
     "output_type": "stream",
     "text": [
      "{'l3_frac@lc01': 0.0}\n"
     ]
    }
   ],
   "source": [
    "print(b.compute_l3s())"
   ]
  },
  {
   "cell_type": "markdown",
   "metadata": {},
   "source": [
    "Distance \n",
    "---------------\n",
    "\n",
    "See the [distance tutorial](http://phoebe-project.org/docs/2.3/tutorials/distance) for more details."
   ]
  },
  {
   "cell_type": "markdown",
   "metadata": {},
   "source": [
    "The 'distance' parameter lives in the 'system' context and is simply the distance between the center of the coordinate system and the observer (at t0)."
   ]
  },
  {
   "cell_type": "code",
   "execution_count": 11,
   "metadata": {},
   "outputs": [
    {
     "name": "stdout",
     "output_type": "stream",
     "text": [
      "Parameter: distance@system\n",
      "                       Qualifier: distance\n",
      "                     Description: Distance to the system\n",
      "                           Value: 1.0 m\n",
      "                  Constrained by: \n",
      "                      Constrains: None\n",
      "                      Related to: None\n",
      "\n"
     ]
    }
   ],
   "source": [
    "print(b.get_parameter(qualifier='distance', context='system'))"
   ]
  },
  {
   "cell_type": "markdown",
   "metadata": {},
   "source": [
    "# Exercises"
   ]
  },
  {
   "cell_type": "markdown",
   "metadata": {},
   "source": [
    "Make a plot of multiple light curves in different passbands.  Have one passband be set so that the out-of-eclipse flux is approximately one (either using 'component-coupled' or 'pbflux'), and the others all coupled relative to that.  Try naming the datasets appropriately and include labels on the plot."
   ]
  },
  {
   "cell_type": "code",
   "execution_count": null,
   "metadata": {},
   "outputs": [],
   "source": []
  },
  {
   "cell_type": "markdown",
   "metadata": {},
   "source": [
    "Set `pblum_mode` to 'component-coupled' or 'absolute' and show how third light (either in flux or fractional units) affects a light curve and the luminosities.  You can also try passing `pbflux=True, pbflux_ext=True` to `compute_pblums` to see how the estimated flux-levels are also affected."
   ]
  },
  {
   "cell_type": "code",
   "execution_count": null,
   "metadata": {},
   "outputs": [],
   "source": []
  },
  {
   "cell_type": "markdown",
   "metadata": {},
   "source": [
    "Do the same for `distance` as you just did for third light: set `pblum_mode` to 'component-coupled' or 'absolute' and show how changing the distance affects the flux-levels in a light curve. "
   ]
  },
  {
   "cell_type": "code",
   "execution_count": null,
   "metadata": {},
   "outputs": [],
   "source": []
  },
  {
   "cell_type": "markdown",
   "metadata": {},
   "source": [
    "Combine non-zero `l3` and non-unity `distance` and see how the output from `compute_pblums` changes.  "
   ]
  },
  {
   "cell_type": "code",
   "execution_count": null,
   "metadata": {},
   "outputs": [],
   "source": []
  }
 ],
 "metadata": {
  "kernelspec": {
   "display_name": "Python 3",
   "language": "python",
   "name": "python3"
  },
  "language_info": {
   "codemirror_mode": {
    "name": "ipython",
    "version": 3
   },
   "file_extension": ".py",
   "mimetype": "text/x-python",
   "name": "python",
   "nbconvert_exporter": "python",
   "pygments_lexer": "ipython3",
   "version": "3.8.5"
  }
 },
 "nbformat": 4,
 "nbformat_minor": 2
}
