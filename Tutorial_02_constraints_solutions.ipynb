{
 "cells": [
  {
   "cell_type": "markdown",
   "metadata": {},
   "source": [
    "# Workshop Tutorial Example Solutions: Constraints\n",
    "\n",
    "These are just an example of the many possible solutions to the exercises in [Workshop Tutorial: Constraints](./Tutorial_02_constraints.ipynb)"
   ]
  },
  {
   "cell_type": "code",
   "execution_count": 1,
   "metadata": {},
   "outputs": [],
   "source": [
    "import phoebe\n",
    "b = phoebe.default_binary()"
   ]
  },
  {
   "cell_type": "markdown",
   "metadata": {},
   "source": [
    "How is q defined: is it Mprimary/Msecondary or Msecondary/Mprimary?\n",
    "\n",
    "Hint: there are (at least) 2 ways to do this.  Try first by looking through the equations of the constraints if you feel a bit daring.  You can also change the value of q and see how the resulting constrained masses react."
   ]
  },
  {
   "cell_type": "code",
   "execution_count": 2,
   "metadata": {},
   "outputs": [
    {
     "name": "stdout",
     "output_type": "stream",
     "text": [
      "ParameterSet: 5 parameters\n",
      "C          mass@primary@component: 0.9988131358058301 solMass\n",
      "C        mass@secondary@component: 0.9988131358058301 solMass\n",
      "               q@binary@component: 1.0\n",
      "          mass@primary@constraint: (39.478418 * ({sma@binary@component} ** 3.000000)) / ((({period@binary@component} ** 2.000000) * ({q@binary@component} + 1.000000)) * 2942.206217504419328179210424423218)\n",
      "        mass@secondary@constraint: (39.478418 * ({sma@binary@component} ** 3.000000)) / ((({period@binary@component} ** 2.000000) * ((1.000000 / {q@binary@component}) + 1.000000)) * 2942.206217504419328179210424423218)\n"
     ]
    }
   ],
   "source": [
    "print(b.filter(qualifier=['q', 'mass']))"
   ]
  },
  {
   "cell_type": "markdown",
   "metadata": {},
   "source": [
    "Here we can see by comparing to Kepler's third law that it is `q = M2/M1`, but let's also show that by changing `q`."
   ]
  },
  {
   "cell_type": "code",
   "execution_count": 3,
   "metadata": {},
   "outputs": [],
   "source": [
    "b.set_value('q', 0.9)"
   ]
  },
  {
   "cell_type": "code",
   "execution_count": 4,
   "metadata": {},
   "outputs": [
    {
     "name": "stdout",
     "output_type": "stream",
     "text": [
      "ParameterSet: 2 parameters\n",
      "C          mass@primary@component: 1.0513822482166633 solMass\n",
      "C        mass@secondary@component: 0.946244023394997 solMass\n"
     ]
    }
   ],
   "source": [
    "print(b.filter(qualifier='mass', context='component'))"
   ]
  },
  {
   "cell_type": "markdown",
   "metadata": {},
   "source": [
    "Flipping constraints could be particularly useful if you have an observational constraint on 'asini' (say from the amplitude of RVs) and want to leave asini fixed as you fit for the inclination.  Flip the constraint so it is possible to adjust the values of both 'asini' and 'incl'.  (**NOTE** you may want to either start from a fresh bundle or re-flip the Kepler's third law constraint back to solve for mass first)."
   ]
  },
  {
   "cell_type": "code",
   "execution_count": 5,
   "metadata": {},
   "outputs": [],
   "source": [
    "b = phoebe.default_binary()"
   ]
  },
  {
   "cell_type": "code",
   "execution_count": 6,
   "metadata": {},
   "outputs": [
    {
     "name": "stdout",
     "output_type": "stream",
     "text": [
      "ParameterSet: 4 parameters\n",
      "            incl@binary@component: 90.0 deg\n",
      "             sma@binary@component: 5.3 solRad\n",
      "C          asini@binary@component: 5.3 solRad\n",
      "          asini@binary@constraint: {sma@binary@component} * (sin({incl@binary@component}))\n"
     ]
    }
   ],
   "source": [
    "print(b.filter(qualifier=['sma', 'asini', 'incl'], component='binary'))"
   ]
  },
  {
   "cell_type": "code",
   "execution_count": 7,
   "metadata": {},
   "outputs": [
    {
     "data": {
      "text/plain": [
       "<ConstraintParameter: {asini@binary@component} = {sma@binary@component} * (sin({incl@binary@component})) (solar units) => 5.3 solRad>"
      ]
     },
     "execution_count": 7,
     "metadata": {},
     "output_type": "execute_result"
    }
   ],
   "source": [
    "b.get_constraint('asini', component='binary')"
   ]
  },
  {
   "cell_type": "code",
   "execution_count": 8,
   "metadata": {},
   "outputs": [
    {
     "data": {
      "text/plain": [
       "<ConstraintParameter: {sma@binary@component} = {asini@binary@component} / (sin({incl@binary@component})) (solar units) => 5.3 solRad>"
      ]
     },
     "execution_count": 8,
     "metadata": {},
     "output_type": "execute_result"
    }
   ],
   "source": [
    "b.flip_constraint('asini', component='binary', solve_for='sma')"
   ]
  },
  {
   "cell_type": "markdown",
   "metadata": {},
   "source": [
    "Now that you can change the value of 'asini', set it to 20 (solar radii... we'll talk about units in the next tutorial), adjust the inclination, and show that 'sma' is adjusting automatically to conserve 'asini'."
   ]
  },
  {
   "cell_type": "code",
   "execution_count": 9,
   "metadata": {},
   "outputs": [],
   "source": [
    "b.set_value('asini', component='binary', value=20)"
   ]
  },
  {
   "cell_type": "code",
   "execution_count": 10,
   "metadata": {},
   "outputs": [],
   "source": [
    "b.set_value('incl', component='binary', value=85)"
   ]
  },
  {
   "cell_type": "code",
   "execution_count": 11,
   "metadata": {},
   "outputs": [
    {
     "name": "stdout",
     "output_type": "stream",
     "text": [
      "ParameterSet: 4 parameters\n",
      "            incl@binary@component: 85.0 deg\n",
      "C            sma@binary@component: 20.076396750866948 solRad\n",
      "           asini@binary@component: 20.0 solRad\n",
      "            sma@binary@constraint: {asini@binary@component} / (sin({incl@binary@component}))\n"
     ]
    }
   ],
   "source": [
    "print(b.filter(qualifier=['sma', 'asini', 'incl'], component='binary'))"
   ]
  }
 ],
 "metadata": {
  "kernelspec": {
   "display_name": "Python 3",
   "language": "python",
   "name": "python3"
  },
  "language_info": {
   "codemirror_mode": {
    "name": "ipython",
    "version": 3
   },
   "file_extension": ".py",
   "mimetype": "text/x-python",
   "name": "python",
   "nbconvert_exporter": "python",
   "pygments_lexer": "ipython3",
   "version": "3.8.5"
  }
 },
 "nbformat": 4,
 "nbformat_minor": 2
}
