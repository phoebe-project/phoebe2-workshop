{
 "cells": [
  {
   "cell_type": "markdown",
   "metadata": {},
   "source": [
    "# Exercises #4: Estimators\n",
    "\n",
    "These exercises are designed to be done anytime after Tutorial #8a (estimators).\n",
    "\n",
    "Download the following dataset files, attach to a default binary system, and run **estimators**  to try to find a decent fit to the observations.\n",
    "\n",
    "* [lc.B.data](https://github.com/phoebe-project/phoebe2-workshop/raw/2021june/data/dataset_exercises/lc.B.data) (times, fluxes, sigmas - Johnson B passband)\n",
    "* [lc.V.data](https://github.com/phoebe-project/phoebe2-workshop/raw/2021june/data/dataset_exercises/lc.V.data) (times, fluxes, sigmas - Johnson V passband)\n",
    "* [rv1.data](https://github.com/phoebe-project/phoebe2-workshop/raw/2021june/data/dataset_exercises/rv1.data) (times, rvs, sigmas for primary star)\n",
    "* [rv2.data](https://github.com/phoebe-project/phoebe2-workshop/raw/2021june/data/dataset_exercises/rv2.data) (times, rvs, sigmas for secondary star - same times as `rv1.data`, so feel free to merge into a single PHOEBE dataset)"
   ]
  },
  {
   "cell_type": "code",
   "execution_count": null,
   "metadata": {},
   "outputs": [],
   "source": []
  }
 ],
 "metadata": {
  "kernelspec": {
   "display_name": "Python 3",
   "language": "python",
   "name": "python3"
  },
  "language_info": {
   "codemirror_mode": {
    "name": "ipython",
    "version": 3
   },
   "file_extension": ".py",
   "mimetype": "text/x-python",
   "name": "python",
   "nbconvert_exporter": "python",
   "pygments_lexer": "ipython3",
   "version": "3.8.5"
  }
 },
 "nbformat": 4,
 "nbformat_minor": 2
}
