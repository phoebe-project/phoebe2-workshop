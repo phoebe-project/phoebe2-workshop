{
 "cells": [
  {
   "cell_type": "markdown",
   "metadata": {},
   "source": [
    "These exercises are designed to be done anytime after Tutorial #4 (units)"
   ]
  },
  {
   "cell_type": "markdown",
   "metadata": {},
   "source": [
    "# \\# 1 Sun-Jupiter\n",
    "\n",
    "Create a default binary Bundle, re-parameterize so that you can set both.  Now set the value of the masses and the respective radii such that you have a Jupiter around a Sun.\n",
    "\n",
    "Hint: try using units to handle the conversion between Jupiter and Solar masses/radii.  You can always do dir(u) to see a list of all available units, or u.solMass.find_equivalent_units().  For other quantities (orbital/rotation periods, sma, etc), you may need to lookup the values since they do not have units/constants available."
   ]
  },
  {
   "cell_type": "code",
   "execution_count": null,
   "metadata": {},
   "outputs": [],
   "source": []
  },
  {
   "cell_type": "markdown",
   "metadata": {},
   "source": [
    "# \\# 2 Sun-Earth\n",
    "\n",
    "Create a Sun-Earth system.  Make sure to get the correct masses, radii, orbital period, separation, eccentricity, and rotational period."
   ]
  },
  {
   "cell_type": "code",
   "execution_count": null,
   "metadata": {},
   "outputs": [],
   "source": []
  },
  {
   "cell_type": "markdown",
   "metadata": {},
   "source": [
    "# \\# 3 Detached Binaries\n",
    "\n",
    "Pick a *detached* system from the [Caleb catalog of EBs](http://caleb.eastern.edu/query_stars_by_type.php), click on one of the \"library sets\", and then view the BM3 input file.  Try to translate as many of these parameters as you can into PHOEBE.  \n",
    "\n",
    "Later we'll actually try to reproduce some of the light curve and radial velocity curves and learn how to handle semi-detached and contact systems."
   ]
  },
  {
   "cell_type": "code",
   "execution_count": null,
   "metadata": {},
   "outputs": [],
   "source": []
  }
 ],
 "metadata": {
  "kernelspec": {
   "display_name": "Python 2",
   "language": "python",
   "name": "python2"
  },
  "language_info": {
   "codemirror_mode": {
    "name": "ipython",
    "version": 2
   },
   "file_extension": ".py",
   "mimetype": "text/x-python",
   "name": "python",
   "nbconvert_exporter": "python",
   "pygments_lexer": "ipython2",
   "version": "2.7.15+"
  }
 },
 "nbformat": 4,
 "nbformat_minor": 2
}
