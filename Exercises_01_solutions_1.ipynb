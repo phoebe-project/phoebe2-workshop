{
 "cells": [
  {
   "cell_type": "markdown",
   "metadata": {},
   "source": [
    "# \\#1: Sun-Jupiter Example Solution"
   ]
  },
  {
   "cell_type": "markdown",
   "metadata": {},
   "source": [
    "# Data we will need\n",
    "mass of Jupiter = 1.898 × 10^27 kg\n",
    "\n",
    "dist Jupiter to the Sun 778600627.2km\n",
    "\n",
    "orbital period 12 years\n",
    "\n",
    "sun rotation period = 25 days\n",
    "\n",
    "jupiter rotation period = 10 hours\n"
   ]
  },
  {
   "cell_type": "code",
   "execution_count": 1,
   "metadata": {},
   "outputs": [],
   "source": [
    "import phoebe\n",
    "from phoebe import u,c"
   ]
  },
  {
   "cell_type": "code",
   "execution_count": 2,
   "metadata": {},
   "outputs": [],
   "source": [
    "logger = phoebe.logger(clevel='WARNING')"
   ]
  },
  {
   "cell_type": "code",
   "execution_count": 3,
   "metadata": {},
   "outputs": [],
   "source": [
    "b = phoebe.default_binary()"
   ]
  },
  {
   "cell_type": "code",
   "execution_count": 4,
   "metadata": {},
   "outputs": [],
   "source": [
    "# we are going to need to set 3 periods.  1 orbital and 2 rotation"
   ]
  },
  {
   "cell_type": "code",
   "execution_count": 5,
   "metadata": {},
   "outputs": [
    {
     "name": "stdout",
     "output_type": "stream",
     "text": [
      "ParameterSet: 5 parameters\n",
      "C        period@primary@component: 1.0 d\n",
      "C      period@secondary@component: 1.0 d\n",
      "          period@binary@component: 1.0 d\n",
      "        period@primary@constraint: {period@binary@component} / {syncpar@primary@component}\n",
      "      period@secondary@constraint: {period@binary@component} / {syncpar@secondary@component}\n"
     ]
    }
   ],
   "source": [
    "print( b.filter(qualifier='period') )"
   ]
  },
  {
   "cell_type": "code",
   "execution_count": 6,
   "metadata": {},
   "outputs": [
    {
     "data": {
      "text/plain": [
       "<ConstraintParameter: {syncpar@secondary@component} = {period@binary@component} / {period@secondary@component} (solar units) => 1.0>"
      ]
     },
     "execution_count": 6,
     "metadata": {},
     "output_type": "execute_result"
    }
   ],
   "source": [
    "b.flip_constraint(qualifier='period', component='secondary', solve_for='syncpar@secondary')"
   ]
  },
  {
   "cell_type": "code",
   "execution_count": 7,
   "metadata": {},
   "outputs": [
    {
     "data": {
      "text/plain": [
       "<ConstraintParameter: {syncpar@primary@component} = {period@binary@component} / {period@primary@component} (solar units) => 1.0>"
      ]
     },
     "execution_count": 7,
     "metadata": {},
     "output_type": "execute_result"
    }
   ],
   "source": [
    " b.flip_constraint(qualifier='period', component='primary', solve_for='syncpar@primary')"
   ]
  },
  {
   "cell_type": "code",
   "execution_count": 8,
   "metadata": {},
   "outputs": [],
   "source": [
    "b.set_value('period@primary', 25)\n",
    "b.set_value('period@secondary', 10, unit=u.hr)\n",
    "b.set_value('period@binary', 12, unit=u.yr)"
   ]
  },
  {
   "cell_type": "code",
   "execution_count": 9,
   "metadata": {},
   "outputs": [],
   "source": [
    "# now let's flip the constraints on the primary and secondary mass"
   ]
  },
  {
   "cell_type": "code",
   "execution_count": 10,
   "metadata": {},
   "outputs": [
    {
     "data": {
      "text/plain": [
       "<ConstraintParameter: {sma@binary@component} = (((({mass@primary@component} * ({period@binary@component} ** 2.000000)) * ({q@binary@component} + 1.000000)) * 2942.206217504419328179210424423218) / 39.478418) ** (1./3) (solar units) => 5.299999999999999 solRad>"
      ]
     },
     "execution_count": 10,
     "metadata": {},
     "output_type": "execute_result"
    }
   ],
   "source": [
    "b.flip_constraint(qualifier='mass', component='primary', solve_for='sma')"
   ]
  },
  {
   "cell_type": "code",
   "execution_count": 11,
   "metadata": {},
   "outputs": [
    {
     "data": {
      "text/plain": [
       "<ConstraintParameter: {q@binary@component} = {mass@secondary@component} / {mass@primary@component} (solar units) => 1.0>"
      ]
     },
     "execution_count": 11,
     "metadata": {},
     "output_type": "execute_result"
    }
   ],
   "source": [
    "b.flip_constraint(qualifier='mass', component='secondary', solve_for='q')"
   ]
  },
  {
   "cell_type": "code",
   "execution_count": 12,
   "metadata": {},
   "outputs": [],
   "source": [
    "b.set_value('mass@primary', 1.0)\n",
    "b.set_value('mass@secondary', 1.898e27, unit=u.kg)"
   ]
  },
  {
   "cell_type": "code",
   "execution_count": 13,
   "metadata": {},
   "outputs": [],
   "source": [
    "# let's get the value of the sma for this orbit to see how close it is to Jupiter's orbital radius"
   ]
  },
  {
   "cell_type": "code",
   "execution_count": 14,
   "metadata": {},
   "outputs": [
    {
     "data": {
      "text/plain": [
       "784354193.9984822"
      ]
     },
     "execution_count": 14,
     "metadata": {},
     "output_type": "execute_result"
    }
   ],
   "source": [
    "b.get_value('sma@component@binary',  unit=u.km)"
   ]
  },
  {
   "cell_type": "code",
   "execution_count": 15,
   "metadata": {},
   "outputs": [
    {
     "data": {
      "text/plain": [
       "783606217.1240869"
      ]
     },
     "execution_count": 15,
     "metadata": {},
     "output_type": "execute_result"
    }
   ],
   "source": [
    "b.get_value('sma@component@secondary',  unit=u.km)"
   ]
  },
  {
   "cell_type": "code",
   "execution_count": 16,
   "metadata": {},
   "outputs": [],
   "source": [
    "# very useful function"
   ]
  },
  {
   "cell_type": "code",
   "execution_count": 17,
   "metadata": {},
   "outputs": [
    {
     "data": {
      "text/html": [
       "<table style=\"width:50%\"><tr><th>Primary name</th><th>Unit definition</th><th>Aliases</th></tr><tr><td>M_e</td><td>9.10938e-31 kg</td><td></td></tr><tr><td>M_p</td><td>1.67262e-27 kg</td><td></td></tr><tr><td>earthMass</td><td>5.97217e+24 kg</td><td>M_earth, Mearth</td></tr><tr><td>g</td><td>0.001 kg</td><td>gram</td></tr><tr><td>jupiterMass</td><td>1.89812e+27 kg</td><td>M_jup, Mjup, M_jupiter, Mjupiter</td></tr><tr><td>kg</td><td>irreducible</td><td>kilogram</td></tr><tr><td>solMass</td><td>1.98841e+30 kg</td><td>M_sun, Msun</td></tr><tr><td>t</td><td>1000 kg</td><td>tonne</td></tr><tr><td>u</td><td>1.66054e-27 kg</td><td>Da, Dalton</td></tr></table>"
      ],
      "text/plain": [
       "  Primary name | Unit definition | Aliases                         \n",
       "[\n",
       "  M_e          | 9.10938e-31 kg  |                                  ,\n",
       "  M_p          | 1.67262e-27 kg  |                                  ,\n",
       "  earthMass    | 5.97217e+24 kg  | M_earth, Mearth                  ,\n",
       "  g            | 0.001 kg        | gram                             ,\n",
       "  jupiterMass  | 1.89812e+27 kg  | M_jup, Mjup, M_jupiter, Mjupiter ,\n",
       "  kg           | irreducible     | kilogram                         ,\n",
       "  solMass      | 1.98841e+30 kg  | M_sun, Msun                      ,\n",
       "  t            | 1000 kg         | tonne                            ,\n",
       "  u            | 1.66054e-27 kg  | Da, Dalton                       ,\n",
       "]"
      ]
     },
     "execution_count": 17,
     "metadata": {},
     "output_type": "execute_result"
    }
   ],
   "source": [
    "u.solMass.find_equivalent_units()"
   ]
  },
  {
   "cell_type": "code",
   "execution_count": 18,
   "metadata": {},
   "outputs": [],
   "source": [
    "#so we could have used Jupiter mass for setting the mass!"
   ]
  }
 ],
 "metadata": {
  "kernelspec": {
   "display_name": "Python 3",
   "language": "python",
   "name": "python3"
  },
  "language_info": {
   "codemirror_mode": {
    "name": "ipython",
    "version": 3
   },
   "file_extension": ".py",
   "mimetype": "text/x-python",
   "name": "python",
   "nbconvert_exporter": "python",
   "pygments_lexer": "ipython3",
   "version": "3.8.5"
  }
 },
 "nbformat": 4,
 "nbformat_minor": 2
}
