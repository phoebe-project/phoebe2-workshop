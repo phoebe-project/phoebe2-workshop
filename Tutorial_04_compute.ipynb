{
 "cells": [
  {
   "cell_type": "markdown",
   "metadata": {},
   "source": [
    "# Workshop Tutorial: Compute (Creating the Forward Model)\n",
    "\n",
    "In this tutorial, we'll learn how to call run_compute to create a synthetic model for the attached datasets.\n",
    "\n",
    "This interactive workshop tutorial covers many of the same topics as the corresponding online tutorials:\n",
    "\n",
    "* [Computing Observables](http://phoebe-project.org/docs/latest/tutorials/compute.ipynb)\n",
    "* [Advanced: Compute Times & Phases](http://phoebe-project.org/docs/latest/tutorials/compute_times_phases.ipynb) (discussed in the next workshop tutorial)\n",
    "* [Advanced: Phase Masking](http://phoebe-project.org/docs/latest/tutorials/mask_phases.ipynb)\n",
    "* [Advanced: Running Multiple Compute Options Simultaneously](http://phoebe-project.org/docs/latest/tutorials/compute_multiple.ipynb)\n",
    "* [Advanced: Alternate Backends](http://phoebe-project.org/docs/latest/tutorials/alternate_backends.ipynb)"
   ]
  },
  {
   "cell_type": "markdown",
   "metadata": {},
   "source": [
    "# Setup"
   ]
  },
  {
   "cell_type": "code",
   "execution_count": 1,
   "metadata": {},
   "outputs": [],
   "source": [
    "import phoebe\n",
    "from phoebe import u,c"
   ]
  },
  {
   "cell_type": "code",
   "execution_count": 2,
   "metadata": {},
   "outputs": [],
   "source": [
    "logger = phoebe.logger(clevel='WARNING')"
   ]
  },
  {
   "cell_type": "code",
   "execution_count": 3,
   "metadata": {},
   "outputs": [],
   "source": [
    "b = phoebe.default_binary()"
   ]
  },
  {
   "cell_type": "markdown",
   "metadata": {},
   "source": [
    "# Compute"
   ]
  },
  {
   "cell_type": "markdown",
   "metadata": {},
   "source": [
    "Let's first re-add some simple datasets so that we can create the models."
   ]
  },
  {
   "cell_type": "code",
   "execution_count": 4,
   "metadata": {},
   "outputs": [
    {
     "data": {
      "text/plain": [
       "<ParameterSet: 80 parameters | contexts: compute, dataset, constraint, figure>"
      ]
     },
     "execution_count": 4,
     "metadata": {},
     "output_type": "execute_result"
    }
   ],
   "source": [
    "b.add_dataset('lc', compute_times=phoebe.linspace(0,1,51), dataset='lc01')"
   ]
  },
  {
   "cell_type": "code",
   "execution_count": 5,
   "metadata": {},
   "outputs": [
    {
     "data": {
      "text/plain": [
       "<ParameterSet: 83 parameters | contexts: compute, dataset, constraint, figure>"
      ]
     },
     "execution_count": 5,
     "metadata": {},
     "output_type": "execute_result"
    }
   ],
   "source": [
    "b.add_dataset('rv', compute_times=phoebe.linspace(0,1,21), dataset='rv01')"
   ]
  },
  {
   "cell_type": "markdown",
   "metadata": {},
   "source": [
    "Now that we have datasets, we could compute the forward model with all the defaults by calling [run_compute](http://phoebe-project.org/docs/2.4/api/phoebe.frontend.bundle.Bundle.run_compute)."
   ]
  },
  {
   "cell_type": "code",
   "execution_count": 6,
   "metadata": {},
   "outputs": [
    {
     "name": "stderr",
     "output_type": "stream",
     "text": [
      "100%|██████████████████████████████████████████| 63/63 [00:05<00:00, 12.27it/s]\n"
     ]
    },
    {
     "data": {
      "text/plain": [
       "<ParameterSet: 7 parameters | kinds: lc, rv>"
      ]
     },
     "execution_count": 6,
     "metadata": {},
     "output_type": "execute_result"
    }
   ],
   "source": [
    "b.run_compute()"
   ]
  },
  {
   "cell_type": "markdown",
   "metadata": {},
   "source": [
    "This creates synthetic versions of each dataset copied into the with `context='model'`.  Let's filter to see what we can find in the model."
   ]
  },
  {
   "cell_type": "code",
   "execution_count": 7,
   "metadata": {},
   "outputs": [
    {
     "data": {
      "text/plain": [
       "['lc01', 'rv01']"
      ]
     },
     "execution_count": 7,
     "metadata": {},
     "output_type": "execute_result"
    }
   ],
   "source": [
    "b.filter(context='model').datasets"
   ]
  },
  {
   "cell_type": "code",
   "execution_count": 8,
   "metadata": {},
   "outputs": [
    {
     "data": {
      "text/plain": [
       "<ParameterSet: 2 parameters | qualifiers: fluxes, times>"
      ]
     },
     "execution_count": 8,
     "metadata": {},
     "output_type": "execute_result"
    }
   ],
   "source": [
    "b.filter(context='model', dataset='lc01')"
   ]
  },
  {
   "cell_type": "markdown",
   "metadata": {},
   "source": [
    "Note that if we don't pass `model` to `run_compute`, then the model is automatically tagged with `model='latest'` and will automatically be overwritten with the _latest_ version the next time `run_compute` is called (without passing a different `model` and with a warning in the logger).\n",
    "\n",
    "If we instead were to manually tag the model by passing `model='mymodel'`, for example, then future calls to `run_compute` would either require a unique model name or explicitly passing `overwrite=True`. If no unique tag is provided, the 'latest' model will be overwritten.  Thus, 'latest' does not really refer to the latest run of `b.run_compute()`, it merely labels an overwrite-friendly unnamed instant of the model."
   ]
  },
  {
   "cell_type": "code",
   "execution_count": 9,
   "metadata": {},
   "outputs": [
    {
     "data": {
      "text/plain": [
       "['latest']"
      ]
     },
     "execution_count": 9,
     "metadata": {},
     "output_type": "execute_result"
    }
   ],
   "source": [
    "b.models"
   ]
  },
  {
   "cell_type": "markdown",
   "metadata": {},
   "source": [
    "For light curves, the synthetic model consists of the `times` (copied directly from the `compute_times` or `times` parameter in the dataset) and the synthetic fluxes."
   ]
  },
  {
   "cell_type": "code",
   "execution_count": 10,
   "metadata": {},
   "outputs": [
    {
     "data": {
      "text/plain": [
       "<Parameter: times=[0.   0.02 0.04 ... 0.96 0.98 1.  ] d | keys: description, value, default_unit, visible_if, required_shape, copy_for, readonly, advanced, latexfmt>"
      ]
     },
     "execution_count": 10,
     "metadata": {},
     "output_type": "execute_result"
    }
   ],
   "source": [
    "b.get_parameter(context='model', dataset='lc01', qualifier='times')"
   ]
  },
  {
   "cell_type": "code",
   "execution_count": 11,
   "metadata": {},
   "outputs": [
    {
     "data": {
      "text/plain": [
       "<Parameter: fluxes=[0.98295179 1.36736973 1.76882159 ... 1.76870313\n",
       " 1.36727617 0.98295179] W / m2 | keys: description, value, default_unit, visible_if, required_shape, copy_for, readonly, advanced, latexfmt>"
      ]
     },
     "execution_count": 11,
     "metadata": {},
     "output_type": "execute_result"
    }
   ],
   "source": [
    "b.get_parameter(context='model', dataset='lc01', qualifier='fluxes')"
   ]
  },
  {
   "cell_type": "markdown",
   "metadata": {},
   "source": [
    "For radial velocities, the synthetic model consists again of the `times`, as well as the `rvs` for both stars in the system.  Therefore, we also need to provide the component tag in order to access a single Parameter."
   ]
  },
  {
   "cell_type": "code",
   "execution_count": 12,
   "metadata": {},
   "outputs": [
    {
     "data": {
      "text/plain": [
       "['times', 'rvs']"
      ]
     },
     "execution_count": 12,
     "metadata": {},
     "output_type": "execute_result"
    }
   ],
   "source": [
    "b.filter(context='model', dataset='rv01').qualifiers"
   ]
  },
  {
   "cell_type": "code",
   "execution_count": 13,
   "metadata": {},
   "outputs": [
    {
     "data": {
      "text/plain": [
       "<Parameter: rvs=[  0.63896934 -44.65565177 -78.68566127 ...  78.6787985\n",
       "  44.65034777   0.63896934] km / s | keys: description, value, default_unit, visible_if, required_shape, copy_for, readonly, advanced, latexfmt>"
      ]
     },
     "execution_count": 13,
     "metadata": {},
     "output_type": "execute_result"
    }
   ],
   "source": [
    "b.get_parameter(context='model', datset='rv01', component='primary', qualifier='rvs')"
   ]
  },
  {
   "cell_type": "code",
   "execution_count": 14,
   "metadata": {},
   "outputs": [
    {
     "data": {
      "text/plain": [
       "<Parameter: rvs=[ 1.70160494e-03  4.14276964e+01  7.87835613e+01 ...\n",
       " -7.87756285e+01 -4.14224421e+01  1.70160494e-03] km / s | keys: description, value, default_unit, visible_if, required_shape, copy_for, readonly, advanced, latexfmt>"
      ]
     },
     "execution_count": 14,
     "metadata": {},
     "output_type": "execute_result"
    }
   ],
   "source": [
    "b.get_parameter(context='model', datset='rv01', component='secondary', qualifier='rvs')"
   ]
  },
  {
   "cell_type": "markdown",
   "metadata": {},
   "source": [
    "## Custom Compute Options"
   ]
  },
  {
   "cell_type": "markdown",
   "metadata": {},
   "source": [
    "As we mentioned earlier when adding datasets, Parameters with `context='compute'` control options for how the model is computed.  With a default Bundle, there is already a single set of compute options attached (these were what was used when we called run_compute above)."
   ]
  },
  {
   "cell_type": "code",
   "execution_count": 15,
   "metadata": {},
   "outputs": [
    {
     "name": "stdout",
     "output_type": "stream",
     "text": [
      "['sample_from', 'comments', 'use_server', 'dynamics_method', 'ltte', 'irrad_method', 'boosting_method', 'eclipse_method', 'horizon_method', 'mesh_method', 'ntriangles', 'distortion_method', 'atm', 'enabled', 'fti_method', 'rv_method', 'rv_grav']\n"
     ]
    }
   ],
   "source": [
    "print(b.filter(context='compute').qualifiers)"
   ]
  },
  {
   "cell_type": "markdown",
   "metadata": {},
   "source": [
    "These are options that tell the backend which methods to use or which advanced effects to consider.  Because of this, these options can be changed to either create a quick-and-dirty fast model, or a robust-but-slow model.\n",
    "\n",
    "Similar to datasets, we can add additional sets of compute options.  So let's create one set of compute options for quick-and-dirty computations (and tag it `compute='preview'`)"
   ]
  },
  {
   "cell_type": "code",
   "execution_count": 16,
   "metadata": {},
   "outputs": [
    {
     "data": {
      "text/plain": [
       "<ParameterSet: 46 parameters | datasets: lc01, _default, rv01>"
      ]
     },
     "execution_count": 16,
     "metadata": {},
     "output_type": "execute_result"
    }
   ],
   "source": [
    "b.add_compute(compute='preview')"
   ]
  },
  {
   "cell_type": "markdown",
   "metadata": {},
   "source": [
    "Now if we filter for any of the Parameters with `context='compute'`, we'll see that there is a copy for each of our created set of compute options as well as the original default set."
   ]
  },
  {
   "cell_type": "code",
   "execution_count": 17,
   "metadata": {},
   "outputs": [
    {
     "data": {
      "text/plain": [
       "<ParameterSet: 2 parameters | computes: phoebe01, preview>"
      ]
     },
     "execution_count": 17,
     "metadata": {},
     "output_type": "execute_result"
    }
   ],
   "source": [
    "b.filter(context='compute', qualifier='ltte')"
   ]
  },
  {
   "cell_type": "markdown",
   "metadata": {},
   "source": [
    "Now let's set a few options to turn off some effects. Let's first disable all the advanced physics (`ltte`, `rv_grav`, `irrad_method`).  Note:  we'll discuss which of these effects are most expensive and how to determine which are safe to disable later in the week."
   ]
  },
  {
   "cell_type": "code",
   "execution_count": 18,
   "metadata": {},
   "outputs": [],
   "source": [
    "b.set_value(qualifier='ltte', context='compute', compute='preview', value=False)"
   ]
  },
  {
   "cell_type": "markdown",
   "metadata": {},
   "source": [
    "If we try to do the same as above, but use `qualifier='rv_grav'`, we'll get an error saying there are 2 results found.  This is because `rv_grav` can be enabled/disabled for each individual star.  We can see this is the case by doing a filter."
   ]
  },
  {
   "cell_type": "code",
   "execution_count": 19,
   "metadata": {},
   "outputs": [
    {
     "data": {
      "text/plain": [
       "<ParameterSet: 2 parameters | components: secondary, primary>"
      ]
     },
     "execution_count": 19,
     "metadata": {},
     "output_type": "execute_result"
    }
   ],
   "source": [
    "b.filter(context='compute', compute='preview', qualifier='rv_grav')"
   ]
  },
  {
   "cell_type": "markdown",
   "metadata": {},
   "source": [
    "We could either set the value for `component='primary'` and `component='secondary'` separately, or we can set them both at once by using `set_value_all` (this sets the value for all Parameters in a ParameterSet)"
   ]
  },
  {
   "cell_type": "code",
   "execution_count": 20,
   "metadata": {},
   "outputs": [],
   "source": [
    "b.set_value_all(qualifier='rv_grav', context='compute', compute='preview', value=False)"
   ]
  },
  {
   "cell_type": "code",
   "execution_count": 21,
   "metadata": {},
   "outputs": [
    {
     "data": {
      "text/plain": [
       "['none', 'wilson', 'horvat']"
      ]
     },
     "execution_count": 21,
     "metadata": {},
     "output_type": "execute_result"
    }
   ],
   "source": [
    "b.get_parameter(context='compute', compute='preview', qualifier='irrad_method').choices"
   ]
  },
  {
   "cell_type": "code",
   "execution_count": 22,
   "metadata": {},
   "outputs": [],
   "source": [
    "b.set_value(qualifier='irrad_method', context='compute', compute='preview', value='none')"
   ]
  },
  {
   "cell_type": "markdown",
   "metadata": {},
   "source": [
    "And let's also decrease the number of triangles used in the meshes.  Again, we can use set_value_all since there is an entry for each star."
   ]
  },
  {
   "cell_type": "code",
   "execution_count": 23,
   "metadata": {},
   "outputs": [],
   "source": [
    "b.set_value_all(qualifier='ntriangles', context='compute', compute='preview', value=800)"
   ]
  },
  {
   "cell_type": "markdown",
   "metadata": {},
   "source": [
    "Now if we want to call `run_compute` again, we **must** also pass which set of compute options we want to use (the default 'phoebe01', or our new 'preview' options)"
   ]
  },
  {
   "cell_type": "code",
   "execution_count": 24,
   "metadata": {},
   "outputs": [
    {
     "name": "stderr",
     "output_type": "stream",
     "text": [
      "Thu, 16 Jun 2022 08:19 BUNDLE       WARNING overwriting model: latest\n",
      "100%|██████████████████████████████████████████| 63/63 [00:04<00:00, 13.31it/s]\n"
     ]
    },
    {
     "data": {
      "text/plain": [
       "<ParameterSet: 7 parameters | kinds: lc, rv>"
      ]
     },
     "execution_count": 24,
     "metadata": {},
     "output_type": "execute_result"
    }
   ],
   "source": [
    "b.run_compute(compute='preview')"
   ]
  },
  {
   "cell_type": "markdown",
   "metadata": {},
   "source": [
    "## Temporarily Overriding Options"
   ]
  },
  {
   "cell_type": "markdown",
   "metadata": {},
   "source": [
    "Any of these compute options can be overridden as keyword arguments to `run_compute`.  These won't change the Parameter values, and will only apply to that single call of `run_compute`."
   ]
  },
  {
   "cell_type": "code",
   "execution_count": 25,
   "metadata": {},
   "outputs": [
    {
     "name": "stderr",
     "output_type": "stream",
     "text": [
      "Thu, 16 Jun 2022 08:20 BUNDLE       WARNING overwriting model: latest\n",
      "100%|██████████████████████████████████████████| 63/63 [00:04<00:00, 13.22it/s]\n"
     ]
    },
    {
     "data": {
      "text/plain": [
       "<ParameterSet: 7 parameters | kinds: lc, rv>"
      ]
     },
     "execution_count": 25,
     "metadata": {},
     "output_type": "execute_result"
    }
   ],
   "source": [
    "b.run_compute(compute='preview', irrad_method='horvat')"
   ]
  },
  {
   "cell_type": "markdown",
   "metadata": {},
   "source": [
    "In addition to the compute options, you can also _temporarily_ override the times across **all** datasets (without changing the values in the parameters in the dataset)."
   ]
  },
  {
   "cell_type": "code",
   "execution_count": 26,
   "metadata": {},
   "outputs": [
    {
     "name": "stderr",
     "output_type": "stream",
     "text": [
      "Thu, 16 Jun 2022 08:20 BUNDLE       WARNING overwriting model: latest\n",
      "100%|████████████████████████████████████████████| 3/3 [00:04<00:00,  1.43s/it]\n"
     ]
    },
    {
     "data": {
      "text/plain": [
       "<ParameterSet: 7 parameters | kinds: lc, rv>"
      ]
     },
     "execution_count": 26,
     "metadata": {},
     "output_type": "execute_result"
    }
   ],
   "source": [
    "b.run_compute(compute='preview', times=[0, 0.5, 1])"
   ]
  },
  {
   "cell_type": "code",
   "execution_count": 27,
   "metadata": {},
   "outputs": [
    {
     "name": "stdout",
     "output_type": "stream",
     "text": [
      "dataset times:  [0.   0.02 0.04 0.06 0.08 0.1  0.12 0.14 0.16 0.18 0.2  0.22 0.24 0.26\n",
      " 0.28 0.3  0.32 0.34 0.36 0.38 0.4  0.42 0.44 0.46 0.48 0.5  0.52 0.54\n",
      " 0.56 0.58 0.6  0.62 0.64 0.66 0.68 0.7  0.72 0.74 0.76 0.78 0.8  0.82\n",
      " 0.84 0.86 0.88 0.9  0.92 0.94 0.96 0.98 1.  ]\n",
      "model times:  [0.  0.5 1. ]\n"
     ]
    }
   ],
   "source": [
    "print(\"dataset times: \", b.get_value('compute_times', dataset='lc01', context='dataset'))\n",
    "print(\"model times: \", b.get_value('times', dataset='lc01', context='model'))"
   ]
  },
  {
   "cell_type": "markdown",
   "metadata": {},
   "source": [
    "## Alternate Backends"
   ]
  },
  {
   "cell_type": "markdown",
   "metadata": {},
   "source": [
    "In addition to creating separate compute options for robust vs preview, compute options also serve to run backends other than phoebe2.  Currently there are wrappers for PHOEBE 1.0 (legacy), ellc, and jktebop.\n",
    "\n",
    "Similar to providing `'lc'` or `'rv'` to `add_dataset`, you just need to provide the name of the backend to add_compute.\n",
    "\n",
    "NOTE: calling `run_compute` with one of these alternate backends will fail unless you have the necessary code installed on your machine."
   ]
  },
  {
   "cell_type": "code",
   "execution_count": 28,
   "metadata": {},
   "outputs": [
    {
     "data": {
      "text/plain": [
       "<ParameterSet: 32 parameters | datasets: lc01, _default, rv01>"
      ]
     },
     "execution_count": 28,
     "metadata": {},
     "output_type": "execute_result"
    }
   ],
   "source": [
    "b.add_compute('legacy', compute='legacycompute')"
   ]
  },
  {
   "cell_type": "code",
   "execution_count": 29,
   "metadata": {},
   "outputs": [
    {
     "name": "stdout",
     "output_type": "stream",
     "text": [
      "ParameterSet: 18 parameters\n",
      "   sample_from@legacycompute@c...: []\n",
      "   comments@legacycompute@compute: \n",
      "   use_server@legacycompute@co...: none\n",
      "   pblum_method@legacycompute@...: phoebe\n",
      "   irrad_method@legacycompute@...: wilson\n",
      "   refl_num@legacycompute@compute: 1\n",
      "         ie@legacycompute@compute: False\n",
      "   enabled@lc01@legacycompute@...: True\n",
      "   enabled@rv01@legacycompute@...: True\n",
      "   atm@primary@legacycompute@c...: extern_atmx\n",
      "   atm@secondary@legacycompute...: extern_atmx\n",
      "   gridsize@primary@legacycomp...: 60\n",
      "   gridsize@secondary@legacyco...: 60\n",
      "   distortion_method@primary@l...: roche\n",
      "   distortion_method@secondary...: roche\n",
      "   rv_method@primary@legacycom...: flux-weighted\n",
      "   rv_method@secondary@legacyc...: flux-weighted\n",
      "   fti_method@legacycompute@co...: none\n"
     ]
    }
   ],
   "source": [
    "print(b.filter(compute='legacycompute'))"
   ]
  },
  {
   "cell_type": "markdown",
   "metadata": {},
   "source": [
    "# Exercise"
   ]
  },
  {
   "cell_type": "markdown",
   "metadata": {},
   "source": [
    "Add another set of compute options (called, say, 'robust') and set whatever values you think might be necessary.  Run a model and see how much longer it takes to run."
   ]
  },
  {
   "cell_type": "code",
   "execution_count": null,
   "metadata": {},
   "outputs": [],
   "source": []
  }
 ],
 "metadata": {
  "kernelspec": {
   "display_name": "Python 3 (ipykernel)",
   "language": "python",
   "name": "python3"
  },
  "language_info": {
   "codemirror_mode": {
    "name": "ipython",
    "version": 3
   },
   "file_extension": ".py",
   "mimetype": "text/x-python",
   "name": "python",
   "nbconvert_exporter": "python",
   "pygments_lexer": "ipython3",
   "version": "3.9.7"
  }
 },
 "nbformat": 4,
 "nbformat_minor": 4
}
