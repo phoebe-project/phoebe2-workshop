{
 "cells": [
  {
   "cell_type": "markdown",
   "metadata": {},
   "source": [
    "In this tutorial we will use the basic functionallity of EMCEE (the MCMC software) to fit a synthetic binary that we make using phoebe."
   ]
  },
  {
   "cell_type": "code",
   "execution_count": null,
   "metadata": {},
   "outputs": [],
   "source": [
    "%matplotlib inline \n",
    "import numpy as np\n",
    "import emcee\n",
    "import matplotlib.pyplot as pl\n",
    "import phoebe\n",
    "import matplotlib.mlab as mlab\n",
    "from matplotlib.pyplot import cm "
   ]
  },
  {
   "cell_type": "markdown",
   "metadata": {},
   "source": [
    "First we make our synthetic data, this time we will make a binary star using PHOEBE and add noise:"
   ]
  },
  {
   "cell_type": "code",
   "execution_count": null,
   "metadata": {},
   "outputs": [],
   "source": [
    "b = phoebe.default_binary()\n",
    "#phoebe.mpi_off()"
   ]
  },
  {
   "cell_type": "markdown",
   "metadata": {},
   "source": [
    "First we will add a light curve data set so that we cam make our synthetic data model:"
   ]
  },
  {
   "cell_type": "code",
   "execution_count": null,
   "metadata": {},
   "outputs": [],
   "source": [
    "times = np.linspace(0,3,201)\n",
    "b.add_dataset('lc', times=times, dataset='lc01')"
   ]
  },
  {
   "cell_type": "markdown",
   "metadata": {},
   "source": [
    "We will set the irradiation method to \"none\" (for the purpose of the tutorial) as that requires significant computational time:"
   ]
  },
  {
   "cell_type": "code",
   "execution_count": null,
   "metadata": {
    "collapsed": true
   },
   "outputs": [],
   "source": [
    "b.get_parameter(context='compute', qualifier='irrad_method').set_value(\"none\")"
   ]
  },
  {
   "cell_type": "markdown",
   "metadata": {},
   "source": [
    "We will also significantly reduce the number of triangles to speed up computations:"
   ]
  },
  {
   "cell_type": "code",
   "execution_count": null,
   "metadata": {
    "collapsed": true
   },
   "outputs": [],
   "source": [
    "b.get_parameter(context='compute', component='primary', qualifier='ntriangles').set_value(300)"
   ]
  },
  {
   "cell_type": "code",
   "execution_count": null,
   "metadata": {
    "collapsed": true
   },
   "outputs": [],
   "source": [
    "b.get_parameter(context='compute', component='secondary', qualifier='ntriangles').set_value(300)"
   ]
  },
  {
   "cell_type": "markdown",
   "metadata": {},
   "source": [
    "We will set the parameters that we plan to fit to specific values:"
   ]
  },
  {
   "cell_type": "code",
   "execution_count": null,
   "metadata": {
    "collapsed": true
   },
   "outputs": [],
   "source": [
    "b['incl@binary@orbit@component'] = 86.5\n",
    "b['requiv@primary@star@component'] = 1.2\n",
    "b['requiv@secondary@star@component'] = 0.8\n",
    "b['q@binary@orbit@component'] = 0.7\n",
    "b['pblum@primary@dataset'] = 2.9*np.pi"
   ]
  },
  {
   "cell_type": "markdown",
   "metadata": {},
   "source": [
    "Now we will compute our phoebe model, add noise and plot the results:"
   ]
  },
  {
   "cell_type": "code",
   "execution_count": null,
   "metadata": {},
   "outputs": [],
   "source": [
    "b.run_compute()"
   ]
  },
  {
   "cell_type": "code",
   "execution_count": null,
   "metadata": {},
   "outputs": [],
   "source": [
    "fluxes = b['fluxes@latest@model'].get_value()\n",
    "sigmas = np.full((len(times)), 0.01)\n",
    "mean = 0.0\n",
    "noise = np.random.normal(mean, sigmas, fluxes.shape)\n",
    "noisy = fluxes + noise"
   ]
  },
  {
   "cell_type": "code",
   "execution_count": null,
   "metadata": {},
   "outputs": [],
   "source": [
    "pl.plot(times, noisy, \"b.-\")\n",
    "pl.xlabel(\"Times\")\n",
    "pl.ylabel(\"Flux\")\n",
    "pl.show()"
   ]
  },
  {
   "cell_type": "markdown",
   "metadata": {},
   "source": [
    "Now we have our data, we need to set the hyperparamters required to run emcee. Here the prior boxes provide the lower and upper limits for the phoebe parameter values. We will select the order to be incl, requiv1, requiv2, mass ratio:"
   ]
  },
  {
   "cell_type": "code",
   "execution_count": null,
   "metadata": {
    "collapsed": true
   },
   "outputs": [],
   "source": [
    "nwalkers = 10\n",
    "niter = 2\n",
    "init_dist = [(86.4,87.3),(1.15,1.25),(0.725,0.825),(0.675,0.725)]"
   ]
  },
  {
   "cell_type": "markdown",
   "metadata": {},
   "source": [
    "Now we will set up some prior information. If we know something about our system, say from spectra, we can inform our model by setting priors. Here we will set uninformed priors, but you can have informed priors such as gaussian priors:"
   ]
  },
  {
   "cell_type": "code",
   "execution_count": null,
   "metadata": {
    "collapsed": true
   },
   "outputs": [],
   "source": [
    "priors = [(80.,90),(1.1,1.3),(0.7,0.9),(0.6,0.9)]"
   ]
  },
  {
   "cell_type": "markdown",
   "metadata": {},
   "source": [
    "Now we will set up a new bundle, which we will call \"mod\", to compute the model to fit the synthetic data we just generated:"
   ]
  },
  {
   "cell_type": "code",
   "execution_count": null,
   "metadata": {
    "collapsed": true
   },
   "outputs": [],
   "source": [
    "mod = phoebe.default_binary()"
   ]
  },
  {
   "cell_type": "markdown",
   "metadata": {},
   "source": [
    "We will generate the model with less data points than our data in phase space. This is only recommended for data that doesn't have a changing orbital period."
   ]
  },
  {
   "cell_type": "code",
   "execution_count": null,
   "metadata": {},
   "outputs": [],
   "source": [
    "mod.add_dataset('lc', times = times, fluxes=fluxes, sigmas=sigmas,compute_phases=np.linspace(0,1.,51), passband='Kepler:mean')\n"
   ]
  },
  {
   "cell_type": "markdown",
   "metadata": {},
   "source": [
    "Again, for the purpose of speeding up computations we will set the number of triangles to a (ridiciously) low value and turn off reflection:"
   ]
  },
  {
   "cell_type": "code",
   "execution_count": null,
   "metadata": {
    "collapsed": true
   },
   "outputs": [],
   "source": [
    "mod.get_parameter(context='compute', qualifier='irrad_method').set_value(\"none\")\n",
    "mod.get_parameter(context='compute', component='primary', qualifier='ntriangles').set_value(300)\n",
    "mod.get_parameter(context='compute', component='secondary', qualifier='ntriangles').set_value(300)"
   ]
  },
  {
   "cell_type": "markdown",
   "metadata": {},
   "source": [
    "Since we have a dataset, we can add the helper function that calculates the passband luminosity at each iteration instead of fitting for it:"
   ]
  },
  {
   "cell_type": "code",
   "execution_count": null,
   "metadata": {},
   "outputs": [],
   "source": [
    "mod.set_value('pblum_mode',value='dataset-scaled')"
   ]
  },
  {
   "cell_type": "markdown",
   "metadata": {},
   "source": [
    "Generate an initial guess for all the parameters by drawing from initial distributions:"
   ]
  },
  {
   "cell_type": "code",
   "execution_count": null,
   "metadata": {
    "collapsed": true
   },
   "outputs": [],
   "source": [
    "def rpars(init_dist):\n",
    "    return [np.random.rand() * (i[1]-i[0]) + i[0] for i in init_dist]"
   ]
  },
  {
   "cell_type": "markdown",
   "metadata": {},
   "source": [
    "Instate the priors such that if a parameter falls outside the prior range, the value will be set to negative infinity and the model will not be accepted:"
   ]
  },
  {
   "cell_type": "code",
   "execution_count": null,
   "metadata": {
    "collapsed": true
   },
   "outputs": [],
   "source": [
    "def lnprior(priors, values):\n",
    "    \n",
    "    lp = 0.\n",
    "    for value, prior in zip(values, priors):\n",
    "        if value >= prior[0] and value <= prior[1]:\n",
    "            lp+=0\n",
    "        else:\n",
    "            lp+=-np.inf \n",
    "    return lp"
   ]
  },
  {
   "cell_type": "markdown",
   "metadata": {},
   "source": [
    "Now we will specify our log probability function, which will include our likelihood computation and our logprior value. Here, z will be the array of values returned by the mcmc algorithm. We will update the parameter values with the new values given by the mcmc fitter in this function and then recompute the model. In this example, the lnp value will be zero or negative infinity, but if a gaussain prior is used, this will become a value."
   ]
  },
  {
   "cell_type": "code",
   "execution_count": null,
   "metadata": {},
   "outputs": [],
   "source": [
    "def lnprob(z):\n",
    "\n",
    "    mod['incl@binary@orbit@component'] = z[0]\n",
    "    mod['requiv@primary@star@component'] = z[1]\n",
    "    mod['requiv@secondary@star@component'] = z[2]\n",
    "    mod['q@binary@orbit@component'] = z[3]\n",
    "    \n",
    "    lnp = lnprior(priors,z)\n",
    "    if not np.isfinite(lnp):\n",
    "            return -np.inf\n",
    "    \n",
    "    try: \n",
    "        mod.run_compute()\n",
    "\n",
    "        # use chi^2 to compare the model to the data:\n",
    "        chi2 = 0.\n",
    "        for dataset in mod.get_model().datasets:\n",
    "            chi2+=np.sum(mod.compute_residuals(dataset=dataset, as_quantity=False)**2/sigmas**2)\n",
    "        # calculate lnprob\n",
    "        lnprob = -0.5*chi2 + lnp\n",
    "        return lnprob\n",
    "    except:\n",
    "        return -np.inf"
   ]
  },
  {
   "cell_type": "markdown",
   "metadata": {},
   "source": [
    "Now we will set the run function which will combine all our computations:"
   ]
  },
  {
   "cell_type": "code",
   "execution_count": null,
   "metadata": {},
   "outputs": [],
   "source": [
    "def run(init_dist, nwalkers, niter):\n",
    "    # Specify the number of dimensions for mcmc\n",
    "    ndim = len(init_dist)\n",
    "\n",
    "    # Generate initial guesses for all parameters for all chains\n",
    "    p0 = np.array([rpars(init_dist) for i in xrange(nwalkers)])\n",
    "\n",
    "    # Generate the emcee sampler. Here the inputs provided include the lnprob function. With this setup, the value z\n",
    "    # in the lnprob function, is the output from the sampler.\n",
    "    sampler = emcee.EnsembleSampler(nwalkers,ndim,lnprob)\n",
    "    \n",
    "    #pos is the position of the walkers in parameter space\n",
    "    #prob is the probability of the given \"pos\" positions\n",
    "    #state is the state of the random number generator\n",
    "    pos, prob, state = sampler.run_mcmc(p0, niter)\n",
    "\n",
    "    for i in range(ndim):\n",
    "        pl.figure()\n",
    "        y = sampler.flatchain[:,i]\n",
    "        n, bins, patches = pl.hist(y, 200, normed=1, color=\"b\", alpha=0.45)#, histtype=\"step\")\n",
    "        pl.title(\"Dimension {0:d}\".format(i))\n",
    "        \n",
    "        mu = np.average(y)\n",
    "        sigma = np.std(y)\n",
    "        \n",
    "        print \"mu = \", mu\n",
    "        print \"sigma = \",sigmas\n",
    "\n",
    "        bf = mlab.normpdf(bins, mu, sigma)\n",
    "        l = pl.plot(bins, bf, 'k--', linewidth=2.0)\n",
    "    pl.show()\n",
    "    return pos"
   ]
  },
  {
   "cell_type": "code",
   "execution_count": null,
   "metadata": {},
   "outputs": [],
   "source": [
    "pos = run(init_dist, nwalkers, niter)"
   ]
  },
  {
   "cell_type": "markdown",
   "metadata": {
    "collapsed": true
   },
   "source": [
    "If we wish to see how good our last fit was, we can overplot the final models and the synthetic data. To do this, we will need to update the model with the last parameter values from our fit, and then overplot each one:"
   ]
  },
  {
   "cell_type": "code",
   "execution_count": null,
   "metadata": {},
   "outputs": [],
   "source": [
    "color=cm.rainbow(np.linspace(0,1,nwalkers))\n",
    "for i,c in zip(range(nwalkers),color):\n",
    "  \n",
    "    #pl.figure()\n",
    "    \n",
    "    # Set all the parameter values\n",
    "    mod['incl@binary@orbit@component'] = pos[-1-i,0]\n",
    "    mod['requiv@primary@star@component'] = pos[-1-i,1]\n",
    "    mod['requiv@secondary@star@component'] = pos[-1-i,2]\n",
    "    mod['q@binary@orbit@component'] = pos[-1-i,3]\n",
    "        \n",
    "    mod.run_compute(model='run{}'.format(i))"
   ]
  },
  {
   "cell_type": "markdown",
   "metadata": {},
   "source": [
    "As you can see there is still a large spread of models. The key here is that we need to do lots of iterations. "
   ]
  },
  {
   "cell_type": "code",
   "execution_count": null,
   "metadata": {},
   "outputs": [],
   "source": [
    "for i,c in zip(range(nwalkers),color):\n",
    "    model = mod['fluxes@run{}'.format(i)].interp_value(times=times)\n",
    "\n",
    "    pl.plot(times,model,c=c)\n",
    "\n",
    "pl.xlabel(\"Times\")\n",
    "pl.ylabel(\"Flux\")\n",
    "pl.plot(times,noisy,\"k.\")\n",
    "pl.show()\n",
    "\n",
    "phases = mod.to_phase(times)\n",
    "phases_sorted = sorted(phases)\n",
    "for i,c in zip(range(nwalkers),color):\n",
    "    model = mod['fluxes@run{}'.format(i)].interp_value(phases=phases_sorted)\n",
    "\n",
    "    pl.plot(phases_sorted,model,c=c)\n",
    "\n",
    "pl.xlabel(\"Times\")\n",
    "pl.ylabel(\"Flux\")\n",
    "pl.plot(phases,noisy,\"k.\")\n",
    "pl.show()\n",
    "\n",
    "\n"
   ]
  },
  {
   "cell_type": "code",
   "execution_count": null,
   "metadata": {
    "collapsed": true
   },
   "outputs": [],
   "source": []
  }
 ],
 "metadata": {
  "kernelspec": {
   "display_name": "Python 2",
   "language": "python",
   "name": "python2"
  },
  "language_info": {
   "codemirror_mode": {
    "name": "ipython",
    "version": 2
   },
   "file_extension": ".py",
   "mimetype": "text/x-python",
   "name": "python",
   "nbconvert_exporter": "python",
   "pygments_lexer": "ipython2",
   "version": "2.7.14"
  }
 },
 "nbformat": 4,
 "nbformat_minor": 1
}
