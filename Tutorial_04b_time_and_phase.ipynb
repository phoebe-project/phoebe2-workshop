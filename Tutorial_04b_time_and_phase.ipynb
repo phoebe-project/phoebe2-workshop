{
 "cells": [
  {
   "cell_type": "markdown",
   "metadata": {},
   "source": [
    "# Workshop Tutorial: Computing in Time or Phase\n",
    "\n",
    "In this tutorial, we'll learn about manually translating between time- and phase-space.\n",
    "\n",
    "\n",
    "This interactive workshop tutorial covers many of the same topics as the corresponding online tutorials:\n",
    "\n",
    "* [Advanced: Compute Times & Phases](http://phoebe-project.org/docs/2.3/tutorials/compute_times_phases.ipynb)\n"
   ]
  },
  {
   "cell_type": "markdown",
   "metadata": {},
   "source": [
    "# Setup"
   ]
  },
  {
   "cell_type": "code",
   "execution_count": null,
   "metadata": {},
   "outputs": [],
   "source": [
    "import phoebe\n",
    "from phoebe import u,c"
   ]
  },
  {
   "cell_type": "code",
   "execution_count": null,
   "metadata": {},
   "outputs": [],
   "source": [
    "logger = phoebe.logger(clevel='WARNING')"
   ]
  },
  {
   "cell_type": "code",
   "execution_count": null,
   "metadata": {},
   "outputs": [],
   "source": [
    "b = phoebe.default_binary()"
   ]
  },
  {
   "cell_type": "markdown",
   "metadata": {},
   "source": [
    "# Times and Phase"
   ]
  },
  {
   "cell_type": "markdown",
   "metadata": {},
   "source": [
    "As you may have noticed while adding datasets, PHOEBE 2 works entirely in time (not phase) space.  This has its advantages (allowing time-dependent changes to the system) but can be a bit of a pain if you have old data stored only in phase-space or if you want to add a synthetic dataset covering a full orbital period, but don't remember the exact period of your system.  For this reason, we provide a few useful ways to help translate between the time-space used within PHOEBE and phase.\n",
    "\n",
    "Converting between time and phase depends on a few parameters\n",
    "* orbital `period`\n",
    "* `dpdt` (change in orbital period in time)\n",
    "* `t0`\n",
    "\n",
    "The value of t0 could be interpreted from several different standards, all of which are defined in the Bundle:\n",
    "* `t0_supconj`: time of superior conjunction\n",
    "* `t0_perpass`: time of periastron passage\n",
    "* `t0_ref`: time of the \"reference point\" (to adopt the usage in PHOEBE legacy)\n",
    "\n",
    "`t0_supconj`, `t0_perpass`, and `t0_ref` are all defined within the orbit (so `context='component', component='binary'` for our default binary).  By default, `t0_supconj` is the free Parameter, with `t0_perpass` and `t0_ref` being constrained by a multiple other parameters."
   ]
  },
  {
   "cell_type": "code",
   "execution_count": null,
   "metadata": {},
   "outputs": [],
   "source": [
    "b.get_parameter(qualifier='t0_supconj', context='component')"
   ]
  },
  {
   "cell_type": "code",
   "execution_count": null,
   "metadata": {},
   "outputs": [],
   "source": [
    "b.get_parameter(qualifier='t0_perpass', context='component')"
   ]
  },
  {
   "cell_type": "code",
   "execution_count": null,
   "metadata": {},
   "outputs": [],
   "source": [
    "b.get_parameter(qualifier='t0_ref', context='component')"
   ]
  },
  {
   "cell_type": "markdown",
   "metadata": {},
   "source": [
    "Just so that the period and phases aren't identical, we'll use an example with an orbital period other than the default of 1 day."
   ]
  },
  {
   "cell_type": "code",
   "execution_count": null,
   "metadata": {},
   "outputs": [],
   "source": [
    "b.set_value(qualifier='period', component='binary', value=2.5)"
   ]
  },
  {
   "cell_type": "markdown",
   "metadata": {},
   "source": [
    "We can access the current ephemeris of our system using any of these t0s or a custom-time."
   ]
  },
  {
   "cell_type": "code",
   "execution_count": null,
   "metadata": {},
   "outputs": [],
   "source": [
    "b.get_ephemeris(t0='t0_supconj')"
   ]
  },
  {
   "cell_type": "code",
   "execution_count": null,
   "metadata": {},
   "outputs": [],
   "source": [
    "b.get_ephemeris(t0='t0_perpass')"
   ]
  },
  {
   "cell_type": "code",
   "execution_count": null,
   "metadata": {},
   "outputs": [],
   "source": [
    "b.get_ephemeris(t0=5)"
   ]
  },
  {
   "cell_type": "markdown",
   "metadata": {},
   "source": [
    "Similarly, we can transform any time (float or list/array) to phase using any of these ephemerides"
   ]
  },
  {
   "cell_type": "code",
   "execution_count": null,
   "metadata": {},
   "outputs": [],
   "source": [
    "b.to_phase([0,0.1], t0='t0_supconj')"
   ]
  },
  {
   "cell_type": "code",
   "execution_count": null,
   "metadata": {},
   "outputs": [],
   "source": [
    "b.to_phase([0,0.1], t0='t0_perpass')"
   ]
  },
  {
   "cell_type": "markdown",
   "metadata": {},
   "source": [
    "We can also translate from phase to time (where the returned time will be the first instance of that phase after the provided t0)"
   ]
  },
  {
   "cell_type": "code",
   "execution_count": null,
   "metadata": {},
   "outputs": [],
   "source": [
    "b.to_time(0.5, t0='t0_supconj')"
   ]
  },
  {
   "cell_type": "code",
   "execution_count": null,
   "metadata": {},
   "outputs": [],
   "source": [
    "b.to_time(0.5, t0=2455000)"
   ]
  },
  {
   "cell_type": "markdown",
   "metadata": {},
   "source": [
    "Compute Phases\n",
    "----------------------\n",
    "\n",
    "As mentioned in the previous tutorial, datasets also have a `compute_phases` parameter, with a constraint between `compute_times` and `compute_phases`.  If you'd like to compute your model evenly in phase-space, this can be used *instead* of `compute_times`.\n",
    "\n",
    "If you have observational data in phases, you should **not** use this to convert your observational times and phases (and PHOEBE won't let you as the `times` array will be required if `fluxes` or `rvs` are provided).  Rather you should convert your observational data to times using the best information you have on the ephemeris that was originally used on the dataset to convert to phases."
   ]
  },
  {
   "cell_type": "code",
   "execution_count": null,
   "metadata": {},
   "outputs": [],
   "source": [
    "b.add_dataset('lc', compute_phases=phoebe.linspace(0,1,101), dataset='lc01')"
   ]
  },
  {
   "cell_type": "code",
   "execution_count": null,
   "metadata": {},
   "outputs": [],
   "source": [
    "print(b.filter(qualifier=['compute_times', 'compute_phases'], context='dataset'))"
   ]
  },
  {
   "cell_type": "code",
   "execution_count": null,
   "metadata": {},
   "outputs": [],
   "source": [
    "b.set_value('period', component='binary', value=3.14)"
   ]
  },
  {
   "cell_type": "code",
   "execution_count": null,
   "metadata": {},
   "outputs": [],
   "source": [
    "print(b.filter(qualifier=['compute_times', 'compute_phases'], context='dataset'))"
   ]
  },
  {
   "cell_type": "markdown",
   "metadata": {},
   "source": [
    "# Exercise"
   ]
  },
  {
   "cell_type": "markdown",
   "metadata": {},
   "source": [
    "Find and print the constraints between the various t0s."
   ]
  },
  {
   "cell_type": "code",
   "execution_count": null,
   "metadata": {},
   "outputs": [],
   "source": []
  },
  {
   "cell_type": "markdown",
   "metadata": {},
   "source": [
    "Set the orbital period of the system to something other than 1 day and `t0_supconj` to something other than 0.0.  Then add a light curve dataset such that the times sample 1-orbital period with 100 points."
   ]
  },
  {
   "cell_type": "code",
   "execution_count": null,
   "metadata": {},
   "outputs": [],
   "source": []
  }
 ],
 "metadata": {
  "kernelspec": {
   "display_name": "Python 3",
   "language": "python",
   "name": "python3"
  },
  "language_info": {
   "codemirror_mode": {
    "name": "ipython",
    "version": 3
   },
   "file_extension": ".py",
   "mimetype": "text/x-python",
   "name": "python",
   "nbconvert_exporter": "python",
   "pygments_lexer": "ipython3",
   "version": "3.8.5"
  }
 },
 "nbformat": 4,
 "nbformat_minor": 2
}
