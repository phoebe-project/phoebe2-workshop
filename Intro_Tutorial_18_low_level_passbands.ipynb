{
 "cells": [
  {
   "cell_type": "markdown",
   "metadata": {},
   "source": [
    "# Low-level passband interface"
   ]
  },
  {
   "cell_type": "markdown",
   "metadata": {},
   "source": [
    "In this short tutorial we will show you how to access low-level functions for interacting with passband tables."
   ]
  },
  {
   "cell_type": "code",
   "execution_count": 1,
   "metadata": {},
   "outputs": [],
   "source": [
    "import phoebe\n",
    "import numpy as np\n",
    "import matplotlib.pyplot as plt"
   ]
  },
  {
   "cell_type": "markdown",
   "metadata": {},
   "source": [
    "Loading passband tables can be done by either providing the passband file itself (via the `load()` method), or by providing the passband name and set delimited by the colon:"
   ]
  },
  {
   "cell_type": "code",
   "execution_count": 2,
   "metadata": {},
   "outputs": [],
   "source": [
    "pb = phoebe.get_passband('Kepler:mean')"
   ]
  },
  {
   "cell_type": "markdown",
   "metadata": {},
   "source": [
    "Once the passband is loaded, we can inspect the basic structure:"
   ]
  },
  {
   "cell_type": "code",
   "execution_count": 3,
   "metadata": {},
   "outputs": [
    {
     "name": "stdout",
     "output_type": "stream",
     "text": [
      "Passband: Kepler:mean\n",
      "Version:  1.0\n",
      "Provides: ['blackbody', 'ck2004', 'ck2004_all', 'ck2004_ld', 'ck2004_ldint', 'ck2004_ld']\n"
     ]
    }
   ],
   "source": [
    "print(pb)"
   ]
  },
  {
   "cell_type": "code",
   "execution_count": 4,
   "metadata": {},
   "outputs": [
    {
     "data": {
      "text/plain": [
       "['blackbody', 'ck2004', 'ck2004_all', 'ck2004_ld', 'ck2004_ldint', 'ck2004_ld']"
      ]
     },
     "execution_count": 4,
     "metadata": {},
     "output_type": "execute_result"
    }
   ],
   "source": [
    "pb.content"
   ]
  },
  {
   "cell_type": "markdown",
   "metadata": {},
   "source": [
    "Low-level functions exist to access the tables and interpolate the values automatically:"
   ]
  },
  {
   "cell_type": "code",
   "execution_count": 5,
   "metadata": {},
   "outputs": [
    {
     "data": {
      "text/plain": [
       "array([2.77562353e+13])"
      ]
     },
     "execution_count": 5,
     "metadata": {},
     "output_type": "execute_result"
    }
   ],
   "source": [
    "pb.Inorm(Teff=5772., logg=4.43, abun=0.0, atm='blackbody')"
   ]
  },
  {
   "cell_type": "code",
   "execution_count": 6,
   "metadata": {},
   "outputs": [
    {
     "data": {
      "text/plain": [
       "29435731358196.945"
      ]
     },
     "execution_count": 6,
     "metadata": {},
     "output_type": "execute_result"
    }
   ],
   "source": [
    "pb.Imu(Teff=5772., logg=4.43, abun=0.0, mu=1.0, atm='ck2004')"
   ]
  },
  {
   "cell_type": "code",
   "execution_count": 7,
   "metadata": {},
   "outputs": [
    {
     "data": {
      "text/plain": [
       "array([ 1.13840458, -1.91461503,  2.75369589, -1.13998395])"
      ]
     },
     "execution_count": 7,
     "metadata": {},
     "output_type": "execute_result"
    }
   ],
   "source": [
    "pb.interpolate_ldcoeffs(Teff=5772., logg=4.43, abun=0.0, ldatm='ck2004', ld_func='power')"
   ]
  },
  {
   "cell_type": "markdown",
   "metadata": {},
   "source": [
    "These functions take arrays, so we could create quick plots:"
   ]
  },
  {
   "cell_type": "code",
   "execution_count": 8,
   "metadata": {},
   "outputs": [],
   "source": [
    "teffs = phoebe.arange(3500., 6001., 250)\n",
    "loggs = np.ones_like(teffs)*4.43\n",
    "abuns = np.zeros_like(teffs)"
   ]
  },
  {
   "cell_type": "code",
   "execution_count": 9,
   "metadata": {},
   "outputs": [
    {
     "data": {
      "image/png": "[encoded data removed]",
      "text/plain": [
       "<Figure size 432x288 with 1 Axes>"
      ]
     },
     "metadata": {
      "needs_background": "light"
     },
     "output_type": "display_data"
    }
   ],
   "source": [
    "plt.xlabel('Teff [K]')\n",
    "plt.ylabel('Normal intensity [W/m^3]')\n",
    "plt.plot(teffs, pb.Inorm(teffs, loggs, abuns, atm='blackbody'), 'b-', label='blackbody')\n",
    "plt.plot(teffs, pb.Inorm(teffs, loggs, abuns, atm='ck2004'), 'r-', label='ck2004')\n",
    "plt.legend(loc='lower right')\n",
    "plt.show()"
   ]
  },
  {
   "cell_type": "markdown",
   "metadata": {},
   "source": [
    "If you are interested in the underlying structures, you can take a look at those too:"
   ]
  },
  {
   "cell_type": "code",
   "execution_count": 10,
   "metadata": {},
   "outputs": [
    {
     "data": {
      "text/plain": [
       "(array([ 3500.,  3750.,  4000.,  4250.,  4500.,  4750.,  5000.,  5250.,\n",
       "         5500.,  5750.,  6000.,  6250.,  6500.,  6750.,  7000.,  7250.,\n",
       "         7500.,  7750.,  8000.,  8250.,  8500.,  8750.,  9000.,  9250.,\n",
       "         9500.,  9750., 10000., 10250., 10500., 10750., 11000., 11250.,\n",
       "        11500., 11750., 12000., 12250., 12500., 12750., 13000., 14000.,\n",
       "        15000., 16000., 17000., 18000., 19000., 20000., 21000., 22000.,\n",
       "        23000., 24000., 25000., 26000., 27000., 28000., 29000., 30000.,\n",
       "        31000., 32000., 33000., 34000., 35000., 36000., 37000., 38000.,\n",
       "        39000., 40000., 41000., 42000., 43000., 44000., 45000., 46000.,\n",
       "        47000., 48000., 49000., 50000.]),\n",
       " array([0. , 0.5, 1. , 1.5, 2. , 2.5, 3. , 3.5, 4. , 4.5, 5. ]),\n",
       " array([-2.5, -2. , -1.5, -1. , -0.5,  0. ,  0.2,  0.5]))"
      ]
     },
     "execution_count": 10,
     "metadata": {},
     "output_type": "execute_result"
    }
   ],
   "source": [
    "pb._ck2004_axes"
   ]
  },
  {
   "cell_type": "code",
   "execution_count": 11,
   "metadata": {},
   "outputs": [
    {
     "data": {
      "text/plain": [
       "(76, 11, 8, 1)"
      ]
     },
     "execution_count": 11,
     "metadata": {},
     "output_type": "execute_result"
    }
   ],
   "source": [
    "pb._ck2004_energy_grid.shape"
   ]
  },
  {
   "cell_type": "code",
   "execution_count": 12,
   "metadata": {},
   "outputs": [
    {
     "data": {
      "text/plain": [
       "(76, 11, 8, 1)"
      ]
     },
     "execution_count": 12,
     "metadata": {},
     "output_type": "execute_result"
    }
   ],
   "source": [
    "pb._ck2004_photon_grid.shape"
   ]
  },
  {
   "cell_type": "code",
   "execution_count": 13,
   "metadata": {},
   "outputs": [
    {
     "data": {
      "text/plain": [
       "array([12.33271425, 12.47687095, 12.62188819, 12.76872069, 12.91827135,\n",
       "       13.04301443, 13.14951502, 13.24324436, 13.32692624, 13.40306574,\n",
       "       13.47380249, 13.5404639 , 13.60424941, 13.66558199, 13.72450218,\n",
       "       13.78097792, 13.83484482, 13.88597403, 13.93410152, 13.97891663,\n",
       "       14.01938593, 14.05452671, 14.08551875, 14.1134393 , 14.13902324,\n",
       "       14.16262445, 14.18452225, 14.20488911, 14.2241813 , 14.24247661,\n",
       "       14.25999041, 14.27680163, 14.2930069 , 14.3086715 , 14.32387923,\n",
       "       14.33862137, 14.3529595 , 14.36689411, 14.38045714, 14.43127314,\n",
       "       14.47754412, 14.52020153, 14.56007763, 14.59780609, 14.6337748 ,\n",
       "       14.66831003, 14.70166245, 14.73402873, 14.76554621, 14.79655696,\n",
       "       14.82688441, 14.85681068, 14.8864604 , 14.91605655, 14.94591037,\n",
       "       14.97628904, 15.00697154, 15.03729637, 15.06702372, 15.09452195,\n",
       "       15.11949025, 15.1419067 , 15.1615942 , 15.17870107, 15.19361847,\n",
       "       15.20689938, 15.21906774, 15.23051029, 15.24145021, 15.2520391 ,\n",
       "               nan, 15.27244342, 15.28232405, 15.29200926, 15.30150883,\n",
       "               nan])"
      ]
     },
     "execution_count": 13,
     "metadata": {},
     "output_type": "execute_result"
    }
   ],
   "source": [
    "pb._ck2004_photon_grid[:,9,3,0]"
   ]
  },
  {
   "cell_type": "code",
   "execution_count": 14,
   "metadata": {},
   "outputs": [
    {
     "data": {
      "image/png": "[encoded data removed]",
      "text/plain": [
       "<Figure size 432x288 with 1 Axes>"
      ]
     },
     "metadata": {
      "needs_background": "light"
     },
     "output_type": "display_data"
    }
   ],
   "source": [
    "plt.xlabel('Teff [K]')\n",
    "plt.ylabel('Normal intensity [W/m^3]')\n",
    "plt.plot(pb._ck2004_axes[0], 10**pb._ck2004_photon_grid[:,9,3,0], 'b-')\n",
    "plt.show()"
   ]
  }
 ],
 "metadata": {
  "kernelspec": {
   "display_name": "Python 3",
   "language": "python",
   "name": "python3"
  },
  "language_info": {
   "codemirror_mode": {
    "name": "ipython",
    "version": 3
   },
   "file_extension": ".py",
   "mimetype": "text/x-python",
   "name": "python",
   "nbconvert_exporter": "python",
   "pygments_lexer": "ipython3",
   "version": "3.7.3"
  }
 },
 "nbformat": 4,
 "nbformat_minor": 2
}
