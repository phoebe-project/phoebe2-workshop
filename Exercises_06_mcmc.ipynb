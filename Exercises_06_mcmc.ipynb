{
 "cells": [
  {
   "cell_type": "markdown",
   "metadata": {},
   "source": [
    "# Exercises #6: MCMC\n",
    "\n",
    "These exercises are designed to be done anytime after Tutorial #11 (MCMC).\n",
    "\n",
    "Starting with your [solution from estimators and optimizers](./Exercises_05_estimators_optimizers.ipynb), setup and submit an MCMC job to sample the local parameter space.  \n",
    "\n",
    "You will very likely need to run these jobs remotely, so make sure to set `progress_every_niters` so that you can monitor the results and kill/restart the job if necessary.  If you haven't done so already, make sure to determine if any of the expensive effects can safely be disabled (see [optimizing computations](./Tutorial_optimizing_computations.ipynb) from the first week) first so that you can get a reasonable number of iterations."
   ]
  }
 ],
 "metadata": {
  "kernelspec": {
   "display_name": "Python 3",
   "language": "python",
   "name": "python3"
  },
  "language_info": {
   "codemirror_mode": {
    "name": "ipython",
    "version": 3
   },
   "file_extension": ".py",
   "mimetype": "text/x-python",
   "name": "python",
   "nbconvert_exporter": "python",
   "pygments_lexer": "ipython3",
   "version": "3.8.5"
  }
 },
 "nbformat": 4,
 "nbformat_minor": 2
}
