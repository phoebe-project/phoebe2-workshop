{
 "cells": [
  {
   "cell_type": "markdown",
   "metadata": {},
   "source": [
    "# Exercises #6: MCMC\n",
    "\n",
    "These exercises are designed to be done anytime after Tutorial #11 (MCMC).\n",
    "\n",
    "Starting with your solution from estimators and optimizers, setup and submit and MCMC job to sample the local parameter space.  You will very likely need to run these jobs remotely, so make sure to set `progress_every_niters` so that you can monitor the results and kill/restart the job if necessary."
   ]
  }
 ],
 "metadata": {
  "kernelspec": {
   "display_name": "Python 3",
   "language": "python",
   "name": "python3"
  },
  "language_info": {
   "codemirror_mode": {
    "name": "ipython",
    "version": 3
   },
   "file_extension": ".py",
   "mimetype": "text/x-python",
   "name": "python",
   "nbconvert_exporter": "python",
   "pygments_lexer": "ipython3",
   "version": "3.8.5"
  }
 },
 "nbformat": 4,
 "nbformat_minor": 2
}
