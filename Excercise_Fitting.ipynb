{
 "cells": [
  {
   "cell_type": "code",
   "execution_count": 1,
   "metadata": {},
   "outputs": [],
   "source": [
    "import phoebe\n",
    "import numpy as np\n",
    "import matplotlib.pyplot as plt\n",
    "import emcee\n",
    "import sys\n",
    "%matplotlib inline"
   ]
  },
  {
   "cell_type": "markdown",
   "metadata": {},
   "source": [
    "In this excercise you'll get to apply emcee to fit a synthetic binary light curve generated with Phoebe."
   ]
  },
  {
   "cell_type": "markdown",
   "metadata": {},
   "source": [
    "Let's first initialize the Bundle and set all the relevant parameters to generate the synthetic light curve."
   ]
  },
  {
   "cell_type": "code",
   "execution_count": 2,
   "metadata": {},
   "outputs": [],
   "source": [
    "b = phoebe.default_binary()"
   ]
  },
  {
   "cell_type": "code",
   "execution_count": 3,
   "metadata": {},
   "outputs": [],
   "source": [
    "b['period@orbit'] = 0.5\n",
    "b['sma@orbit'] = 3.5\n",
    "b['incl@orbit'] = 83.5\n",
    "b['requiv@primary'] = 1.2\n",
    "b['requiv@secondary'] = 0.8\n",
    "b['teff@primary'] = 6500.\n",
    "b['teff@secondary'] = 5500."
   ]
  },
  {
   "cell_type": "code",
   "execution_count": 4,
   "metadata": {},
   "outputs": [
    {
     "data": {
      "text/plain": [
       "<ParameterSet: 19 parameters | contexts: dataset, compute, constraint>"
      ]
     },
     "execution_count": 4,
     "metadata": {},
     "output_type": "execute_result"
    }
   ],
   "source": [
    "b.add_dataset('lc', times=np.linspace(0, 0.5, 51))"
   ]
  },
  {
   "cell_type": "code",
   "execution_count": 5,
   "metadata": {},
   "outputs": [
    {
     "data": {
      "text/plain": [
       "<ParameterSet: 2 parameters | qualifiers: times, fluxes>"
      ]
     },
     "execution_count": 5,
     "metadata": {},
     "output_type": "execute_result"
    }
   ],
   "source": [
    "b.run_compute()"
   ]
  },
  {
   "cell_type": "code",
   "execution_count": 8,
   "metadata": {},
   "outputs": [
    {
     "data": {
      "image/png": "[encoded data removed]",
      "text/plain": [
       "<Figure size 432x288 with 1 Axes>"
      ]
     },
     "metadata": {
      "needs_background": "light"
     },
     "output_type": "display_data"
    },
    {
     "data": {
      "text/plain": [
       "(<autofig.figure.Figure | 1 axes | 1 call(s)>,\n",
       " <Figure size 432x288 with 1 Axes>)"
      ]
     },
     "execution_count": 8,
     "metadata": {},
     "output_type": "execute_result"
    }
   ],
   "source": [
    "b.plot(show=True)"
   ]
  },
  {
   "cell_type": "code",
   "execution_count": 9,
   "metadata": {},
   "outputs": [],
   "source": [
    "np.savetxt('data.lc', \n",
    "           np.vstack((b['value@times@lc01@model'], b['value@fluxes@lc01@model']+np.random.normal(0, 0.01, 51))).T)"
   ]
  },
  {
   "cell_type": "markdown",
   "metadata": {},
   "source": [
    "Now our synthetic light curve (with some added scatter) has been saved to a file 'data.lc' and can be used as our \"observed\" light curve to fit."
   ]
  },
  {
   "cell_type": "markdown",
   "metadata": {},
   "source": [
    "### Exercise"
   ]
  },
  {
   "cell_type": "markdown",
   "metadata": {},
   "source": [
    "1. Initialize a new Bundle and load the 'data.lc' file into an LC dataset. \n",
    "2. Set the values of the period, sma and primary teff as given above:\n",
    "   - period = 0.5 d\n",
    "   - sma = 3.5 solRad\n",
    "   - teff1 = 6500 K\n",
    "3. Sample the values of the inclination, equivalent radii and secondary teff following the guidelines provided in the fitting tutorial. \n",
    "\n",
    "For the purposes of this exercise, let's assume that you've used an external optimizer and already know that the values of the modeled parameters are: \n",
    "- incl ~ 83-84 deg\n",
    "- r1 ~ 1.15-1.25\n",
    "- r2 ~ 0.75 - 0.85\n",
    "- teff2 ~ 5450-5550\n",
    "\n",
    "*For better results, confine the initial distributions to the values given above. Time permitting, redo with different (narrower/broader) initial distributions and compare the results.*\n",
    "\n",
    "*Try to limit the number of walkers to <50 and number of iterations to <20 to avoid long compute times (32 walkers + 10 iterations take about 10 min to compute on a single processor).*"
   ]
  },
  {
   "cell_type": "code",
   "execution_count": null,
   "metadata": {},
   "outputs": [],
   "source": []
  }
 ],
 "metadata": {
  "kernelspec": {
   "display_name": "Python 2",
   "language": "python",
   "name": "python2"
  },
  "language_info": {
   "codemirror_mode": {
    "name": "ipython",
    "version": 3
   },
   "file_extension": ".py",
   "mimetype": "text/x-python",
   "name": "python",
   "nbconvert_exporter": "python",
   "pygments_lexer": "ipython3",
   "version": "3.6.5"
  }
 },
 "nbformat": 4,
 "nbformat_minor": 2
}
