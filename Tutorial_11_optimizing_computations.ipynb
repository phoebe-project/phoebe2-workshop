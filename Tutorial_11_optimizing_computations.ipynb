{
 "cells": [
  {
   "cell_type": "markdown",
   "metadata": {},
   "source": [
    "# Workshop Tutorial: Optimizing Computations\n",
    "\n",
    "This tutorial covers the parts of PHOEBE that are computationally the most expensive and how to minimize this cost for individual systems.\n",
    "\n",
    "This interactive workshop tutorial covers many of the same topics as the corresponding online tutorials:\n",
    "\n",
    "* [Eclipse Detection](http://phoebe-project.org/docs/2.4/tutorials/eclipse.ipynb)\n",
    "* [Eccentricity & Volume Conservation](http://phoebe-project.org/docs/2.4/tutorials/ecc.ipynb)\n",
    "* [Reflection & Heating (irrad_frac_refl_bol, irrad_frac_lost_bol, ld_func_bol, ld_coeffs_bol)](http://phoebe-project.org/docs/2.4/tutorials/reflection_heating.ipynb)\n",
    "* [Reflection & Heating: Lambert Scattering (irrad_method='horvat' vs 'wilson')](http://phoebe-project.org/docs/2.4/tutorials/irrad_method_horvat.ipynb)\n",
    "* [Detached Binary: Roche vs Rotstar](http://phoebe-project.org/docs/2.4/examples/detached_rotstar.ipynb)\n",
    "* [Rossiter-McLaughlin Effect (RVs)](http://phoebe-project.org/docs/2.4/examples/rossiter_mclaughlin.ipynb)\n",
    "* [Finite Time of Integration (LCs - exptime, fti_method, fti_oversample)](http://phoebe-project.org/docs/2.4/tutorials/fti.ipynb)\n",
    "\n",
    "In addition, see the following document on optimizing the performance of the PHOEBE frontend itself in scripts (this will _not_ affect the speed within `run_compute` or `run_solver`):\n",
    "\n",
    "* [Advanced: Optimizing Performance with PHOEBE](http://phoebe-project.org/docs/2.4/tutorials/optimizing.ipynb)"
   ]
  },
  {
   "cell_type": "markdown",
   "metadata": {},
   "source": [
    "# Setup\n",
    "\n",
    "As usual, we start with the imports, logger setup, and default binary initialization:"
   ]
  },
  {
   "cell_type": "code",
   "execution_count": 1,
   "metadata": {},
   "outputs": [
    {
     "name": "stderr",
     "output_type": "stream",
     "text": [
      "Thu, 09 Jun 2022 15:35 BUNDLE       WARNING importing from an older version (2.4) of PHOEBE to PHOEBE 2.4.  This may take some time.  Please check all values.\n"
     ]
    }
   ],
   "source": [
    "import phoebe\n",
    "from phoebe import u, c\n",
    "logger = phoebe.logger(clevel='WARNING')\n",
    "b = phoebe.default_binary()"
   ]
  },
  {
   "cell_type": "markdown",
   "metadata": {},
   "source": [
    "Next, we add two datasets: a light curve and a radial velocity curve:"
   ]
  },
  {
   "cell_type": "code",
   "execution_count": 2,
   "metadata": {},
   "outputs": [
    {
     "data": {
      "text/plain": [
       "<ParameterSet: 83 parameters | contexts: compute, dataset, constraint, figure>"
      ]
     },
     "execution_count": 2,
     "metadata": {},
     "output_type": "execute_result"
    }
   ],
   "source": [
    "b.add_dataset('lc', compute_times=phoebe.linspace(0, 1, 101))\n",
    "b.add_dataset('rv', compute_times=phoebe.linspace(0, 1, 26))"
   ]
  },
  {
   "cell_type": "markdown",
   "metadata": {},
   "source": [
    "# Compute Times/Phases\n",
    "\n",
    "With the exception of dynamics (dynamical RVs and orbits), PHOEBE computations scale with the number of data points (roughly linearly after some up-front costs).  As discussed in previous tutorials (see [Tutorial: Datasets](./Tutorial_03_datasets.ipynb) and [Tutorial: Time and Phase](./Tutorial_05_time_and_phase.ipynb)), the model can be computed at different times than the input observations.  \n",
    "\n",
    "For systems without time-dependence (no apsidal motion, etc), it can therefore be quite advantageous to compute the forward model sampled in phase-space and interpolate when comparing to the observations (PHOEBE will handle this interpolation for you).  Just check to make sure that you sample sufficiently in phase that the linear interpolation won't introduce any systematics."
   ]
  },
  {
   "cell_type": "markdown",
   "metadata": {},
   "source": [
    "# Number of Triangles\n",
    "\n",
    "Similarly, the expense of building meshes scales with the number of triangles (and so does the expense of irradiation which we return to later).  The default number of triangles in PHOEBE is quite low, for this reason.  However, an insufficient number of triangles can result in numerical noise both on the horizon and during the eclipse.  In some cases, it may be worth some extra up-front effort to determine the (approximate) minimum number of triangles needed to achieve the minimum signal-to-noise ration suitable for the data."
   ]
  },
  {
   "cell_type": "markdown",
   "metadata": {},
   "source": [
    "# Eclipse Detection\n",
    "\n",
    "For more details, see [Eclipse Detection](http://phoebe-project.org/docs/2.4/tutorials/eclipse.ipynb).\n",
    "\n",
    "By default, at each time point, PHOEBE will check to see if the maximum radius of all meshes would cause an eclipse in the sky projection.  If so, the complete eclipse algorithm is called to determine the visibility of each triangle, and if not, triangles are only checked to determine if facing towards or away from the observer (horizon detection).  In cases where you _know_ eclipses will never occur (ellipsoidal variables, for example), this can be optimized slightly by telling PHOEBE to skip this check and only use horizon detection. "
   ]
  },
  {
   "cell_type": "code",
   "execution_count": 5,
   "metadata": {},
   "outputs": [
    {
     "name": "stdout",
     "output_type": "stream",
     "text": [
      "Parameter: eclipse_method@phoebe01@compute\n",
      "                       Qualifier: eclipse_method\n",
      "                     Description: Type of eclipse algorithm\n",
      "                           Value: native\n",
      "                         Choices: native, only_horizon\n",
      "                  Constrained by: \n",
      "                      Constrains: None\n",
      "                      Related to: None\n",
      "\n"
     ]
    }
   ],
   "source": [
    "print(b.get_parameter(qualifier='eclipse_method'))"
   ]
  },
  {
   "cell_type": "markdown",
   "metadata": {},
   "source": [
    "# Eccentricity\n",
    "\n",
    "For more details, see [Eccentricity & Volume Conservation](http://phoebe-project.org/docs/2.4/tutorials/ecc.ipynb).\n",
    "\n",
    "Eccentricity on its own does not add significant expense - however, it does when in combination with irradiation or distorted stars (both of which are enabled by default).  Whenever an orbit has a non-zero eccentricity, the stars must be re-meshed at each time point and irradiation must be re-computed.\n",
    "\n",
    "Although it is usually a good idea to at least marginalize over eccentricity for the final parameter uncertainties (more on this in the second week), if a system can be assumed to be circular or shows no signs of significant eccentricity, setting the eccentricity to be exactly zero can minimize costs significantly."
   ]
  },
  {
   "cell_type": "code",
   "execution_count": 6,
   "metadata": {},
   "outputs": [
    {
     "name": "stdout",
     "output_type": "stream",
     "text": [
      "Parameter: ecc@binary@component\n",
      "                       Qualifier: ecc\n",
      "                     Description: Eccentricity\n",
      "                           Value: 0.0\n",
      "                  Constrained by: \n",
      "                      Constrains: t0_perpass@binary@component, t0_ref@binary@component, ecosw@binary@component, esinw@binary@component, requiv_max@primary@component, requiv_max@secondary@component\n",
      "                      Related to: t0_supconj@binary@component, period@binary@component, per0@binary@component, dpdt@binary@component, dperdt@binary@component, t0@system, t0_perpass@binary@component, t0_ref@binary@component, ecosw@binary@component, esinw@binary@component, q@binary@component, syncpar@primary@component, sma@binary@component, incl@primary@component, long_an@primary@component, incl@binary@component, long_an@binary@component, requiv_max@primary@component, syncpar@secondary@component, incl@secondary@component, long_an@secondary@component, requiv_max@secondary@component\n",
      "\n"
     ]
    }
   ],
   "source": [
    "print(b.get_parameter(qualifier='ecc'))"
   ]
  },
  {
   "cell_type": "markdown",
   "metadata": {},
   "source": [
    "# Reflection & Heating (irrad_method)\n",
    "\n",
    "For more details, see [Reflection & Heating (irrad_frac_refl_bol, irrad_frac_lost_bol, ld_func_bol, ld_coeffs_bol)](http://phoebe-project.org/docs/2.4/tutorials/reflection_heating.ipynb) and [Reflection & Heating: Lambert Scattering (irrad_method='horvat' vs 'wilson')](http://phoebe-project.org/docs/2.4/tutorials/irrad_method_horvat.ipynb).\n",
    "\n",
    "In addition to meshing and eclipse detection, irradiation is the next most common culprit in computation expense. In cases where irradiation can safely be ignored, it can be disabled entirely by setting `irrad_method='none'`.  This will only result in marginal gains for circular synchronous systems, but can result in significant savings for eccentric and/or asynchronous systems."
   ]
  },
  {
   "cell_type": "code",
   "execution_count": 7,
   "metadata": {},
   "outputs": [
    {
     "name": "stdout",
     "output_type": "stream",
     "text": [
      "Parameter: irrad_method@phoebe01@compute\n",
      "                       Qualifier: irrad_method\n",
      "                     Description: Which method to use to handle all irradiation effects (reflection, redistribution)\n",
      "                           Value: horvat\n",
      "                         Choices: none, wilson, horvat\n",
      "                  Constrained by: \n",
      "                      Constrains: None\n",
      "                      Related to: None\n",
      "\n"
     ]
    }
   ],
   "source": [
    "print(b.get_parameter(qualifier='irrad_method'))"
   ]
  },
  {
   "cell_type": "markdown",
   "metadata": {},
   "source": [
    "# Stellar Distortion (distortion_method)\n",
    "\n",
    "For more details, see [Detached Binary: Roche vs Rotstar](http://phoebe-project.org/docs/2.4/examples/detached_rotstar.ipynb)\n",
    "\n",
    "In cases where stellar distortion is negligible, stars can be meshed with either a rotating star or spherical star equipotential in place of the full roche treatment.  Similarly to irradiation, this can result in significant savings for eccentric systems as otherwise the instantaneous equipotential needs to be determined at each time point to conserve volume and the stars need to be re-meshed.\n",
    "\n",
    "Note: there is a `distortion_method` parameter per-component."
   ]
  },
  {
   "cell_type": "code",
   "execution_count": 8,
   "metadata": {},
   "outputs": [
    {
     "name": "stdout",
     "output_type": "stream",
     "text": [
      "Parameter: distortion_method@primary@phoebe01@compute\n",
      "                       Qualifier: distortion_method\n",
      "                     Description: Method to use for distorting stars\n",
      "                           Value: roche\n",
      "                         Choices: roche, rotstar, sphere, none\n",
      "                  Constrained by: \n",
      "                      Constrains: None\n",
      "                      Related to: None\n",
      "                 Only visible if: mesh_method:marching,hierarchy.is_meshable:true\n",
      "\n"
     ]
    }
   ],
   "source": [
    "print(b.get_parameter(qualifier='distortion_method', component='primary'))"
   ]
  },
  {
   "cell_type": "markdown",
   "metadata": {},
   "source": [
    "# Dynamical RVs\n",
    "\n",
    "For more details, see [Rossiter-McLaughlin Effect (RVs)](http://phoebe-project.org/docs/2.4/examples/rossiter_mclaughlin.ipynb).\n",
    "\n",
    "By default, PHOEBE will compute RVs by populating velocities at each surface element and doing an intensity-weighted average over the visible elements.  This allows for Rossiter-McLaughlin effect to be synthesized.  However, in cases where Rossiter-McLaughlin is not important, dynamical RVs can be used instead which use the center of mass velocities.\n",
    "\n",
    "If the mesh is already being created and populated for an LC _at the same time_, then flux-weighted RVs do not add significant additional overhead.\n",
    "\n",
    "Note: there is an `rv_method` parameter per-component.  However, as the mesh will need to be populated if any are set to flux-weighted, little is to be gained from an optimization perspective by not setting all to 'dynamical'."
   ]
  },
  {
   "cell_type": "code",
   "execution_count": 9,
   "metadata": {},
   "outputs": [
    {
     "name": "stdout",
     "output_type": "stream",
     "text": [
      "Parameter: rv_method@primary@phoebe01@compute\n",
      "                       Qualifier: rv_method\n",
      "                     Description: Method to use for computing RVs (must be flux-weighted for Rossiter-McLaughlin effects)\n",
      "                           Value: flux-weighted\n",
      "                         Choices: flux-weighted, dynamical\n",
      "                  Constrained by: \n",
      "                      Constrains: None\n",
      "                      Related to: None\n",
      "\n"
     ]
    }
   ],
   "source": [
    "print(b.get_parameter(qualifier='rv_method', component='primary'))"
   ]
  },
  {
   "cell_type": "markdown",
   "metadata": {},
   "source": [
    "# Integration Time\n",
    "\n",
    "For more details, see [Finite Time of Integration (LCs - exptime, fti_method, fti_oversample)](http://phoebe-project.org/docs/2.4/tutorials/fti.ipynb)\n",
    "\n",
    "Although we have not discussed this during the workshop, PHOEBE allows for oversampling each synthetic time over the observational exposure time (where the number of samples that will be averaged is provided in `fti_oversample`).\n",
    "\n",
    "If the exposure time is short relative to the orbital period, accounting for this in the synthetic model will have very little affect on the model light curves and likely is not worth the increased expense (which will scale linearly with `fti_oversample`).\n",
    "\n",
    "Note that oversampling will only occur if the `exptime` is set in the dataset.\n",
    "\n"
   ]
  },
  {
   "cell_type": "code",
   "execution_count": 10,
   "metadata": {},
   "outputs": [
    {
     "name": "stdout",
     "output_type": "stream",
     "text": [
      "Parameter: fti_method@phoebe01@compute\n",
      "                       Qualifier: fti_method\n",
      "                     Description: How to handle finite-time integration (when non-zero exptime)\n",
      "                           Value: none\n",
      "                         Choices: none, oversample\n",
      "                  Constrained by: \n",
      "                      Constrains: None\n",
      "                      Related to: None\n",
      "\n"
     ]
    }
   ],
   "source": [
    "print(b.get_parameter(qualifier='fti_method'))"
   ]
  },
  {
   "cell_type": "code",
   "execution_count": 11,
   "metadata": {},
   "outputs": [],
   "source": [
    "b.set_value(qualifier='fti_method', value='oversample')"
   ]
  },
  {
   "cell_type": "code",
   "execution_count": 12,
   "metadata": {},
   "outputs": [
    {
     "name": "stdout",
     "output_type": "stream",
     "text": [
      "Parameter: fti_oversample@phoebe01@compute\n",
      "                       Qualifier: fti_oversample\n",
      "                     Description: Number of times to sample per-datapoint for finite-time integration\n",
      "                           Value: 5\n",
      "                  Constrained by: \n",
      "                      Constrains: None\n",
      "                      Related to: None\n",
      "                 Only visible if: fti_method:oversample\n",
      "\n"
     ]
    }
   ],
   "source": [
    "print(b.get_parameter(qualifier='fti_oversample'))"
   ]
  },
  {
   "cell_type": "markdown",
   "metadata": {},
   "source": [
    "# Determining Safe Approximations\n",
    "\n",
    "In order to set any of these approximations, we first want to make sure that the influence of that choice will have no detrimental impact on the resulting model.  In any real case, there will be some impact, of course.  But we can compute forward models both with and without the effect and compare the magnitude of the difference to either the amplitude of the signal or of the observational uncertainties."
   ]
  },
  {
   "cell_type": "code",
   "execution_count": 13,
   "metadata": {},
   "outputs": [
    {
     "name": "stderr",
     "output_type": "stream",
     "text": [
      "100%|██████████| 101/101 [00:01<00:00, 54.60it/s]\n"
     ]
    },
    {
     "data": {
      "text/plain": [
       "<ParameterSet: 7 parameters | kinds: lc, rv>"
      ]
     },
     "execution_count": 13,
     "metadata": {},
     "output_type": "execute_result"
    }
   ],
   "source": [
    "b.run_compute(model='full')"
   ]
  },
  {
   "cell_type": "code",
   "execution_count": 14,
   "metadata": {},
   "outputs": [
    {
     "name": "stderr",
     "output_type": "stream",
     "text": [
      "100%|██████████| 101/101 [00:01<00:00, 57.11it/s]\n"
     ]
    },
    {
     "data": {
      "text/plain": [
       "<ParameterSet: 7 parameters | kinds: lc, rv>"
      ]
     },
     "execution_count": 14,
     "metadata": {},
     "output_type": "execute_result"
    }
   ],
   "source": [
    "b.run_compute(irrad_method='none', model='irrad_off')"
   ]
  },
  {
   "cell_type": "code",
   "execution_count": 15,
   "metadata": {},
   "outputs": [
    {
     "name": "stderr",
     "output_type": "stream",
     "text": [
      "100%|██████████| 101/101 [00:03<00:00, 27.60it/s]\n"
     ]
    },
    {
     "data": {
      "text/plain": [
       "<ParameterSet: 7 parameters | kinds: lc, rv>"
      ]
     },
     "execution_count": 15,
     "metadata": {},
     "output_type": "execute_result"
    }
   ],
   "source": [
    "b.run_compute(distortion_method='sphere', model='distortion_off')"
   ]
  },
  {
   "cell_type": "code",
   "execution_count": 16,
   "metadata": {},
   "outputs": [
    {
     "data": {
      "image/png": "[encoded data removed]",
      "text/plain": [
       "<Figure size 576x432 with 1 Axes>"
      ]
     },
     "metadata": {
      "needs_background": "light"
     },
     "output_type": "display_data"
    }
   ],
   "source": [
    "_ = b.plot(kind='lc', legend=True, show=True)"
   ]
  },
  {
   "cell_type": "markdown",
   "metadata": {},
   "source": [
    "Currently there is no built-in ability to compare two models quantitatively, and there are many different ways you might imagine doing this (relative to the amplitude of the eclipse signal, relative to the uncertainties in observations, etc), but here we'll just quickly plot the relative residuals and check the maximum relative differences."
   ]
  },
  {
   "cell_type": "code",
   "execution_count": 17,
   "metadata": {},
   "outputs": [],
   "source": [
    "import numpy as np\n",
    "import matplotlib.pyplot as plt\n",
    "\n",
    "times = b.get_value('times', dataset='lc01', model='full')\n",
    "fluxes_full = b.get_value('fluxes', model='full')\n",
    "fluxes_irrad_off = b.get_value('fluxes', model='irrad_off')\n",
    "fluxes_distortion_off = b.get_value('fluxes', model='distortion_off')\n",
    "\n",
    "fluxes_irrad_rel = (fluxes_irrad_off - fluxes_full)/fluxes_full\n",
    "fluxes_distortion_rel = (fluxes_distortion_off - fluxes_full)/fluxes_full"
   ]
  },
  {
   "cell_type": "code",
   "execution_count": 18,
   "metadata": {},
   "outputs": [
    {
     "data": {
      "image/png": "[encoded data removed]",
      "text/plain": [
       "<Figure size 432x288 with 1 Axes>"
      ]
     },
     "metadata": {
      "needs_background": "light"
     },
     "output_type": "display_data"
    }
   ],
   "source": [
    "_ = plt.plot(times, fluxes_irrad_rel, 'r.')\n",
    "_ = plt.plot(times, fluxes_distortion_rel, 'b.')"
   ]
  },
  {
   "cell_type": "code",
   "execution_count": 19,
   "metadata": {},
   "outputs": [
    {
     "data": {
      "text/plain": [
       "0.00906021771392527"
      ]
     },
     "execution_count": 19,
     "metadata": {},
     "output_type": "execute_result"
    }
   ],
   "source": [
    "np.max(abs(fluxes_irrad_rel))"
   ]
  },
  {
   "cell_type": "markdown",
   "metadata": {},
   "source": [
    "**IMPORTANT**: if you're fitting a system and applying any of these approximations, it is important to check the validity throughout the process (and particularly on the final solution - and then of course be transparent in any publications).  "
   ]
  },
  {
   "cell_type": "markdown",
   "metadata": {},
   "source": [
    "# Exercise\n",
    "\n",
    "Take any of the systems you've built and determine which (if any) expensive effects can safely be ignored."
   ]
  },
  {
   "cell_type": "code",
   "execution_count": null,
   "metadata": {},
   "outputs": [],
   "source": []
  }
 ],
 "metadata": {
  "interpreter": {
   "hash": "d03c2550f08e22a77817d932fec0f3802e1fd2540a98dc1f7ee55437152ec9e1"
  },
  "kernelspec": {
   "display_name": "Python 3.10.4 ('phoebe-dev')",
   "language": "python",
   "name": "python3"
  },
  "language_info": {
   "codemirror_mode": {
    "name": "ipython",
    "version": 3
   },
   "file_extension": ".py",
   "mimetype": "text/x-python",
   "name": "python",
   "nbconvert_exporter": "python",
   "pygments_lexer": "ipython3",
   "version": "3.10.4"
  }
 },
 "nbformat": 4,
 "nbformat_minor": 2
}
