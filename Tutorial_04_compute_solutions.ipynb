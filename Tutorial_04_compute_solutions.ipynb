{
 "cells": [
  {
   "cell_type": "markdown",
   "metadata": {},
   "source": [
    "# Workshop Tutorial Example Solutions: Compute (Creating the Forward Model)\n",
    "\n",
    "These are just an example of the many possible solutions to the exercises in [Workshop Tutorial: Compute (Creating the Forward Model](./Tutorial_04_compute.ipynb)"
   ]
  },
  {
   "cell_type": "code",
   "execution_count": 1,
   "metadata": {},
   "outputs": [
    {
     "data": {
      "text/plain": [
       "<ParameterSet: 81 parameters | contexts: figure, constraint, compute, dataset>"
      ]
     },
     "execution_count": 1,
     "metadata": {},
     "output_type": "execute_result"
    }
   ],
   "source": [
    "import phoebe\n",
    "b = phoebe.default_binary()\n",
    "\n",
    "b.add_dataset('lc', compute_times=phoebe.linspace(0,1,51), dataset='lc01')\n",
    "b.add_dataset('rv', compute_times=phoebe.linspace(0,1,21), dataset='rv01')"
   ]
  },
  {
   "cell_type": "markdown",
   "metadata": {},
   "source": [
    "**Add another set of compute options (called, say, 'robust') and set whatever values you think might be necessary.  Run a model and see how much longer it takes to run.**"
   ]
  },
  {
   "cell_type": "code",
   "execution_count": 2,
   "metadata": {},
   "outputs": [
    {
     "data": {
      "text/plain": [
       "<ParameterSet: 40 parameters | datasets: rv01, lc01, _default>"
      ]
     },
     "execution_count": 2,
     "metadata": {},
     "output_type": "execute_result"
    }
   ],
   "source": [
    "b.add_compute(compute='robust')"
   ]
  },
  {
   "cell_type": "code",
   "execution_count": 3,
   "metadata": {},
   "outputs": [
    {
     "name": "stdout",
     "output_type": "stream",
     "text": [
      "ParameterSet: 24 parameters\n",
      "       sample_from@robust@compute: []\n",
      "          comments@robust@compute: \n",
      "        use_server@robust@compute: none\n",
      "   dynamics_method@robust@compute: keplerian\n",
      "              ltte@robust@compute: False\n",
      "      irrad_method@robust@compute: horvat\n",
      "   boosting_method@robust@compute: none\n",
      "    eclipse_method@robust@compute: native\n",
      "    horizon_method@robust@compute: boolean\n",
      "      enabled@lc01@robust@compute: True\n",
      "      enabled@rv01@robust@compute: True\n",
      "   mesh_method@primary@robust@...: marching\n",
      "   mesh_method@secondary@robus...: marching\n",
      "   ntriangles@primary@robust@c...: 1500\n",
      "   ntriangles@secondary@robust...: 1500\n",
      "   distortion_method@primary@r...: roche\n",
      "   distortion_method@secondary...: roche\n",
      "       atm@primary@robust@compute: ck2004\n",
      "     atm@secondary@robust@compute: ck2004\n",
      "        fti_method@robust@compute: none\n",
      "   rv_method@primary@robust@co...: flux-weighted\n",
      "   rv_method@secondary@robust@...: flux-weighted\n",
      "   rv_grav@primary@robust@compute: False\n",
      "   rv_grav@secondary@robust@co...: False\n"
     ]
    }
   ],
   "source": [
    "print(b.filter(compute='robust'))"
   ]
  },
  {
   "cell_type": "code",
   "execution_count": 4,
   "metadata": {},
   "outputs": [],
   "source": [
    "b.set_value('ltte', compute='robust', value=True)\n",
    "b.set_value_all('ntriangles', compute='robust', value=10000)"
   ]
  },
  {
   "cell_type": "code",
   "execution_count": 5,
   "metadata": {},
   "outputs": [
    {
     "name": "stdout",
     "output_type": "stream",
     "text": [
      "['phoebe01', 'robust']\n"
     ]
    }
   ],
   "source": [
    "print(b.computes)"
   ]
  },
  {
   "cell_type": "code",
   "execution_count": 6,
   "metadata": {},
   "outputs": [
    {
     "name": "stderr",
     "output_type": "stream",
     "text": [
      "100%|██████████| 63/63 [00:01<00:00, 60.59it/s]\n"
     ]
    },
    {
     "data": {
      "text/plain": [
       "<ParameterSet: 7 parameters | kinds: rv, lc>"
      ]
     },
     "execution_count": 6,
     "metadata": {},
     "output_type": "execute_result"
    }
   ],
   "source": [
    "b.run_compute(compute='phoebe01', model='default_options')"
   ]
  },
  {
   "cell_type": "code",
   "execution_count": 7,
   "metadata": {},
   "outputs": [
    {
     "name": "stderr",
     "output_type": "stream",
     "text": [
      "100%|██████████| 63/63 [00:09<00:00,  6.48it/s]\n"
     ]
    },
    {
     "data": {
      "text/plain": [
       "<ParameterSet: 7 parameters | kinds: rv, lc>"
      ]
     },
     "execution_count": 7,
     "metadata": {},
     "output_type": "execute_result"
    }
   ],
   "source": [
    "b.run_compute(compute='robust', model='custom_options')"
   ]
  },
  {
   "cell_type": "markdown",
   "metadata": {},
   "source": [
    "(note the iterations per-second from the progressbar!)"
   ]
  }
 ],
 "metadata": {
  "kernelspec": {
   "display_name": "Python 3",
   "language": "python",
   "name": "python3"
  },
  "language_info": {
   "codemirror_mode": {
    "name": "ipython",
    "version": 3
   },
   "file_extension": ".py",
   "mimetype": "text/x-python",
   "name": "python",
   "nbconvert_exporter": "python",
   "pygments_lexer": "ipython3",
   "version": "3.8.5"
  }
 },
 "nbformat": 4,
 "nbformat_minor": 2
}
