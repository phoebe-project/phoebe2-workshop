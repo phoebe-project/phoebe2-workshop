{
 "cells": [
  {
   "cell_type": "markdown",
   "metadata": {},
   "source": [
    "# Exercises #7: Getting Posteriors\n",
    "\n",
    "Using the results from you [MCMC run](./Exercises_06_mcmc.ipynb), process the results from MCMC into posteriors and parameter uncertainties.\n",
    "\n",
    "Make sure to check for convergence, set `burnin` and `thin` appropriately, and try propagating to parameters not included in sampling (i.e. masses)."
   ]
  }
 ],
 "metadata": {
  "kernelspec": {
   "display_name": "Python 3",
   "language": "python",
   "name": "python3"
  },
  "language_info": {
   "codemirror_mode": {
    "name": "ipython",
    "version": 3
   },
   "file_extension": ".py",
   "mimetype": "text/x-python",
   "name": "python",
   "nbconvert_exporter": "python",
   "pygments_lexer": "ipython3",
   "version": "3.8.5"
  }
 },
 "nbformat": 4,
 "nbformat_minor": 2
}
