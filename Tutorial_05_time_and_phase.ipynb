{
 "cells": [
  {
   "attachments": {},
   "cell_type": "markdown",
   "metadata": {},
   "source": [
    "# Workshop Tutorial: Computing in Time or Phase\n",
    "\n",
    "This tutorial covers the concepts of time and phase, and transforming between the two quantities.\n",
    "\n",
    "This interactive workshop tutorial covers many of the same topics as the corresponding online tutorials:\n",
    "\n",
    "* [Advanced: Compute Times & Phases](http://phoebe-project.org/docs/2.4/tutorials/compute_times_phases.ipynb)\n",
    "* [Apsidal motion (dperdt, period vs period_anom)](http://phoebe-project.org/docs/2.4/tutorials/apsidal_motion)"
   ]
  },
  {
   "attachments": {},
   "cell_type": "markdown",
   "metadata": {},
   "source": [
    "# Setup\n",
    "\n",
    "We start with the usual imports, defining the logging level, and instantiating a default binary star bundle."
   ]
  },
  {
   "cell_type": "code",
   "execution_count": 1,
   "metadata": {},
   "outputs": [],
   "source": [
    "import phoebe\n",
    "from phoebe import u, c\n",
    "logger = phoebe.logger(clevel='WARNING')\n",
    "b = phoebe.default_binary()"
   ]
  },
  {
   "attachments": {},
   "cell_type": "markdown",
   "metadata": {},
   "source": [
    "# Reference time"
   ]
  },
  {
   "attachments": {},
   "cell_type": "markdown",
   "metadata": {},
   "source": [
    "You may have noticed while adding datasets that PHOEBE works entirely in time space. This is done to allow proper parametrization of time-dependent quantities in the system but can cause difficulties if our data are given in phase-space or if we wanted to inspect a phased light curve. For this reason, PHOEBE provides several methods to help translate between the time space and phase space.\n",
    "\n",
    "Converting between time and phase depends on a few parameters:\n",
    "\n",
    "* `period` (orbital period of the binary at time `t0`)\n",
    "* `dpdt` (change in orbital period in time)\n",
    "* `t0` (reference time-point)\n",
    "\n",
    "The value of `t0` can follow several conventions, all of which are defined in the bundle:\n",
    "\n",
    "* `t0_supconj`: time of superior conjunction\n",
    "* `t0_perpass`: time of periastron passage\n",
    "* `t0_ref`: time of the reference point w.r.t. the sky (useful for apsidal motion)\n",
    "\n",
    "The `t0_supconj`, `t0_perpass`, and `t0_ref` parameters are defined at the orbit level rather than system level.  By default, `t0_supconj` is the free parameter, with `t0_perpass` and `t0_ref` being constrained:"
   ]
  },
  {
   "cell_type": "code",
   "execution_count": 7,
   "metadata": {},
   "outputs": [
    {
     "name": "stdout",
     "output_type": "stream",
     "text": [
      "ParameterSet: 6 parameters\n",
      "                        t0@system: 0.0 d\n",
      "C     t0_perpass@binary@component: -0.25 d\n",
      "      t0_supconj@binary@component: 0.0 d\n",
      "C         t0_ref@binary@component: 0.0 d\n",
      "            t0_perpass@constraint: t0_supconj_to_perpass({t0_supconj@binary@component}, {period@binary@component}, {ecc@binary@component}, {per0@binary@component}, {dpdt@binary@component}, {dperdt@binary@component}, {t0@system})\n",
      "                t0_ref@constraint: t0_supconj_to_ref({t0_supconj@binary@component}, {period@binary@component}, {ecc@binary@component}, {per0@binary@component}, {dpdt@binary@component}, {dperdt@binary@component}, {t0@system})\n"
     ]
    }
   ],
   "source": [
    "print(b.filter(qualifier='t0*'))"
   ]
  },
  {
   "attachments": {},
   "cell_type": "markdown",
   "metadata": {},
   "source": [
    "For eclipsing systems, `t0_supconj` is the handy choice because the ephemerides typically provide the time of deepest minimum as the reference point, i.e. the time of superior conjunction. For non-eclipsing systems, most frequently in astrometric solutions, orbital elements provide the periastron passage time as the reference point, so in those cases we would benefit from `t0_perpass` being independent and `t0_supconj` to be constrained. Finally, for systems with eccentric orbits and apsidal motion (`dperdt` != 0), `t0_ref` defines the reference point with respect to a fixed point in the sky rather than the orbit.\n",
    "\n",
    "Note that, when `dperdt` != 0, the role of the orbital period also becomes ambiguous: one full revolution w.r.t. orbit (the sidereal period) is different from one full revolution w.r.t. the background stars (the anomalistic period). In particular, when `dperdt`==0:"
   ]
  },
  {
   "cell_type": "code",
   "execution_count": 8,
   "metadata": {},
   "outputs": [
    {
     "name": "stdout",
     "output_type": "stream",
     "text": [
      "ParameterSet: 5 parameters\n",
      "C        period@primary@component: 1.0 d\n",
      "C      period@secondary@component: 1.0 d\n",
      "          period@binary@component: 1.0 d\n",
      "        period@primary@constraint: {period@binary@component} / {syncpar@primary@component}\n",
      "      period@secondary@constraint: {period@binary@component} / {syncpar@secondary@component}\n"
     ]
    }
   ],
   "source": [
    "print(b.filter(qualifier='period*'))"
   ]
  },
  {
   "attachments": {},
   "cell_type": "markdown",
   "metadata": {},
   "source": [
    "Here we see that there is only one period, _sidereal_; but if we introduce apsidal motion:"
   ]
  },
  {
   "cell_type": "code",
   "execution_count": 15,
   "metadata": {},
   "outputs": [
    {
     "name": "stdout",
     "output_type": "stream",
     "text": [
      "ParameterSet: 7 parameters\n",
      "C        period@primary@component: 1.0 d\n",
      "C      period@secondary@component: 1.0 d\n",
      "          period@binary@component: 1.0 d\n",
      "C    period_anom@binary@component: 1.0027855153203342 d\n",
      "           period_anom@constraint: {period@binary@component} / ((((-1.000000 * {period@binary@component}) * {dperdt@binary@component}) / 6.283185307179586231995926937088) + 1.000000000000000000000000000000)\n",
      "        period@primary@constraint: {period@binary@component} / {syncpar@primary@component}\n",
      "      period@secondary@constraint: {period@binary@component} / {syncpar@secondary@component}\n"
     ]
    }
   ],
   "source": [
    "b.set_value(qualifier='dperdt', component='binary', value=(1, 'deg/day'))\n",
    "print(b.filter(qualifier='period*'))"
   ]
  },
  {
   "attachments": {},
   "cell_type": "markdown",
   "metadata": {},
   "source": [
    "Now the distinction between the sidereal and anomalistic orbital periods is important and the anomalistic period, `period_anom`, is now an exposed parameter. By default it is constrained, and the sidereal period is used as a free parameter."
   ]
  },
  {
   "attachments": {},
   "cell_type": "markdown",
   "metadata": {},
   "source": [
    "# Phase-folding\n",
    "\n",
    "For demonstration purposes let us change the orbital period so that the times and phases are not identical:"
   ]
  },
  {
   "cell_type": "code",
   "execution_count": 16,
   "metadata": {},
   "outputs": [],
   "source": [
    "b.set_value(qualifier='period', component='binary', value=2.5)"
   ]
  },
  {
   "attachments": {},
   "cell_type": "markdown",
   "metadata": {},
   "source": [
    "The first helper method related to times and phases is `get_ephemeris()`. We can access the current ephemeris of our system using any of the predefined `t0`s, or any custom time:"
   ]
  },
  {
   "cell_type": "code",
   "execution_count": 17,
   "metadata": {},
   "outputs": [
    {
     "data": {
      "text/plain": [
       "{'period': 2.5, 't0': 0.0, 'dpdt': 0.0}"
      ]
     },
     "execution_count": 17,
     "metadata": {},
     "output_type": "execute_result"
    }
   ],
   "source": [
    "b.get_ephemeris(t0='t0_supconj')"
   ]
  },
  {
   "cell_type": "code",
   "execution_count": 18,
   "metadata": {},
   "outputs": [
    {
     "data": {
      "text/plain": [
       "{'period': 2.5, 't0': -0.625, 'dpdt': 0.0}"
      ]
     },
     "execution_count": 18,
     "metadata": {},
     "output_type": "execute_result"
    }
   ],
   "source": [
    "b.get_ephemeris(t0='t0_perpass')"
   ]
  },
  {
   "cell_type": "code",
   "execution_count": 19,
   "metadata": {},
   "outputs": [
    {
     "data": {
      "text/plain": [
       "{'period': 2.5, 't0': 5, 'dpdt': 0.0}"
      ]
     },
     "execution_count": 19,
     "metadata": {},
     "output_type": "execute_result"
    }
   ],
   "source": [
    "b.get_ephemeris(t0=5)"
   ]
  },
  {
   "attachments": {},
   "cell_type": "markdown",
   "metadata": {},
   "source": [
    "The next helper method is `to_phase()`. It transforms any time (float or list/array) to phase using any of these ephemerides:"
   ]
  },
  {
   "cell_type": "code",
   "execution_count": 20,
   "metadata": {},
   "outputs": [
    {
     "data": {
      "text/plain": [
       "array([0.  , 0.04])"
      ]
     },
     "execution_count": 20,
     "metadata": {},
     "output_type": "execute_result"
    }
   ],
   "source": [
    "b.to_phase([0, 0.1], t0='t0_supconj')"
   ]
  },
  {
   "cell_type": "code",
   "execution_count": 21,
   "metadata": {},
   "outputs": [
    {
     "data": {
      "text/plain": [
       "array([0.25, 0.29])"
      ]
     },
     "execution_count": 21,
     "metadata": {},
     "output_type": "execute_result"
    }
   ],
   "source": [
    "b.to_phase([0, 0.1], t0='t0_perpass')"
   ]
  },
  {
   "attachments": {},
   "cell_type": "markdown",
   "metadata": {},
   "source": [
    "Finally, there is a `to_time()` method. It converts phases to times (where the returned time will be the first instance of that phase after the provided `t0`):"
   ]
  },
  {
   "cell_type": "code",
   "execution_count": 22,
   "metadata": {},
   "outputs": [
    {
     "data": {
      "text/plain": [
       "1.25"
      ]
     },
     "execution_count": 22,
     "metadata": {},
     "output_type": "execute_result"
    }
   ],
   "source": [
    "b.to_time(0.5, t0='t0_supconj')"
   ]
  },
  {
   "cell_type": "code",
   "execution_count": 23,
   "metadata": {},
   "outputs": [
    {
     "data": {
      "text/plain": [
       "2455001.25"
      ]
     },
     "execution_count": 23,
     "metadata": {},
     "output_type": "execute_result"
    }
   ],
   "source": [
    "b.to_time(0.5, t0=2455000)"
   ]
  },
  {
   "attachments": {},
   "cell_type": "markdown",
   "metadata": {},
   "source": [
    "Compute Phases\n",
    "----------------------\n",
    "\n",
    "As we have seen in the previous tutorial, datasets have a `compute_phases` parameter, with a constraint between `compute_times` and `compute_phases`. If we wanted to compute a model in phase-space, we can achieve this by passing `compute_phases`:"
   ]
  },
  {
   "cell_type": "code",
   "execution_count": 24,
   "metadata": {},
   "outputs": [
    {
     "data": {
      "text/plain": [
       "<ParameterSet: 80 parameters | contexts: figure, constraint, dataset, compute>"
      ]
     },
     "execution_count": 24,
     "metadata": {},
     "output_type": "execute_result"
    }
   ],
   "source": [
    "b.add_dataset('lc', compute_phases=phoebe.linspace(0, 1, 101), dataset='lc01')"
   ]
  },
  {
   "cell_type": "code",
   "execution_count": 25,
   "metadata": {},
   "outputs": [
    {
     "name": "stdout",
     "output_type": "stream",
     "text": [
      "ParameterSet: 2 parameters\n",
      "C      compute_times@lc01@dataset: [0.    0.025 0.05  ... 2.45  2.475 2.5  ] d\n",
      "      compute_phases@lc01@dataset: [0.   0.01 0.02 ... 0.98 0.99 1.  ]\n"
     ]
    }
   ],
   "source": [
    "print(b.filter(qualifier=['compute_times', 'compute_phases'], context='dataset'))"
   ]
  },
  {
   "attachments": {},
   "cell_type": "markdown",
   "metadata": {},
   "source": [
    "If we were to change the orbital period, that would not affect the phases:"
   ]
  },
  {
   "cell_type": "code",
   "execution_count": 26,
   "metadata": {},
   "outputs": [],
   "source": [
    "b.set_value('period', component='binary', value=3.14)"
   ]
  },
  {
   "cell_type": "code",
   "execution_count": 27,
   "metadata": {},
   "outputs": [
    {
     "name": "stdout",
     "output_type": "stream",
     "text": [
      "ParameterSet: 2 parameters\n",
      "C      compute_times@lc01@dataset: [0.     0.0314 0.0628 ... 3.0772 3.1086 3.14  ] d\n",
      "      compute_phases@lc01@dataset: [0.   0.01 0.02 ... 0.98 0.99 1.  ]\n"
     ]
    }
   ],
   "source": [
    "print(b.filter(qualifier=['compute_times', 'compute_phases'], context='dataset'))"
   ]
  },
  {
   "attachments": {},
   "cell_type": "markdown",
   "metadata": {},
   "source": [
    "Important: if your data are phase-folded, you should **not** use this to convert times and phases (and PHOEBE will raise an error as the `times` array is required if `fluxes` or `rvs` are provided). You will need to convert your phases to times (say, by using `to_time()`):"
   ]
  },
  {
   "cell_type": "code",
   "execution_count": 17,
   "metadata": {},
   "outputs": [
    {
     "data": {
      "text/plain": [
       "<ParameterSet: 47 parameters | contexts: dataset, figure, constraint, compute>"
      ]
     },
     "execution_count": 17,
     "metadata": {},
     "output_type": "execute_result"
    }
   ],
   "source": [
    "phases = phoebe.linspace(0, 1, 101)\n",
    "times = b.to_time(phases, t0=2459752.18750)\n",
    "b.add_dataset('lc', times=times, fluxes=phoebe.linspace(1, 1, 101))"
   ]
  },
  {
   "attachments": {},
   "cell_type": "markdown",
   "metadata": {},
   "source": [
    "# Exercise"
   ]
  },
  {
   "attachments": {},
   "cell_type": "markdown",
   "metadata": {},
   "source": [
    "Explore the effects of `dperdt` on the anomalistic period. So far we kept our orbit circular; what happens to the times and phases if you introduce eccentricity and retain apsidal motion?"
   ]
  },
  {
   "cell_type": "code",
   "execution_count": null,
   "metadata": {},
   "outputs": [],
   "source": []
  },
  {
   "attachments": {},
   "cell_type": "markdown",
   "metadata": {},
   "source": [
    "Set the orbital period of the system to something other than 1 day and `t0_supconj` to something other than 0.0.  Then add a light curve dataset such that the times sample one orbital period with 100 points."
   ]
  },
  {
   "cell_type": "code",
   "execution_count": null,
   "metadata": {},
   "outputs": [],
   "source": []
  }
 ],
 "metadata": {
  "interpreter": {
   "hash": "d03c2550f08e22a77817d932fec0f3802e1fd2540a98dc1f7ee55437152ec9e1"
  },
  "kernelspec": {
   "display_name": "Python 3.10.4 ('phoebe-dev')",
   "language": "python",
   "name": "python3"
  },
  "language_info": {
   "codemirror_mode": {
    "name": "ipython",
    "version": 3
   },
   "file_extension": ".py",
   "mimetype": "text/x-python",
   "name": "python",
   "nbconvert_exporter": "python",
   "pygments_lexer": "ipython3",
   "version": "3.10.6"
  }
 },
 "nbformat": 4,
 "nbformat_minor": 2
}
