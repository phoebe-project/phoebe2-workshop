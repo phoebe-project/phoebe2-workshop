{
 "cells": [
  {
   "cell_type": "markdown",
   "metadata": {},
   "source": [
    "# Workshop Tutorial: General Concepts & Bundle Basics\n",
    "\n",
    "In this first tutorial, we'll learn about the basics of the Bundle - which is the container of all Parameters within PHOEBE.  We'll see how to access individual Parameter and view and set their values.\n",
    "\n",
    "\n",
    "This interactive workshop tutorial covers many of the same topics as the corresponding online tutorials:\n",
    "\n",
    "* [The PHOEBE Bundle](http://phoebe-project.org/docs/2.3/tutorials/general_concepts.ipynb)\n",
    "* [Advanced: Parameter Types](http://phoebe-project.org/docs/2.3/tutorials/parameters.ipynb)\n",
    "* [Advanced: Parameter Units](http://phoebe-project.org/docs/2.3/tutorials/units.ipynb)\n",
    "* [Advanced: Building a System](http://phoebe-project.org/docs/2.3/tutorials/contact_binary_hierarchy.ipynb)\n",
    "* [Advanced: Contact Binary Hierarchy](http://phoebe-project.org/docs/2.3/tutorials/contact_binary_hierarchy.ipynb)\n",
    "* [Advanced: Semi-Detached Systems](http://phoebe-project.org/docs/2.3/tutorials/requiv_crit_semidetached.ipynb)\n",
    "* [Advanced: Saving, Loading, and Exporting](http://phoebe-project.org/docs/2.3/tutorials/saving_and_loading.ipynb)"
   ]
  },
  {
   "cell_type": "markdown",
   "metadata": {},
   "source": [
    "# Setup"
   ]
  },
  {
   "cell_type": "code",
   "execution_count": 1,
   "metadata": {},
   "outputs": [],
   "source": [
    "import phoebe\n",
    "from phoebe import u,c"
   ]
  },
  {
   "cell_type": "code",
   "execution_count": 2,
   "metadata": {},
   "outputs": [],
   "source": [
    "logger = phoebe.logger(clevel='WARNING')"
   ]
  },
  {
   "cell_type": "markdown",
   "metadata": {},
   "source": [
    "# Default Binary Bundle"
   ]
  },
  {
   "cell_type": "markdown",
   "metadata": {},
   "source": [
    "Everything for our system will be stored in a single Python object that we call the \"Bundle\".  Let's start just by creating the default binary system and store it in a Bundle-object which we'll call \"b\" (short for bundle)."
   ]
  },
  {
   "cell_type": "code",
   "execution_count": 3,
   "metadata": {},
   "outputs": [],
   "source": [
    "b = phoebe.default_binary()"
   ]
  },
  {
   "cell_type": "markdown",
   "metadata": {},
   "source": [
    "The Bundle is just a collection of Parameter objects along with some callable methods.  Here we can see that the default binary Bundle consists of over 100 individual parameters."
   ]
  },
  {
   "cell_type": "code",
   "execution_count": 4,
   "metadata": {},
   "outputs": [
    {
     "data": {
      "text/plain": [
       "<PHOEBE Bundle: 135 parameters | contexts: setting, system, constraint, component, compute, figure>"
      ]
     },
     "execution_count": 4,
     "metadata": {},
     "output_type": "execute_result"
    }
   ],
   "source": [
    "b"
   ]
  },
  {
   "cell_type": "markdown",
   "metadata": {},
   "source": [
    "If we want to view or edit a Parameter in the Bundle, we first need to know how to access it.  Each Parameter object has a number of tags which can be used to filter (similar to a database query).  When filtering the Bundle, a ParameterSet is returned - this is essentially just a subset of the Parameters in the Bundle and can be further filtered until eventually accessing a single Parameter."
   ]
  },
  {
   "cell_type": "code",
   "execution_count": 5,
   "metadata": {},
   "outputs": [
    {
     "data": {
      "text/plain": [
       "<ParameterSet: 17 parameters | components: secondary, primary>"
      ]
     },
     "execution_count": 5,
     "metadata": {},
     "output_type": "execute_result"
    }
   ],
   "source": [
    "b.filter(context='compute')"
   ]
  },
  {
   "cell_type": "markdown",
   "metadata": {},
   "source": [
    "Here we filtered on the context tag for all Parameters with context='compute' (i.e. the options for computing a model).  If we want to see all the available options for this tag in the Bundle, we can use the plural form of the tag."
   ]
  },
  {
   "cell_type": "code",
   "execution_count": 6,
   "metadata": {},
   "outputs": [
    {
     "data": {
      "text/plain": [
       "['system', 'component', 'constraint', 'figure', 'setting', 'compute']"
      ]
     },
     "execution_count": 6,
     "metadata": {},
     "output_type": "execute_result"
    }
   ],
   "source": [
    "b.contexts"
   ]
  },
  {
   "cell_type": "markdown",
   "metadata": {},
   "source": [
    "Although there is no strict hierarchy to the tags, it can be helpful to think of the context tag as the top-level tag and is often very helpful to filter by the appropriate context first.\n",
    "\n",
    "Other tags currently include:\n",
    "* kind\n",
    "* component\n",
    "* dataset\n",
    "* model\n",
    "* time\n",
    "* qualifier"
   ]
  },
  {
   "cell_type": "markdown",
   "metadata": {},
   "source": [
    "Accessing the plural form of the tag as an attribute also works on a filtered ParameterSet"
   ]
  },
  {
   "cell_type": "code",
   "execution_count": 7,
   "metadata": {},
   "outputs": [
    {
     "data": {
      "text/plain": [
       "['primary', 'secondary']"
      ]
     },
     "execution_count": 7,
     "metadata": {},
     "output_type": "execute_result"
    }
   ],
   "source": [
    "b.filter(context='compute').components"
   ]
  },
  {
   "cell_type": "markdown",
   "metadata": {},
   "source": [
    "This then tells us what can be used to filter further."
   ]
  },
  {
   "cell_type": "code",
   "execution_count": 8,
   "metadata": {},
   "outputs": [
    {
     "data": {
      "text/plain": [
       "<ParameterSet: 4 parameters | qualifiers: ntriangles, mesh_method, distortion_method, atm>"
      ]
     },
     "execution_count": 8,
     "metadata": {},
     "output_type": "execute_result"
    }
   ],
   "source": [
    "b.filter(context='compute').filter(component='primary')"
   ]
  },
  {
   "cell_type": "markdown",
   "metadata": {},
   "source": [
    "The qualifier tag is the shorthand name of the Parameter itself.  If you don't know what you're looking for, it is often useful to list all the qualifiers of the Bundle or a given ParameterSet."
   ]
  },
  {
   "cell_type": "code",
   "execution_count": 9,
   "metadata": {},
   "outputs": [
    {
     "data": {
      "text/plain": [
       "['mesh_method', 'ntriangles', 'distortion_method', 'atm']"
      ]
     },
     "execution_count": 9,
     "metadata": {},
     "output_type": "execute_result"
    }
   ],
   "source": [
    "b.filter(context='compute', component='primary').qualifiers"
   ]
  },
  {
   "cell_type": "markdown",
   "metadata": {},
   "source": [
    "Now that we know the options for qualifier within this filter, we can choose to filter on one of those.  Let's filter by the `ntriangles` qualifier."
   ]
  },
  {
   "cell_type": "code",
   "execution_count": 10,
   "metadata": {},
   "outputs": [
    {
     "data": {
      "text/plain": [
       "<ParameterSet: 1 parameters>"
      ]
     },
     "execution_count": 10,
     "metadata": {},
     "output_type": "execute_result"
    }
   ],
   "source": [
    "b.filter(context='compute', component='primary', qualifier='ntriangles')"
   ]
  },
  {
   "cell_type": "markdown",
   "metadata": {},
   "source": [
    "Once we filter far enough to get to a single Parameter, we can use get_parameter to return the Parameter object itself (instead of a ParameterSet)."
   ]
  },
  {
   "cell_type": "code",
   "execution_count": 11,
   "metadata": {},
   "outputs": [
    {
     "data": {
      "text/plain": [
       "<Parameter: ntriangles=1500 | keys: description, value, limits, visible_if, copy_for, readonly, advanced, latexfmt>"
      ]
     },
     "execution_count": 11,
     "metadata": {},
     "output_type": "execute_result"
    }
   ],
   "source": [
    "b.filter(context='compute', component='primary', qualifier='ntriangles').get_parameter()"
   ]
  },
  {
   "cell_type": "markdown",
   "metadata": {},
   "source": [
    "As a shortcut, get_parameter also takes filtering keywords.  So the above line is also equivalent to the following:"
   ]
  },
  {
   "cell_type": "code",
   "execution_count": 12,
   "metadata": {},
   "outputs": [
    {
     "data": {
      "text/plain": [
       "<Parameter: ntriangles=1500 | keys: description, value, limits, visible_if, copy_for, readonly, advanced, latexfmt>"
      ]
     },
     "execution_count": 12,
     "metadata": {},
     "output_type": "execute_result"
    }
   ],
   "source": [
    "b.get_parameter(context='compute', component='primary', qualifier='ntriangles')"
   ]
  },
  {
   "cell_type": "markdown",
   "metadata": {},
   "source": [
    "Each Parameter object contains several keys that provide information about that Parameter.  The keys \"description\" and \"value\" are always included, with additional keys available depending on the type of Parameter."
   ]
  },
  {
   "cell_type": "code",
   "execution_count": 13,
   "metadata": {},
   "outputs": [
    {
     "data": {
      "text/plain": [
       "1500"
      ]
     },
     "execution_count": 13,
     "metadata": {},
     "output_type": "execute_result"
    }
   ],
   "source": [
    "b.get_parameter(context='compute', component='primary', qualifier='ntriangles').get_value()"
   ]
  },
  {
   "cell_type": "code",
   "execution_count": 14,
   "metadata": {},
   "outputs": [
    {
     "data": {
      "text/plain": [
       "\"Requested number of triangles (won't be exact).\""
      ]
     },
     "execution_count": 14,
     "metadata": {},
     "output_type": "execute_result"
    }
   ],
   "source": [
    "b.get_parameter(context='compute', component='primary', qualifier='ntriangles').get_description()"
   ]
  },
  {
   "cell_type": "markdown",
   "metadata": {},
   "source": [
    "Since the Parameter for `ntriangles` is an IntegerParameter, it also includes a key for the allowable limits."
   ]
  },
  {
   "cell_type": "code",
   "execution_count": 15,
   "metadata": {},
   "outputs": [
    {
     "data": {
      "text/plain": [
       "[100, None]"
      ]
     },
     "execution_count": 15,
     "metadata": {},
     "output_type": "execute_result"
    }
   ],
   "source": [
    "b.get_parameter(context='compute', component='primary', qualifier='ntriangles').get_limits()"
   ]
  },
  {
   "cell_type": "markdown",
   "metadata": {},
   "source": [
    "In this case, we're looking at the Parameter called `ntriangles` with the component tag set to 'primary'.  This Parameter therefore defines how many triangles should be created when creating the mesh for the star named 'primary'.  By default, this is set to 1500 triangles, with allowable values above 100.\n",
    "\n",
    "If we wanted a finer mesh, we could change the value."
   ]
  },
  {
   "cell_type": "code",
   "execution_count": 16,
   "metadata": {},
   "outputs": [],
   "source": [
    "b.get_parameter(context='compute', component='primary', qualifier='ntriangles').set_value(2000)"
   ]
  },
  {
   "cell_type": "code",
   "execution_count": 17,
   "metadata": {},
   "outputs": [
    {
     "data": {
      "text/plain": [
       "<Parameter: ntriangles=2000 | keys: description, value, limits, visible_if, copy_for, readonly, advanced, latexfmt>"
      ]
     },
     "execution_count": 17,
     "metadata": {},
     "output_type": "execute_result"
    }
   ],
   "source": [
    "b.get_parameter(context='compute', component='primary', qualifier='ntriangles')"
   ]
  },
  {
   "cell_type": "markdown",
   "metadata": {},
   "source": [
    "If we choose the `distortion_method` qualifier from that same ParameterSet, we'll see that it has a few different keys in addition to description and value."
   ]
  },
  {
   "cell_type": "code",
   "execution_count": 18,
   "metadata": {},
   "outputs": [
    {
     "data": {
      "text/plain": [
       "<Parameter: distortion_method=roche | keys: description, choices, value, visible_if, copy_for, readonly, advanced, latexfmt>"
      ]
     },
     "execution_count": 18,
     "metadata": {},
     "output_type": "execute_result"
    }
   ],
   "source": [
    "b.get_parameter(context='compute', component='primary', qualifier='distortion_method')"
   ]
  },
  {
   "cell_type": "code",
   "execution_count": 19,
   "metadata": {},
   "outputs": [
    {
     "data": {
      "text/plain": [
       "'roche'"
      ]
     },
     "execution_count": 19,
     "metadata": {},
     "output_type": "execute_result"
    }
   ],
   "source": [
    "b.get_parameter(context='compute', component='primary', qualifier='distortion_method').get_value()"
   ]
  },
  {
   "cell_type": "code",
   "execution_count": 20,
   "metadata": {},
   "outputs": [
    {
     "data": {
      "text/plain": [
       "'Method to use for distorting stars'"
      ]
     },
     "execution_count": 20,
     "metadata": {},
     "output_type": "execute_result"
    }
   ],
   "source": [
    "b.get_parameter(context='compute', component='primary', qualifier='distortion_method').get_description()"
   ]
  },
  {
   "cell_type": "markdown",
   "metadata": {},
   "source": [
    "Since the `distortion_method` Parameter is a ChoiceParameter, it contains a key for the allowable choices."
   ]
  },
  {
   "cell_type": "code",
   "execution_count": 21,
   "metadata": {},
   "outputs": [
    {
     "data": {
      "text/plain": [
       "['roche', 'rotstar', 'sphere', 'none']"
      ]
     },
     "execution_count": 21,
     "metadata": {},
     "output_type": "execute_result"
    }
   ],
   "source": [
    "b.get_parameter(context='compute', component='primary', qualifier='distortion_method').get_choices()"
   ]
  },
  {
   "cell_type": "markdown",
   "metadata": {},
   "source": [
    "We can only set a value if it is contained within this list - if you attempt to set a non-valid value, an error will be raised."
   ]
  },
  {
   "cell_type": "code",
   "execution_count": 22,
   "metadata": {},
   "outputs": [],
   "source": [
    "b.get_parameter(context='compute', component='primary', qualifier='distortion_method').set_value('rotstar')"
   ]
  },
  {
   "cell_type": "code",
   "execution_count": 23,
   "metadata": {},
   "outputs": [
    {
     "data": {
      "text/plain": [
       "'rotstar'"
      ]
     },
     "execution_count": 23,
     "metadata": {},
     "output_type": "execute_result"
    }
   ],
   "source": [
    "b.get_parameter(context='compute', component='primary', qualifier='distortion_method').get_value()"
   ]
  },
  {
   "cell_type": "markdown",
   "metadata": {},
   "source": [
    "Parameter types include:\n",
    "* String Parameter\n",
    "* Choice Parameter\n",
    "* Select Parameter\n",
    "* Float Parameter\n",
    "* Integer Parameter\n",
    "* Boolean Parameter\n",
    "* FloatArray Parameter\n",
    "\n",
    "these Parameter types and their available options are all described in great detail in [Advanced: Parameter Types](http://phoebe-project.org/docs/2.3/tutorials/parameters.ipynb)"
   ]
  },
  {
   "cell_type": "markdown",
   "metadata": {},
   "source": [
    "## Twigs"
   ]
  },
  {
   "cell_type": "markdown",
   "metadata": {},
   "source": [
    "As a shortcut to needing to filter by all these tags, the Bundle and ParameterSets can be filtered through what we call \"twigs\" (as in a Bundle of twigs).  These are essentially a single string-representation of the tags, separated by @ symbols.\n",
    "\n",
    "This is very useful as a shorthand when working in an interactive Python console, but somewhat obfuscates the names of the tags and can make it difficult if you use them in a script and make changes earlier in the script.\n",
    "\n",
    "For example, the following lines give identical results:"
   ]
  },
  {
   "cell_type": "code",
   "execution_count": 24,
   "metadata": {},
   "outputs": [
    {
     "data": {
      "text/plain": [
       "<ParameterSet: 4 parameters | qualifiers: ntriangles, mesh_method, distortion_method, atm>"
      ]
     },
     "execution_count": 24,
     "metadata": {},
     "output_type": "execute_result"
    }
   ],
   "source": [
    "b.filter(context='compute', component='primary')"
   ]
  },
  {
   "cell_type": "code",
   "execution_count": 25,
   "metadata": {},
   "outputs": [
    {
     "data": {
      "text/plain": [
       "<ParameterSet: 4 parameters | qualifiers: ntriangles, mesh_method, distortion_method, atm>"
      ]
     },
     "execution_count": 25,
     "metadata": {},
     "output_type": "execute_result"
    }
   ],
   "source": [
    "b['primary@compute']"
   ]
  },
  {
   "cell_type": "code",
   "execution_count": 26,
   "metadata": {},
   "outputs": [
    {
     "data": {
      "text/plain": [
       "<ParameterSet: 4 parameters | qualifiers: ntriangles, mesh_method, distortion_method, atm>"
      ]
     },
     "execution_count": 26,
     "metadata": {},
     "output_type": "execute_result"
    }
   ],
   "source": [
    "b['compute@primary']"
   ]
  },
  {
   "cell_type": "markdown",
   "metadata": {},
   "source": [
    "However, this dictionary-style twig access will never return a ParameterSet with a single Parameter, instead it will return the Parameter itself.  This can be seen in the different output between the following two lines:"
   ]
  },
  {
   "cell_type": "code",
   "execution_count": 27,
   "metadata": {},
   "outputs": [
    {
     "data": {
      "text/plain": [
       "<ParameterSet: 1 parameters>"
      ]
     },
     "execution_count": 27,
     "metadata": {},
     "output_type": "execute_result"
    }
   ],
   "source": [
    "b.filter(context='compute', component='primary', qualifier='distortion_method')"
   ]
  },
  {
   "cell_type": "code",
   "execution_count": 28,
   "metadata": {},
   "outputs": [
    {
     "data": {
      "text/plain": [
       "<Parameter: distortion_method=rotstar | keys: description, choices, value, visible_if, copy_for, readonly, advanced, latexfmt>"
      ]
     },
     "execution_count": 28,
     "metadata": {},
     "output_type": "execute_result"
    }
   ],
   "source": [
    "b['distortion_method@primary@compute']"
   ]
  },
  {
   "cell_type": "markdown",
   "metadata": {},
   "source": [
    "This dictionary-style access can also set the value directly:"
   ]
  },
  {
   "cell_type": "code",
   "execution_count": 29,
   "metadata": {},
   "outputs": [],
   "source": [
    "b['distortion_method@primary@compute'] = 'roche'"
   ]
  },
  {
   "cell_type": "code",
   "execution_count": 30,
   "metadata": {},
   "outputs": [
    {
     "name": "stdout",
     "output_type": "stream",
     "text": [
      "Parameter: distortion_method@primary@phoebe01@compute\n",
      "                       Qualifier: distortion_method\n",
      "                     Description: Method to use for distorting stars\n",
      "                           Value: roche\n",
      "                         Choices: roche, rotstar, sphere, none\n",
      "                  Constrained by: \n",
      "                      Constrains: None\n",
      "                      Related to: None\n",
      "                 Only visible if: mesh_method:marching,hierarchy.is_meshable:true\n",
      "\n"
     ]
    }
   ],
   "source": [
    "print(b['distortion_method@primary@compute'])"
   ]
  },
  {
   "cell_type": "markdown",
   "metadata": {},
   "source": [
    "And can even provide direct access to the keys/attributes of the Parameter (value, description, limits, etc)"
   ]
  },
  {
   "cell_type": "code",
   "execution_count": 31,
   "metadata": {},
   "outputs": [
    {
     "name": "stdout",
     "output_type": "stream",
     "text": [
      "roche\n"
     ]
    }
   ],
   "source": [
    "print(b['value@distortion_method@primary@compute'])"
   ]
  },
  {
   "cell_type": "code",
   "execution_count": 32,
   "metadata": {},
   "outputs": [
    {
     "name": "stdout",
     "output_type": "stream",
     "text": [
      "Method to use for distorting stars\n"
     ]
    }
   ],
   "source": [
    "print(b['description@distortion_method@primary@compute'])"
   ]
  },
  {
   "cell_type": "markdown",
   "metadata": {},
   "source": [
    "As with the tags, you can call .twigs on any ParameterSet to see the \"smallest unique twigs\" of the contained Parameters"
   ]
  },
  {
   "cell_type": "code",
   "execution_count": 33,
   "metadata": {},
   "outputs": [
    {
     "data": {
      "text/plain": [
       "['sample_from@phoebe01@phoebe@compute',\n",
       " 'comments@phoebe01@phoebe@compute',\n",
       " 'use_server@phoebe01@phoebe@compute',\n",
       " 'dynamics_method@phoebe01@phoebe@compute',\n",
       " 'ltte@phoebe01@phoebe@compute',\n",
       " 'irrad_method@phoebe01@phoebe@compute',\n",
       " 'boosting_method@phoebe01@phoebe@compute',\n",
       " 'eclipse_method@phoebe01@phoebe@compute',\n",
       " 'horizon_method@phoebe01@phoebe@compute',\n",
       " 'mesh_method@primary@phoebe01@phoebe@compute',\n",
       " 'mesh_method@secondary@phoebe01@phoebe@compute',\n",
       " 'ntriangles@primary@phoebe01@phoebe@compute',\n",
       " 'ntriangles@secondary@phoebe01@phoebe@compute',\n",
       " 'distortion_method@primary@phoebe01@phoebe@compute',\n",
       " 'distortion_method@secondary@phoebe01@phoebe@compute',\n",
       " 'atm@primary@phoebe01@phoebe@compute',\n",
       " 'atm@secondary@phoebe01@phoebe@compute']"
      ]
     },
     "execution_count": 33,
     "metadata": {},
     "output_type": "execute_result"
    }
   ],
   "source": [
    "b['compute'].twigs"
   ]
  },
  {
   "cell_type": "markdown",
   "metadata": {},
   "source": [
    "Since the more verbose method without twigs is a bit clearer to read, most of the tutorials will show that syntax, but feel free to use twigs if they make more sense to you"
   ]
  },
  {
   "cell_type": "markdown",
   "metadata": {},
   "source": [
    "To see a nice representation of the names (twigs or qualifier) of all the parameters and their descriptions, we can call `info` on any bundle or ParameterSet."
   ]
  },
  {
   "cell_type": "code",
   "execution_count": 34,
   "metadata": {},
   "outputs": [
    {
     "name": "stdout",
     "output_type": "stream",
     "text": [
      "ParameterSetInfo: (qualfier/twig: description)\n",
      "                              Av: Extinction Av\n",
      "                              Rv: Extinction law parameter\n",
      "                            abun: Abundance/Metallicity\n",
      "    asini@binary@orbit@component: Projected semi major axis\n",
      "                asini@constraint: expression that determines the constraint\n",
      "            asini@star@component: Projected semi major axis of the component in the orbit\n",
      "                             atm: Atmosphere table\n",
      "                 auto_add_figure: Whether to automatically add figure parameters when a dataset is added with a new dataset type, or a solution is added.\n",
      "              auto_remove_figure: Whether to automatically remove figure parameters when the referenced dataset/solution are removed.\n",
      "                 boosting_method: Type of boosting method\n",
      "                           color: Color to use for figures in which color_source is set to component\n",
      "                        comments: User-provided comments for these compute-options.  Feel free to place any notes here - if not overridden, they will be copied to any resulting models.\n",
      "                             dec: Declination\n",
      "                    default_time: Times to use for highlighting/uncovering if default_time_source=manual.\n",
      "             default_time_source: Source to use for highlight/uncover time for any figure in which time_source is set to default.\n",
      "                     dict_filter: Filters to use when using dictionary access\n",
      "                    dict_set_all: Whether to set all values for dictionary access that returns more than 1 result\n",
      "                        distance: Distance to the system\n",
      "               distortion_method: Method to use for distorting stars\n",
      "                            dpdt: Time derivative of orbital period (anomalistic), where period is defined at t0@system\n",
      "                          dperdt: Time derivative of argument of periastron, where per0 is defined at t0@system\n",
      "                 dynamics_method: Which method to use to determine the dynamics of components\n",
      "       ebv@extinction@constraint: expression that determines the constraint\n",
      "                      ebv@system: Extinction E(B-V)\n",
      "                             ecc: Eccentricity\n",
      "                  eclipse_method: Type of eclipse algorithm\n",
      "    ecosw@binary@orbit@component: Eccentricity times cos of argument of periastron\n",
      "   ecosw@binary@orbit@constraint: expression that determines the constraint\n",
      "enabled@_default@phoebe01@phoebe@compute: Whether to enable the feature in compute/solver run\n",
      "    esinw@binary@orbit@component: Eccentricity times sin of argument of periastron\n",
      "   esinw@binary@orbit@constraint: expression that determines the constraint\n",
      "                   expose_failed: Whether to expose failed samples along with the simplified error messages.\n",
      "                  expose_samples: Whether to expose failed samples along with the simplified error messages.\n",
      "     freq@binary@orbit@component: Orbital frequency (sidereal)\n",
      "                 freq@constraint: expression that determines the constraint\n",
      "             freq@star@component: Rotation frequency (wrt the sky)\n",
      "                      fti_method: How to handle finite-time integration (when non-zero exptime)\n",
      "                  fti_oversample: Number of times to sample per-datapoint for finite-time integration\n",
      "                       gravb_bol: Bolometric gravity brightening\n",
      "                       hierarchy: Hierarchy representation\n",
      "                  horizon_method: Type of horizon method\n",
      "     incl@binary@orbit@component: Orbital inclination angle\n",
      "             incl@star@component: Inclination of the stellar rotation axis\n",
      "            incl@star@constraint: expression that determines the constraint\n",
      "irrad_frac_lost_bol@star@component: ratio of incident bolometric light that is lost/ignored\n",
      "irrad_frac_lost_bol@star@constraint: expression that determines the constraint\n",
      "             irrad_frac_refl_bol: ratio of incident bolometric light that is used for reflection/irradiation (heating without redistribution)\n",
      "                    irrad_method: Which method to use to handle all irradiation effects (reflection, redistribution)\n",
      "                      latex_repr: Representation to use in place of the component label when rendering latex representations of parameters.  If blank, will use the labels directly.\n",
      "                   ld_coeffs_bol: Bolometric limb darkening coefficients (used only for irradiation).\n",
      "            ld_coeffs_source_bol: Source for bolometric limb darkening coefficients (used only for irradiation; 'auto' to interpolate from the applicable table according to the 'atm' parameter, or the name of a specific atmosphere table)\n",
      "                     ld_func_bol: Bolometric limb darkening model (used only for irradiation).\n",
      "                     ld_mode_bol: Mode to use for bolometric limb-darkening (used only for irradiation).\n",
      "                       linestyle: Linestyle to use for figures in which linestyle_source is set to component\n",
      "             logg@star@component: logg at requiv\n",
      "            logg@star@constraint: expression that determines the constraint\n",
      "  long_an@binary@orbit@component: Longitude of the ascending node\n",
      "          long_an@star@component: Longitude of the ascending node (ie. equator) of the star\n",
      "         long_an@star@constraint: expression that determines the constraint\n",
      "                            ltte: Correct for light travel time effects\n",
      "                          marker: Marker (datasets only, not models) to use for figures in which marker_source is set to component\n",
      "             mass@star@component: Mass\n",
      "            mass@star@constraint: expression that determines the constraint\n",
      "mean_anom@binary@orbit@component: Mean anomaly at t0@system\n",
      "mean_anom@binary@orbit@constraint: expression that determines the constraint\n",
      "                     mesh_method: Which method to use for discretizing the surface\n",
      "                      ntriangles: Requested number of triangles (won't be exact).\n",
      "                            per0: Argument of periastron (defined at time t0@system)\n",
      "   period@binary@orbit@component: Orbital period (defined at t0@system, sidereal: wrt the sky)\n",
      "           period@star@component: Rotation period (wrt the sky)\n",
      "          period@star@constraint: expression that determines the constraint\n",
      "period_anom@binary@orbit@component: Anomalistic orbital period (defined at t0@system, anomalistic: time between two successive periastron passages)\n",
      "period_anom@binary@orbit@constraint: expression that determines the constraint\n",
      "                  phoebe_version: Version of PHOEBE\n",
      "                           pitch: Pitch of the stellar rotation axis wrt the orbital inclination\n",
      "                               q: Mass ratio\n",
      "                              ra: Right ascension\n",
      "                          requiv: Equivalent radius\n",
      "       requiv_max@star@component: Critical (maximum) value of the equivalent radius for the given morphology\n",
      "      requiv_max@star@constraint: expression that determines the constraint\n",
      "                      requiv_min: Critical (minimum) value of the equivalent radius for the given morphology\n",
      "              run_checks_compute: Compute options to use when calling run_checks/run_checks_compute or within interactive checks.\n",
      "               run_checks_figure: Figures to use when calling run_checks/run_checks_figure or within interactive checks.\n",
      "               run_checks_server: Servers to use when calling run_checks/run_checks_server or within interactive checks.\n",
      "             run_checks_solution: Solutions to use when calling run_checks/run_checks_solution or within interactive checks.\n",
      "               run_checks_solver: Solver options to use when calling run_checks/run_checks_solver or within interactive checks.\n",
      "                         rv_grav: Whether gravitational redshift effects are enabled for RVs\n",
      "                       rv_method: Method to use for computing RVs (must be flux-weighted for Rossiter-McLaughlin effects)\n",
      "                     sample_from: distributions or solutions to use for sampling.  If pointing to a solution, adopt_solution(as_distributions=True, **kwargs) will be called to create a temporary distribution which will be removed automatically.  If all distributions are delta functions (face-values), sample_mode and sample_num will be ignored with a warning.\n",
      "             sample_from_combine: Method to use to combine multiple distributions from sample_from for the same parameter.  first: ignore duplicate entries and take the first in the sample_from parameter\n",
      "                     sample_mode: Mode to use when exposing model after sampling.  all: expose all sampled forward-models.  median: only return the median of all sampled models.  1/3/5-sigma: expose the synthetic variable at the median and +/- n-sigma.\n",
      "                      sample_num: Number of forward models to run sampling from the distributions defined in sample_from and sample_from_combine.\n",
      "      sma@binary@orbit@component: Semi-major axis of the orbit (defined at time t0@system)\n",
      "              sma@star@component: Semi major axis of the component in the orbit\n",
      "             sma@star@constraint: expression that determines the constraint\n",
      "                         syncpar: Synchronicity parameter\n",
      "                              t0: Time at which all values are provided.  For values with time-derivatives, this defines their zero-point.\n",
      "t0_perpass@binary@orbit@component: Zeropoint date at periastron passage of the primary component\n",
      "t0_perpass@binary@orbit@constraint: expression that determines the constraint\n",
      "   t0_ref@binary@orbit@component: Zeropoint date at reference point for the primary component\n",
      "  t0_ref@binary@orbit@constraint: expression that determines the constraint\n",
      "                      t0_supconj: Zeropoint date at superior conjunction of the primary component\n",
      "                            teff: Mean effective temperature\n",
      "                      use_server: Server to use when running the forward model (or \"none\" to run locally) via run_compute.\n",
      "                          vgamma: Constant barycentric systemic velocity (in the direction of positive RV or negative vz)\n",
      "                      web_client: Whether to default to using the web-client over a locally installed desktop-client when opening the UI from the desktop client.\n",
      "                  web_client_url: Default location of web-client.  Will only be used if web_client is True.\n",
      "                             yaw: Yaw of the stellar rotation axis wrt the orbital longitude of ascending node\n"
     ]
    }
   ],
   "source": [
    "print(b.info)"
   ]
  },
  {
   "cell_type": "code",
   "execution_count": 35,
   "metadata": {},
   "outputs": [
    {
     "name": "stdout",
     "output_type": "stream",
     "text": [
      "ParameterSetInfo: (qualfier/twig: description)\n",
      "                            abun: Abundance/Metallicity\n",
      "    asini@binary@orbit@component: Projected semi major axis\n",
      "            asini@star@component: Projected semi major axis of the component in the orbit\n",
      "                            dpdt: Time derivative of orbital period (anomalistic), where period is defined at t0@system\n",
      "                          dperdt: Time derivative of argument of periastron, where per0 is defined at t0@system\n",
      "                             ecc: Eccentricity\n",
      "                           ecosw: Eccentricity times cos of argument of periastron\n",
      "                           esinw: Eccentricity times sin of argument of periastron\n",
      "     freq@binary@orbit@component: Orbital frequency (sidereal)\n",
      "             freq@star@component: Rotation frequency (wrt the sky)\n",
      "                       gravb_bol: Bolometric gravity brightening\n",
      "     incl@binary@orbit@component: Orbital inclination angle\n",
      "             incl@star@component: Inclination of the stellar rotation axis\n",
      "             irrad_frac_lost_bol: ratio of incident bolometric light that is lost/ignored\n",
      "             irrad_frac_refl_bol: ratio of incident bolometric light that is used for reflection/irradiation (heating without redistribution)\n",
      "            ld_coeffs_source_bol: Source for bolometric limb darkening coefficients (used only for irradiation; 'auto' to interpolate from the applicable table according to the 'atm' parameter, or the name of a specific atmosphere table)\n",
      "                     ld_func_bol: Bolometric limb darkening model (used only for irradiation).\n",
      "                     ld_mode_bol: Mode to use for bolometric limb-darkening (used only for irradiation).\n",
      "                            logg: logg at requiv\n",
      "  long_an@binary@orbit@component: Longitude of the ascending node\n",
      "          long_an@star@component: Longitude of the ascending node (ie. equator) of the star\n",
      "                            mass: Mass\n",
      "                       mean_anom: Mean anomaly at t0@system\n",
      "                            per0: Argument of periastron (defined at time t0@system)\n",
      "   period@binary@orbit@component: Orbital period (defined at t0@system, sidereal: wrt the sky)\n",
      "           period@star@component: Rotation period (wrt the sky)\n",
      "                           pitch: Pitch of the stellar rotation axis wrt the orbital inclination\n",
      "                               q: Mass ratio\n",
      "                          requiv: Equivalent radius\n",
      "                      requiv_max: Critical (maximum) value of the equivalent radius for the given morphology\n",
      "      sma@binary@orbit@component: Semi-major axis of the orbit (defined at time t0@system)\n",
      "              sma@star@component: Semi major axis of the component in the orbit\n",
      "                         syncpar: Synchronicity parameter\n",
      "                      t0_perpass: Zeropoint date at periastron passage of the primary component\n",
      "                          t0_ref: Zeropoint date at reference point for the primary component\n",
      "                      t0_supconj: Zeropoint date at superior conjunction of the primary component\n",
      "                            teff: Mean effective temperature\n",
      "                             yaw: Yaw of the stellar rotation axis wrt the orbital longitude of ascending node\n"
     ]
    }
   ],
   "source": [
    "print(b.filter(context='component').info)"
   ]
  },
  {
   "cell_type": "markdown",
   "metadata": {},
   "source": [
    "## Units\n",
    "\n",
    "Each FloatParameter has an associated unit. Let's look at the 'sma' Parameter for the binary orbit."
   ]
  },
  {
   "cell_type": "code",
   "execution_count": 36,
   "metadata": {},
   "outputs": [
    {
     "data": {
      "text/plain": [
       "<Parameter: sma=5.3 solRad | keys: description, value, quantity, default_unit, limits, visible_if, copy_for, readonly, advanced, latexfmt>"
      ]
     },
     "execution_count": 36,
     "metadata": {},
     "output_type": "execute_result"
    }
   ],
   "source": [
    "b.get_parameter(qualifier='sma', component='binary', context='component')"
   ]
  },
  {
   "cell_type": "markdown",
   "metadata": {},
   "source": [
    "From the representation above, we can already see that the units are in solar radii. We can access the units directly via get_default_unit."
   ]
  },
  {
   "cell_type": "code",
   "execution_count": 37,
   "metadata": {},
   "outputs": [
    {
     "data": {
      "text/latex": [
       "$\\mathrm{R_{\\odot}}$"
      ],
      "text/plain": [
       "Unit(\"solRad\")"
      ]
     },
     "execution_count": 37,
     "metadata": {},
     "output_type": "execute_result"
    }
   ],
   "source": [
    "b.get_parameter(qualifier='sma', component='binary', context='component').get_default_unit()"
   ]
  },
  {
   "cell_type": "markdown",
   "metadata": {},
   "source": [
    "Calling get_value returns only the float of the value in these units."
   ]
  },
  {
   "cell_type": "code",
   "execution_count": 38,
   "metadata": {},
   "outputs": [
    {
     "data": {
      "text/plain": [
       "5.3"
      ]
     },
     "execution_count": 38,
     "metadata": {},
     "output_type": "execute_result"
    }
   ],
   "source": [
    "b.get_parameter(qualifier='sma', component='binary', context='component').get_value()"
   ]
  },
  {
   "cell_type": "markdown",
   "metadata": {},
   "source": [
    "Alternatively, you can access an astropy quantity object that contains the value and unit by calling get_quantity."
   ]
  },
  {
   "cell_type": "code",
   "execution_count": 39,
   "metadata": {},
   "outputs": [
    {
     "data": {
      "text/latex": [
       "$5.3 \\; \\mathrm{R_{\\odot}}$"
      ],
      "text/plain": [
       "<Quantity 5.3 solRad>"
      ]
     },
     "execution_count": 39,
     "metadata": {},
     "output_type": "execute_result"
    }
   ],
   "source": [
    "b.get_parameter(qualifier='sma', component='binary', context='component').get_quantity()"
   ]
  },
  {
   "cell_type": "markdown",
   "metadata": {},
   "source": [
    "Both get_value and get_quantity also accept a unit argument which will return the value or quantity in the requested units (if able to convert). This unit argument takes either a unit object (we imported a forked version of astropy units from within PHOEBE) or a string representation that can be parsed."
   ]
  },
  {
   "cell_type": "code",
   "execution_count": 40,
   "metadata": {},
   "outputs": [
    {
     "data": {
      "text/plain": [
       "3687210.0"
      ]
     },
     "execution_count": 40,
     "metadata": {},
     "output_type": "execute_result"
    }
   ],
   "source": [
    "b.get_parameter(qualifier='sma', component='binary', context='component').get_value(unit=u.km)"
   ]
  },
  {
   "cell_type": "markdown",
   "metadata": {},
   "source": [
    "If for some reason you want to change the default units, you can, but just be careful that this could cause some float-point precision issue"
   ]
  },
  {
   "cell_type": "code",
   "execution_count": 41,
   "metadata": {},
   "outputs": [],
   "source": [
    "b.get_parameter(qualifier='sma', component='binary', context='component').set_default_unit('mm')"
   ]
  },
  {
   "cell_type": "code",
   "execution_count": 42,
   "metadata": {},
   "outputs": [
    {
     "data": {
      "text/latex": [
       "$3.68721 \\times 10^{12} \\; \\mathrm{mm}$"
      ],
      "text/plain": [
       "<Quantity 3.68721e+12 mm>"
      ]
     },
     "execution_count": 42,
     "metadata": {},
     "output_type": "execute_result"
    }
   ],
   "source": [
    "b.get_parameter(qualifier='sma', component='binary', context='component').get_quantity()"
   ]
  },
  {
   "cell_type": "code",
   "execution_count": 43,
   "metadata": {},
   "outputs": [
    {
     "data": {
      "text/latex": [
       "$5.3 \\; \\mathrm{R_{\\odot}}$"
      ],
      "text/plain": [
       "<Quantity 5.3 solRad>"
      ]
     },
     "execution_count": 43,
     "metadata": {},
     "output_type": "execute_result"
    }
   ],
   "source": [
    "b.get_parameter(qualifier='sma', component='binary', context='component').get_quantity(unit='solRad')"
   ]
  },
  {
   "cell_type": "markdown",
   "metadata": {},
   "source": [
    "## Saving & Loading"
   ]
  },
  {
   "cell_type": "markdown",
   "metadata": {},
   "source": [
    "The entire bundle object can be saved to (and reloaded from) and ASCII file."
   ]
  },
  {
   "cell_type": "code",
   "execution_count": 44,
   "metadata": {},
   "outputs": [
    {
     "data": {
      "text/plain": [
       "'test.phoebe'"
      ]
     },
     "execution_count": 44,
     "metadata": {},
     "output_type": "execute_result"
    }
   ],
   "source": [
    "b.save('test.phoebe')"
   ]
  },
  {
   "cell_type": "code",
   "execution_count": 45,
   "metadata": {},
   "outputs": [],
   "source": [
    "b = phoebe.load('test.phoebe')"
   ]
  },
  {
   "cell_type": "markdown",
   "metadata": {},
   "source": [
    "# Exercise"
   ]
  },
  {
   "cell_type": "markdown",
   "metadata": {},
   "source": [
    "Find and access the value of the effective temperature of the primary star via filtering and twig access."
   ]
  },
  {
   "cell_type": "code",
   "execution_count": null,
   "metadata": {},
   "outputs": [],
   "source": []
  },
  {
   "cell_type": "markdown",
   "metadata": {},
   "source": [
    "Find the choices for the `atm` Parameter"
   ]
  },
  {
   "cell_type": "code",
   "execution_count": null,
   "metadata": {},
   "outputs": [],
   "source": []
  },
  {
   "cell_type": "markdown",
   "metadata": {},
   "source": [
    "Find what the `ltte` Parameter stands for.  Does it have choices?"
   ]
  },
  {
   "cell_type": "code",
   "execution_count": null,
   "metadata": {},
   "outputs": [],
   "source": []
  },
  {
   "cell_type": "markdown",
   "metadata": {},
   "source": [
    "Change the default unit of the argument of periastron from degrees to radians and print the result with the new units."
   ]
  },
  {
   "cell_type": "code",
   "execution_count": null,
   "metadata": {},
   "outputs": [],
   "source": []
  },
  {
   "cell_type": "markdown",
   "metadata": {},
   "source": [
    "Set the default_unit for all radii and smas of all components to AU and then show their values. (Hint: you can also call set_default_unit_all to act on a ParameterSet instead of a Parameter)"
   ]
  },
  {
   "cell_type": "code",
   "execution_count": null,
   "metadata": {},
   "outputs": [],
   "source": []
  },
  {
   "cell_type": "markdown",
   "metadata": {},
   "source": [
    "Find and set the following Parameters:\n",
    "* effective temperature of the secondary star to 5500 K\n",
    "* inclination of the binary to 86 degrees"
   ]
  },
  {
   "cell_type": "code",
   "execution_count": null,
   "metadata": {},
   "outputs": [],
   "source": []
  },
  {
   "cell_type": "markdown",
   "metadata": {},
   "source": [
    "You likely noticed that there are several (5!) Parameters in the Bundle for inclination.  This is because there is an inclination for the orbit as well as for each of the two stars in the binary system.  The other 2 are called Constraints which relate these Parameters to each other... which will be the topic of the next tutorial."
   ]
  }
 ],
 "metadata": {
  "kernelspec": {
   "display_name": "Python 3",
   "language": "python",
   "name": "python3"
  },
  "language_info": {
   "codemirror_mode": {
    "name": "ipython",
    "version": 3
   },
   "file_extension": ".py",
   "mimetype": "text/x-python",
   "name": "python",
   "nbconvert_exporter": "python",
   "pygments_lexer": "ipython3",
   "version": "3.8.5"
  }
 },
 "nbformat": 4,
 "nbformat_minor": 2
}
