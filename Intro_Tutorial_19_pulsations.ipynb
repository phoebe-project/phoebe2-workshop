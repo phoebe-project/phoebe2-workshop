{
 "cells": [
  {
   "cell_type": "markdown",
   "metadata": {},
   "source": [
    "# Pulsations in PHOEBE -- pre-alpha, demonstrably unstable version\n",
    "## ~ try at home, show no one ~"
   ]
  },
  {
   "cell_type": "markdown",
   "metadata": {},
   "source": [
    "Do not use for anything serious, please. Only goofy stuff. For real. Like, FOR REAL."
   ]
  },
  {
   "cell_type": "code",
   "execution_count": 1,
   "metadata": {},
   "outputs": [],
   "source": [
    "import phoebe\n",
    "import matplotlib\n",
    "%matplotlib inline"
   ]
  },
  {
   "cell_type": "markdown",
   "metadata": {},
   "source": [
    "You'll need the developer mode turned on for this, unless Kyle hacked it for the workshop branch. Kyle?"
   ]
  },
  {
   "cell_type": "code",
   "execution_count": 2,
   "metadata": {},
   "outputs": [],
   "source": [
    "phoebe.devel_on()\n",
    "b = phoebe.default_binary()"
   ]
  },
  {
   "cell_type": "markdown",
   "metadata": {},
   "source": [
    "Let's add two datasets, a light curve and a mesh:"
   ]
  },
  {
   "cell_type": "code",
   "execution_count": 3,
   "metadata": {},
   "outputs": [
    {
     "data": {
      "text/plain": [
       "<ParameterSet: 7 parameters | contexts: compute, dataset, constraint>"
      ]
     },
     "execution_count": 3,
     "metadata": {},
     "output_type": "execute_result"
    }
   ],
   "source": [
    "b.add_dataset('lc', times=phoebe.linspace(0, 1, 101), passband='Kepler:mean')\n",
    "b.add_dataset('mesh', times=phoebe.linspace(0, 1, 101), passband='Kepler:mean')"
   ]
  },
  {
   "cell_type": "markdown",
   "metadata": {},
   "source": [
    "Pulsations are \"features\". To add a pulsation, we need to add a feature to one (or more) of the stars. Each pulsations is parametrized by:\n",
    "\n",
    "* radial amplitude @radamp (fraction)\n",
    "* frequency @freq (c/d)\n",
    "* pulsation numbers @l and @m\n",
    "\n",
    "There is also a placeholder to provide external temperature map that is not yet implemented; instead, PHOEBE will use gravity darkening to compute temperature profiles."
   ]
  },
  {
   "cell_type": "code",
   "execution_count": 4,
   "metadata": {},
   "outputs": [
    {
     "data": {
      "text/plain": [
       "<ParameterSet: 5 parameters | qualifiers: l, radamp, teffext, m, freq>"
      ]
     },
     "execution_count": 4,
     "metadata": {},
     "output_type": "execute_result"
    }
   ],
   "source": [
    "b.add_feature('pulsation', 'primary', radamp=0.1, freq=5.0, feature='puls01')"
   ]
  },
  {
   "cell_type": "markdown",
   "metadata": {},
   "source": [
    "Let's take a look at parameters again, just to remind ourselves that we can add them post-festum:"
   ]
  },
  {
   "cell_type": "code",
   "execution_count": 5,
   "metadata": {},
   "outputs": [
    {
     "name": "stdout",
     "output_type": "stream",
     "text": [
      "ParameterSet: 5 parameters\n",
      "           radamp@puls01@feature: 0.1\n",
      "             freq@puls01@feature: 5.0 1 / d\n",
      "                l@puls01@feature: 0\n",
      "                m@puls01@feature: 0\n",
      "          teffext@puls01@feature: False\n"
     ]
    }
   ],
   "source": [
    "print(b['puls01'])"
   ]
  },
  {
   "cell_type": "markdown",
   "metadata": {},
   "source": [
    "Now we can compute the model and plot it (warning, this will take a significant chunk of time):"
   ]
  },
  {
   "cell_type": "code",
   "execution_count": 6,
   "metadata": {},
   "outputs": [
    {
     "data": {
      "text/plain": [
       "<ParameterSet: 812 parameters | kinds: mesh, lc>"
      ]
     },
     "execution_count": 6,
     "metadata": {},
     "output_type": "execute_result"
    }
   ],
   "source": [
    "b.run_compute(irrad_method='none')"
   ]
  },
  {
   "cell_type": "code",
   "execution_count": 7,
   "metadata": {},
   "outputs": [
    {
     "name": "stdout",
     "output_type": "stream",
     "text": [
      "WARNING: pad_aspect not supported for animations, ignoring\n",
      "WARNING: pad_aspect not supported for animations, ignoring\n",
      "WARNING: pad_aspect not supported for animations, ignoring\n",
      "WARNING: pad_aspect not supported for animations, ignoring\n",
      "WARNING: pad_aspect not supported for animations, ignoring\n",
      "WARNING: pad_aspect not supported for animations, ignoring\n",
      "WARNING: pad_aspect not supported for animations, ignoring\n",
      "WARNING: pad_aspect not supported for animations, ignoring\n",
      "WARNING: pad_aspect not supported for animations, ignoring\n",
      "WARNING: pad_aspect not supported for animations, ignoring\n",
      "WARNING: pad_aspect not supported for animations, ignoring\n",
      "WARNING: pad_aspect not supported for animations, ignoring\n",
      "WARNING: pad_aspect not supported for animations, ignoring\n",
      "WARNING: pad_aspect not supported for animations, ignoring\n",
      "WARNING: pad_aspect not supported for animations, ignoring\n",
      "WARNING: pad_aspect not supported for animations, ignoring\n",
      "WARNING: pad_aspect not supported for animations, ignoring\n",
      "WARNING: pad_aspect not supported for animations, ignoring\n",
      "WARNING: pad_aspect not supported for animations, ignoring\n",
      "WARNING: pad_aspect not supported for animations, ignoring\n",
      "WARNING: pad_aspect not supported for animations, ignoring\n",
      "WARNING: pad_aspect not supported for animations, ignoring\n",
      "WARNING: pad_aspect not supported for animations, ignoring\n",
      "WARNING: pad_aspect not supported for animations, ignoring\n",
      "WARNING: pad_aspect not supported for animations, ignoring\n",
      "WARNING: pad_aspect not supported for animations, ignoring\n",
      "WARNING: pad_aspect not supported for animations, ignoring\n",
      "WARNING: pad_aspect not supported for animations, ignoring\n",
      "WARNING: pad_aspect not supported for animations, ignoring\n",
      "WARNING: pad_aspect not supported for animations, ignoring\n",
      "WARNING: pad_aspect not supported for animations, ignoring\n",
      "WARNING: pad_aspect not supported for animations, ignoring\n",
      "WARNING: pad_aspect not supported for animations, ignoring\n",
      "WARNING: pad_aspect not supported for animations, ignoring\n",
      "WARNING: pad_aspect not supported for animations, ignoring\n",
      "WARNING: pad_aspect not supported for animations, ignoring\n",
      "WARNING: pad_aspect not supported for animations, ignoring\n",
      "WARNING: pad_aspect not supported for animations, ignoring\n",
      "WARNING: pad_aspect not supported for animations, ignoring\n",
      "WARNING: pad_aspect not supported for animations, ignoring\n",
      "WARNING: pad_aspect not supported for animations, ignoring\n",
      "WARNING: pad_aspect not supported for animations, ignoring\n",
      "WARNING: pad_aspect not supported for animations, ignoring\n",
      "WARNING: pad_aspect not supported for animations, ignoring\n",
      "WARNING: pad_aspect not supported for animations, ignoring\n",
      "WARNING: pad_aspect not supported for animations, ignoring\n",
      "WARNING: pad_aspect not supported for animations, ignoring\n",
      "WARNING: pad_aspect not supported for animations, ignoring\n",
      "WARNING: pad_aspect not supported for animations, ignoring\n",
      "WARNING: pad_aspect not supported for animations, ignoring\n",
      "WARNING: pad_aspect not supported for animations, ignoring\n",
      "WARNING: pad_aspect not supported for animations, ignoring\n",
      "WARNING: pad_aspect not supported for animations, ignoring\n",
      "WARNING: pad_aspect not supported for animations, ignoring\n",
      "WARNING: pad_aspect not supported for animations, ignoring\n",
      "WARNING: pad_aspect not supported for animations, ignoring\n",
      "WARNING: pad_aspect not supported for animations, ignoring\n",
      "WARNING: pad_aspect not supported for animations, ignoring\n",
      "WARNING: pad_aspect not supported for animations, ignoring\n",
      "WARNING: pad_aspect not supported for animations, ignoring\n",
      "WARNING: pad_aspect not supported for animations, ignoring\n",
      "WARNING: pad_aspect not supported for animations, ignoring\n",
      "WARNING: pad_aspect not supported for animations, ignoring\n",
      "WARNING: pad_aspect not supported for animations, ignoring\n",
      "WARNING: pad_aspect not supported for animations, ignoring\n",
      "WARNING: pad_aspect not supported for animations, ignoring\n",
      "WARNING: pad_aspect not supported for animations, ignoring\n",
      "WARNING: pad_aspect not supported for animations, ignoring\n",
      "WARNING: pad_aspect not supported for animations, ignoring\n",
      "WARNING: pad_aspect not supported for animations, ignoring\n",
      "WARNING: pad_aspect not supported for animations, ignoring\n",
      "WARNING: pad_aspect not supported for animations, ignoring\n",
      "WARNING: pad_aspect not supported for animations, ignoring\n",
      "WARNING: pad_aspect not supported for animations, ignoring\n",
      "WARNING: pad_aspect not supported for animations, ignoring\n",
      "WARNING: pad_aspect not supported for animations, ignoring\n",
      "WARNING: pad_aspect not supported for animations, ignoring\n",
      "WARNING: pad_aspect not supported for animations, ignoring\n",
      "WARNING: pad_aspect not supported for animations, ignoring\n",
      "WARNING: pad_aspect not supported for animations, ignoring\n",
      "WARNING: pad_aspect not supported for animations, ignoring\n",
      "WARNING: pad_aspect not supported for animations, ignoring\n",
      "WARNING: pad_aspect not supported for animations, ignoring\n",
      "WARNING: pad_aspect not supported for animations, ignoring\n",
      "WARNING: pad_aspect not supported for animations, ignoring\n",
      "WARNING: pad_aspect not supported for animations, ignoring\n",
      "WARNING: pad_aspect not supported for animations, ignoring\n",
      "WARNING: pad_aspect not supported for animations, ignoring\n",
      "WARNING: pad_aspect not supported for animations, ignoring\n",
      "WARNING: pad_aspect not supported for animations, ignoring\n",
      "WARNING: pad_aspect not supported for animations, ignoring\n",
      "WARNING: pad_aspect not supported for animations, ignoring\n",
      "WARNING: pad_aspect not supported for animations, ignoring\n",
      "WARNING: pad_aspect not supported for animations, ignoring\n",
      "WARNING: pad_aspect not supported for animations, ignoring\n",
      "WARNING: pad_aspect not supported for animations, ignoring\n",
      "WARNING: pad_aspect not supported for animations, ignoring\n",
      "WARNING: pad_aspect not supported for animations, ignoring\n",
      "WARNING: pad_aspect not supported for animations, ignoring\n",
      "WARNING: pad_aspect not supported for animations, ignoring\n",
      "WARNING: pad_aspect not supported for animations, ignoring\n",
      "WARNING: pad_aspect not supported for animations, ignoring\n",
      "WARNING: pad_aspect not supported for animations, ignoring\n",
      "WARNING: pad_aspect not supported for animations, ignoring\n",
      "WARNING: pad_aspect not supported for animations, ignoring\n",
      "WARNING: pad_aspect not supported for animations, ignoring\n",
      "WARNING: pad_aspect not supported for animations, ignoring\n",
      "WARNING: pad_aspect not supported for animations, ignoring\n",
      "WARNING: pad_aspect not supported for animations, ignoring\n",
      "WARNING: pad_aspect not supported for animations, ignoring\n",
      "WARNING: pad_aspect not supported for animations, ignoring\n"
     ]
    },
    {
     "data": {
      "text/plain": [
       "(<autofig.figure.Figure | 2 axes | 203 call(s)>,\n",
       " <matplotlib.animation.FuncAnimation at 0x7f0d1a403128>)"
      ]
     },
     "execution_count": 7,
     "metadata": {},
     "output_type": "execute_result"
    },
    {
     "data": {
      "image/png": "[encoded data removed]",
      "text/plain": [
       "<Figure size 432x288 with 2 Axes>"
      ]
     },
     "metadata": {
      "needs_background": "light"
     },
     "output_type": "display_data"
    }
   ],
   "source": [
    "b.plot(animate=True, save='anim.gif', save_kwargs={'writer': 'imagemagick'})"
   ]
  },
  {
   "cell_type": "markdown",
   "metadata": {},
   "source": [
    "![title](puls1.anim.gif)"
   ]
  },
  {
   "cell_type": "markdown",
   "metadata": {},
   "source": [
    "We can now add another pulsation on the secondary star and recompute/replot the model:"
   ]
  },
  {
   "cell_type": "code",
   "execution_count": 10,
   "metadata": {},
   "outputs": [
    {
     "data": {
      "text/plain": [
       "<ParameterSet: 5 parameters | qualifiers: l, radamp, teffext, m, freq>"
      ]
     },
     "execution_count": 10,
     "metadata": {},
     "output_type": "execute_result"
    }
   ],
   "source": [
    "b.add_feature('pulsation', 'secondary', l=2, m=1, freq=4.0, radamp=0.15, feature='puls02', overwrite=True)"
   ]
  },
  {
   "cell_type": "code",
   "execution_count": 11,
   "metadata": {},
   "outputs": [
    {
     "data": {
      "text/plain": [
       "<ParameterSet: 812 parameters | kinds: mesh, lc>"
      ]
     },
     "execution_count": 11,
     "metadata": {},
     "output_type": "execute_result"
    }
   ],
   "source": [
    "b.run_compute(irrad_method='none')"
   ]
  },
  {
   "cell_type": "code",
   "execution_count": 12,
   "metadata": {
    "scrolled": true
   },
   "outputs": [
    {
     "name": "stdout",
     "output_type": "stream",
     "text": [
      "WARNING: pad_aspect not supported for animations, ignoring\n",
      "WARNING: pad_aspect not supported for animations, ignoring\n",
      "WARNING: pad_aspect not supported for animations, ignoring\n",
      "WARNING: pad_aspect not supported for animations, ignoring\n",
      "WARNING: pad_aspect not supported for animations, ignoring\n",
      "WARNING: pad_aspect not supported for animations, ignoring\n",
      "WARNING: pad_aspect not supported for animations, ignoring\n",
      "WARNING: pad_aspect not supported for animations, ignoring\n",
      "WARNING: pad_aspect not supported for animations, ignoring\n",
      "WARNING: pad_aspect not supported for animations, ignoring\n",
      "WARNING: pad_aspect not supported for animations, ignoring\n",
      "WARNING: pad_aspect not supported for animations, ignoring\n",
      "WARNING: pad_aspect not supported for animations, ignoring\n",
      "WARNING: pad_aspect not supported for animations, ignoring\n",
      "WARNING: pad_aspect not supported for animations, ignoring\n",
      "WARNING: pad_aspect not supported for animations, ignoring\n",
      "WARNING: pad_aspect not supported for animations, ignoring\n",
      "WARNING: pad_aspect not supported for animations, ignoring\n",
      "WARNING: pad_aspect not supported for animations, ignoring\n",
      "WARNING: pad_aspect not supported for animations, ignoring\n",
      "WARNING: pad_aspect not supported for animations, ignoring\n",
      "WARNING: pad_aspect not supported for animations, ignoring\n",
      "WARNING: pad_aspect not supported for animations, ignoring\n",
      "WARNING: pad_aspect not supported for animations, ignoring\n",
      "WARNING: pad_aspect not supported for animations, ignoring\n",
      "WARNING: pad_aspect not supported for animations, ignoring\n",
      "WARNING: pad_aspect not supported for animations, ignoring\n",
      "WARNING: pad_aspect not supported for animations, ignoring\n",
      "WARNING: pad_aspect not supported for animations, ignoring\n",
      "WARNING: pad_aspect not supported for animations, ignoring\n",
      "WARNING: pad_aspect not supported for animations, ignoring\n",
      "WARNING: pad_aspect not supported for animations, ignoring\n",
      "WARNING: pad_aspect not supported for animations, ignoring\n",
      "WARNING: pad_aspect not supported for animations, ignoring\n",
      "WARNING: pad_aspect not supported for animations, ignoring\n",
      "WARNING: pad_aspect not supported for animations, ignoring\n",
      "WARNING: pad_aspect not supported for animations, ignoring\n",
      "WARNING: pad_aspect not supported for animations, ignoring\n",
      "WARNING: pad_aspect not supported for animations, ignoring\n",
      "WARNING: pad_aspect not supported for animations, ignoring\n",
      "WARNING: pad_aspect not supported for animations, ignoring\n",
      "WARNING: pad_aspect not supported for animations, ignoring\n",
      "WARNING: pad_aspect not supported for animations, ignoring\n",
      "WARNING: pad_aspect not supported for animations, ignoring\n",
      "WARNING: pad_aspect not supported for animations, ignoring\n",
      "WARNING: pad_aspect not supported for animations, ignoring\n",
      "WARNING: pad_aspect not supported for animations, ignoring\n",
      "WARNING: pad_aspect not supported for animations, ignoring\n",
      "WARNING: pad_aspect not supported for animations, ignoring\n",
      "WARNING: pad_aspect not supported for animations, ignoring\n",
      "WARNING: pad_aspect not supported for animations, ignoring\n",
      "WARNING: pad_aspect not supported for animations, ignoring\n",
      "WARNING: pad_aspect not supported for animations, ignoring\n",
      "WARNING: pad_aspect not supported for animations, ignoring\n",
      "WARNING: pad_aspect not supported for animations, ignoring\n",
      "WARNING: pad_aspect not supported for animations, ignoring\n",
      "WARNING: pad_aspect not supported for animations, ignoring\n",
      "WARNING: pad_aspect not supported for animations, ignoring\n",
      "WARNING: pad_aspect not supported for animations, ignoring\n",
      "WARNING: pad_aspect not supported for animations, ignoring\n",
      "WARNING: pad_aspect not supported for animations, ignoring\n",
      "WARNING: pad_aspect not supported for animations, ignoring\n",
      "WARNING: pad_aspect not supported for animations, ignoring\n",
      "WARNING: pad_aspect not supported for animations, ignoring\n",
      "WARNING: pad_aspect not supported for animations, ignoring\n",
      "WARNING: pad_aspect not supported for animations, ignoring\n",
      "WARNING: pad_aspect not supported for animations, ignoring\n",
      "WARNING: pad_aspect not supported for animations, ignoring\n",
      "WARNING: pad_aspect not supported for animations, ignoring\n",
      "WARNING: pad_aspect not supported for animations, ignoring\n",
      "WARNING: pad_aspect not supported for animations, ignoring\n",
      "WARNING: pad_aspect not supported for animations, ignoring\n",
      "WARNING: pad_aspect not supported for animations, ignoring\n",
      "WARNING: pad_aspect not supported for animations, ignoring\n",
      "WARNING: pad_aspect not supported for animations, ignoring\n",
      "WARNING: pad_aspect not supported for animations, ignoring\n",
      "WARNING: pad_aspect not supported for animations, ignoring\n",
      "WARNING: pad_aspect not supported for animations, ignoring\n",
      "WARNING: pad_aspect not supported for animations, ignoring\n",
      "WARNING: pad_aspect not supported for animations, ignoring\n",
      "WARNING: pad_aspect not supported for animations, ignoring\n",
      "WARNING: pad_aspect not supported for animations, ignoring\n",
      "WARNING: pad_aspect not supported for animations, ignoring\n",
      "WARNING: pad_aspect not supported for animations, ignoring\n",
      "WARNING: pad_aspect not supported for animations, ignoring\n",
      "WARNING: pad_aspect not supported for animations, ignoring\n",
      "WARNING: pad_aspect not supported for animations, ignoring\n",
      "WARNING: pad_aspect not supported for animations, ignoring\n",
      "WARNING: pad_aspect not supported for animations, ignoring\n",
      "WARNING: pad_aspect not supported for animations, ignoring\n",
      "WARNING: pad_aspect not supported for animations, ignoring\n",
      "WARNING: pad_aspect not supported for animations, ignoring\n",
      "WARNING: pad_aspect not supported for animations, ignoring\n",
      "WARNING: pad_aspect not supported for animations, ignoring\n",
      "WARNING: pad_aspect not supported for animations, ignoring\n",
      "WARNING: pad_aspect not supported for animations, ignoring\n",
      "WARNING: pad_aspect not supported for animations, ignoring\n",
      "WARNING: pad_aspect not supported for animations, ignoring\n",
      "WARNING: pad_aspect not supported for animations, ignoring\n",
      "WARNING: pad_aspect not supported for animations, ignoring\n",
      "WARNING: pad_aspect not supported for animations, ignoring\n",
      "WARNING: pad_aspect not supported for animations, ignoring\n",
      "WARNING: pad_aspect not supported for animations, ignoring\n",
      "WARNING: pad_aspect not supported for animations, ignoring\n",
      "WARNING: pad_aspect not supported for animations, ignoring\n",
      "WARNING: pad_aspect not supported for animations, ignoring\n",
      "WARNING: pad_aspect not supported for animations, ignoring\n",
      "WARNING: pad_aspect not supported for animations, ignoring\n",
      "WARNING: pad_aspect not supported for animations, ignoring\n",
      "WARNING: pad_aspect not supported for animations, ignoring\n",
      "WARNING: pad_aspect not supported for animations, ignoring\n"
     ]
    },
    {
     "data": {
      "text/plain": [
       "(<autofig.figure.Figure | 2 axes | 203 call(s)>,\n",
       " <matplotlib.animation.FuncAnimation at 0x7f33395314e0>)"
      ]
     },
     "execution_count": 12,
     "metadata": {},
     "output_type": "execute_result"
    },
    {
     "data": {
      "image/png": "[encoded data removed]",
      "text/plain": [
       "<Figure size 432x288 with 2 Axes>"
      ]
     },
     "metadata": {
      "needs_background": "light"
     },
     "output_type": "display_data"
    }
   ],
   "source": [
    "b.plot(animate=True, save='anim2.gif', save_kwargs={'writer': 'imagemagick'})"
   ]
  },
  {
   "cell_type": "markdown",
   "metadata": {},
   "source": [
    "![title](puls2.anim.gif)"
   ]
  },
  {
   "cell_type": "code",
   "execution_count": null,
   "metadata": {},
   "outputs": [],
   "source": []
  }
 ],
 "metadata": {
  "kernelspec": {
   "display_name": "Python 3",
   "language": "python",
   "name": "python3"
  },
  "language_info": {
   "codemirror_mode": {
    "name": "ipython",
    "version": 3
   },
   "file_extension": ".py",
   "mimetype": "text/x-python",
   "name": "python",
   "nbconvert_exporter": "python",
   "pygments_lexer": "ipython3",
   "version": "3.7.3"
  }
 },
 "nbformat": 4,
 "nbformat_minor": 2
}
