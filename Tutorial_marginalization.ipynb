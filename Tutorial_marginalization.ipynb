{
 "cells": [
  {
   "cell_type": "markdown",
   "id": "accessible-brooklyn",
   "metadata": {},
   "source": [
    "## Tutorial: marginalization\n",
    "\n",
    "Hopefully by now you have a clear idea of what the PHOEBE bundle looks like and how many parameters go into a single model computation. We also saw in the parametrization tutorial that certain parameters are not sensitive to certain data."
   ]
  },
  {
   "cell_type": "markdown",
   "id": "congressional-witness",
   "metadata": {},
   "source": [
    "#### Case 1: parameters insensitive to data"
   ]
  },
  {
   "cell_type": "markdown",
   "id": "supposed-paraguay",
   "metadata": {},
   "source": [
    "So let's look at the one light curve scenario. As we've seen before, a light curve does not constrain well parameters related to individual masses,  radii and temperatures. So when we reparametrize to fit for the sum and ratio of fractional radii and the temperature ratio, should we omit q, sma@binary and teff@primary from the fitted parameters? \n",
    "\n",
    "**== DISCUSSION ON SLACK ==**"
   ]
  },
  {
   "cell_type": "code",
   "execution_count": 1,
   "id": "level-recipient",
   "metadata": {},
   "outputs": [],
   "source": [
    "import numpy as np\n",
    "import phoebe\n",
    "import matplotlib.pyplot as plt\n",
    "%matplotlib inline"
   ]
  },
  {
   "cell_type": "code",
   "execution_count": 2,
   "id": "invisible-context",
   "metadata": {},
   "outputs": [],
   "source": [
    "lc = np.loadtxt('data/synthetic/lc.data')\n",
    "\n",
    "b = phoebe.load('data/synthetic/true.bundle')\n",
    "b.add_dataset('lc', times=lc[:,0], fluxes=lc[:,1], sigmas=lc[:,2], passband='Johnson:V')\n",
    "\n",
    "b.set_value('pblum_mode', 'dataset-scaled')"
   ]
  },
  {
   "cell_type": "code",
   "execution_count": 3,
   "id": "eligible-showcase",
   "metadata": {},
   "outputs": [
    {
     "data": {
      "text/plain": [
       "<ConstraintParameter: {teff@secondary@component} = {teffratio@binary@component} * {teff@primary@component} (solar units) => 5610.0 K>"
      ]
     },
     "execution_count": 3,
     "metadata": {},
     "output_type": "execute_result"
    }
   ],
   "source": [
    "b.flip_constraint('q', solve_for='mass@secondary')\n",
    "b.flip_constraint('sma@binary', solve_for='mass@primary') # optional since lc also doesn't constrain sma\n",
    "\n",
    "b.add_constraint('requivsumfrac')\n",
    "b.add_constraint('requivratio')\n",
    "b.add_constraint('teffratio')\n",
    "\n",
    "b.flip_constraint('requivsumfrac', solve_for='requiv@primary@component')\n",
    "b.flip_constraint('requivratio', solve_for='requiv@secondary@component')\n",
    "b.flip_constraint('teffratio', solve_for='teff@secondary@component')"
   ]
  },
  {
   "cell_type": "markdown",
   "id": "mexican-classics",
   "metadata": {},
   "source": [
    "**fixing the parameters (to wrong values)**"
   ]
  },
  {
   "cell_type": "markdown",
   "id": "dietary-soundtrack",
   "metadata": {},
   "source": [
    "Let's first see what happens when we omit q, sma and teff from the sampled parameters, but instead of setting them to their true values, like in the parametrization tutorial, we'll fix them to some incorrect values."
   ]
  },
  {
   "cell_type": "code",
   "execution_count": 4,
   "id": "regulated-appearance",
   "metadata": {},
   "outputs": [],
   "source": [
    "b.set_value('q', 1.)\n",
    "b.set_value('sma@binary', 15.)\n",
    "b.set_value('teff@primary', 7500)"
   ]
  },
  {
   "cell_type": "code",
   "execution_count": 5,
   "id": "literary-aging",
   "metadata": {},
   "outputs": [
    {
     "name": "stderr",
     "output_type": "stream",
     "text": [
      "100%|██████████| 200/200 [00:06<00:00, 31.35it/s]\n"
     ]
    },
    {
     "data": {
      "image/png": "[encoded data removed]",
      "text/plain": [
       "<Figure size 576x432 with 1 Axes>"
      ]
     },
     "metadata": {
      "needs_background": "light"
     },
     "output_type": "display_data"
    },
    {
     "data": {
      "text/plain": [
       "(<autofig.figure.Figure | 1 axes | 2 call(s)>,\n",
       " <Figure size 576x432 with 1 Axes>)"
      ]
     },
     "execution_count": 5,
     "metadata": {},
     "output_type": "execute_result"
    }
   ],
   "source": [
    "b.run_compute()\n",
    "b.plot(x='phase', show=True)"
   ]
  },
  {
   "cell_type": "markdown",
   "id": "continuing-meeting",
   "metadata": {},
   "source": [
    "As expected, changing these values did not have a huge effect on the light curve. Let's initialize a sample only around the true values that the light curve is sensitive to *(we'll omit esinw and ecosw here because we know it's a circular system and sampling takes much faster if the orbit is not eccentric)*:"
   ]
  },
  {
   "cell_type": "code",
   "execution_count": 6,
   "id": "enclosed-intensity",
   "metadata": {},
   "outputs": [
    {
     "data": {
      "text/plain": [
       "<ParameterSet: 4 parameters | qualifiers: requivsumfrac, teffratio, requivratio, incl>"
      ]
     },
     "execution_count": 6,
     "metadata": {},
     "output_type": "execute_result"
    }
   ],
   "source": [
    "b.add_distribution({\n",
    "    'requivsumfrac': phoebe.gaussian_around(0.01),\n",
    "    'requivratio': phoebe.gaussian_around(0.1),\n",
    "    'teffratio': phoebe.gaussian_around(0.1),\n",
    "    'incl@binary': phoebe.gaussian_around(0.5)\n",
    "}, distribution='fixed_wrong')"
   ]
  },
  {
   "cell_type": "markdown",
   "id": "electronic-welding",
   "metadata": {},
   "source": [
    "_________________________________________"
   ]
  },
  {
   "cell_type": "code",
   "execution_count": 24,
   "id": "compatible-sequence",
   "metadata": {},
   "outputs": [],
   "source": [
    "# b.add_server('remoteslurm', crimpl_name='clusty', nprocs=48, walltime=48,\n",
    "#              use_conda=True, conda_env='phoebe-workshop',\n",
    "#              server='clusty')"
   ]
  },
  {
   "cell_type": "code",
   "execution_count": 25,
   "id": "secure-packing",
   "metadata": {},
   "outputs": [],
   "source": [
    "# b.add_solver('sampler.emcee', solver='mcmc_fixed_wrong',\n",
    "#               init_from='fixed_wrong',\n",
    "#               compute='phoebe01', nwalkers=48, niters=500, progress_every_niters=50)"
   ]
  },
  {
   "cell_type": "code",
   "execution_count": 26,
   "id": "protective-click",
   "metadata": {},
   "outputs": [],
   "source": [
    "# b.run_solver('mcmc_fixed_wrong', use_server='clusty', solution='mcmc_fixed_wrong_solution', detach=True)"
   ]
  },
  {
   "cell_type": "markdown",
   "id": "exempt-occurrence",
   "metadata": {},
   "source": [
    "______________________________________________________"
   ]
  },
  {
   "cell_type": "markdown",
   "id": "vietnamese-newton",
   "metadata": {},
   "source": [
    "**marginalizing over parameters**"
   ]
  },
  {
   "cell_type": "markdown",
   "id": "mobile-ireland",
   "metadata": {},
   "source": [
    "Let's see what happens when we include these additional three parameters in the sample. Since our data is not directly sensitive to them, we'll give them a wider initial sampling distribution."
   ]
  },
  {
   "cell_type": "code",
   "execution_count": 11,
   "id": "cultural-symbol",
   "metadata": {},
   "outputs": [
    {
     "data": {
      "text/plain": [
       "<ParameterSet: 7 parameters | components: primary, binary>"
      ]
     },
     "execution_count": 11,
     "metadata": {},
     "output_type": "execute_result"
    }
   ],
   "source": [
    "b.add_distribution({\n",
    "    'requivsumfrac': phoebe.gaussian_around(0.01),\n",
    "    'requivratio': phoebe.gaussian_around(0.1),\n",
    "    'teffratio': phoebe.gaussian_around(0.1),\n",
    "    'incl@binary': phoebe.gaussian_around(0.5),\n",
    "    'q': phoebe.gaussian_around(0.25),\n",
    "    'sma@binary': phoebe.gaussian_around(5),\n",
    "    'teff@primary': phoebe.gaussian_around(500)\n",
    "}, distribution='marginalization')"
   ]
  },
  {
   "cell_type": "code",
   "execution_count": 17,
   "id": "separate-radical",
   "metadata": {},
   "outputs": [],
   "source": [
    "# b.add_solver('sampler.emcee', solver='mcmc_marginalization',\n",
    "#               init_from='marginalization',\n",
    "#               compute='phoebe01', nwalkers=48, niters=500, progress_every_niters=50)"
   ]
  },
  {
   "cell_type": "code",
   "execution_count": 18,
   "id": "therapeutic-defendant",
   "metadata": {},
   "outputs": [],
   "source": [
    "# b.set_value('niters', solver='mcmc_marginalization', value=1000)\n",
    "# b.run_solver('mcmc_marginalization', use_server='clusty', solution='mcmc_marginalization_solution', detach=True)"
   ]
  },
  {
   "cell_type": "code",
   "execution_count": 19,
   "id": "offensive-stake",
   "metadata": {},
   "outputs": [],
   "source": [
    "# b.save('data/synthetic/true_marginalization.bundle')"
   ]
  },
  {
   "cell_type": "code",
   "execution_count": 42,
   "id": "distinguished-protest",
   "metadata": {},
   "outputs": [
    {
     "name": "stdout",
     "output_type": "stream",
     "text": [
      "# crimpl: ssh clusty \"ls -d ~/crimpl/crimpl-job-*\"\n",
      "# crimpl: ssh clusty \"pwd\"\n",
      "# crimpl: ssh clusty \"cat /home/users/angela/crimpl/crimpl-job-2021.06.10-13.35.36/crimpl_slurm_id\"\n",
      "# crimpl: ssh clusty \"squeue -j 63106\"\n",
      "# crimpl: ssh clusty \"ls /home/users/angela/crimpl/crimpl-job-2021.06.10-13.35.36/*\"\n",
      "# crimpl: ssh clusty \"ls /home/users/angela/crimpl/crimpl-job-2021.06.10-13.35.36/*\"\n",
      "# crimpl: ssh clusty \"ls /home/users/angela/crimpl/crimpl-job-2021.06.10-13.35.36/*\"\n",
      "# crimpl: ssh clusty \"cat /home/users/angela/crimpl/crimpl-job-2021.06.10-13.35.36/crimpl-input-files.list\"\n",
      "# crimpl: ssh clusty \"ls /home/users/angela/crimpl/crimpl-job-2021.06.10-13.35.36/*\"\n",
      "# crimpl: scp clusty:/home/users/angela/crimpl/crimpl-job-2021.06.10-13.35.36/slurm-63106.out ./\n",
      "# crimpl: ssh clusty \"squeue -j 63106\"\n"
     ]
    },
    {
     "ename": "ValueError",
     "evalue": "job has not yet produced any output, with the following log:\n\n****************************************************************************\n\n* hwloc 1.11.2 has encountered what looks like an error from the operating system.\n\n*\n\n* L3 (cpuset 0x000003f0) intersects with NUMANode (P#0 cpuset 0x0000003f) without inclusion!\n\n* Error occurred in topology.c line 1046\n\n*\n\n* The following FAQ entry in the hwloc documentation may help:\n\n*   What should I do when hwloc reports \"operating system\" warnings?\n\n* Otherwise please report this error message to the hwloc user's mailing list,\n\n* along with the output+tarball generated by the hwloc-gather-topology script.\n\n****************************************************************************\n\nConnection to online passbands at http://tables.phoebe-project.org could not be established.  Check your internet connection or try again later (can manually call phoebe.list_online_passbands(refresh=True) to retry).  If the problem persists and you're using a Mac, you may need to update openssl (see http://phoebe-project.org/help/faq). Original error from urlopen: timeout timed out\n\nConnection to online passbands at http://tables.phoebe-project.org could not be established.  Check your internet connection or try again later (can manually call phoebe.list_online_passbands(refresh=True) to retry).  If the problem persists and you're using a Mac, you may need to update openssl (see http://phoebe-project.org/help/faq). Original error from urlopen: timeout timed out\n\nConnection to online passbands at http://tables.phoebe-project.org could not be established.  Check your internet connection or try again later (can manually call phoebe.list_online_passbands(refresh=True) to retry).  If the problem persists and you're using a Mac, you may need to update openssl (see http://phoebe-project.org/help/faq). Original error from urlopen: timeout timed out\n\nConnection to online passbands at http://tables.phoebe-project.org could not be established.  Check your internet connection or try again later (can manually call phoebe.list_online_passbands(refresh=True) to retry).  If the problem persists and you're using a Mac, you may need to update openssl (see http://phoebe-project.org/help/faq). Original error from urlopen: timeout timed out\n\nConnection to online passbands at http://tables.phoebe-project.org could not be established.  Check your internet connection or try again later (can manually call phoebe.list_online_passbands(refresh=True) to retry).  If the problem persists and you're using a Mac, you may need to update openssl (see http://phoebe-project.org/help/faq). Original error from urlopen: timeout timed out\n\nConnection to online passbands at http://tables.phoebe-project.org could not be established.  Check your internet connection or try again later (can manually call phoebe.list_online_passbands(refresh=True) to retry).  If the problem persists and you're using a Mac, you may need to update openssl (see http://phoebe-project.org/help/faq). Original error from urlopen: timeout timed out\n\nConnection to online passbands at http://tables.phoebe-project.org could not be established.  Check your internet connection or try again later (can manually call phoebe.list_online_passbands(refresh=True) to retry).  If the problem persists and you're using a Mac, you may need to update openssl (see http://phoebe-project.org/help/faq). Original error from urlopen: timeout timed out\n\nConnection to online passbands at http://tables.phoebe-project.org could not be established.  Check your internet connection or try again later (can manually call phoebe.list_online_passbands(refresh=True) to retry).  If the problem persists and you're using a Mac, you may need to update openssl (see http://phoebe-project.org/help/faq). Original error from urlopen: timeout timed out\n\nConnection to online passbands at http://tables.phoebe-project.org could not be established.  Check your internet connection or try again later (can manually call phoebe.list_online_passbands(refresh=True) to retry).  If the problem persists and you're using a Mac, you may need to update openssl (see http://phoebe-project.org/help/faq). Original error from urlopen: timeout timed out\n\nConnection to online passbands at http://tables.phoebe-project.org could not be established.  Check your internet connection or try again later (can manually call phoebe.list_online_passbands(refresh=True) to retry).  If the problem persists and you're using a Mac, you may need to update openssl (see http://phoebe-project.org/help/faq). Original error from urlopen: timeout timed out\n\nConnection to online passbands at http://tables.phoebe-project.org could not be established.  Check your internet connection or try again later (can manually call phoebe.list_online_passbands(refresh=True) to retry).  If the problem persists and you're using a Mac, you may need to update openssl (see http://phoebe-project.org/help/faq). Original error from urlopen: timeout timed out\n\nConnection to online passbands at http://tables.phoebe-project.org could not be established.  Check your internet connection or try again later (can manually call phoebe.list_online_passbands(refresh=True) to retry).  If the problem persists and you're using a Mac, you may need to update openssl (see http://phoebe-project.org/help/faq). Original error from urlopen: timeout timed out\n\nConnection to online passbands at http://tables.phoebe-project.org could not be established.  Check your internet connection or try again later (can manually call phoebe.list_online_passbands(refresh=True) to retry).  If the problem persists and you're using a Mac, you may need to update openssl (see http://phoebe-project.org/help/faq). Original error from urlopen: timeout timed out\n\nConnection to online passbands at http://tables.phoebe-project.org could not be established.  Check your internet connection or try again later (can manually call phoebe.list_online_passbands(refresh=True) to retry).  If the problem persists and you're using a Mac, you may need to update openssl (see http://phoebe-project.org/help/faq). Original error from urlopen: timeout timed out\n\nConnection to online passbands at http://tables.phoebe-project.org could not be established.  Check your internet connection or try again later (can manually call phoebe.list_online_passbands(refresh=True) to retry).  If the problem persists and you're using a Mac, you may need to update openssl (see http://phoebe-project.org/help/faq). Original error from urlopen: timeout timed out\n\nConnection to online passbands at http://tables.phoebe-project.org could not be established.  Check your internet connection or try again later (can manually call phoebe.list_online_passbands(refresh=True) to retry).  If the problem persists and you're using a Mac, you may need to update openssl (see http://phoebe-project.org/help/faq). Original error from urlopen: timeout timed out\n\nConnection to online passbands at http://tables.phoebe-project.org could not be established.  Check your internet connection or try again later (can manually call phoebe.list_online_passbands(refresh=True) to retry).  If the problem persists and you're using a Mac, you may need to update openssl (see http://phoebe-project.org/help/faq). Original error from urlopen: timeout timed out\n\nConnection to online passbands at http://tables.phoebe-project.org could not be established.  Check your internet connection or try again later (can manually call phoebe.list_online_passbands(refresh=True) to retry).  If the problem persists and you're using a Mac, you may need to update openssl (see http://phoebe-project.org/help/faq). Original error from urlopen: timeout timed out\n\nConnection to online passbands at http://tables.phoebe-project.org could not be established.  Check your internet connection or try again later (can manually call phoebe.list_online_passbands(refresh=True) to retry).  If the problem persists and you're using a Mac, you may need to update openssl (see http://phoebe-project.org/help/faq). Original error from urlopen: timeout timed out\n\nConnection to online passbands at http://tables.phoebe-project.org could not be established.  Check your internet connection or try again later (can manually call phoebe.list_online_passbands(refresh=True) to retry).  If the problem persists and you're using a Mac, you may need to update openssl (see http://phoebe-project.org/help/faq). Original error from urlopen: timeout timed out\n\nConnection to online passbands at http://tables.phoebe-project.org could not be established.  Check your internet connection or try again later (can manually call phoebe.list_online_passbands(refresh=True) to retry).  If the problem persists and you're using a Mac, you may need to update openssl (see http://phoebe-project.org/help/faq). Original error from urlopen: timeout timed out\n\nConnection to online passbands at http://tables.phoebe-project.org could not be established.  Check your internet connection or try again later (can manually call phoebe.list_online_passbands(refresh=True) to retry).  If the problem persists and you're using a Mac, you may need to update openssl (see http://phoebe-project.org/help/faq). Original error from urlopen: timeout timed out\n\nConnection to online passbands at http://tables.phoebe-project.org could not be established.  Check your internet connection or try again later (can manually call phoebe.list_online_passbands(refresh=True) to retry).  If the problem persists and you're using a Mac, you may need to update openssl (see http://phoebe-project.org/help/faq). Original error from urlopen: timeout timed out\n\nConnection to online passbands at http://tables.phoebe-project.org could not be established.  Check your internet connection or try again later (can manually call phoebe.list_online_passbands(refresh=True) to retry).  If the problem persists and you're using a Mac, you may need to update openssl (see http://phoebe-project.org/help/faq). Original error from urlopen: timeout timed out\n\nConnection to online passbands at http://tables.phoebe-project.org could not be established.  Check your internet connection or try again later (can manually call phoebe.list_online_passbands(refresh=True) to retry).  If the problem persists and you're using a Mac, you may need to update openssl (see http://phoebe-project.org/help/faq). Original error from urlopen: timeout timed out\n\nConnection to online passbands at http://tables.phoebe-project.org could not be established.  Check your internet connection or try again later (can manually call phoebe.list_online_passbands(refresh=True) to retry).  If the problem persists and you're using a Mac, you may need to update openssl (see http://phoebe-project.org/help/faq). Original error from urlopen: timeout timed out\n\nConnection to online passbands at http://tables.phoebe-project.org could not be established.  Check your internet connection or try again later (can manually call phoebe.list_online_passbands(refresh=True) to retry).  If the problem persists and you're using a Mac, you may need to update openssl (see http://phoebe-project.org/help/faq). Original error from urlopen: timeout timed out\n\nConnection to online passbands at http://tables.phoebe-project.org could not be established.  Check your internet connection or try again later (can manually call phoebe.list_online_passbands(refresh=True) to retry).  If the problem persists and you're using a Mac, you may need to update openssl (see http://phoebe-project.org/help/faq). Original error from urlopen: timeout timed out\n\nConnection to online passbands at http://tables.phoebe-project.org could not be established.  Check your internet connection or try again later (can manually call phoebe.list_online_passbands(refresh=True) to retry).  If the problem persists and you're using a Mac, you may need to update openssl (see http://phoebe-project.org/help/faq). Original error from urlopen: timeout timed out\n\nConnection to online passbands at http://tables.phoebe-project.org could not be established.  Check your internet connection or try again later (can manually call phoebe.list_online_passbands(refresh=True) to retry).  If the problem persists and you're using a Mac, you may need to update openssl (see http://phoebe-project.org/help/faq). Original error from urlopen: timeout timed out\n\nConnection to online passbands at http://tables.phoebe-project.org could not be established.  Check your internet connection or try again later (can manually call phoebe.list_online_passbands(refresh=True) to retry).  If the problem persists and you're using a Mac, you may need to update openssl (see http://phoebe-project.org/help/faq). Original error from urlopen: timeout timed out\n\nConnection to online passbands at http://tables.phoebe-project.org could not be established.  Check your internet connection or try again later (can manually call phoebe.list_online_passbands(refresh=True) to retry).  If the problem persists and you're using a Mac, you may need to update openssl (see http://phoebe-project.org/help/faq). Original error from urlopen: timeout timed out\n\nConnection to online passbands at http://tables.phoebe-project.org could not be established.  Check your internet connection or try again later (can manually call phoebe.list_online_passbands(refresh=True) to retry).  If the problem persists and you're using a Mac, you may need to update openssl (see http://phoebe-project.org/help/faq). Original error from urlopen: timeout timed out\n\nConnection to online passbands at http://tables.phoebe-project.org could not be established.  Check your internet connection or try again later (can manually call phoebe.list_online_passbands(refresh=True) to retry).  If the problem persists and you're using a Mac, you may need to update openssl (see http://phoebe-project.org/help/faq). Original error from urlopen: timeout timed out\n\nConnection to online passbands at http://tables.phoebe-project.org could not be established.  Check your internet connection or try again later (can manually call phoebe.list_online_passbands(refresh=True) to retry).  If the problem persists and you're using a Mac, you may need to update openssl (see http://phoebe-project.org/help/faq). Original error from urlopen: timeout timed out\n\nConnection to online passbands at http://tables.phoebe-project.org could not be established.  Check your internet connection or try again later (can manually call phoebe.list_online_passbands(refresh=True) to retry).  If the problem persists and you're using a Mac, you may need to update openssl (see http://phoebe-project.org/help/faq). Original error from urlopen: timeout timed out\n\nConnection to online passbands at http://tables.phoebe-project.org could not be established.  Check your internet connection or try again later (can manually call phoebe.list_online_passbands(refresh=True) to retry).  If the problem persists and you're using a Mac, you may need to update openssl (see http://phoebe-project.org/help/faq). Original error from urlopen: timeout timed out\n\nConnection to online passbands at http://tables.phoebe-project.org could not be established.  Check your internet connection or try again later (can manually call phoebe.list_online_passbands(refresh=True) to retry).  If the problem persists and you're using a Mac, you may need to update openssl (see http://phoebe-project.org/help/faq). Original error from urlopen: timeout timed out\n\nConnection to online passbands at http://tables.phoebe-project.org could not be established.  Check your internet connection or try again later (can manually call phoebe.list_online_passbands(refresh=True) to retry).  If the problem persists and you're using a Mac, you may need to update openssl (see http://phoebe-project.org/help/faq). Original error from urlopen: timeout timed out\n\nConnection to online passbands at http://tables.phoebe-project.org could not be established.  Check your internet connection or try again later (can manually call phoebe.list_online_passbands(refresh=True) to retry).  If the problem persists and you're using a Mac, you may need to update openssl (see http://phoebe-project.org/help/faq). Original error from urlopen: timeout timed out\n\nConnection to online passbands at http://tables.phoebe-project.org could not be established.  Check your internet connection or try again later (can manually call phoebe.list_online_passbands(refresh=True) to retry).  If the problem persists and you're using a Mac, you may need to update openssl (see http://phoebe-project.org/help/faq). Original error from urlopen: timeout timed out\n\nConnection to online passbands at http://tables.phoebe-project.org could not be established.  Check your internet connection or try again later (can manually call phoebe.list_online_passbands(refresh=True) to retry).  If the problem persists and you're using a Mac, you may need to update openssl (see http://phoebe-project.org/help/faq). Original error from urlopen: timeout timed out\n\nConnection to online passbands at http://tables.phoebe-project.org could not be established.  Check your internet connection or try again later (can manually call phoebe.list_online_passbands(refresh=True) to retry).  If the problem persists and you're using a Mac, you may need to update openssl (see http://phoebe-project.org/help/faq). Original error from urlopen: timeout timed out\n\nConnection to online passbands at http://tables.phoebe-project.org could not be established.  Check your internet connection or try again later (can manually call phoebe.list_online_passbands(refresh=True) to retry).  If the problem persists and you're using a Mac, you may need to update openssl (see http://phoebe-project.org/help/faq). Original error from urlopen: timeout timed out\n\nConnection to online passbands at http://tables.phoebe-project.org could not be established.  Check your internet connection or try again later (can manually call phoebe.list_online_passbands(refresh=True) to retry).  If the problem persists and you're using a Mac, you may need to update openssl (see http://phoebe-project.org/help/faq). Original error from urlopen: timeout timed out\n\nConnection to online passbands at http://tables.phoebe-project.org could not be established.  Check your internet connection or try again later (can manually call phoebe.list_online_passbands(refresh=True) to retry).  If the problem persists and you're using a Mac, you may need to update openssl (see http://phoebe-project.org/help/faq). Original error from urlopen: timeout timed out\n\nConnection to online passbands at http://tables.phoebe-project.org could not be established.  Check your internet connection or try again later (can manually call phoebe.list_online_passbands(refresh=True) to retry).  If the problem persists and you're using a Mac, you may need to update openssl (see http://phoebe-project.org/help/faq). Original error from urlopen: timeout timed out\n\n\n\n  0%|          | 0/500 [00:00<?, ?it/s]/home/users/angela/crimpl/crimpl-envs/phoebe-workshop/lib/python3.8/site-packages/emcee/moves/red_blue.py:99: RuntimeWarning: invalid value encountered in double_scalars\n\n  lnpdiff = f + nlp - state.log_prob[j]\n\n\n\n  0%|          | 1/500 [03:15<27:05:47, 195.49s/it]\n\n  0%|          | 2/500 [06:25<26:37:57, 192.53s/it]\n\n  1%|          | 3/500 [09:36<26:27:58, 191.71s/it]\n\n  1%|          | 4/500 [12:52<26:38:37, 193.38s/it]\n\n  1%|          | 5/500 [16:10<26:48:40, 194.99s/it]\n\n  1%|          | 6/500 [19:29<26:57:32, 196.46s/it]\n\n  1%|▏         | 7/500 [22:41<26:40:30, 194.79s/it]\n\n  2%|▏         | 8/500 [25:52<26:29:34, 193.85s/it]\n\n  2%|▏         | 9/500 [29:11<26:37:38, 195.23s/it]\n\n  2%|▏         | 10/500 [32:16<26:08:12, 192.02s/it]\n\n  2%|▏         | 11/500 [35:22<25:51:03, 190.31s/it]\n\n  2%|▏         | 12/500 [38:26<25:32:03, 188.37s/it]\n\n  3%|▎         | 13/500 [41:30<25:18:56, 187.14s/it]\n\n  3%|▎         | 14/500 [44:35<25:09:56, 186.41s/it]\n\n  3%|▎         | 15/500 [47:45<25:15:19, 187.46s/it]\n\n  3%|▎         | 16/500 [50:49<25:04:34, 186.52s/it]\n\n  3%|▎         | 17/500 [53:54<24:56:46, 185.93s/it]\n\n  4%|▎         | 18/500 [57:03<25:01:16, 186.88s/it]\n\n  4%|▍         | 19/500 [1:00:22<25:27:34, 190.55s/it]\n\n  4%|▍         | 20/500 [1:03:33<25:25:24, 190.68s/it]\n\n  4%|▍         | 21/500 [1:06:38<25:07:48, 188.87s/it]\n\n  4%|▍         | 22/500 [1:09:50<25:14:05, 190.05s/it]\n\n  5%|▍         | 23/500 [1:12:55<24:57:48, 188.40s/it]\n\n  5%|▍         | 24/500 [1:15:59<24:44:02, 187.06s/it]\n\n  5%|▌         | 25/500 [1:19:10<24:51:11, 188.36s/it]\n\n  5%|▌         | 26/500 [1:22:22<24:56:39, 189.45s/it]\n\n  5%|▌         | 27/500 [1:25:34<24:59:19, 190.19s/it]\n\n  6%|▌         | 28/500 [1:28:54<25:18:03, 192.97s/it]\n\n  6%|▌         | 29/500 [1:32:12<25:26:19, 194.44s/it]\n\n  6%|▌         | 30/500 [1:35:17<25:01:03, 191.62s/it]\n\n  6%|▌         | 31/500 [1:38:22<24:42:51, 189.70s/it]\n\n  6%|▋         | 32/500 [1:41:34<24:46:34, 190.59s/it]\n\n  7%|▋         | 33/500 [1:44:38<24:26:14, 188.38s/it]\n\n  7%|▋         | 34/500 [1:47:51<24:35:10, 189.94s/it]\n\n  7%|▋         | 35/500 [1:50:56<24:19:47, 188.36s/it]\n\n  7%|▋         | 36/500 [1:54:16<24:43:46, 191.87s/it]\n\n  7%|▋         | 37/500 [1:57:28<24:41:00, 191.92s/it]\n\n  8%|▊         | 38/500 [2:00:48<24:55:35, 194.23s/it]\n\n  8%|▊         | 39/500 [2:04:00<24:47:54, 193.65s/it]\n\n  8%|▊         | 40/500 [2:07:04<24:22:28, 190.76s/it]\n\n  8%|▊         | 41/500 [2:10:14<24:17:24, 190.51s/it]\n\n  8%|▊         | 42/500 [2:13:25<24:16:42, 190.83s/it]\n\n  9%|▊         | 43/500 [2:16:45<24:32:48, 193.37s/it]\n\n  9%|▉         | 44/500 [2:19:54<24:21:05, 192.25s/it]\n\n  9%|▉         | 45/500 [2:23:11<24:28:05, 193.60s/it]\n\n  9%|▉         | 46/500 [2:26:21<24:17:01, 192.56s/it]\n\n  9%|▉         | 47/500 [2:29:33<24:13:02, 192.46s/it]",
     "output_type": "error",
     "traceback": [
      "\u001b[0;31m---------------------------------------------------------------------------\u001b[0m",
      "\u001b[0;31mValueError\u001b[0m                                Traceback (most recent call last)",
      "\u001b[0;32m<ipython-input-42-174496939e27>\u001b[0m in \u001b[0;36m<module>\u001b[0;34m\u001b[0m\n\u001b[1;32m      1\u001b[0m \u001b[0mb\u001b[0m \u001b[0;34m=\u001b[0m \u001b[0mphoebe\u001b[0m\u001b[0;34m.\u001b[0m\u001b[0mload\u001b[0m\u001b[0;34m(\u001b[0m\u001b[0;34m'data/synthetic/true_marginalization.bundle'\u001b[0m\u001b[0;34m)\u001b[0m\u001b[0;34m\u001b[0m\u001b[0;34m\u001b[0m\u001b[0m\n\u001b[0;32m----> 2\u001b[0;31m \u001b[0mb\u001b[0m\u001b[0;34m.\u001b[0m\u001b[0mload_job_progress\u001b[0m\u001b[0;34m(\u001b[0m\u001b[0msolution\u001b[0m\u001b[0;34m=\u001b[0m\u001b[0;34m'mcmc_fixed_wrong_solution'\u001b[0m\u001b[0;34m)\u001b[0m\u001b[0;34m\u001b[0m\u001b[0;34m\u001b[0m\u001b[0m\n\u001b[0m\u001b[1;32m      3\u001b[0m \u001b[0;31m# b.load_job_progress(solution='mcmc_marginalization_solution')\u001b[0m\u001b[0;34m\u001b[0m\u001b[0;34m\u001b[0m\u001b[0;34m\u001b[0m\u001b[0m\n\u001b[1;32m      4\u001b[0m \u001b[0mb\u001b[0m\u001b[0;34m.\u001b[0m\u001b[0mplot\u001b[0m\u001b[0;34m(\u001b[0m\u001b[0msolution\u001b[0m\u001b[0;34m=\u001b[0m\u001b[0;34m'mcmc_fixed_wrong_solution'\u001b[0m\u001b[0;34m,\u001b[0m \u001b[0mstyle\u001b[0m\u001b[0;34m=\u001b[0m\u001b[0;34m'trace'\u001b[0m\u001b[0;34m,\u001b[0m \u001b[0mburnin\u001b[0m\u001b[0;34m=\u001b[0m\u001b[0;36m0\u001b[0m\u001b[0;34m,\u001b[0m \u001b[0mshow\u001b[0m\u001b[0;34m=\u001b[0m\u001b[0;32mTrue\u001b[0m\u001b[0;34m)\u001b[0m\u001b[0;34m\u001b[0m\u001b[0;34m\u001b[0m\u001b[0m\n\u001b[1;32m      5\u001b[0m \u001b[0;31m# b.plot(solution='mcmc_marginalization_solution', style='trace', burnin=0, show=True)\u001b[0m\u001b[0;34m\u001b[0m\u001b[0;34m\u001b[0m\u001b[0;34m\u001b[0m\u001b[0m\n",
      "\u001b[0;32m~/miniconda3/envs/phoebe-workshop/lib/python3.8/site-packages/phoebe/parameters/parameters.py\u001b[0m in \u001b[0;36m_send_if_client\u001b[0;34m(self, *args, **kwargs)\u001b[0m\n\u001b[1;32m    411\u001b[0m \u001b[0;34m\u001b[0m\u001b[0m\n\u001b[1;32m    412\u001b[0m         \u001b[0;32melse\u001b[0m\u001b[0;34m:\u001b[0m\u001b[0;34m\u001b[0m\u001b[0;34m\u001b[0m\u001b[0m\n\u001b[0;32m--> 413\u001b[0;31m             \u001b[0;32mreturn\u001b[0m \u001b[0mfctn\u001b[0m\u001b[0;34m(\u001b[0m\u001b[0mself\u001b[0m\u001b[0;34m,\u001b[0m \u001b[0;34m*\u001b[0m\u001b[0margs\u001b[0m\u001b[0;34m,\u001b[0m \u001b[0;34m**\u001b[0m\u001b[0mkwargs\u001b[0m\u001b[0;34m)\u001b[0m\u001b[0;34m\u001b[0m\u001b[0;34m\u001b[0m\u001b[0m\n\u001b[0m\u001b[1;32m    414\u001b[0m \u001b[0;34m\u001b[0m\u001b[0m\n\u001b[1;32m    415\u001b[0m     \u001b[0;32mreturn\u001b[0m \u001b[0m_send_if_client\u001b[0m\u001b[0;34m\u001b[0m\u001b[0;34m\u001b[0m\u001b[0m\n",
      "\u001b[0;32m~/miniconda3/envs/phoebe-workshop/lib/python3.8/site-packages/phoebe/frontend/bundle.py\u001b[0m in \u001b[0;36mload_job_progress\u001b[0;34m(self, twig, return_changes, **kwargs)\u001b[0m\n\u001b[1;32m  12267\u001b[0m         \"\"\"\n\u001b[1;32m  12268\u001b[0m         \u001b[0mkwargs\u001b[0m\u001b[0;34m[\u001b[0m\u001b[0;34m'qualifier'\u001b[0m\u001b[0;34m]\u001b[0m \u001b[0;34m=\u001b[0m \u001b[0;34m'detached_job'\u001b[0m\u001b[0;34m\u001b[0m\u001b[0;34m\u001b[0m\u001b[0m\n\u001b[0;32m> 12269\u001b[0;31m         \u001b[0;32mreturn\u001b[0m \u001b[0mself\u001b[0m\u001b[0;34m.\u001b[0m\u001b[0mget_parameter\u001b[0m\u001b[0;34m(\u001b[0m\u001b[0mtwig\u001b[0m\u001b[0;34m=\u001b[0m\u001b[0mtwig\u001b[0m\u001b[0;34m,\u001b[0m \u001b[0;34m**\u001b[0m\u001b[0mkwargs\u001b[0m\u001b[0;34m)\u001b[0m\u001b[0;34m.\u001b[0m\u001b[0mload_progress\u001b[0m\u001b[0;34m(\u001b[0m\u001b[0mreturn_changes\u001b[0m\u001b[0;34m=\u001b[0m\u001b[0mreturn_changes\u001b[0m\u001b[0;34m)\u001b[0m\u001b[0;34m\u001b[0m\u001b[0;34m\u001b[0m\u001b[0m\n\u001b[0m\u001b[1;32m  12270\u001b[0m \u001b[0;34m\u001b[0m\u001b[0m\n\u001b[1;32m  12271\u001b[0m \u001b[0;34m\u001b[0m\u001b[0m\n",
      "\u001b[0;32m~/miniconda3/envs/phoebe-workshop/lib/python3.8/site-packages/phoebe/parameters/parameters.py\u001b[0m in \u001b[0;36mload_progress\u001b[0;34m(self, cleanup, return_changes)\u001b[0m\n\u001b[1;32m  12408\u001b[0m \u001b[0;34m\u001b[0m\u001b[0m\n\u001b[1;32m  12409\u001b[0m         \"\"\"\n\u001b[0;32m> 12410\u001b[0;31m         \u001b[0;32mreturn\u001b[0m \u001b[0mself\u001b[0m\u001b[0;34m.\u001b[0m\u001b[0m_retrieve_and_attach_results\u001b[0m\u001b[0;34m(\u001b[0m\u001b[0mcleanup\u001b[0m\u001b[0;34m=\u001b[0m\u001b[0mcleanup\u001b[0m\u001b[0;34m,\u001b[0m \u001b[0mreturn_changes\u001b[0m\u001b[0;34m=\u001b[0m\u001b[0mreturn_changes\u001b[0m\u001b[0;34m)\u001b[0m\u001b[0;34m\u001b[0m\u001b[0;34m\u001b[0m\u001b[0m\n\u001b[0m\u001b[1;32m  12411\u001b[0m \u001b[0;34m\u001b[0m\u001b[0m\n\u001b[1;32m  12412\u001b[0m \u001b[0;34m\u001b[0m\u001b[0m\n",
      "\u001b[0;32m~/miniconda3/envs/phoebe-workshop/lib/python3.8/site-packages/phoebe/parameters/parameters.py\u001b[0m in \u001b[0;36m_retrieve_and_attach_results\u001b[0;34m(self, cleanup, return_changes)\u001b[0m\n\u001b[1;32m  12244\u001b[0m             \u001b[0m_\u001b[0m \u001b[0;34m=\u001b[0m \u001b[0mself\u001b[0m\u001b[0;34m.\u001b[0m\u001b[0mget_status\u001b[0m\u001b[0;34m(\u001b[0m\u001b[0;34m)\u001b[0m\u001b[0;34m\u001b[0m\u001b[0;34m\u001b[0m\u001b[0m\n\u001b[1;32m  12245\u001b[0m \u001b[0;34m\u001b[0m\u001b[0m\n\u001b[0;32m> 12246\u001b[0;31m         \u001b[0mret_ps\u001b[0m \u001b[0;34m=\u001b[0m \u001b[0mself\u001b[0m\u001b[0;34m.\u001b[0m\u001b[0m_retrieve_results\u001b[0m\u001b[0;34m(\u001b[0m\u001b[0;34m)\u001b[0m\u001b[0;34m\u001b[0m\u001b[0;34m\u001b[0m\u001b[0m\n\u001b[0m\u001b[1;32m  12247\u001b[0m \u001b[0;34m\u001b[0m\u001b[0m\n\u001b[1;32m  12248\u001b[0m         \u001b[0;32mif\u001b[0m \u001b[0;32mnot\u001b[0m \u001b[0mlen\u001b[0m\u001b[0;34m(\u001b[0m\u001b[0mret_ps\u001b[0m\u001b[0;34m.\u001b[0m\u001b[0mto_list\u001b[0m\u001b[0;34m(\u001b[0m\u001b[0;34m)\u001b[0m\u001b[0;34m)\u001b[0m \u001b[0;32mand\u001b[0m \u001b[0;34m'progress'\u001b[0m \u001b[0;32min\u001b[0m \u001b[0mself\u001b[0m\u001b[0;34m.\u001b[0m\u001b[0m_value\u001b[0m\u001b[0;34m:\u001b[0m\u001b[0;34m\u001b[0m\u001b[0;34m\u001b[0m\u001b[0m\n",
      "\u001b[0;32m~/miniconda3/envs/phoebe-workshop/lib/python3.8/site-packages/phoebe/parameters/parameters.py\u001b[0m in \u001b[0;36m_retrieve_results\u001b[0;34m(self)\u001b[0m\n\u001b[1;32m  12212\u001b[0m                 \u001b[0;32mwith\u001b[0m \u001b[0mopen\u001b[0m\u001b[0;34m(\u001b[0m\u001b[0merror_fnames\u001b[0m\u001b[0;34m[\u001b[0m\u001b[0;36m0\u001b[0m\u001b[0;34m]\u001b[0m\u001b[0;34m,\u001b[0m \u001b[0;34m'r'\u001b[0m\u001b[0;34m)\u001b[0m \u001b[0;32mas\u001b[0m \u001b[0me\u001b[0m\u001b[0;34m:\u001b[0m\u001b[0;34m\u001b[0m\u001b[0;34m\u001b[0m\u001b[0m\n\u001b[1;32m  12213\u001b[0m                     \u001b[0;32mif\u001b[0m \u001b[0mself\u001b[0m\u001b[0;34m.\u001b[0m\u001b[0mget_status\u001b[0m\u001b[0;34m(\u001b[0m\u001b[0;34m)\u001b[0m \u001b[0;34m==\u001b[0m \u001b[0;34m'running'\u001b[0m\u001b[0;34m:\u001b[0m\u001b[0;34m\u001b[0m\u001b[0;34m\u001b[0m\u001b[0m\n\u001b[0;32m> 12214\u001b[0;31m                         \u001b[0;32mraise\u001b[0m \u001b[0mValueError\u001b[0m\u001b[0;34m(\u001b[0m\u001b[0;34m\"job has not yet produced any output, with the following log:\\n\\n{}\"\u001b[0m\u001b[0;34m.\u001b[0m\u001b[0mformat\u001b[0m\u001b[0;34m(\u001b[0m\u001b[0;34m\"\\n\"\u001b[0m\u001b[0;34m.\u001b[0m\u001b[0mjoin\u001b[0m\u001b[0;34m(\u001b[0m\u001b[0me\u001b[0m\u001b[0;34m.\u001b[0m\u001b[0mreadlines\u001b[0m\u001b[0;34m(\u001b[0m\u001b[0;34m)\u001b[0m\u001b[0;34m)\u001b[0m\u001b[0;34m)\u001b[0m\u001b[0;34m)\u001b[0m\u001b[0;34m\u001b[0m\u001b[0;34m\u001b[0m\u001b[0m\n\u001b[0m\u001b[1;32m  12215\u001b[0m                     \u001b[0;32melse\u001b[0m\u001b[0;34m:\u001b[0m\u001b[0;34m\u001b[0m\u001b[0;34m\u001b[0m\u001b[0m\n\u001b[1;32m  12216\u001b[0m                         \u001b[0;32mraise\u001b[0m \u001b[0mValueError\u001b[0m\u001b[0;34m(\u001b[0m\u001b[0;34m\"job failed with the following log:\\n\\n{}\"\u001b[0m\u001b[0;34m.\u001b[0m\u001b[0mformat\u001b[0m\u001b[0;34m(\u001b[0m\u001b[0;34m\"\\n\"\u001b[0m\u001b[0;34m.\u001b[0m\u001b[0mjoin\u001b[0m\u001b[0;34m(\u001b[0m\u001b[0me\u001b[0m\u001b[0;34m.\u001b[0m\u001b[0mreadlines\u001b[0m\u001b[0;34m(\u001b[0m\u001b[0;34m)\u001b[0m\u001b[0;34m)\u001b[0m\u001b[0;34m)\u001b[0m\u001b[0;34m)\u001b[0m\u001b[0;34m\u001b[0m\u001b[0;34m\u001b[0m\u001b[0m\n",
      "\u001b[0;31mValueError\u001b[0m: job has not yet produced any output, with the following log:\n\n****************************************************************************\n\n* hwloc 1.11.2 has encountered what looks like an error from the operating system.\n\n*\n\n* L3 (cpuset 0x000003f0) intersects with NUMANode (P#0 cpuset 0x0000003f) without inclusion!\n\n* Error occurred in topology.c line 1046\n\n*\n\n* The following FAQ entry in the hwloc documentation may help:\n\n*   What should I do when hwloc reports \"operating system\" warnings?\n\n* Otherwise please report this error message to the hwloc user's mailing list,\n\n* along with the output+tarball generated by the hwloc-gather-topology script.\n\n****************************************************************************\n\nConnection to online passbands at http://tables.phoebe-project.org could not be established.  Check your internet connection or try again later (can manually call phoebe.list_online_passbands(refresh=True) to retry).  If the problem persists and you're using a Mac, you may need to update openssl (see http://phoebe-project.org/help/faq). Original error from urlopen: timeout timed out\n\nConnection to online passbands at http://tables.phoebe-project.org could not be established.  Check your internet connection or try again later (can manually call phoebe.list_online_passbands(refresh=True) to retry).  If the problem persists and you're using a Mac, you may need to update openssl (see http://phoebe-project.org/help/faq). Original error from urlopen: timeout timed out\n\nConnection to online passbands at http://tables.phoebe-project.org could not be established.  Check your internet connection or try again later (can manually call phoebe.list_online_passbands(refresh=True) to retry).  If the problem persists and you're using a Mac, you may need to update openssl (see http://phoebe-project.org/help/faq). Original error from urlopen: timeout timed out\n\nConnection to online passbands at http://tables.phoebe-project.org could not be established.  Check your internet connection or try again later (can manually call phoebe.list_online_passbands(refresh=True) to retry).  If the problem persists and you're using a Mac, you may need to update openssl (see http://phoebe-project.org/help/faq). Original error from urlopen: timeout timed out\n\nConnection to online passbands at http://tables.phoebe-project.org could not be established.  Check your internet connection or try again later (can manually call phoebe.list_online_passbands(refresh=True) to retry).  If the problem persists and you're using a Mac, you may need to update openssl (see http://phoebe-project.org/help/faq). Original error from urlopen: timeout timed out\n\nConnection to online passbands at http://tables.phoebe-project.org could not be established.  Check your internet connection or try again later (can manually call phoebe.list_online_passbands(refresh=True) to retry).  If the problem persists and you're using a Mac, you may need to update openssl (see http://phoebe-project.org/help/faq). Original error from urlopen: timeout timed out\n\nConnection to online passbands at http://tables.phoebe-project.org could not be established.  Check your internet connection or try again later (can manually call phoebe.list_online_passbands(refresh=True) to retry).  If the problem persists and you're using a Mac, you may need to update openssl (see http://phoebe-project.org/help/faq). Original error from urlopen: timeout timed out\n\nConnection to online passbands at http://tables.phoebe-project.org could not be established.  Check your internet connection or try again later (can manually call phoebe.list_online_passbands(refresh=True) to retry).  If the problem persists and you're using a Mac, you may need to update openssl (see http://phoebe-project.org/help/faq). Original error from urlopen: timeout timed out\n\nConnection to online passbands at http://tables.phoebe-project.org could not be established.  Check your internet connection or try again later (can manually call phoebe.list_online_passbands(refresh=True) to retry).  If the problem persists and you're using a Mac, you may need to update openssl (see http://phoebe-project.org/help/faq). Original error from urlopen: timeout timed out\n\nConnection to online passbands at http://tables.phoebe-project.org could not be established.  Check your internet connection or try again later (can manually call phoebe.list_online_passbands(refresh=True) to retry).  If the problem persists and you're using a Mac, you may need to update openssl (see http://phoebe-project.org/help/faq). Original error from urlopen: timeout timed out\n\nConnection to online passbands at http://tables.phoebe-project.org could not be established.  Check your internet connection or try again later (can manually call phoebe.list_online_passbands(refresh=True) to retry).  If the problem persists and you're using a Mac, you may need to update openssl (see http://phoebe-project.org/help/faq). Original error from urlopen: timeout timed out\n\nConnection to online passbands at http://tables.phoebe-project.org could not be established.  Check your internet connection or try again later (can manually call phoebe.list_online_passbands(refresh=True) to retry).  If the problem persists and you're using a Mac, you may need to update openssl (see http://phoebe-project.org/help/faq). Original error from urlopen: timeout timed out\n\nConnection to online passbands at http://tables.phoebe-project.org could not be established.  Check your internet connection or try again later (can manually call phoebe.list_online_passbands(refresh=True) to retry).  If the problem persists and you're using a Mac, you may need to update openssl (see http://phoebe-project.org/help/faq). Original error from urlopen: timeout timed out\n\nConnection to online passbands at http://tables.phoebe-project.org could not be established.  Check your internet connection or try again later (can manually call phoebe.list_online_passbands(refresh=True) to retry).  If the problem persists and you're using a Mac, you may need to update openssl (see http://phoebe-project.org/help/faq). Original error from urlopen: timeout timed out\n\nConnection to online passbands at http://tables.phoebe-project.org could not be established.  Check your internet connection or try again later (can manually call phoebe.list_online_passbands(refresh=True) to retry).  If the problem persists and you're using a Mac, you may need to update openssl (see http://phoebe-project.org/help/faq). Original error from urlopen: timeout timed out\n\nConnection to online passbands at http://tables.phoebe-project.org could not be established.  Check your internet connection or try again later (can manually call phoebe.list_online_passbands(refresh=True) to retry).  If the problem persists and you're using a Mac, you may need to update openssl (see http://phoebe-project.org/help/faq). Original error from urlopen: timeout timed out\n\nConnection to online passbands at http://tables.phoebe-project.org could not be established.  Check your internet connection or try again later (can manually call phoebe.list_online_passbands(refresh=True) to retry).  If the problem persists and you're using a Mac, you may need to update openssl (see http://phoebe-project.org/help/faq). Original error from urlopen: timeout timed out\n\nConnection to online passbands at http://tables.phoebe-project.org could not be established.  Check your internet connection or try again later (can manually call phoebe.list_online_passbands(refresh=True) to retry).  If the problem persists and you're using a Mac, you may need to update openssl (see http://phoebe-project.org/help/faq). Original error from urlopen: timeout timed out\n\nConnection to online passbands at http://tables.phoebe-project.org could not be established.  Check your internet connection or try again later (can manually call phoebe.list_online_passbands(refresh=True) to retry).  If the problem persists and you're using a Mac, you may need to update openssl (see http://phoebe-project.org/help/faq). Original error from urlopen: timeout timed out\n\nConnection to online passbands at http://tables.phoebe-project.org could not be established.  Check your internet connection or try again later (can manually call phoebe.list_online_passbands(refresh=True) to retry).  If the problem persists and you're using a Mac, you may need to update openssl (see http://phoebe-project.org/help/faq). Original error from urlopen: timeout timed out\n\nConnection to online passbands at http://tables.phoebe-project.org could not be established.  Check your internet connection or try again later (can manually call phoebe.list_online_passbands(refresh=True) to retry).  If the problem persists and you're using a Mac, you may need to update openssl (see http://phoebe-project.org/help/faq). Original error from urlopen: timeout timed out\n\nConnection to online passbands at http://tables.phoebe-project.org could not be established.  Check your internet connection or try again later (can manually call phoebe.list_online_passbands(refresh=True) to retry).  If the problem persists and you're using a Mac, you may need to update openssl (see http://phoebe-project.org/help/faq). Original error from urlopen: timeout timed out\n\nConnection to online passbands at http://tables.phoebe-project.org could not be established.  Check your internet connection or try again later (can manually call phoebe.list_online_passbands(refresh=True) to retry).  If the problem persists and you're using a Mac, you may need to update openssl (see http://phoebe-project.org/help/faq). Original error from urlopen: timeout timed out\n\nConnection to online passbands at http://tables.phoebe-project.org could not be established.  Check your internet connection or try again later (can manually call phoebe.list_online_passbands(refresh=True) to retry).  If the problem persists and you're using a Mac, you may need to update openssl (see http://phoebe-project.org/help/faq). Original error from urlopen: timeout timed out\n\nConnection to online passbands at http://tables.phoebe-project.org could not be established.  Check your internet connection or try again later (can manually call phoebe.list_online_passbands(refresh=True) to retry).  If the problem persists and you're using a Mac, you may need to update openssl (see http://phoebe-project.org/help/faq). Original error from urlopen: timeout timed out\n\nConnection to online passbands at http://tables.phoebe-project.org could not be established.  Check your internet connection or try again later (can manually call phoebe.list_online_passbands(refresh=True) to retry).  If the problem persists and you're using a Mac, you may need to update openssl (see http://phoebe-project.org/help/faq). Original error from urlopen: timeout timed out\n\nConnection to online passbands at http://tables.phoebe-project.org could not be established.  Check your internet connection or try again later (can manually call phoebe.list_online_passbands(refresh=True) to retry).  If the problem persists and you're using a Mac, you may need to update openssl (see http://phoebe-project.org/help/faq). Original error from urlopen: timeout timed out\n\nConnection to online passbands at http://tables.phoebe-project.org could not be established.  Check your internet connection or try again later (can manually call phoebe.list_online_passbands(refresh=True) to retry).  If the problem persists and you're using a Mac, you may need to update openssl (see http://phoebe-project.org/help/faq). Original error from urlopen: timeout timed out\n\nConnection to online passbands at http://tables.phoebe-project.org could not be established.  Check your internet connection or try again later (can manually call phoebe.list_online_passbands(refresh=True) to retry).  If the problem persists and you're using a Mac, you may need to update openssl (see http://phoebe-project.org/help/faq). Original error from urlopen: timeout timed out\n\nConnection to online passbands at http://tables.phoebe-project.org could not be established.  Check your internet connection or try again later (can manually call phoebe.list_online_passbands(refresh=True) to retry).  If the problem persists and you're using a Mac, you may need to update openssl (see http://phoebe-project.org/help/faq). Original error from urlopen: timeout timed out\n\nConnection to online passbands at http://tables.phoebe-project.org could not be established.  Check your internet connection or try again later (can manually call phoebe.list_online_passbands(refresh=True) to retry).  If the problem persists and you're using a Mac, you may need to update openssl (see http://phoebe-project.org/help/faq). Original error from urlopen: timeout timed out\n\nConnection to online passbands at http://tables.phoebe-project.org could not be established.  Check your internet connection or try again later (can manually call phoebe.list_online_passbands(refresh=True) to retry).  If the problem persists and you're using a Mac, you may need to update openssl (see http://phoebe-project.org/help/faq). Original error from urlopen: timeout timed out\n\nConnection to online passbands at http://tables.phoebe-project.org could not be established.  Check your internet connection or try again later (can manually call phoebe.list_online_passbands(refresh=True) to retry).  If the problem persists and you're using a Mac, you may need to update openssl (see http://phoebe-project.org/help/faq). Original error from urlopen: timeout timed out\n\nConnection to online passbands at http://tables.phoebe-project.org could not be established.  Check your internet connection or try again later (can manually call phoebe.list_online_passbands(refresh=True) to retry).  If the problem persists and you're using a Mac, you may need to update openssl (see http://phoebe-project.org/help/faq). Original error from urlopen: timeout timed out\n\nConnection to online passbands at http://tables.phoebe-project.org could not be established.  Check your internet connection or try again later (can manually call phoebe.list_online_passbands(refresh=True) to retry).  If the problem persists and you're using a Mac, you may need to update openssl (see http://phoebe-project.org/help/faq). Original error from urlopen: timeout timed out\n\nConnection to online passbands at http://tables.phoebe-project.org could not be established.  Check your internet connection or try again later (can manually call phoebe.list_online_passbands(refresh=True) to retry).  If the problem persists and you're using a Mac, you may need to update openssl (see http://phoebe-project.org/help/faq). Original error from urlopen: timeout timed out\n\nConnection to online passbands at http://tables.phoebe-project.org could not be established.  Check your internet connection or try again later (can manually call phoebe.list_online_passbands(refresh=True) to retry).  If the problem persists and you're using a Mac, you may need to update openssl (see http://phoebe-project.org/help/faq). Original error from urlopen: timeout timed out\n\nConnection to online passbands at http://tables.phoebe-project.org could not be established.  Check your internet connection or try again later (can manually call phoebe.list_online_passbands(refresh=True) to retry).  If the problem persists and you're using a Mac, you may need to update openssl (see http://phoebe-project.org/help/faq). Original error from urlopen: timeout timed out\n\nConnection to online passbands at http://tables.phoebe-project.org could not be established.  Check your internet connection or try again later (can manually call phoebe.list_online_passbands(refresh=True) to retry).  If the problem persists and you're using a Mac, you may need to update openssl (see http://phoebe-project.org/help/faq). Original error from urlopen: timeout timed out\n\nConnection to online passbands at http://tables.phoebe-project.org could not be established.  Check your internet connection or try again later (can manually call phoebe.list_online_passbands(refresh=True) to retry).  If the problem persists and you're using a Mac, you may need to update openssl (see http://phoebe-project.org/help/faq). Original error from urlopen: timeout timed out\n\nConnection to online passbands at http://tables.phoebe-project.org could not be established.  Check your internet connection or try again later (can manually call phoebe.list_online_passbands(refresh=True) to retry).  If the problem persists and you're using a Mac, you may need to update openssl (see http://phoebe-project.org/help/faq). Original error from urlopen: timeout timed out\n\nConnection to online passbands at http://tables.phoebe-project.org could not be established.  Check your internet connection or try again later (can manually call phoebe.list_online_passbands(refresh=True) to retry).  If the problem persists and you're using a Mac, you may need to update openssl (see http://phoebe-project.org/help/faq). Original error from urlopen: timeout timed out\n\nConnection to online passbands at http://tables.phoebe-project.org could not be established.  Check your internet connection or try again later (can manually call phoebe.list_online_passbands(refresh=True) to retry).  If the problem persists and you're using a Mac, you may need to update openssl (see http://phoebe-project.org/help/faq). Original error from urlopen: timeout timed out\n\nConnection to online passbands at http://tables.phoebe-project.org could not be established.  Check your internet connection or try again later (can manually call phoebe.list_online_passbands(refresh=True) to retry).  If the problem persists and you're using a Mac, you may need to update openssl (see http://phoebe-project.org/help/faq). Original error from urlopen: timeout timed out\n\nConnection to online passbands at http://tables.phoebe-project.org could not be established.  Check your internet connection or try again later (can manually call phoebe.list_online_passbands(refresh=True) to retry).  If the problem persists and you're using a Mac, you may need to update openssl (see http://phoebe-project.org/help/faq). Original error from urlopen: timeout timed out\n\nConnection to online passbands at http://tables.phoebe-project.org could not be established.  Check your internet connection or try again later (can manually call phoebe.list_online_passbands(refresh=True) to retry).  If the problem persists and you're using a Mac, you may need to update openssl (see http://phoebe-project.org/help/faq). Original error from urlopen: timeout timed out\n\nConnection to online passbands at http://tables.phoebe-project.org could not be established.  Check your internet connection or try again later (can manually call phoebe.list_online_passbands(refresh=True) to retry).  If the problem persists and you're using a Mac, you may need to update openssl (see http://phoebe-project.org/help/faq). Original error from urlopen: timeout timed out\n\n\n\n  0%|          | 0/500 [00:00<?, ?it/s]/home/users/angela/crimpl/crimpl-envs/phoebe-workshop/lib/python3.8/site-packages/emcee/moves/red_blue.py:99: RuntimeWarning: invalid value encountered in double_scalars\n\n  lnpdiff = f + nlp - state.log_prob[j]\n\n\n\n  0%|          | 1/500 [03:15<27:05:47, 195.49s/it]\n\n  0%|          | 2/500 [06:25<26:37:57, 192.53s/it]\n\n  1%|          | 3/500 [09:36<26:27:58, 191.71s/it]\n\n  1%|          | 4/500 [12:52<26:38:37, 193.38s/it]\n\n  1%|          | 5/500 [16:10<26:48:40, 194.99s/it]\n\n  1%|          | 6/500 [19:29<26:57:32, 196.46s/it]\n\n  1%|▏         | 7/500 [22:41<26:40:30, 194.79s/it]\n\n  2%|▏         | 8/500 [25:52<26:29:34, 193.85s/it]\n\n  2%|▏         | 9/500 [29:11<26:37:38, 195.23s/it]\n\n  2%|▏         | 10/500 [32:16<26:08:12, 192.02s/it]\n\n  2%|▏         | 11/500 [35:22<25:51:03, 190.31s/it]\n\n  2%|▏         | 12/500 [38:26<25:32:03, 188.37s/it]\n\n  3%|▎         | 13/500 [41:30<25:18:56, 187.14s/it]\n\n  3%|▎         | 14/500 [44:35<25:09:56, 186.41s/it]\n\n  3%|▎         | 15/500 [47:45<25:15:19, 187.46s/it]\n\n  3%|▎         | 16/500 [50:49<25:04:34, 186.52s/it]\n\n  3%|▎         | 17/500 [53:54<24:56:46, 185.93s/it]\n\n  4%|▎         | 18/500 [57:03<25:01:16, 186.88s/it]\n\n  4%|▍         | 19/500 [1:00:22<25:27:34, 190.55s/it]\n\n  4%|▍         | 20/500 [1:03:33<25:25:24, 190.68s/it]\n\n  4%|▍         | 21/500 [1:06:38<25:07:48, 188.87s/it]\n\n  4%|▍         | 22/500 [1:09:50<25:14:05, 190.05s/it]\n\n  5%|▍         | 23/500 [1:12:55<24:57:48, 188.40s/it]\n\n  5%|▍         | 24/500 [1:15:59<24:44:02, 187.06s/it]\n\n  5%|▌         | 25/500 [1:19:10<24:51:11, 188.36s/it]\n\n  5%|▌         | 26/500 [1:22:22<24:56:39, 189.45s/it]\n\n  5%|▌         | 27/500 [1:25:34<24:59:19, 190.19s/it]\n\n  6%|▌         | 28/500 [1:28:54<25:18:03, 192.97s/it]\n\n  6%|▌         | 29/500 [1:32:12<25:26:19, 194.44s/it]\n\n  6%|▌         | 30/500 [1:35:17<25:01:03, 191.62s/it]\n\n  6%|▌         | 31/500 [1:38:22<24:42:51, 189.70s/it]\n\n  6%|▋         | 32/500 [1:41:34<24:46:34, 190.59s/it]\n\n  7%|▋         | 33/500 [1:44:38<24:26:14, 188.38s/it]\n\n  7%|▋         | 34/500 [1:47:51<24:35:10, 189.94s/it]\n\n  7%|▋         | 35/500 [1:50:56<24:19:47, 188.36s/it]\n\n  7%|▋         | 36/500 [1:54:16<24:43:46, 191.87s/it]\n\n  7%|▋         | 37/500 [1:57:28<24:41:00, 191.92s/it]\n\n  8%|▊         | 38/500 [2:00:48<24:55:35, 194.23s/it]\n\n  8%|▊         | 39/500 [2:04:00<24:47:54, 193.65s/it]\n\n  8%|▊         | 40/500 [2:07:04<24:22:28, 190.76s/it]\n\n  8%|▊         | 41/500 [2:10:14<24:17:24, 190.51s/it]\n\n  8%|▊         | 42/500 [2:13:25<24:16:42, 190.83s/it]\n\n  9%|▊         | 43/500 [2:16:45<24:32:48, 193.37s/it]\n\n  9%|▉         | 44/500 [2:19:54<24:21:05, 192.25s/it]\n\n  9%|▉         | 45/500 [2:23:11<24:28:05, 193.60s/it]\n\n  9%|▉         | 46/500 [2:26:21<24:17:01, 192.56s/it]\n\n  9%|▉         | 47/500 [2:29:33<24:13:02, 192.46s/it]"
     ]
    }
   ],
   "source": [
    "b = phoebe.load('data/synthetic/true_marginalization.bundle')\n",
    "b.load_job_progress(solution='mcmc_fixed_wrong_solution')\n",
    "# b.load_job_progress(solution='mcmc_marginalization_solution')\n",
    "b.plot(solution='mcmc_fixed_wrong_solution', style='trace', burnin=0, show=True)\n",
    "# b.plot(solution='mcmc_marginalization_solution', style='trace', burnin=0, show=True)\n",
    "# b.save('data/synthetic/true_marginalize.bundle')"
   ]
  },
  {
   "cell_type": "markdown",
   "id": "smooth-surface",
   "metadata": {},
   "source": [
    "#### Case 2: noise nuisance parameter"
   ]
  },
  {
   "cell_type": "markdown",
   "id": "broad-dover",
   "metadata": {},
   "source": [
    "Let's again assume a case where you only have a light curve, but the assigned observational errors to the fluxes appear under-estimated. The underlying log-likelihood cares about data uncertainties and this is bound to affect your solution, especially if you don't have a lot of (overlapping) points in the eclipses. \n",
    "\n",
    "Let's again use the true bundle to remove all other contributions to the solution and attach a light curve of the same system we've been using, only this time the light curve is noiser, we'll less observations, but the observational uncertainties are under-estimated."
   ]
  },
  {
   "cell_type": "code",
   "execution_count": 20,
   "id": "offshore-demonstration",
   "metadata": {},
   "outputs": [],
   "source": [
    "lc = np.loadtxt('data/synthetic/lc_noisy.data')\n",
    "\n",
    "b = phoebe.load('data/synthetic/true.bundle')\n",
    "b.add_dataset('lc', times=lc[:,0], fluxes=lc[:,1], sigmas=lc[:,2], passband='Johnson:V')\n",
    "\n",
    "b.set_value('pblum_mode', 'dataset-scaled')"
   ]
  },
  {
   "cell_type": "code",
   "execution_count": 21,
   "id": "effective-simon",
   "metadata": {},
   "outputs": [
    {
     "data": {
      "text/plain": [
       "<ConstraintParameter: {teff@secondary@component} = {teffratio@binary@component} * {teff@primary@component} (solar units) => 5610.0 K>"
      ]
     },
     "execution_count": 21,
     "metadata": {},
     "output_type": "execute_result"
    }
   ],
   "source": [
    "b.flip_constraint('q', solve_for='mass@secondary')\n",
    "b.flip_constraint('sma@binary', solve_for='mass@primary') # optional since lc also doesn't constrain sma\n",
    "\n",
    "b.add_constraint('requivsumfrac')\n",
    "b.add_constraint('requivratio')\n",
    "b.add_constraint('teffratio')\n",
    "\n",
    "b.flip_constraint('requivsumfrac', solve_for='requiv@primary@component')\n",
    "b.flip_constraint('requivratio', solve_for='requiv@secondary@component')\n",
    "b.flip_constraint('teffratio', solve_for='teff@secondary@component')"
   ]
  },
  {
   "cell_type": "code",
   "execution_count": 22,
   "id": "derived-awareness",
   "metadata": {},
   "outputs": [
    {
     "name": "stderr",
     "output_type": "stream",
     "text": [
      "100%|██████████| 100/100 [00:05<00:00, 18.87it/s]\n"
     ]
    },
    {
     "data": {
      "image/png": "[encoded data removed]",
      "text/plain": [
       "<Figure size 576x432 with 1 Axes>"
      ]
     },
     "metadata": {
      "needs_background": "light"
     },
     "output_type": "display_data"
    },
    {
     "data": {
      "text/plain": [
       "(<autofig.figure.Figure | 1 axes | 2 call(s)>,\n",
       " <Figure size 576x432 with 1 Axes>)"
      ]
     },
     "execution_count": 22,
     "metadata": {},
     "output_type": "execute_result"
    }
   ],
   "source": [
    "b.run_compute()\n",
    "b.plot(x='phase', show=True)"
   ]
  },
  {
   "cell_type": "markdown",
   "id": "recorded-bulgaria",
   "metadata": {},
   "source": [
    "Now let's try sampling around the true values and see what happens:"
   ]
  },
  {
   "cell_type": "code",
   "execution_count": 23,
   "id": "abstract-honey",
   "metadata": {},
   "outputs": [
    {
     "data": {
      "text/plain": [
       "<ParameterSet: 4 parameters | qualifiers: requivsumfrac, teffratio, requivratio, incl>"
      ]
     },
     "execution_count": 23,
     "metadata": {},
     "output_type": "execute_result"
    }
   ],
   "source": [
    "b.add_distribution({\n",
    "    'requivsumfrac': phoebe.gaussian_around(0.01),\n",
    "    'requivratio': phoebe.gaussian_around(0.1),\n",
    "    'teffratio': phoebe.gaussian_around(0.1),\n",
    "    'incl@binary': phoebe.gaussian_around(0.5)\n",
    "}, distribution='nonoisenuis')"
   ]
  },
  {
   "cell_type": "code",
   "execution_count": 38,
   "id": "smaller-disney",
   "metadata": {},
   "outputs": [],
   "source": [
    "# b.add_server('remoteslurm', crimpl_name='clusty', nprocs=48, walltime=48,\n",
    "#              use_conda=True, conda_env='phoebe-workshop',\n",
    "#              server='clusty')"
   ]
  },
  {
   "cell_type": "code",
   "execution_count": 39,
   "id": "orange-austin",
   "metadata": {},
   "outputs": [],
   "source": [
    "# b.add_solver('sampler.emcee', solver='mcmc_nonoisenuis',\n",
    "#               init_from='nonoisenuis',\n",
    "#               compute='phoebe01', nwalkers=48, niters=1000, progress_every_niters=50)"
   ]
  },
  {
   "cell_type": "code",
   "execution_count": 40,
   "id": "thousand-friendly",
   "metadata": {},
   "outputs": [],
   "source": [
    "# b.run_solver('mcmc_nonoisenuis', use_server='clusty', solution='mcmc_nonoisenuis_solution', detach=True)"
   ]
  },
  {
   "cell_type": "markdown",
   "id": "expensive-civilian",
   "metadata": {},
   "source": [
    "And another run with the noise nuisance parameter:"
   ]
  },
  {
   "cell_type": "code",
   "execution_count": 31,
   "id": "circular-importance",
   "metadata": {},
   "outputs": [
    {
     "data": {
      "text/plain": [
       "<ParameterSet: 5 parameters | qualifiers: teffratio, requivratio, requivsumfrac, incl, sigmas_lnf>"
      ]
     },
     "execution_count": 31,
     "metadata": {},
     "output_type": "execute_result"
    }
   ],
   "source": [
    "b.add_distribution({\n",
    "    'requivsumfrac': phoebe.gaussian_around(0.01),\n",
    "    'requivratio': phoebe.gaussian_around(0.1),\n",
    "    'teffratio': phoebe.gaussian_around(0.1),\n",
    "    'incl@binary': phoebe.gaussian_around(0.5),\n",
    "    'sigmas_lnf@lc01': phoebe.gaussian(-7,1)\n",
    "}, distribution='withnoisenuis')"
   ]
  },
  {
   "cell_type": "code",
   "execution_count": 35,
   "id": "czech-evening",
   "metadata": {},
   "outputs": [],
   "source": [
    "# b.add_solver('sampler.emcee', solver='mcmc_withnoisenuis',\n",
    "#               init_from='withnoisenuis',\n",
    "#               compute='phoebe01', nwalkers=48, niters=1000, progress_every_niters=50)"
   ]
  },
  {
   "cell_type": "code",
   "execution_count": 36,
   "id": "planned-psychiatry",
   "metadata": {},
   "outputs": [],
   "source": [
    "# b.run_solver('mcmc_withnoisenuis', use_server='clusty', solution='mcmc_withnoisenuis_solution', detach=True)"
   ]
  },
  {
   "cell_type": "code",
   "execution_count": 37,
   "id": "spare-citizenship",
   "metadata": {},
   "outputs": [],
   "source": [
    "# b.save('data/synthetic/true_mcmc_noisenuis.bundle')"
   ]
  },
  {
   "cell_type": "code",
   "execution_count": null,
   "id": "included-aberdeen",
   "metadata": {},
   "outputs": [],
   "source": [
    "b = phoebe.load('data/synthetic/true_mcmc_noisenuis.bundle')\n",
    "b.load_job_progress(solution='mcmc_nonoisenuis_solution')\n",
    "b.load_job_progress(solution='mcmc_withnoisenuis_solution')\n",
    "b.plot(solution='mcmc_nonoisenuis_solution', style='trace', burnin=0, show=True)\n",
    "b.plot(solution='mcmc_withnoisenuis_solution', style='trace', burnin=0, show=True)\n",
    "# b.save('data/synthetic/true_noisenuis.bundle')"
   ]
  }
 ],
 "metadata": {
  "kernelspec": {
   "display_name": "Python 3",
   "language": "python",
   "name": "python3"
  },
  "language_info": {
   "codemirror_mode": {
    "name": "ipython",
    "version": 3
   },
   "file_extension": ".py",
   "mimetype": "text/x-python",
   "name": "python",
   "nbconvert_exporter": "python",
   "pygments_lexer": "ipython3",
   "version": "3.8.5"
  }
 },
 "nbformat": 4,
 "nbformat_minor": 5
}
