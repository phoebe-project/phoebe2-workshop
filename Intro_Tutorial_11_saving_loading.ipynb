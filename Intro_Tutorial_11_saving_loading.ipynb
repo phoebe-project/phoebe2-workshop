{
 "cells": [
  {
   "cell_type": "markdown",
   "metadata": {},
   "source": [
    "In this tutorial we'll cover how to save and load a Bundle as well as how to import from and export to a PHOEBE 1 file."
   ]
  },
  {
   "cell_type": "markdown",
   "metadata": {},
   "source": [
    "# Setup"
   ]
  },
  {
   "cell_type": "code",
   "execution_count": 1,
   "metadata": {},
   "outputs": [],
   "source": [
    "import phoebe\n",
    "from phoebe import u,c"
   ]
  },
  {
   "cell_type": "code",
   "execution_count": 2,
   "metadata": {},
   "outputs": [],
   "source": [
    "logger = phoebe.logger(clevel='WARNING')"
   ]
  },
  {
   "cell_type": "code",
   "execution_count": 3,
   "metadata": {},
   "outputs": [],
   "source": [
    "b = phoebe.default_binary()"
   ]
  },
  {
   "cell_type": "markdown",
   "metadata": {},
   "source": [
    "# Saving a Bundle"
   ]
  },
  {
   "cell_type": "markdown",
   "metadata": {},
   "source": [
    "Saving a bundle to a file is as simple as calling the save method and passing a filename."
   ]
  },
  {
   "cell_type": "code",
   "execution_count": 4,
   "metadata": {},
   "outputs": [
    {
     "data": {
      "text/plain": [
       "'test.phoebe'"
      ]
     },
     "execution_count": 4,
     "metadata": {},
     "output_type": "execute_result"
    }
   ],
   "source": [
    "b.save('test.phoebe')"
   ]
  },
  {
   "cell_type": "markdown",
   "metadata": {},
   "source": [
    "We can now inspect the contents of the created file.\n",
    "\n",
    "This file is in the JSON-format and is simply a list of dictionaries - where each dictionary represents the attributes of a single Parameter.\n",
    "\n",
    "You could edit this file in a text-editor - but do be careful if changing any of the tags. For example: if you want to change the component tag of one of your stars, make sure to change ALL instances of the component tag to match."
   ]
  },
  {
   "cell_type": "code",
   "execution_count": 5,
   "metadata": {},
   "outputs": [
    {
     "name": "stdout",
     "output_type": "stream",
     "text": [
      "[\r\n",
      "{\r\n",
      "\"Class\": \"FloatParameter\",\r\n",
      "\"context\": \"system\",\r\n",
      "\"copy_for\": false,\r\n",
      "\"default_unit\": \"d\",\r\n",
      "\"description\": \"Time at which all values are provided\",\r\n",
      "\"limits\": [\r\n",
      "null,\r\n",
      "null\r\n",
      "],\r\n",
      "\"qualifier\": \"t0\",\r\n",
      "\"value\": 0.0\r\n",
      "},\r\n",
      "{\r\n",
      "\"Class\": \"FloatParameter\",\r\n",
      "\"context\": \"system\",\r\n",
      "\"copy_for\": false,\r\n",
      "\"default_unit\": \"deg\",\r\n",
      "\"description\": \"Right ascension\",\r\n",
      "\"limits\": [\r\n",
      "null,\r\n",
      "null\r\n",
      "],\r\n",
      "\"qualifier\": \"ra\",\r\n",
      "\"value\": 0.0\r\n",
      "},\r\n",
      "{\r\n",
      "\"Class\": \"FloatParameter\",\r\n",
      "\"context\": \"system\",\r\n"
     ]
    }
   ],
   "source": [
    "!head -30 test.phoebe"
   ]
  },
  {
   "cell_type": "markdown",
   "metadata": {},
   "source": [
    "# Loading a Bundle"
   ]
  },
  {
   "cell_type": "markdown",
   "metadata": {},
   "source": [
    "To reload a Bundle from a file, we'll use phoebe.load instead of default_binary"
   ]
  },
  {
   "cell_type": "code",
   "execution_count": 5,
   "metadata": {},
   "outputs": [],
   "source": [
    "b = phoebe.load('test.phoebe')"
   ]
  },
  {
   "cell_type": "markdown",
   "metadata": {},
   "source": [
    "# Exporting to PHOEBE Legacy"
   ]
  },
  {
   "cell_type": "markdown",
   "metadata": {},
   "source": [
    "PHOEBE also supports exporting the the file format required by other backends - including PHOEBE legacy.  Note that not all Parameters can directly be translated and not all physics in PHOEBE 2 is supported by legacy and exporting does require a set of 'legacy' compute options."
   ]
  },
  {
   "cell_type": "code",
   "execution_count": 8,
   "metadata": {},
   "outputs": [
    {
     "data": {
      "text/plain": [
       "<ParameterSet: 7 parameters | components: primary, secondary>"
      ]
     },
     "execution_count": 8,
     "metadata": {},
     "output_type": "execute_result"
    }
   ],
   "source": [
    "b.add_compute('legacy')"
   ]
  },
  {
   "cell_type": "code",
   "execution_count": 9,
   "metadata": {},
   "outputs": [
    {
     "name": "stderr",
     "output_type": "stream",
     "text": [
      "Tue, 21 May 2019 14:43 BUNDLE       WARNING exporting to legacy is experimental until official 1.0 release\n",
      "Tue, 21 May 2019 14:43 IO           WARNING requiv_max@primary@star@component has no phoebe 1 corollary\n",
      "Tue, 21 May 2019 14:43 IO           WARNING freq@primary@star@component has no phoebe 1 corollary\n",
      "Tue, 21 May 2019 14:43 IO           WARNING pitch@primary@star@component has no phoebe 1 corollary\n",
      "Tue, 21 May 2019 14:43 IO           WARNING yaw@primary@star@component has no phoebe 1 corollary\n",
      "Tue, 21 May 2019 14:43 IO           WARNING long_an@primary@star@component has no phoebe 1 corollary\n",
      "Tue, 21 May 2019 14:43 IO           WARNING irrad_frac_lost_bol@primary@star@component has no phoebe 1 corollary\n",
      "Tue, 21 May 2019 14:43 IO           WARNING ld_func_bol@primary@star@component has no phoebe 1 corollary\n",
      "Tue, 21 May 2019 14:43 IO           WARNING mass@primary@star@component has no phoebe 1 corollary\n",
      "Tue, 21 May 2019 14:43 IO           WARNING requiv_max@secondary@star@component has no phoebe 1 corollary\n",
      "Tue, 21 May 2019 14:43 IO           WARNING freq@secondary@star@component has no phoebe 1 corollary\n",
      "Tue, 21 May 2019 14:43 IO           WARNING pitch@secondary@star@component has no phoebe 1 corollary\n",
      "Tue, 21 May 2019 14:43 IO           WARNING yaw@secondary@star@component has no phoebe 1 corollary\n",
      "Tue, 21 May 2019 14:43 IO           WARNING long_an@secondary@star@component has no phoebe 1 corollary\n",
      "Tue, 21 May 2019 14:43 IO           WARNING irrad_frac_lost_bol@secondary@star@component has no phoebe 1 corollary\n",
      "Tue, 21 May 2019 14:43 IO           WARNING ld_func_bol@secondary@star@component has no phoebe 1 corollary\n",
      "Tue, 21 May 2019 14:43 IO           WARNING mass@secondary@star@component has no phoebe 1 corollary\n",
      "Tue, 21 May 2019 14:43 IO           WARNING freq@binary@orbit@component has no phoebe 1 corollary\n",
      "Tue, 21 May 2019 14:43 IO           WARNING t0_perpass@binary@orbit@component has no phoebe 1 corollary\n",
      "Tue, 21 May 2019 14:43 IO           WARNING t0_supconj@binary@orbit@component has no phoebe 1 corollary\n",
      "Tue, 21 May 2019 14:43 IO           WARNING mean_anom@binary@orbit@component has no phoebe 1 corollary\n",
      "Tue, 21 May 2019 14:43 IO           WARNING long_an@binary@orbit@component has no phoebe 1 corollary\n",
      "Tue, 21 May 2019 14:43 IO           WARNING asini@binary@orbit@component has no phoebe 1 corollary\n",
      "Tue, 21 May 2019 14:43 IO           WARNING ecosw@binary@orbit@component has no phoebe 1 corollary\n",
      "Tue, 21 May 2019 14:43 IO           WARNING esinw@binary@orbit@component has no phoebe 1 corollary\n",
      "Tue, 21 May 2019 14:43 IO           WARNING irrad_method@legacy01@legacy@compute has no phoebe 1 corollary\n",
      "Tue, 21 May 2019 14:43 IO           WARNING t0@system has no phoebe 1 corollary\n",
      "Tue, 21 May 2019 14:43 IO           WARNING ra@system has no phoebe 1 corollary\n",
      "Tue, 21 May 2019 14:43 IO           WARNING dec@system has no phoebe 1 corollary\n",
      "Tue, 21 May 2019 14:43 IO           WARNING epoch@system has no phoebe 1 corollary\n",
      "Tue, 21 May 2019 14:43 IO           WARNING distance@system has no phoebe 1 corollary\n",
      "Tue, 21 May 2019 14:43 IO           WARNING hierarchy@system has no phoebe 1 corollary\n"
     ]
    }
   ],
   "source": [
    "b.export_legacy('test_legacy.phoebe')"
   ]
  },
  {
   "cell_type": "code",
   "execution_count": 10,
   "metadata": {},
   "outputs": [
    {
     "name": "stdout",
     "output_type": "stream",
     "text": [
      "# Phoebe 1 file created from phoebe 2 bundle. Some functionality may be lost\r\n",
      "phoebe_rvno = 0\r\n",
      "phoebe_spots_no = 0\r\n",
      "phoebe_lcno = 0\r\n",
      "phoebe_indep = \"Time (HJD)\"\r\n",
      "phoebe_el3_units = \"Flux\"\r\n",
      "phoebe_ld_model = \"Logarithmic law\"\r\n",
      "phoebe_model = \"Detached binary\"\r\n",
      "phoebe_pot1.VAL = 6.32415124294\r\n",
      "phoebe_teff1.VAL = 6000.0\r\n",
      "phoebe_met1.VAL = 0.0\r\n",
      "phoebe_f1.VAL = 1.0\r\n",
      "phoebe_grb1.VAL = 0.32\r\n",
      "phoebe_alb1.VAL = 0.6\r\n",
      "phoebe_ld_xbol1 = 0.5\r\n",
      "phoebe_ld_ybol1 = 0.5\r\n",
      "phoebe_pot2.VAL = 6.32415124294\r\n",
      "phoebe_teff2.VAL = 6000.0\r\n",
      "phoebe_met2.VAL = 0.0\r\n",
      "phoebe_f2.VAL = 1.0\r\n",
      "phoebe_grb2.VAL = 0.32\r\n",
      "phoebe_alb2.VAL = 0.6\r\n",
      "phoebe_ld_xbol2 = 0.5\r\n",
      "phoebe_ld_ybol2 = 0.5\r\n",
      "phoebe_spots_units = \"Degrees\"\r\n",
      "phoebe_period.VAL = 1.0\r\n",
      "phoebe_dpdt.VAL = 0.0\r\n",
      "phoebe_perr0.VAL = 0.0\r\n",
      "phoebe_dperdt.VAL = 0.0\r\n",
      "phoebe_ecc.VAL = 0.0\r\n"
     ]
    }
   ],
   "source": [
    "!head -30 test_legacy.phoebe"
   ]
  },
  {
   "cell_type": "markdown",
   "metadata": {},
   "source": [
    "# Importing from PHOEBE Legacy"
   ]
  },
  {
   "cell_type": "markdown",
   "metadata": {},
   "source": [
    "Similarly, we can import a file created in PHOEBE Legacy (including in the GUI) into a PHOEBE 2 Bundle.  Here we'll use phoebe.from_legacy instead of default_binary"
   ]
  },
  {
   "cell_type": "code",
   "execution_count": 11,
   "metadata": {
    "scrolled": true
   },
   "outputs": [
    {
     "name": "stderr",
     "output_type": "stream",
     "text": [
      "Tue, 21 May 2019 14:44 BUNDLE       WARNING importing from legacy is experimental until official 1.0 release\n",
      "Tue, 21 May 2019 14:44 IO           WARNING If you would like to use phoebe 1 atmospheres, you must add this manually\n",
      "Tue, 21 May 2019 14:44 IO           WARNING If you would like to use phoebe 1 atmospheres, you must add this manually\n"
     ]
    }
   ],
   "source": [
    "b = phoebe.from_legacy('test_legacy.phoebe')"
   ]
  },
  {
   "cell_type": "markdown",
   "metadata": {},
   "source": [
    "# Exercise"
   ]
  },
  {
   "cell_type": "markdown",
   "metadata": {},
   "source": [
    "If you have any PHOEBE legacy files, try to import them."
   ]
  },
  {
   "cell_type": "code",
   "execution_count": null,
   "metadata": {},
   "outputs": [],
   "source": []
  },
  {
   "cell_type": "markdown",
   "metadata": {},
   "source": [
    "Try to change some values in the saved Bundle and make sure you can re-load the Bundle successfully."
   ]
  },
  {
   "cell_type": "code",
   "execution_count": null,
   "metadata": {},
   "outputs": [],
   "source": []
  }
 ],
 "metadata": {
  "kernelspec": {
   "display_name": "Python 2",
   "language": "python",
   "name": "python2"
  },
  "language_info": {
   "codemirror_mode": {
    "name": "ipython",
    "version": 2
   },
   "file_extension": ".py",
   "mimetype": "text/x-python",
   "name": "python",
   "nbconvert_exporter": "python",
   "pygments_lexer": "ipython2",
   "version": "2.7.15"
  }
 },
 "nbformat": 4,
 "nbformat_minor": 2
}
