{
 "cells": [
  {
   "cell_type": "markdown",
   "metadata": {},
   "source": [
    "# Workshop Tutorial Example Solutions: Datasets\n",
    "\n",
    "These are just an example of the many possible solutions to the exercises in [Workshop Tutorial: Datasets](./Tutorial_03_datasets.ipynb)"
   ]
  },
  {
   "cell_type": "code",
   "execution_count": 1,
   "metadata": {},
   "outputs": [],
   "source": [
    "import phoebe\n",
    "b = phoebe.default_binary()"
   ]
  },
  {
   "cell_type": "code",
   "execution_count": 2,
   "metadata": {},
   "outputs": [
    {
     "data": {
      "text/plain": [
       "<ParameterSet: 81 parameters | contexts: dataset, figure, compute, constraint>"
      ]
     },
     "execution_count": 2,
     "metadata": {},
     "output_type": "execute_result"
    }
   ],
   "source": [
    "b.add_dataset('rv')"
   ]
  },
  {
   "cell_type": "code",
   "execution_count": 3,
   "metadata": {},
   "outputs": [
    {
     "data": {
      "text/plain": [
       "<ParameterSet: 78 parameters | contexts: dataset, figure, compute, constraint>"
      ]
     },
     "execution_count": 3,
     "metadata": {},
     "output_type": "execute_result"
    }
   ],
   "source": [
    "b.add_dataset('lc')"
   ]
  },
  {
   "cell_type": "markdown",
   "metadata": {},
   "source": [
    "**What choices are available for `rv_method`, `passband`, `pblum_mode`, `ld_mode`, and `intens_weighting` (refer back to the [first tutorial](./Tutorial_01_bundle_basics.ipynb) if you've forgotten how to check the choices)?**"
   ]
  },
  {
   "cell_type": "code",
   "execution_count": 4,
   "metadata": {},
   "outputs": [
    {
     "name": "stdout",
     "output_type": "stream",
     "text": [
      "ParameterSet: 2 parameters\n",
      "   rv_method@primary@phoebe01@...: flux-weighted\n",
      "   rv_method@secondary@phoebe0...: flux-weighted\n"
     ]
    }
   ],
   "source": [
    "print(b.filter(qualifier='rv_method'))"
   ]
  },
  {
   "cell_type": "code",
   "execution_count": 5,
   "metadata": {},
   "outputs": [
    {
     "name": "stdout",
     "output_type": "stream",
     "text": [
      "['flux-weighted', 'dynamical']\n"
     ]
    }
   ],
   "source": [
    "print(b.get_parameter(qualifier='rv_method', component='primary').get_choices())"
   ]
  },
  {
   "cell_type": "code",
   "execution_count": 6,
   "metadata": {},
   "outputs": [
    {
     "name": "stdout",
     "output_type": "stream",
     "text": [
      "ParameterSet: 2 parameters\n",
      "            passband@rv01@dataset: Johnson:V\n",
      "            passband@lc01@dataset: Johnson:V\n"
     ]
    }
   ],
   "source": [
    "print(b.filter(qualifier='passband'))"
   ]
  },
  {
   "cell_type": "code",
   "execution_count": 7,
   "metadata": {},
   "outputs": [
    {
     "name": "stdout",
     "output_type": "stream",
     "text": [
      "['Gaia:BP', 'LSST:u', 'KELT:R', 'PanStarrs:open', 'SWASP:pre2004', 'SDSS:g', 'PanStarrs:y', 'Stromgren:u', 'LSST:r', 'Tycho:B', 'LSST:y3', 'Hipparcos:Hp', 'Tycho:V', 'Gaia:RP', 'Gaia:G', 'SDSS:r', 'PanStarrs:z', 'TESS:T', 'SWASP:default', 'LSST:g', 'PanStarrs:g', 'SDSS:iprime', 'Johnson:I', 'PanStarrs:r', 'Johnson:V', 'Gaia:RVS', 'SDSS:z', 'Stromgren:y', 'SDSS:rprime', 'SDSS:gprime', 'Johnson:B', 'Stromgren:b', 'SDSS:i', 'PanStarrs:w', 'SDSS:uprime', 'LSST:i', 'BRITE:blue', 'Cousins:R', 'SDSS:u', 'PanStarrs:i', 'Stromgren:v', 'BRITE:red', 'LSST:z', 'Johnson:R', 'Cousins:I', 'SDSS:zprime', 'Kepler:mean', 'Bolometric:900-40000', 'Johnson:U']\n"
     ]
    }
   ],
   "source": [
    "print(b.get_parameter(qualifier='passband', dataset='lc01').choices)"
   ]
  },
  {
   "cell_type": "code",
   "execution_count": 8,
   "metadata": {},
   "outputs": [
    {
     "name": "stdout",
     "output_type": "stream",
     "text": [
      "ParameterSet: 1 parameters\n",
      "          pblum_mode@lc01@dataset: component-coupled\n"
     ]
    }
   ],
   "source": [
    "print(b.filter(qualifier='pblum_mode'))"
   ]
  },
  {
   "cell_type": "code",
   "execution_count": 9,
   "metadata": {},
   "outputs": [
    {
     "name": "stdout",
     "output_type": "stream",
     "text": [
      "['decoupled', 'component-coupled', 'dataset-coupled', 'dataset-scaled', 'absolute']\n"
     ]
    }
   ],
   "source": [
    "print(b.get_parameter(qualifier='pblum_mode').choices)"
   ]
  },
  {
   "cell_type": "code",
   "execution_count": 10,
   "metadata": {},
   "outputs": [
    {
     "name": "stdout",
     "output_type": "stream",
     "text": [
      "ParameterSet: 4 parameters\n",
      "     ld_mode@primary@rv01@dataset: interp\n",
      "   ld_mode@secondary@rv01@dataset: interp\n",
      "     ld_mode@primary@lc01@dataset: interp\n",
      "   ld_mode@secondary@lc01@dataset: interp\n"
     ]
    }
   ],
   "source": [
    "print(b.filter(qualifier='ld_mode'))"
   ]
  },
  {
   "cell_type": "code",
   "execution_count": 11,
   "metadata": {},
   "outputs": [
    {
     "name": "stdout",
     "output_type": "stream",
     "text": [
      "['interp', 'lookup', 'manual']\n"
     ]
    }
   ],
   "source": [
    "print(b.get_parameter(qualifier='ld_mode', component='primary', dataset='lc01').choices)"
   ]
  },
  {
   "cell_type": "code",
   "execution_count": 12,
   "metadata": {},
   "outputs": [
    {
     "name": "stdout",
     "output_type": "stream",
     "text": [
      "ParameterSet: 2 parameters\n",
      "    intens_weighting@rv01@dataset: energy\n",
      "    intens_weighting@lc01@dataset: energy\n"
     ]
    }
   ],
   "source": [
    "print(b.filter(qualifier='intens_weighting'))"
   ]
  },
  {
   "cell_type": "code",
   "execution_count": 13,
   "metadata": {},
   "outputs": [
    {
     "name": "stdout",
     "output_type": "stream",
     "text": [
      "['energy', 'photon']\n"
     ]
    }
   ],
   "source": [
    "print(b.get_parameter(qualifier='intens_weighting', dataset='lc01').choices)"
   ]
  },
  {
   "cell_type": "markdown",
   "metadata": {},
   "source": [
    "**Let's say we had a single-lined binary system.  Set the times on the RV dataset such that only the primary star would be computed.**"
   ]
  },
  {
   "cell_type": "code",
   "execution_count": 14,
   "metadata": {},
   "outputs": [
    {
     "name": "stdout",
     "output_type": "stream",
     "text": [
      "ParameterSet: 2 parameters\n",
      "       times@primary@rv01@dataset: [0.   0.01 0.02 ... 0.98 0.99 1.  ] d\n",
      "     times@secondary@rv01@dataset: [] d\n"
     ]
    }
   ],
   "source": [
    "# to do this from an existing RV dataset:\n",
    "\n",
    "b.set_value('times', dataset='rv01', component='primary', value=phoebe.linspace(0,1,101))\n",
    "b.set_value('times', dataset='rv01', component='secondary', value=[])\n",
    "\n",
    "print(b.filter(qualifier='times', dataset='rv01'))"
   ]
  },
  {
   "cell_type": "code",
   "execution_count": 15,
   "metadata": {},
   "outputs": [
    {
     "name": "stdout",
     "output_type": "stream",
     "text": [
      "ParameterSet: 2 parameters\n",
      "       times@primary@rv02@dataset: [0.   0.01 0.02 ... 0.98 0.99 1.  ] d\n",
      "     times@secondary@rv02@dataset: [] d\n"
     ]
    }
   ],
   "source": [
    "# to do this while adding a dataset:\n",
    "\n",
    "b.add_dataset('rv', times={'primary': phoebe.linspace(0,1,101)}, dataset='rv02')\n",
    "print(b.filter(qualifier='times', dataset='rv02'))"
   ]
  },
  {
   "cell_type": "code",
   "execution_count": 16,
   "metadata": {},
   "outputs": [
    {
     "name": "stdout",
     "output_type": "stream",
     "text": [
      "ParameterSet: 2 parameters\n",
      "       times@primary@rv03@dataset: [0.   0.01 0.02 ... 0.98 0.99 1.  ] d\n",
      "     times@secondary@rv03@dataset: [] d\n"
     ]
    }
   ],
   "source": [
    "# or\n",
    "\n",
    "b.add_dataset('rv', times=phoebe.linspace(0,1,101), component='primary', dataset='rv03')\n",
    "print(b.filter(qualifier='times', dataset='rv03'))"
   ]
  },
  {
   "cell_type": "markdown",
   "metadata": {},
   "source": [
    "**Add another RV dataset.  Set the new RV dataset to have `rv_method='dynamical'` while keeping the original 'rv01' dataset with `rv_method='flux-weighted'`.  (You'll notice there is a parameter per-component - you'll either need to set both manually or use [set_value_all](http://phoebe-project.org/docs/latest/api/phoebe.parameters.ParameterSet.set_value_all.md))**"
   ]
  },
  {
   "cell_type": "code",
   "execution_count": 17,
   "metadata": {},
   "outputs": [
    {
     "name": "stdout",
     "output_type": "stream",
     "text": [
      "ParameterSet: 6 parameters\n",
      "   rv_method@primary@rv01@phoe...: flux-weighted\n",
      "   rv_method@secondary@rv01@ph...: flux-weighted\n",
      "   rv_method@primary@rv02@phoe...: flux-weighted\n",
      "   rv_method@secondary@rv02@ph...: flux-weighted\n",
      "   rv_method@primary@rv03@phoe...: flux-weighted\n",
      "   rv_method@secondary@rv03@ph...: flux-weighted\n"
     ]
    }
   ],
   "source": [
    "print(b.filter(qualifier='rv_method'))"
   ]
  },
  {
   "cell_type": "code",
   "execution_count": 18,
   "metadata": {},
   "outputs": [
    {
     "name": "stdout",
     "output_type": "stream",
     "text": [
      "ParameterSet: 4 parameters\n",
      "   rv_method@primary@rv01@phoe...: flux-weighted\n",
      "   rv_method@secondary@rv01@ph...: flux-weighted\n",
      "   rv_method@primary@rv02@phoe...: flux-weighted\n",
      "   rv_method@secondary@rv02@ph...: flux-weighted\n"
     ]
    }
   ],
   "source": [
    "print(b.filter(qualifier='rv_method', dataset=['rv01', 'rv02']))"
   ]
  },
  {
   "cell_type": "code",
   "execution_count": 19,
   "metadata": {},
   "outputs": [],
   "source": [
    "b.set_value_all(qualifier='rv_method', dataset=['rv01', 'rv02'], value='dynamical')"
   ]
  },
  {
   "cell_type": "code",
   "execution_count": 20,
   "metadata": {},
   "outputs": [
    {
     "name": "stdout",
     "output_type": "stream",
     "text": [
      "ParameterSet: 6 parameters\n",
      "   rv_method@primary@rv01@phoe...: dynamical\n",
      "   rv_method@secondary@rv01@ph...: dynamical\n",
      "   rv_method@primary@rv02@phoe...: dynamical\n",
      "   rv_method@secondary@rv02@ph...: dynamical\n",
      "   rv_method@primary@rv03@phoe...: flux-weighted\n",
      "   rv_method@secondary@rv03@ph...: flux-weighted\n"
     ]
    }
   ],
   "source": [
    "print(b.filter(qualifier='rv_method'))"
   ]
  }
 ],
 "metadata": {
  "kernelspec": {
   "display_name": "Python 3",
   "language": "python",
   "name": "python3"
  },
  "language_info": {
   "codemirror_mode": {
    "name": "ipython",
    "version": 3
   },
   "file_extension": ".py",
   "mimetype": "text/x-python",
   "name": "python",
   "nbconvert_exporter": "python",
   "pygments_lexer": "ipython3",
   "version": "3.8.5"
  }
 },
 "nbformat": 4,
 "nbformat_minor": 2
}
