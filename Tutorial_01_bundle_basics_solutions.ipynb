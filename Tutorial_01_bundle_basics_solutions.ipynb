{
 "cells": [
  {
   "cell_type": "markdown",
   "metadata": {},
   "source": [
    "# Workshop Tutorial Example Solutions: General Concepts & Bundle Basics\n",
    "\n",
    "These are just an example of the many possible solutions to the exercises in [Workshop Tutorial: General Concepts & Bundle Basics](./Tutorial_01_bundle_basics.ipynb)"
   ]
  },
  {
   "cell_type": "code",
   "execution_count": 1,
   "metadata": {},
   "outputs": [],
   "source": [
    "import phoebe\n",
    "b = phoebe.default_binary()"
   ]
  },
  {
   "cell_type": "markdown",
   "metadata": {},
   "source": [
    "Find and access the value of the effective temperature of the primary star via filtering and twig access."
   ]
  },
  {
   "cell_type": "code",
   "execution_count": 2,
   "metadata": {},
   "outputs": [
    {
     "name": "stdout",
     "output_type": "stream",
     "text": [
      "ParameterSet: 39 parameters\n",
      "         requiv@primary@component: 1.0 solRad\n",
      "C    requiv_max@primary@component: 2.013275176537638 solRad\n",
      "           teff@primary@component: 6000.0 K\n",
      "           abun@primary@component: 0.0\n",
      "C          logg@primary@component: 4.437551877570185\n",
      "        syncpar@primary@component: 1.0\n",
      "C        period@primary@component: 1.0 d\n",
      "C          freq@primary@component: 6.283185 rad / d\n",
      "          pitch@primary@component: 0.0 deg\n",
      "            yaw@primary@component: 0.0 deg\n",
      "C          incl@primary@component: 90.0 deg\n",
      "C       long_an@primary@component: 0.0 deg\n",
      "      gravb_bol@primary@component: 0.32\n",
      "   irrad_frac_refl_bol@primary...: 0.6\n",
      "C  irrad_frac_lost_bol@primary...: 0.4\n",
      "    ld_mode_bol@primary@component: lookup\n",
      "    ld_func_bol@primary@component: logarithmic\n",
      "   ld_coeffs_source_bol@primar...: auto\n",
      "C          mass@primary@component: 0.9988131358058301 solMass\n",
      "C           sma@primary@component: 2.65 solRad\n",
      "C         asini@primary@component: 2.65 solRad\n",
      "          freq@primary@constraint: 6.283185 / {period@primary@component}\n",
      "          logg@primary@constraint: log10((({mass@primary@component} / ({requiv@primary@component} ** 2.000000)) * 2942.206218) * 9.319541)\n",
      "   irrad_frac_lost_bol@primary...: 1.000000 - {irrad_frac_refl_bol@primary@component}\n",
      "          mass@primary@constraint: (39.478418 * ({sma@binary@component} ** 3.000000)) / ((({period@binary@component} ** 2.000000) * ({q@binary@component} + 1.000000)) * 2942.206217504419328179210424423218)\n",
      "           sma@primary@constraint: {sma@binary@component} / ((1.000000 / {q@binary@component}) + 1.000000)\n",
      "         asini@primary@constraint: ({sma@binary@component} * (sin({incl@binary@component}))) / ((1.000000 / {q@binary@component}) + 1.000000)\n",
      "        period@primary@constraint: {period@binary@component} / {syncpar@primary@component}\n",
      "          incl@primary@constraint: {incl@binary@component} + {pitch@primary@component}\n",
      "       long_an@primary@constraint: {long_an@binary@component} + {yaw@primary@component}\n",
      "    requiv_max@primary@constraint: requiv_L1({q@binary@component}, {syncpar@primary@component}, {ecc@binary@component}, {sma@binary@component}, {incl@primary@component}, {long_an@primary@component}, {incl@binary@component}, {long_an@binary@component}, 1)\n",
      "        latex_repr@primary@figure: \n",
      "             color@primary@figure: blue\n",
      "            marker@primary@figure: .\n",
      "         linestyle@primary@figure: solid\n",
      "   mesh_method@primary@phoebe0...: marching\n",
      "   ntriangles@primary@phoebe01...: 1500\n",
      "   distortion_method@primary@p...: roche\n",
      "     atm@primary@phoebe01@compute: ck2004\n"
     ]
    }
   ],
   "source": [
    "print(b.filter(component='primary'))"
   ]
  },
  {
   "cell_type": "code",
   "execution_count": 3,
   "metadata": {},
   "outputs": [
    {
     "name": "stdout",
     "output_type": "stream",
     "text": [
      "Parameter: teff@primary@component\n",
      "                       Qualifier: teff\n",
      "                     Description: Mean effective temperature\n",
      "                           Value: 6000.0 K\n",
      "                  Constrained by: \n",
      "                      Constrains: None\n",
      "                      Related to: None\n",
      "\n"
     ]
    }
   ],
   "source": [
    "print(b.get_parameter(qualifier='teff', component='primary'))"
   ]
  },
  {
   "cell_type": "markdown",
   "metadata": {},
   "source": [
    "Find the choices for the `atm` Parameter"
   ]
  },
  {
   "cell_type": "code",
   "execution_count": 4,
   "metadata": {},
   "outputs": [
    {
     "data": {
      "text/plain": [
       "<ParameterSet: 2 parameters | components: secondary, primary>"
      ]
     },
     "execution_count": 4,
     "metadata": {},
     "output_type": "execute_result"
    }
   ],
   "source": [
    "b.filter(qualifier='atm')"
   ]
  },
  {
   "cell_type": "code",
   "execution_count": 5,
   "metadata": {},
   "outputs": [
    {
     "name": "stdout",
     "output_type": "stream",
     "text": [
      "['blackbody', 'extern_atmx', 'ck2004', 'phoenix', 'extern_planckint']\n"
     ]
    }
   ],
   "source": [
    "print(b.get_parameter(qualifier='atm', component='primary').choices)"
   ]
  },
  {
   "cell_type": "markdown",
   "metadata": {},
   "source": [
    "Find what the `ltte` Parameter stands for.  Does it have choices?"
   ]
  },
  {
   "cell_type": "code",
   "execution_count": 6,
   "metadata": {},
   "outputs": [
    {
     "data": {
      "text/plain": [
       "<ParameterSet: 1 parameters>"
      ]
     },
     "execution_count": 6,
     "metadata": {},
     "output_type": "execute_result"
    }
   ],
   "source": [
    "b.filter(qualifier='ltte')"
   ]
  },
  {
   "cell_type": "code",
   "execution_count": 7,
   "metadata": {},
   "outputs": [
    {
     "name": "stdout",
     "output_type": "stream",
     "text": [
      "Correct for light travel time effects\n"
     ]
    }
   ],
   "source": [
    "print(b.get_parameter(qualifier='ltte').get_description())"
   ]
  },
  {
   "cell_type": "code",
   "execution_count": 8,
   "metadata": {},
   "outputs": [],
   "source": [
    "#print(b.get_parameter(qualifier='ltte').get_choices())"
   ]
  },
  {
   "cell_type": "code",
   "execution_count": 9,
   "metadata": {},
   "outputs": [
    {
     "data": {
      "text/plain": [
       "phoebe.parameters.parameters.BoolParameter"
      ]
     },
     "execution_count": 9,
     "metadata": {},
     "output_type": "execute_result"
    }
   ],
   "source": [
    "type(b.get_parameter(qualifier='ltte'))"
   ]
  },
  {
   "cell_type": "markdown",
   "metadata": {},
   "source": [
    "Change the default unit of the argument of periastron from degrees to radians and print the result with the new units."
   ]
  },
  {
   "cell_type": "code",
   "execution_count": 10,
   "metadata": {},
   "outputs": [
    {
     "name": "stdout",
     "output_type": "stream",
     "text": [
      "ParameterSet: 25 parameters\n",
      "          period@binary@component: 1.0 d\n",
      "C           freq@binary@component: 6.283185 rad / d\n",
      "            dpdt@binary@component: 0.0 s / yr\n",
      "            per0@binary@component: 0.0 deg\n",
      "          dperdt@binary@component: 0.0 deg / yr\n",
      "             ecc@binary@component: 0.0\n",
      "C     t0_perpass@binary@component: -0.25 d\n",
      "      t0_supconj@binary@component: 0.0 d\n",
      "C         t0_ref@binary@component: 0.0 d\n",
      "C      mean_anom@binary@component: 89.99999559997653 deg\n",
      "            incl@binary@component: 90.0 deg\n",
      "               q@binary@component: 1.0\n",
      "             sma@binary@component: 5.3 solRad\n",
      "         long_an@binary@component: 0.0 deg\n",
      "C          asini@binary@component: 5.3 solRad\n",
      "C          ecosw@binary@component: 0.0\n",
      "C          esinw@binary@component: 0.0\n",
      "          asini@binary@constraint: {sma@binary@component} * (sin({incl@binary@component}))\n",
      "            t0_perpass@constraint: t0_supconj_to_perpass({t0_supconj@binary@component}, {period@binary@component}, {ecc@binary@component}, {per0@binary@component}, {dpdt@binary@component}, {dperdt@binary@component}, {t0@system})\n",
      "                t0_ref@constraint: t0_supconj_to_ref({t0_supconj@binary@component}, {period@binary@component}, {ecc@binary@component}, {per0@binary@component}, {dpdt@binary@component}, {dperdt@binary@component}, {t0@system})\n",
      "             mean_anom@constraint: (6.283185 * ({t0@system} - {t0_perpass@binary@component})) / {period@binary@component}\n",
      "                 ecosw@constraint: {ecc@binary@component} * (cos({per0@binary@component}))\n",
      "                 esinw@constraint: {ecc@binary@component} * (sin({per0@binary@component}))\n",
      "           freq@binary@constraint: 6.283185 / {period@binary@component}\n",
      "         latex_repr@binary@figure: \n"
     ]
    }
   ],
   "source": [
    "print(b.filter(component='binary'))"
   ]
  },
  {
   "cell_type": "code",
   "execution_count": 11,
   "metadata": {},
   "outputs": [
    {
     "name": "stdout",
     "output_type": "stream",
     "text": [
      "ParameterSetInfo: (qualfier/twig: description)\n",
      "    asini@binary@orbit@component: Projected semi major axis\n",
      "   asini@binary@orbit@constraint: expression that determines the constraint\n",
      "                            dpdt: Time derivative of orbital period (anomalistic), where period is defined at t0@system\n",
      "                          dperdt: Time derivative of argument of periastron, where per0 is defined at t0@system\n",
      "                             ecc: Eccentricity\n",
      "    ecosw@binary@orbit@component: Eccentricity times cos of argument of periastron\n",
      "   ecosw@binary@orbit@constraint: expression that determines the constraint\n",
      "    esinw@binary@orbit@component: Eccentricity times sin of argument of periastron\n",
      "   esinw@binary@orbit@constraint: expression that determines the constraint\n",
      "     freq@binary@orbit@component: Orbital frequency (sidereal)\n",
      "    freq@binary@orbit@constraint: expression that determines the constraint\n",
      "                            incl: Orbital inclination angle\n",
      "                      latex_repr: Representation to use in place of the component label when rendering latex representations of parameters.  If blank, will use the labels directly.\n",
      "                         long_an: Longitude of the ascending node\n",
      "mean_anom@binary@orbit@component: Mean anomaly at t0@system\n",
      "mean_anom@binary@orbit@constraint: expression that determines the constraint\n",
      "                            per0: Argument of periastron (defined at time t0@system)\n",
      "                          period: Orbital period (defined at t0@system, sidereal: wrt the sky)\n",
      "                               q: Mass ratio\n",
      "                             sma: Semi-major axis of the orbit (defined at time t0@system)\n",
      "t0_perpass@binary@orbit@component: Zeropoint date at periastron passage of the primary component\n",
      "t0_perpass@binary@orbit@constraint: expression that determines the constraint\n",
      "   t0_ref@binary@orbit@component: Zeropoint date at reference point for the primary component\n",
      "  t0_ref@binary@orbit@constraint: expression that determines the constraint\n",
      "                      t0_supconj: Zeropoint date at superior conjunction of the primary component\n"
     ]
    }
   ],
   "source": [
    "print(b.filter(component='binary').info)"
   ]
  },
  {
   "cell_type": "code",
   "execution_count": 12,
   "metadata": {},
   "outputs": [
    {
     "name": "stdout",
     "output_type": "stream",
     "text": [
      "Parameter: per0@binary@component\n",
      "                       Qualifier: per0\n",
      "                     Description: Argument of periastron (defined at time t0@system)\n",
      "                           Value: 0.0 deg\n",
      "                  Constrained by: \n",
      "                      Constrains: t0_perpass@binary@component, t0_ref@binary@component, ecosw@binary@component, esinw@binary@component\n",
      "                      Related to: t0_supconj@binary@component, period@binary@component, ecc@binary@component, dpdt@binary@component, dperdt@binary@component, t0@system, t0_perpass@binary@component, t0_ref@binary@component, ecosw@binary@component, esinw@binary@component\n",
      "\n"
     ]
    }
   ],
   "source": [
    "print(b.get_parameter(qualifier='per0'))"
   ]
  },
  {
   "cell_type": "code",
   "execution_count": 13,
   "metadata": {},
   "outputs": [],
   "source": [
    "b.get_parameter(qualifier='per0').set_default_unit(phoebe.u.rad)"
   ]
  },
  {
   "cell_type": "code",
   "execution_count": 14,
   "metadata": {},
   "outputs": [
    {
     "name": "stdout",
     "output_type": "stream",
     "text": [
      "0.0 rad\n"
     ]
    }
   ],
   "source": [
    "print(b.get_quantity(qualifier='per0'))"
   ]
  },
  {
   "cell_type": "markdown",
   "metadata": {},
   "source": [
    "Set the default_unit for all radii and smas of all components to AU and then show their values. (Hint: you can also call set_default_unit_all to act on a ParameterSet instead of a Parameter)"
   ]
  },
  {
   "cell_type": "code",
   "execution_count": 15,
   "metadata": {},
   "outputs": [
    {
     "name": "stdout",
     "output_type": "stream",
     "text": [
      "ParameterSetInfo: (qualfier/twig: description)\n",
      "                            abun: Abundance/Metallicity\n",
      "    asini@binary@orbit@component: Projected semi major axis\n",
      "            asini@star@component: Projected semi major axis of the component in the orbit\n",
      "                            dpdt: Time derivative of orbital period (anomalistic), where period is defined at t0@system\n",
      "                          dperdt: Time derivative of argument of periastron, where per0 is defined at t0@system\n",
      "                             ecc: Eccentricity\n",
      "                           ecosw: Eccentricity times cos of argument of periastron\n",
      "                           esinw: Eccentricity times sin of argument of periastron\n",
      "     freq@binary@orbit@component: Orbital frequency (sidereal)\n",
      "             freq@star@component: Rotation frequency (wrt the sky)\n",
      "                       gravb_bol: Bolometric gravity brightening\n",
      "     incl@binary@orbit@component: Orbital inclination angle\n",
      "             incl@star@component: Inclination of the stellar rotation axis\n",
      "             irrad_frac_lost_bol: ratio of incident bolometric light that is lost/ignored\n",
      "             irrad_frac_refl_bol: ratio of incident bolometric light that is used for reflection/irradiation (heating without redistribution)\n",
      "            ld_coeffs_source_bol: Source for bolometric limb darkening coefficients (used only for irradiation; 'auto' to interpolate from the applicable table according to the 'atm' parameter, or the name of a specific atmosphere table)\n",
      "                     ld_func_bol: Bolometric limb darkening model (used only for irradiation).\n",
      "                     ld_mode_bol: Mode to use for bolometric limb-darkening (used only for irradiation).\n",
      "                            logg: logg at requiv\n",
      "  long_an@binary@orbit@component: Longitude of the ascending node\n",
      "          long_an@star@component: Longitude of the ascending node (ie. equator) of the star\n",
      "                            mass: Mass\n",
      "                       mean_anom: Mean anomaly at t0@system\n",
      "                            per0: Argument of periastron (defined at time t0@system)\n",
      "   period@binary@orbit@component: Orbital period (defined at t0@system, sidereal: wrt the sky)\n",
      "           period@star@component: Rotation period (wrt the sky)\n",
      "                           pitch: Pitch of the stellar rotation axis wrt the orbital inclination\n",
      "                               q: Mass ratio\n",
      "                          requiv: Equivalent radius\n",
      "                      requiv_max: Critical (maximum) value of the equivalent radius for the given morphology\n",
      "      sma@binary@orbit@component: Semi-major axis of the orbit (defined at time t0@system)\n",
      "              sma@star@component: Semi major axis of the component in the orbit\n",
      "                         syncpar: Synchronicity parameter\n",
      "                      t0_perpass: Zeropoint date at periastron passage of the primary component\n",
      "                          t0_ref: Zeropoint date at reference point for the primary component\n",
      "                      t0_supconj: Zeropoint date at superior conjunction of the primary component\n",
      "                            teff: Mean effective temperature\n",
      "                             yaw: Yaw of the stellar rotation axis wrt the orbital longitude of ascending node\n"
     ]
    }
   ],
   "source": [
    "print(b.filter(context='component').info)"
   ]
  },
  {
   "cell_type": "code",
   "execution_count": 16,
   "metadata": {},
   "outputs": [
    {
     "name": "stdout",
     "output_type": "stream",
     "text": [
      "ParameterSet: 5 parameters\n",
      "         requiv@primary@component: 1.0 solRad\n",
      "       requiv@secondary@component: 1.0 solRad\n",
      "             sma@binary@component: 5.3 solRad\n",
      "C           sma@primary@component: 2.65 solRad\n",
      "C         sma@secondary@component: 2.65 solRad\n"
     ]
    }
   ],
   "source": [
    "print(b.filter(qualifier=['sma', 'requiv'], context='component'))"
   ]
  },
  {
   "cell_type": "code",
   "execution_count": 17,
   "metadata": {},
   "outputs": [
    {
     "data": {
      "text/plain": [
       "<ParameterSet: 5 parameters | kinds: orbit, star>"
      ]
     },
     "execution_count": 17,
     "metadata": {},
     "output_type": "execute_result"
    }
   ],
   "source": [
    "b.filter(qualifier=['sma', 'requiv'], context='component').set_default_unit_all('AU')"
   ]
  },
  {
   "cell_type": "code",
   "execution_count": 18,
   "metadata": {},
   "outputs": [
    {
     "name": "stdout",
     "output_type": "stream",
     "text": [
      "ParameterSet: 5 parameters\n",
      "         requiv@primary@component: 0.004650467260962157 AU\n",
      "       requiv@secondary@component: 0.004650467260962157 AU\n",
      "             sma@binary@component: 0.024647476483099433 AU\n",
      "C           sma@primary@component: 0.012323738241549717 AU\n",
      "C         sma@secondary@component: 0.012323738241549717 AU\n"
     ]
    }
   ],
   "source": [
    "print(b.filter(qualifier=['sma', 'requiv'], context='component'))"
   ]
  },
  {
   "cell_type": "markdown",
   "metadata": {},
   "source": [
    "Find and set the following Parameters:\n",
    "* effective temperature of the secondary star to 5500 K\n",
    "* inclination of the binary to 86 degrees"
   ]
  },
  {
   "cell_type": "code",
   "execution_count": 19,
   "metadata": {},
   "outputs": [
    {
     "name": "stdout",
     "output_type": "stream",
     "text": [
      "ParameterSet: 2 parameters\n",
      "           teff@primary@component: 6000.0 K\n",
      "         teff@secondary@component: 6000.0 K\n"
     ]
    }
   ],
   "source": [
    "print(b.filter(qualifier='teff'))"
   ]
  },
  {
   "cell_type": "code",
   "execution_count": 20,
   "metadata": {},
   "outputs": [],
   "source": [
    "b.set_value(qualifier='teff', component='secondary', value=5500)"
   ]
  },
  {
   "cell_type": "code",
   "execution_count": 21,
   "metadata": {},
   "outputs": [
    {
     "name": "stdout",
     "output_type": "stream",
     "text": [
      "ParameterSet: 5 parameters\n",
      "C          incl@primary@component: 90.0 deg\n",
      "C        incl@secondary@component: 90.0 deg\n",
      "            incl@binary@component: 90.0 deg\n",
      "          incl@primary@constraint: {incl@binary@component} + {pitch@primary@component}\n",
      "        incl@secondary@constraint: {incl@binary@component} + {pitch@secondary@component}\n"
     ]
    }
   ],
   "source": [
    "print(b.filter(qualifier='incl'))"
   ]
  },
  {
   "cell_type": "code",
   "execution_count": 22,
   "metadata": {},
   "outputs": [],
   "source": [
    "b.set_value(qualifier='incl', component='binary', value=86)"
   ]
  },
  {
   "cell_type": "markdown",
   "metadata": {},
   "source": [
    "You likely noticed that there are several (5!) Parameters in the Bundle for inclination.  This is because there is an inclination for the orbit as well as for each of the two stars in the binary system.  The other 2 are called Constraints which relate these Parameters to each other... which will be the topic of the next tutorial."
   ]
  }
 ],
 "metadata": {
  "kernelspec": {
   "display_name": "Python 3",
   "language": "python",
   "name": "python3"
  },
  "language_info": {
   "codemirror_mode": {
    "name": "ipython",
    "version": 3
   },
   "file_extension": ".py",
   "mimetype": "text/x-python",
   "name": "python",
   "nbconvert_exporter": "python",
   "pygments_lexer": "ipython3",
   "version": "3.8.5"
  }
 },
 "nbformat": 4,
 "nbformat_minor": 2
}
