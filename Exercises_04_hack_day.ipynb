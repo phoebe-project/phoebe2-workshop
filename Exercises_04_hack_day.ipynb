{
 "cells": [
  {
   "cell_type": "markdown",
   "metadata": {},
   "source": [
    "# Exercises #4: Hack Day\n",
    "\n",
    "These exercises are designed to be done anytime after feeling comfortable building forward models."
   ]
  },
  {
   "cell_type": "markdown",
   "metadata": {},
   "source": [
    "# Systems from the literature"
   ]
  },
  {
   "cell_type": "markdown",
   "metadata": {},
   "source": [
    "## Kepler systems\n",
    "\n",
    "detached circular system (KIC10661783 https://ui.adsabs.harvard.edu/abs/2021MNRAS.505.3206M/abstract)\n",
    "\n",
    "detached eccentric system (KIC4862625 https://iopscience.iop.org/article/10.1088/0004-637X/768/2/127/pdf)\n",
    "\n",
    "*detached system with apsidal motion (KIC3749404 https://academic.oup.com/mnras/article/463/2/1199/2892176?login=false )\n",
    "\n",
    "*tidally induced pulsations, eccentric, only secondary eclipse (KIC3230227 https://ui.adsabs.harvard.edu/abs/2017ApJ...834...59G/abstract)\n",
    "\n",
    "*EB with pulsations (GPs) (KIC11285625 https://www.aanda.org/articles/aa/full_html/2013/08/aa21702-13/aa21702-13.html)"
   ]
  },
  {
   "cell_type": "markdown",
   "metadata": {},
   "source": [
    "## Other interesting systems\n",
    "(interesting because Angela has modeled them and can help with the intricacies :D)\n",
    "\n",
    "Alpha Draconis https://ui.adsabs.harvard.edu/abs/2022MNRAS.511.2648H/abstract\n",
    "\n",
    "NGC 1850 BH1 https://ui.adsabs.harvard.edu/abs/2022MNRAS.511.2914S/abstract"
   ]
  },
  {
   "cell_type": "markdown",
   "metadata": {},
   "source": [
    "# Advanced: data with Gaia distances \n",
    "### (mag to flux, and normalized to absolute flux conversions!)\n",
    "\n",
    "https://ui.adsabs.harvard.edu/abs/2013Natur.495...76P/abstract \n",
    "\n",
    "https://ui.adsabs.harvard.edu/abs/2022ApJ...926...46O/abstract"
   ]
  },
  {
   "cell_type": "markdown",
   "metadata": {},
   "source": [
    "# Additional data\n",
    "\n",
    "https://www.astro.keele.ac.uk/jkt/debcat/ (detached benchmark stars)\n",
    "\n",
    "http://keplerebs.villanova.edu (when searching, check \"Require Publication\""
   ]
  },
  {
   "cell_type": "markdown",
   "metadata": {},
   "source": [
    "# Development projects (ultra advanced!)\n",
    "\n",
    "## New tutorials\n",
    "\n",
    "dataset-coupled example\n",
    "\n",
    "synchronicity tutorial/example\n",
    "\n",
    "callbacks within animations\n",
    "\n",
    "custom constraint for vsini (if not as built-in), create synthetic line profile, measure vsini using standard methods, compare to input\n",
    "\n",
    "## Code implementation:\n",
    "\n",
    "new built-in constraints\n",
    "\n",
    "new compute backends (batman, elisa, lcurve, BM3, elc, starry, WD, Beer, Ebop, Lightcurve factory, nightfall, pytransit, allesfitter)\n",
    "\n",
    "support for plotting stars on HR diagram/evolution tracks\n",
    "\n",
    "ability to set total luminosity\n",
    "\n",
    "ability to provide observations for orbits (and include in fitting)\n",
    "\n",
    "## Bug fixes:\n",
    "\n",
    "improve remeshing logic\n",
    "\n",
    "autofig: ec='face' avoid \"assuming named color\" warning\n",
    "\n",
    "autofig: support for linewidths in mesh plots"
   ]
  },
  {
   "cell_type": "code",
   "execution_count": null,
   "metadata": {},
   "outputs": [],
   "source": []
  }
 ],
 "metadata": {
  "kernelspec": {
   "display_name": "Python 3 (ipykernel)",
   "language": "python",
   "name": "python3"
  },
  "language_info": {
   "codemirror_mode": {
    "name": "ipython",
    "version": 3
   },
   "file_extension": ".py",
   "mimetype": "text/x-python",
   "name": "python",
   "nbconvert_exporter": "python",
   "pygments_lexer": "ipython3",
   "version": "3.9.7"
  }
 },
 "nbformat": 4,
 "nbformat_minor": 4
}
