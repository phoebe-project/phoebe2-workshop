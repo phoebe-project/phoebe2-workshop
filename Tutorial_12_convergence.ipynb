{
 "cells": [
  {
   "cell_type": "markdown",
   "id": "funded-welcome",
   "metadata": {},
   "source": [
    "# Workshop Tutorial: MCMC Convergence\n",
    "\n",
    "In the previous tutorial we ran a sampler several times, either by continuing the previous run or resampling from the latest solution. In this tutorial we will focus on assessing convergence. This will be an inevitably disappointing experience because it turns out that there is no robust way to estimate convergence. Instead, we will inspect the usual diagnostic plots and introduce a new type of plot, autocorrelation function, that will be used to *qualify* (rather than *quantify*) convergence.\n",
    "\n",
    "**NOTE**: much of the functionality introduced here in this tutorial is new since the 2.3 release and may undergo minor changes before officially being released in the 2.4 release.\n",
    "\n",
    "Let's start with the usual imports."
   ]
  },
  {
   "cell_type": "code",
   "execution_count": null,
   "id": "stainless-machine",
   "metadata": {},
   "outputs": [],
   "source": [
    "import phoebe\n",
    "import numpy as np\n",
    "import matplotlib.pyplot as plt"
   ]
  },
  {
   "cell_type": "markdown",
   "id": "scientific-issue",
   "metadata": {},
   "source": [
    "In addition, we will need two more helper functions, erfinv to compute inverse error function, and norm to compute gaussian percentiles:"
   ]
  },
  {
   "cell_type": "code",
   "execution_count": null,
   "id": "traditional-concrete",
   "metadata": {},
   "outputs": [],
   "source": [
    "from scipy.special import erfinv\n",
    "from scipy.stats import norm"
   ]
  },
  {
   "cell_type": "markdown",
   "id": "failing-mining",
   "metadata": {},
   "source": [
    "Load the [data from the previous run](https://github.com/phoebe-project/phoebe2-workshop/raw/2021june/data/synthetic/after_terra.bundle):"
   ]
  },
  {
   "cell_type": "code",
   "execution_count": null,
   "id": "inappropriate-attendance",
   "metadata": {},
   "outputs": [],
   "source": [
    "b = phoebe.load('./data/synthetic/after_terra.bundle')"
   ]
  },
  {
   "cell_type": "markdown",
   "id": "attractive-verification",
   "metadata": {},
   "source": [
    "So far we used three diagnostic plots: log-probability as a function of iteration, corner plot, and trace plot. When there are many walkers, the log-probability and trace plots become cluttered. That is why phoebe provides an alternative way of conveying the same information: *spread* plots.\n",
    "\n",
    "Say we have $N$ walkers. Each walker has a corresponding log-probability ($\\log p$) at each iteration. We can then calculate the mean and standard deviation of all $\\log p$ values at each iteration $i$ and plot that as $\\langle \\log p (i) \\rangle \\pm \\sigma(i)$:"
   ]
  },
  {
   "cell_type": "code",
   "execution_count": null,
   "id": "reported-proxy",
   "metadata": {},
   "outputs": [],
   "source": [
    "b.plot(solution='round_3', style='lnprobabilities_spread', c='b', show=True)"
   ]
  },
  {
   "cell_type": "markdown",
   "id": "worse-beijing",
   "metadata": {},
   "source": [
    "The blue curve is the mean log-probability and the shaded spread is the $\\pm$1-$\\sigma$ deviation. Analogously, we can do the same for the trace plot: "
   ]
  },
  {
   "cell_type": "code",
   "execution_count": null,
   "id": "double-caribbean",
   "metadata": {},
   "outputs": [],
   "source": [
    "b.plot(solution='round_3', style='trace_spread', c='b', show=True)"
   ]
  },
  {
   "cell_type": "markdown",
   "id": "afraid-measurement",
   "metadata": {},
   "source": [
    "These plots might be helpful in identifying any remaining trends. If there are any trends, chances are that the solution is not fully converged yet. In our case, there seems to be a slight trend in $q$, $v_\\gamma$ and $e$. Of course, we strongly discourage this \"chi-by-eye\" to be the ultimate guidance for any decision-making, but it can prove helpful in spotting problems that might otherwise be elusive. "
   ]
  },
  {
   "cell_type": "markdown",
   "id": "laden-extension",
   "metadata": {},
   "source": [
    "Fortunately, we can do better than that. Thoughout the fitting tutorials you've seen that as a \"unit of measure\" we use autocorrelation times (for example, `burnin` = `burnin_factor` * `max(autocorr_times)`). It's time to shed some light on the whole autocorrelation concept and provide a bit of context on how to interpret that.\n",
    "\n",
    "The correlation of two (real) functions measures the overlap when one function is \"lagged\" by some time $\\tau$:\n",
    "\n",
    "$$ (f \\star g) (\\tau) = \\int_{-\\infty}^\\infty f(t) g(t-\\tau) dt. $$\n",
    "\n",
    "*Auto*correlation is correlation of the function with itself:\n",
    "\n",
    "$$ (f \\star f) (\\tau) \\equiv (\\mathrm{acor}\\,f) (\\tau) = \\int_{-\\infty}^\\infty f(t) f(t-\\tau) dt. $$\n",
    "\n",
    "For discrete datasets this can be written simply as:\n",
    "\n",
    "$$ (f \\star f)_k \\approx \\sum_i f_i f_{i-k}. $$\n",
    "\n",
    "Except in the trivial cases ($f = \\mathrm{const}$ or if $f$ is noiseless and perfectly periodic), $(f \\star f)_0$ (i.e., the unlagged correlation) will be maximal. Its value depends on the function itself, and is irrelevant for most practical purposes. That's why it is common practice to normalize $\\mathrm{acor} \\, f$:\n",
    "\n",
    "$$ \\mathrm{acor} \\, f_k \\mapsto \\frac{(f \\star f)_k}{(f \\star f)_0}. $$\n",
    "\n",
    "Finally, it is usual to subtract the mean from the function to make it stationary:\n",
    "\n",
    "$$ f_k \\mapsto f_k - \\langle f \\rangle. $$\n",
    "\n",
    "While *technically* this is no longer autocorrelation but autocovariance, we will make no distinction between the two. Thus:\n",
    "\n",
    "$$ (f \\star f)_k \\approx \\frac{\\sum_i (f_i-\\langle f \\rangle) (f_{i-k}-\\langle f \\rangle)}{\\sum_i (f_i-\\langle f \\rangle)^2}. $$\n",
    "\n",
    "The first term is the normalization and the second term is the autocorrelation.\n",
    "\n",
    "Now let's implement this, along with one bell and whistle: [Bartlett's formula](https://en.wikipedia.org/wiki/Correlogram). This will give us an uncertainty estimate for autocorrelation as a function of iteration."
   ]
  },
  {
   "cell_type": "code",
   "execution_count": null,
   "id": "egyptian-physics",
   "metadata": {},
   "outputs": [],
   "source": [
    "def acf(ts, lags=0, submean=False, normed=True, p=0.05, bartlett=True):\n",
    "    lags = len(ts) if lags==0 else lags\n",
    "    c0 = np.sum((ts-ts.mean())**2)/len(ts) if normed else 1.0\n",
    "    if submean:\n",
    "        acf = np.array([np.sum((ts[k:]-ts[k:].mean())*(ts[:len(ts)-k]-ts[:len(ts)-k].mean()))/c0/len(ts) for k in range(lags)])\n",
    "    else:\n",
    "        acf = np.array([np.sum((ts[k:]-ts.mean())*(ts[:len(ts)-k]-ts.mean()))/c0/len(ts) for k in range(lags)])\n",
    "    \n",
    "    if bartlett:\n",
    "        vacf = np.ones_like(acf)/len(ts)\n",
    "        vacf[0] = 0\n",
    "        vacf[1] = 1/len(ts)\n",
    "        vacf[2:] *= 1+2*np.cumsum(acf[1:-1]**2)\n",
    "        ci = norm.ppf(1-p/2) * np.sqrt(vacf)\n",
    "    else:\n",
    "        ci = np.sqrt(2)*erfinv(1-p)/np.sqrt(len(ts))\n",
    "    \n",
    "    return acf, ci"
   ]
  },
  {
   "cell_type": "markdown",
   "id": "regional-harvard",
   "metadata": {},
   "source": [
    "Let's try this in action! Let's take the first walker past the burn-in point:"
   ]
  },
  {
   "cell_type": "code",
   "execution_count": null,
   "id": "excessive-cycling",
   "metadata": {},
   "outputs": [],
   "source": [
    "w1 = b['value@lnprobabilities@round_3'][b['value@burnin@round_3']:,0]"
   ]
  },
  {
   "cell_type": "markdown",
   "id": "willing-frank",
   "metadata": {},
   "source": [
    "Let's plot it:"
   ]
  },
  {
   "cell_type": "code",
   "execution_count": null,
   "id": "structural-inside",
   "metadata": {},
   "outputs": [],
   "source": [
    "plt.plot(w1, 'b-')"
   ]
  },
  {
   "cell_type": "markdown",
   "id": "comic-typing",
   "metadata": {},
   "source": [
    "Now we can use this timeseries to calculate the autocorrelation function:"
   ]
  },
  {
   "cell_type": "code",
   "execution_count": null,
   "id": "induced-branch",
   "metadata": {},
   "outputs": [],
   "source": [
    "acf_w1, acf_w1_ci = acf(w1, lags=65, normed=True)"
   ]
  },
  {
   "cell_type": "markdown",
   "id": "beautiful-borough",
   "metadata": {},
   "source": [
    "Finally, let's plot it and work on interpreting the results:"
   ]
  },
  {
   "cell_type": "code",
   "execution_count": null,
   "id": "heated-plasma",
   "metadata": {},
   "outputs": [],
   "source": [
    "plt.figure(figsize=(16,6))\n",
    "plt.bar(x=range(len(acf_w1)), height=acf_w1, width=0.1)\n",
    "plt.plot(range(len(acf_w1)), acf_w1, 'bo')\n",
    "plt.fill_between(np.arange(1, len(acf_w1_ci))-0.5, -acf_w1_ci[1:], acf_w1_ci[1:], color='b', alpha=0.1)"
   ]
  },
  {
   "cell_type": "markdown",
   "id": "forty-singing",
   "metadata": {},
   "source": [
    "Whatever points are within the Bartlett boundaries, assuming that the timeseries can be described as a moving average (MA) process, their autocorrelation is not statistically significant. The autocorrelation of those points that lie outside the Bartlett boundaries, on the other hand, is statistically significant. The lag at which the function crosses the Bartlett boundary is the *autocorrelation time*."
   ]
  },
  {
   "cell_type": "code",
   "execution_count": null,
   "id": "compound-conversion",
   "metadata": {},
   "outputs": [],
   "source": [
    "acfs = [acf(b['value@lnprobabilities@round_3'][400:,k], lags=100, normed=True) for k in range(16)]"
   ]
  },
  {
   "cell_type": "code",
   "execution_count": null,
   "id": "prerequisite-sculpture",
   "metadata": {},
   "outputs": [],
   "source": [
    "plt.figure(figsize=(16,6))\n",
    "for k in range(16):\n",
    "    plt.plot(acfs[k][0], '-')\n",
    "plt.fill_between(np.arange(len(acfs[0][1]))-0.5, -acfs[0][1], acfs[0][1], color='b', alpha=0.1)\n",
    "#     plt.axhline(-acfs[k][1], c='g', ls='--')\n",
    "#     plt.axhline(acfs[k][1], c='g', ls='--')"
   ]
  },
  {
   "cell_type": "markdown",
   "id": "constitutional-delta",
   "metadata": {},
   "source": [
    "Now let's try the parameters!"
   ]
  },
  {
   "cell_type": "code",
   "execution_count": null,
   "id": "guided-processor",
   "metadata": {},
   "outputs": [],
   "source": [
    "b['value@samples@round_3'].shape"
   ]
  },
  {
   "cell_type": "code",
   "execution_count": null,
   "id": "optimum-sister",
   "metadata": {
    "scrolled": false
   },
   "outputs": [],
   "source": [
    "for i in range(5):\n",
    "    acfs = [acf(b['value@samples@round_3'][400:,k,i], lags=100, normed=True) for k in range(16)]\n",
    "    plt.figure(figsize=(16,6))\n",
    "    for k in range(16):\n",
    "        plt.plot(acfs[k][0], '-')\n",
    "        plt.fill_between(np.arange(len(acfs[k][1]))-0.5, -acfs[k][1], acfs[k][1], color='b', alpha=0.01)"
   ]
  },
  {
   "cell_type": "code",
   "execution_count": null,
   "id": "abstract-atmosphere",
   "metadata": {},
   "outputs": [],
   "source": [
    "b.plot(solution='round_3', style='trace', burnin=400, show=True)"
   ]
  },
  {
   "cell_type": "markdown",
   "id": "appreciated-treat",
   "metadata": {},
   "source": [
    "While this looks reasonable, it is still dubious whether convergence has been fully reached. Let's do one more run on terra to see whether another 500 iterations will have an impact on the results. For a refresher on deploying a sampling job on an external resource please refer to the [server tutorial](http://phoebe-project.org/workshops/2021june/Tutorial_09_server.ipynb)."
   ]
  },
  {
   "cell_type": "code",
   "execution_count": null,
   "id": "historic-happiness",
   "metadata": {},
   "outputs": [],
   "source": [
    "b['continue_from@mcmc'] = 'round_3'"
   ]
  },
  {
   "cell_type": "code",
   "execution_count": null,
   "id": "loving-recognition",
   "metadata": {
    "scrolled": true
   },
   "outputs": [],
   "source": [
    "# b.run_solver('mcmc', solution='round_4', use_mpi=False, nprocs=24, niters=500)\n",
    "# b.save('./data/synthetic/after_terra_2.bundle')"
   ]
  },
  {
   "cell_type": "markdown",
   "id": "human-indie",
   "metadata": {},
   "source": [
    "We'll skip and load the [pre-computed results](https://github.com/phoebe-project/phoebe2-workshop/raw/2021june/data/synthetic/after_terra_2.bundle)"
   ]
  },
  {
   "cell_type": "code",
   "execution_count": null,
   "id": "statutory-antigua",
   "metadata": {},
   "outputs": [],
   "source": [
    "b = phoebe.load('./data/synthetic/after_terra_2.bundle')"
   ]
  },
  {
   "cell_type": "code",
   "execution_count": null,
   "id": "subsequent-cocktail",
   "metadata": {},
   "outputs": [],
   "source": [
    "b.plot(solution='round_4', style='corner', burnin=400, show=True)"
   ]
  },
  {
   "cell_type": "code",
   "execution_count": null,
   "id": "extended-standing",
   "metadata": {},
   "outputs": [],
   "source": [
    "b.plot(solution='round_4', style='acf_lnprobabilities', nlags=100, burnin=400, show=True)"
   ]
  },
  {
   "cell_type": "code",
   "execution_count": null,
   "id": "considerable-yugoslavia",
   "metadata": {},
   "outputs": [],
   "source": [
    "b.plot(solution='round_4', style='trace', burnin=400, show=True)"
   ]
  },
  {
   "cell_type": "code",
   "execution_count": null,
   "id": "equal-cowboy",
   "metadata": {},
   "outputs": [],
   "source": [
    "b.plot(solution='round_4', style='acf', nlags=100, burnin=400, show=True)"
   ]
  },
  {
   "cell_type": "markdown",
   "id": "mineral-booth",
   "metadata": {},
   "source": [
    "This already looks quite good, let's just get the posteriors into a final shape by running another 1500 iterations."
   ]
  },
  {
   "cell_type": "code",
   "execution_count": null,
   "id": "cubic-batman",
   "metadata": {
    "scrolled": true
   },
   "outputs": [],
   "source": [
    "# b['continue_from@mcmc'] = 'round_4'\n",
    "# b.run_solver('mcmc',\n",
    "#              solution='final_round',\n",
    "#              continue_from='round_4',\n",
    "#              niters=1500,\n",
    "#              use_server='terra',\n",
    "#              nprocs=48,\n",
    "#              walltime=(48,'hr'),\n",
    "#              overwrite=True)\n",
    "# b.save('./data/synthetic/after_final_round.bundle')"
   ]
  },
  {
   "cell_type": "markdown",
   "id": "intimate-recipient",
   "metadata": {},
   "source": [
    "Again, let's load the [pre-computed results](https://github.com/phoebe-project/phoebe2-workshop/raw/2021june/data/synthetic/after_final_round.bundle)"
   ]
  },
  {
   "cell_type": "code",
   "execution_count": null,
   "id": "about-hostel",
   "metadata": {},
   "outputs": [],
   "source": [
    "b = phoebe.load('./data/synthetic/after_final_round.bundle')"
   ]
  },
  {
   "cell_type": "markdown",
   "id": "dominican-london",
   "metadata": {},
   "source": [
    "# Exercises\n",
    "\n",
    "**Exercise 1**: Explore all relevant tracers for this final round. Plot log-probability plot, corner plot, and the autocorrelation function for log-probability and parameters. What can you say about convergence?"
   ]
  },
  {
   "cell_type": "code",
   "execution_count": null,
   "id": "ideal-trinidad",
   "metadata": {},
   "outputs": [],
   "source": []
  }
 ],
 "metadata": {
  "kernelspec": {
   "display_name": "Python 3",
   "language": "python",
   "name": "python3"
  },
  "language_info": {
   "codemirror_mode": {
    "name": "ipython",
    "version": 3
   },
   "file_extension": ".py",
   "mimetype": "text/x-python",
   "name": "python",
   "nbconvert_exporter": "python",
   "pygments_lexer": "ipython3",
   "version": "3.9.5"
  }
 },
 "nbformat": 4,
 "nbformat_minor": 5
}
